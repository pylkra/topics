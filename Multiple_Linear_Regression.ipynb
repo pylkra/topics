{
 "cells": [
  {
   "cell_type": "code",
   "execution_count": 1,
   "id": "150098bb",
   "metadata": {
    "_cell_guid": "b1076dfc-b9ad-4769-8c92-a6c4dae69d19",
    "_uuid": "8f2839f25d086af736a60e9eeb907d3b93b6e0e5",
    "execution": {
     "iopub.execute_input": "2025-04-23T10:42:09.497322Z",
     "iopub.status.busy": "2025-04-23T10:42:09.496460Z",
     "iopub.status.idle": "2025-04-23T10:42:11.240133Z",
     "shell.execute_reply": "2025-04-23T10:42:11.239491Z"
    },
    "papermill": {
     "duration": 1.751739,
     "end_time": "2025-04-23T10:42:11.241735",
     "exception": false,
     "start_time": "2025-04-23T10:42:09.489996",
     "status": "completed"
    },
    "tags": []
   },
   "outputs": [],
   "source": [
    "# This Python 3 environment comes with many helpful analytics libraries installed\n",
    "# It is defined by the kaggle/python Docker image: https://github.com/kaggle/docker-python\n",
    "# For example, here's several helpful packages to load\n",
    "\n",
    "import numpy as np # linear algebra\n",
    "import pandas as pd # data processing, CSV file I/O (e.g. pd.read_csv)\n",
    "\n",
    "# Input data files are available in the read-only \"../input/\" directory\n",
    "# For example, running this (by clicking run or pressing Shift+Enter) will list all files under the input directory\n",
    "\n",
    "import os\n",
    "for dirname, _, filenames in os.walk('/kaggle/input'):\n",
    "    for filename in filenames:\n",
    "        print(os.path.join(dirname, filename))\n",
    "\n",
    "# You can write up to 20GB to the current directory (/kaggle/working/) that gets preserved as output when you create a version using \"Save & Run All\" \n",
    "# You can also write temporary files to /kaggle/temp/, but they won't be saved outside of the current session"
   ]
  },
  {
   "cell_type": "code",
   "execution_count": 2,
   "id": "f2ffedb3",
   "metadata": {
    "execution": {
     "iopub.execute_input": "2025-04-23T10:42:11.251665Z",
     "iopub.status.busy": "2025-04-23T10:42:11.251288Z",
     "iopub.status.idle": "2025-04-23T10:42:12.504905Z",
     "shell.execute_reply": "2025-04-23T10:42:12.504198Z"
    },
    "papermill": {
     "duration": 1.260128,
     "end_time": "2025-04-23T10:42:12.506455",
     "exception": false,
     "start_time": "2025-04-23T10:42:11.246327",
     "status": "completed"
    },
    "tags": []
   },
   "outputs": [],
   "source": [
    "from sklearn.datasets import load_diabetes"
   ]
  },
  {
   "cell_type": "code",
   "execution_count": 3,
   "id": "598b792b",
   "metadata": {
    "execution": {
     "iopub.execute_input": "2025-04-23T10:42:12.517595Z",
     "iopub.status.busy": "2025-04-23T10:42:12.517174Z",
     "iopub.status.idle": "2025-04-23T10:42:12.529422Z",
     "shell.execute_reply": "2025-04-23T10:42:12.528693Z"
    },
    "papermill": {
     "duration": 0.01872,
     "end_time": "2025-04-23T10:42:12.530703",
     "exception": false,
     "start_time": "2025-04-23T10:42:12.511983",
     "status": "completed"
    },
    "tags": []
   },
   "outputs": [],
   "source": [
    "X,y = load_diabetes(return_X_y=True)"
   ]
  },
  {
   "cell_type": "code",
   "execution_count": 4,
   "id": "650c42af",
   "metadata": {
    "execution": {
     "iopub.execute_input": "2025-04-23T10:42:12.540050Z",
     "iopub.status.busy": "2025-04-23T10:42:12.539778Z",
     "iopub.status.idle": "2025-04-23T10:42:12.546044Z",
     "shell.execute_reply": "2025-04-23T10:42:12.545335Z"
    },
    "papermill": {
     "duration": 0.012436,
     "end_time": "2025-04-23T10:42:12.547429",
     "exception": false,
     "start_time": "2025-04-23T10:42:12.534993",
     "status": "completed"
    },
    "tags": []
   },
   "outputs": [
    {
     "data": {
      "text/plain": [
       "array([[ 0.03807591,  0.05068012,  0.06169621, ..., -0.00259226,\n",
       "         0.01990749, -0.01764613],\n",
       "       [-0.00188202, -0.04464164, -0.05147406, ..., -0.03949338,\n",
       "        -0.06833155, -0.09220405],\n",
       "       [ 0.08529891,  0.05068012,  0.04445121, ..., -0.00259226,\n",
       "         0.00286131, -0.02593034],\n",
       "       ...,\n",
       "       [ 0.04170844,  0.05068012, -0.01590626, ..., -0.01107952,\n",
       "        -0.04688253,  0.01549073],\n",
       "       [-0.04547248, -0.04464164,  0.03906215, ...,  0.02655962,\n",
       "         0.04452873, -0.02593034],\n",
       "       [-0.04547248, -0.04464164, -0.0730303 , ..., -0.03949338,\n",
       "        -0.00422151,  0.00306441]])"
      ]
     },
     "execution_count": 4,
     "metadata": {},
     "output_type": "execute_result"
    }
   ],
   "source": [
    "X"
   ]
  },
  {
   "cell_type": "code",
   "execution_count": 5,
   "id": "dccd855a",
   "metadata": {
    "execution": {
     "iopub.execute_input": "2025-04-23T10:42:12.557373Z",
     "iopub.status.busy": "2025-04-23T10:42:12.556803Z",
     "iopub.status.idle": "2025-04-23T10:42:12.561902Z",
     "shell.execute_reply": "2025-04-23T10:42:12.561069Z"
    },
    "papermill": {
     "duration": 0.011591,
     "end_time": "2025-04-23T10:42:12.563552",
     "exception": false,
     "start_time": "2025-04-23T10:42:12.551961",
     "status": "completed"
    },
    "tags": []
   },
   "outputs": [
    {
     "data": {
      "text/plain": [
       "(442, 10)"
      ]
     },
     "execution_count": 5,
     "metadata": {},
     "output_type": "execute_result"
    }
   ],
   "source": [
    "X.shape"
   ]
  },
  {
   "cell_type": "code",
   "execution_count": 6,
   "id": "50861435",
   "metadata": {
    "execution": {
     "iopub.execute_input": "2025-04-23T10:42:12.574483Z",
     "iopub.status.busy": "2025-04-23T10:42:12.574144Z",
     "iopub.status.idle": "2025-04-23T10:42:12.581847Z",
     "shell.execute_reply": "2025-04-23T10:42:12.581003Z"
    },
    "papermill": {
     "duration": 0.014341,
     "end_time": "2025-04-23T10:42:12.583096",
     "exception": false,
     "start_time": "2025-04-23T10:42:12.568755",
     "status": "completed"
    },
    "tags": []
   },
   "outputs": [
    {
     "data": {
      "text/plain": [
       "array([151.,  75., 141., 206., 135.,  97., 138.,  63., 110., 310., 101.,\n",
       "        69., 179., 185., 118., 171., 166., 144.,  97., 168.,  68.,  49.,\n",
       "        68., 245., 184., 202., 137.,  85., 131., 283., 129.,  59., 341.,\n",
       "        87.,  65., 102., 265., 276., 252.,  90., 100.,  55.,  61.,  92.,\n",
       "       259.,  53., 190., 142.,  75., 142., 155., 225.,  59., 104., 182.,\n",
       "       128.,  52.,  37., 170., 170.,  61., 144.,  52., 128.,  71., 163.,\n",
       "       150.,  97., 160., 178.,  48., 270., 202., 111.,  85.,  42., 170.,\n",
       "       200., 252., 113., 143.,  51.,  52., 210.,  65., 141.,  55., 134.,\n",
       "        42., 111.,  98., 164.,  48.,  96.,  90., 162., 150., 279.,  92.,\n",
       "        83., 128., 102., 302., 198.,  95.,  53., 134., 144., 232.,  81.,\n",
       "       104.,  59., 246., 297., 258., 229., 275., 281., 179., 200., 200.,\n",
       "       173., 180.,  84., 121., 161.,  99., 109., 115., 268., 274., 158.,\n",
       "       107.,  83., 103., 272.,  85., 280., 336., 281., 118., 317., 235.,\n",
       "        60., 174., 259., 178., 128.,  96., 126., 288.,  88., 292.,  71.,\n",
       "       197., 186.,  25.,  84.,  96., 195.,  53., 217., 172., 131., 214.,\n",
       "        59.,  70., 220., 268., 152.,  47.,  74., 295., 101., 151., 127.,\n",
       "       237., 225.,  81., 151., 107.,  64., 138., 185., 265., 101., 137.,\n",
       "       143., 141.,  79., 292., 178.,  91., 116.,  86., 122.,  72., 129.,\n",
       "       142.,  90., 158.,  39., 196., 222., 277.,  99., 196., 202., 155.,\n",
       "        77., 191.,  70.,  73.,  49.,  65., 263., 248., 296., 214., 185.,\n",
       "        78.,  93., 252., 150.,  77., 208.,  77., 108., 160.,  53., 220.,\n",
       "       154., 259.,  90., 246., 124.,  67.,  72., 257., 262., 275., 177.,\n",
       "        71.,  47., 187., 125.,  78.,  51., 258., 215., 303., 243.,  91.,\n",
       "       150., 310., 153., 346.,  63.,  89.,  50.,  39., 103., 308., 116.,\n",
       "       145.,  74.,  45., 115., 264.,  87., 202., 127., 182., 241.,  66.,\n",
       "        94., 283.,  64., 102., 200., 265.,  94., 230., 181., 156., 233.,\n",
       "        60., 219.,  80.,  68., 332., 248.,  84., 200.,  55.,  85.,  89.,\n",
       "        31., 129.,  83., 275.,  65., 198., 236., 253., 124.,  44., 172.,\n",
       "       114., 142., 109., 180., 144., 163., 147.,  97., 220., 190., 109.,\n",
       "       191., 122., 230., 242., 248., 249., 192., 131., 237.,  78., 135.,\n",
       "       244., 199., 270., 164.,  72.,  96., 306.,  91., 214.,  95., 216.,\n",
       "       263., 178., 113., 200., 139., 139.,  88., 148.,  88., 243.,  71.,\n",
       "        77., 109., 272.,  60.,  54., 221.,  90., 311., 281., 182., 321.,\n",
       "        58., 262., 206., 233., 242., 123., 167.,  63., 197.,  71., 168.,\n",
       "       140., 217., 121., 235., 245.,  40.,  52., 104., 132.,  88.,  69.,\n",
       "       219.,  72., 201., 110.,  51., 277.,  63., 118.,  69., 273., 258.,\n",
       "        43., 198., 242., 232., 175.,  93., 168., 275., 293., 281.,  72.,\n",
       "       140., 189., 181., 209., 136., 261., 113., 131., 174., 257.,  55.,\n",
       "        84.,  42., 146., 212., 233.,  91., 111., 152., 120.,  67., 310.,\n",
       "        94., 183.,  66., 173.,  72.,  49.,  64.,  48., 178., 104., 132.,\n",
       "       220.,  57.])"
      ]
     },
     "execution_count": 6,
     "metadata": {},
     "output_type": "execute_result"
    }
   ],
   "source": [
    "y"
   ]
  },
  {
   "cell_type": "code",
   "execution_count": 7,
   "id": "4d7c8984",
   "metadata": {
    "execution": {
     "iopub.execute_input": "2025-04-23T10:42:12.593736Z",
     "iopub.status.busy": "2025-04-23T10:42:12.593212Z",
     "iopub.status.idle": "2025-04-23T10:42:12.598244Z",
     "shell.execute_reply": "2025-04-23T10:42:12.597458Z"
    },
    "papermill": {
     "duration": 0.01163,
     "end_time": "2025-04-23T10:42:12.599517",
     "exception": false,
     "start_time": "2025-04-23T10:42:12.587887",
     "status": "completed"
    },
    "tags": []
   },
   "outputs": [
    {
     "data": {
      "text/plain": [
       "(442,)"
      ]
     },
     "execution_count": 7,
     "metadata": {},
     "output_type": "execute_result"
    }
   ],
   "source": [
    "y.shape"
   ]
  },
  {
   "cell_type": "markdown",
   "id": "0a5b3112",
   "metadata": {
    "papermill": {
     "duration": 0.004412,
     "end_time": "2025-04-23T10:42:12.608812",
     "exception": false,
     "start_time": "2025-04-23T10:42:12.604400",
     "status": "completed"
    },
    "tags": []
   },
   "source": [
    "## Using Sklearn's Linear Regression"
   ]
  },
  {
   "cell_type": "code",
   "execution_count": 8,
   "id": "cf2a6865",
   "metadata": {
    "execution": {
     "iopub.execute_input": "2025-04-23T10:42:12.619583Z",
     "iopub.status.busy": "2025-04-23T10:42:12.618916Z",
     "iopub.status.idle": "2025-04-23T10:42:12.707675Z",
     "shell.execute_reply": "2025-04-23T10:42:12.706926Z"
    },
    "papermill": {
     "duration": 0.095895,
     "end_time": "2025-04-23T10:42:12.709358",
     "exception": false,
     "start_time": "2025-04-23T10:42:12.613463",
     "status": "completed"
    },
    "tags": []
   },
   "outputs": [],
   "source": [
    "from sklearn.model_selection import train_test_split\n",
    "\n",
    "X_train, X_test, y_train, y_test = train_test_split(X,y,test_size=0.2,random_state=2)"
   ]
  },
  {
   "cell_type": "code",
   "execution_count": 9,
   "id": "4e7ad40f",
   "metadata": {
    "execution": {
     "iopub.execute_input": "2025-04-23T10:42:12.720209Z",
     "iopub.status.busy": "2025-04-23T10:42:12.719567Z",
     "iopub.status.idle": "2025-04-23T10:42:12.724531Z",
     "shell.execute_reply": "2025-04-23T10:42:12.723801Z"
    },
    "papermill": {
     "duration": 0.011536,
     "end_time": "2025-04-23T10:42:12.725744",
     "exception": false,
     "start_time": "2025-04-23T10:42:12.714208",
     "status": "completed"
    },
    "tags": []
   },
   "outputs": [
    {
     "data": {
      "text/plain": [
       "(89, 10)"
      ]
     },
     "execution_count": 9,
     "metadata": {},
     "output_type": "execute_result"
    }
   ],
   "source": [
    "X_train.shape\n",
    "X_test.shape"
   ]
  },
  {
   "cell_type": "code",
   "execution_count": 10,
   "id": "b4f7a016",
   "metadata": {
    "execution": {
     "iopub.execute_input": "2025-04-23T10:42:12.736317Z",
     "iopub.status.busy": "2025-04-23T10:42:12.735655Z",
     "iopub.status.idle": "2025-04-23T10:42:12.852301Z",
     "shell.execute_reply": "2025-04-23T10:42:12.851447Z"
    },
    "papermill": {
     "duration": 0.123209,
     "end_time": "2025-04-23T10:42:12.853666",
     "exception": false,
     "start_time": "2025-04-23T10:42:12.730457",
     "status": "completed"
    },
    "tags": []
   },
   "outputs": [
    {
     "data": {
      "text/html": [
       "<style>#sk-container-id-1 {color: black;background-color: white;}#sk-container-id-1 pre{padding: 0;}#sk-container-id-1 div.sk-toggleable {background-color: white;}#sk-container-id-1 label.sk-toggleable__label {cursor: pointer;display: block;width: 100%;margin-bottom: 0;padding: 0.3em;box-sizing: border-box;text-align: center;}#sk-container-id-1 label.sk-toggleable__label-arrow:before {content: \"▸\";float: left;margin-right: 0.25em;color: #696969;}#sk-container-id-1 label.sk-toggleable__label-arrow:hover:before {color: black;}#sk-container-id-1 div.sk-estimator:hover label.sk-toggleable__label-arrow:before {color: black;}#sk-container-id-1 div.sk-toggleable__content {max-height: 0;max-width: 0;overflow: hidden;text-align: left;background-color: #f0f8ff;}#sk-container-id-1 div.sk-toggleable__content pre {margin: 0.2em;color: black;border-radius: 0.25em;background-color: #f0f8ff;}#sk-container-id-1 input.sk-toggleable__control:checked~div.sk-toggleable__content {max-height: 200px;max-width: 100%;overflow: auto;}#sk-container-id-1 input.sk-toggleable__control:checked~label.sk-toggleable__label-arrow:before {content: \"▾\";}#sk-container-id-1 div.sk-estimator input.sk-toggleable__control:checked~label.sk-toggleable__label {background-color: #d4ebff;}#sk-container-id-1 div.sk-label input.sk-toggleable__control:checked~label.sk-toggleable__label {background-color: #d4ebff;}#sk-container-id-1 input.sk-hidden--visually {border: 0;clip: rect(1px 1px 1px 1px);clip: rect(1px, 1px, 1px, 1px);height: 1px;margin: -1px;overflow: hidden;padding: 0;position: absolute;width: 1px;}#sk-container-id-1 div.sk-estimator {font-family: monospace;background-color: #f0f8ff;border: 1px dotted black;border-radius: 0.25em;box-sizing: border-box;margin-bottom: 0.5em;}#sk-container-id-1 div.sk-estimator:hover {background-color: #d4ebff;}#sk-container-id-1 div.sk-parallel-item::after {content: \"\";width: 100%;border-bottom: 1px solid gray;flex-grow: 1;}#sk-container-id-1 div.sk-label:hover label.sk-toggleable__label {background-color: #d4ebff;}#sk-container-id-1 div.sk-serial::before {content: \"\";position: absolute;border-left: 1px solid gray;box-sizing: border-box;top: 0;bottom: 0;left: 50%;z-index: 0;}#sk-container-id-1 div.sk-serial {display: flex;flex-direction: column;align-items: center;background-color: white;padding-right: 0.2em;padding-left: 0.2em;position: relative;}#sk-container-id-1 div.sk-item {position: relative;z-index: 1;}#sk-container-id-1 div.sk-parallel {display: flex;align-items: stretch;justify-content: center;background-color: white;position: relative;}#sk-container-id-1 div.sk-item::before, #sk-container-id-1 div.sk-parallel-item::before {content: \"\";position: absolute;border-left: 1px solid gray;box-sizing: border-box;top: 0;bottom: 0;left: 50%;z-index: -1;}#sk-container-id-1 div.sk-parallel-item {display: flex;flex-direction: column;z-index: 1;position: relative;background-color: white;}#sk-container-id-1 div.sk-parallel-item:first-child::after {align-self: flex-end;width: 50%;}#sk-container-id-1 div.sk-parallel-item:last-child::after {align-self: flex-start;width: 50%;}#sk-container-id-1 div.sk-parallel-item:only-child::after {width: 0;}#sk-container-id-1 div.sk-dashed-wrapped {border: 1px dashed gray;margin: 0 0.4em 0.5em 0.4em;box-sizing: border-box;padding-bottom: 0.4em;background-color: white;}#sk-container-id-1 div.sk-label label {font-family: monospace;font-weight: bold;display: inline-block;line-height: 1.2em;}#sk-container-id-1 div.sk-label-container {text-align: center;}#sk-container-id-1 div.sk-container {/* jupyter's `normalize.less` sets `[hidden] { display: none; }` but bootstrap.min.css set `[hidden] { display: none !important; }` so we also need the `!important` here to be able to override the default hidden behavior on the sphinx rendered scikit-learn.org. See: https://github.com/scikit-learn/scikit-learn/issues/21755 */display: inline-block !important;position: relative;}#sk-container-id-1 div.sk-text-repr-fallback {display: none;}</style><div id=\"sk-container-id-1\" class=\"sk-top-container\"><div class=\"sk-text-repr-fallback\"><pre>LinearRegression()</pre><b>In a Jupyter environment, please rerun this cell to show the HTML representation or trust the notebook. <br />On GitHub, the HTML representation is unable to render, please try loading this page with nbviewer.org.</b></div><div class=\"sk-container\" hidden><div class=\"sk-item\"><div class=\"sk-estimator sk-toggleable\"><input class=\"sk-toggleable__control sk-hidden--visually\" id=\"sk-estimator-id-1\" type=\"checkbox\" checked><label for=\"sk-estimator-id-1\" class=\"sk-toggleable__label sk-toggleable__label-arrow\">LinearRegression</label><div class=\"sk-toggleable__content\"><pre>LinearRegression()</pre></div></div></div></div></div>"
      ],
      "text/plain": [
       "LinearRegression()"
      ]
     },
     "execution_count": 10,
     "metadata": {},
     "output_type": "execute_result"
    }
   ],
   "source": [
    "from sklearn.linear_model import LinearRegression\n",
    "\n",
    "reg = LinearRegression()\n",
    "\n",
    "reg.fit(X_train,y_train)"
   ]
  },
  {
   "cell_type": "code",
   "execution_count": 11,
   "id": "546f6e41",
   "metadata": {
    "execution": {
     "iopub.execute_input": "2025-04-23T10:42:12.865112Z",
     "iopub.status.busy": "2025-04-23T10:42:12.864800Z",
     "iopub.status.idle": "2025-04-23T10:42:12.871892Z",
     "shell.execute_reply": "2025-04-23T10:42:12.871092Z"
    },
    "papermill": {
     "duration": 0.01463,
     "end_time": "2025-04-23T10:42:12.873335",
     "exception": false,
     "start_time": "2025-04-23T10:42:12.858705",
     "status": "completed"
    },
    "tags": []
   },
   "outputs": [],
   "source": [
    "y_pred = reg.predict(X_test)"
   ]
  },
  {
   "cell_type": "code",
   "execution_count": 12,
   "id": "5c58df7a",
   "metadata": {
    "execution": {
     "iopub.execute_input": "2025-04-23T10:42:12.885246Z",
     "iopub.status.busy": "2025-04-23T10:42:12.884689Z",
     "iopub.status.idle": "2025-04-23T10:42:12.888720Z",
     "shell.execute_reply": "2025-04-23T10:42:12.888017Z"
    },
    "papermill": {
     "duration": 0.011213,
     "end_time": "2025-04-23T10:42:12.890001",
     "exception": false,
     "start_time": "2025-04-23T10:42:12.878788",
     "status": "completed"
    },
    "tags": []
   },
   "outputs": [],
   "source": [
    "from sklearn.metrics import r2_score"
   ]
  },
  {
   "cell_type": "code",
   "execution_count": 13,
   "id": "52557ae7",
   "metadata": {
    "execution": {
     "iopub.execute_input": "2025-04-23T10:42:12.901430Z",
     "iopub.status.busy": "2025-04-23T10:42:12.900755Z",
     "iopub.status.idle": "2025-04-23T10:42:12.906482Z",
     "shell.execute_reply": "2025-04-23T10:42:12.905817Z"
    },
    "papermill": {
     "duration": 0.012823,
     "end_time": "2025-04-23T10:42:12.907776",
     "exception": false,
     "start_time": "2025-04-23T10:42:12.894953",
     "status": "completed"
    },
    "tags": []
   },
   "outputs": [
    {
     "data": {
      "text/plain": [
       "0.4399338661568969"
      ]
     },
     "execution_count": 13,
     "metadata": {},
     "output_type": "execute_result"
    }
   ],
   "source": [
    "r2_score(y_test,y_pred)"
   ]
  },
  {
   "cell_type": "code",
   "execution_count": 14,
   "id": "4cd8b12c",
   "metadata": {
    "execution": {
     "iopub.execute_input": "2025-04-23T10:42:12.918298Z",
     "iopub.status.busy": "2025-04-23T10:42:12.918028Z",
     "iopub.status.idle": "2025-04-23T10:42:12.923060Z",
     "shell.execute_reply": "2025-04-23T10:42:12.922441Z"
    },
    "papermill": {
     "duration": 0.011529,
     "end_time": "2025-04-23T10:42:12.924231",
     "exception": false,
     "start_time": "2025-04-23T10:42:12.912702",
     "status": "completed"
    },
    "tags": []
   },
   "outputs": [
    {
     "data": {
      "text/plain": [
       "array([  -9.15865318, -205.45432163,  516.69374454,  340.61999905,\n",
       "       -895.5520019 ,  561.22067904,  153.89310954,  126.73139688,\n",
       "        861.12700152,   52.42112238])"
      ]
     },
     "execution_count": 14,
     "metadata": {},
     "output_type": "execute_result"
    }
   ],
   "source": [
    "reg.coef_"
   ]
  },
  {
   "cell_type": "code",
   "execution_count": 15,
   "id": "37791443",
   "metadata": {
    "execution": {
     "iopub.execute_input": "2025-04-23T10:42:12.935077Z",
     "iopub.status.busy": "2025-04-23T10:42:12.934829Z",
     "iopub.status.idle": "2025-04-23T10:42:12.939737Z",
     "shell.execute_reply": "2025-04-23T10:42:12.939011Z"
    },
    "papermill": {
     "duration": 0.011685,
     "end_time": "2025-04-23T10:42:12.940942",
     "exception": false,
     "start_time": "2025-04-23T10:42:12.929257",
     "status": "completed"
    },
    "tags": []
   },
   "outputs": [
    {
     "data": {
      "text/plain": [
       "151.88331005254167"
      ]
     },
     "execution_count": 15,
     "metadata": {},
     "output_type": "execute_result"
    }
   ],
   "source": [
    "reg.intercept_"
   ]
  },
  {
   "cell_type": "markdown",
   "id": "b1701b79",
   "metadata": {
    "papermill": {
     "duration": 0.004735,
     "end_time": "2025-04-23T10:42:12.950923",
     "exception": false,
     "start_time": "2025-04-23T10:42:12.946188",
     "status": "completed"
    },
    "tags": []
   },
   "source": [
    "## Making our own Linear Regression Class"
   ]
  },
  {
   "cell_type": "code",
   "execution_count": 16,
   "id": "c799fb9a",
   "metadata": {
    "execution": {
     "iopub.execute_input": "2025-04-23T10:42:12.961948Z",
     "iopub.status.busy": "2025-04-23T10:42:12.961656Z",
     "iopub.status.idle": "2025-04-23T10:42:12.968008Z",
     "shell.execute_reply": "2025-04-23T10:42:12.967261Z"
    },
    "papermill": {
     "duration": 0.013536,
     "end_time": "2025-04-23T10:42:12.969377",
     "exception": false,
     "start_time": "2025-04-23T10:42:12.955841",
     "status": "completed"
    },
    "tags": []
   },
   "outputs": [],
   "source": [
    "class MultipleLinearReg:\n",
    "    def __int__(self):\n",
    "        self.coef_ = None\n",
    "        self.intercept_ = None\n",
    "\n",
    "    def fit(self, X_train, y_train):\n",
    "        X_train = np.insert(X_train,0,1,axis=1)\n",
    "\n",
    "        #coefficients\n",
    "        #NumPy provides the numpy.linalg.inv() function to compute the inverse of a matrix\n",
    "        betas = np.linalg.inv(np.dot(X_train.T,X_train)).dot(X_train.T).dot(y_train)\n",
    "\n",
    "        self.coef_ = betas[0]\n",
    "        self.intercept_ = betas[1:]\n",
    "        print(self.coef_)\n",
    "        print(self.intercept_)\n",
    "\n",
    "    \n",
    "    def predict(self, X_test):\n",
    "        y_pred = np.dot(X_test, self.coef_) + self.intercept_\n",
    "        print(y_pred)\n"
   ]
  },
  {
   "cell_type": "code",
   "execution_count": 17,
   "id": "01910f4e",
   "metadata": {
    "execution": {
     "iopub.execute_input": "2025-04-23T10:42:12.981130Z",
     "iopub.status.busy": "2025-04-23T10:42:12.980468Z",
     "iopub.status.idle": "2025-04-23T10:42:12.986059Z",
     "shell.execute_reply": "2025-04-23T10:42:12.985377Z"
    },
    "papermill": {
     "duration": 0.012601,
     "end_time": "2025-04-23T10:42:12.987323",
     "exception": false,
     "start_time": "2025-04-23T10:42:12.974722",
     "status": "completed"
    },
    "tags": []
   },
   "outputs": [
    {
     "data": {
      "text/plain": [
       "array([[-0.00188202, -0.04464164, -0.06979687, ..., -0.03949338,\n",
       "        -0.06291688,  0.04034337],\n",
       "       [-0.00914709, -0.04464164,  0.01103904, ..., -0.03949338,\n",
       "         0.01703607, -0.0052198 ],\n",
       "       [ 0.02354575,  0.05068012, -0.02021751, ..., -0.03949338,\n",
       "        -0.09643495, -0.01764613],\n",
       "       ...,\n",
       "       [ 0.06350368,  0.05068012, -0.00405033, ..., -0.00259226,\n",
       "         0.08449153, -0.01764613],\n",
       "       [-0.05273755,  0.05068012, -0.01806189, ...,  0.1081111 ,\n",
       "         0.03606033, -0.04249877],\n",
       "       [ 0.00175052,  0.05068012,  0.05954058, ...,  0.1081111 ,\n",
       "         0.06898589,  0.12732762]])"
      ]
     },
     "execution_count": 17,
     "metadata": {},
     "output_type": "execute_result"
    }
   ],
   "source": [
    "X_train"
   ]
  },
  {
   "cell_type": "code",
   "execution_count": 18,
   "id": "02f2fddd",
   "metadata": {
    "execution": {
     "iopub.execute_input": "2025-04-23T10:42:12.999033Z",
     "iopub.status.busy": "2025-04-23T10:42:12.998483Z",
     "iopub.status.idle": "2025-04-23T10:42:13.004547Z",
     "shell.execute_reply": "2025-04-23T10:42:13.003669Z"
    },
    "papermill": {
     "duration": 0.01327,
     "end_time": "2025-04-23T10:42:13.005836",
     "exception": false,
     "start_time": "2025-04-23T10:42:12.992566",
     "status": "completed"
    },
    "tags": []
   },
   "outputs": [
    {
     "data": {
      "text/plain": [
       "array([[ 1.        , -0.00188202, -0.04464164, ..., -0.03949338,\n",
       "        -0.06291688,  0.04034337],\n",
       "       [ 1.        , -0.00914709, -0.04464164, ..., -0.03949338,\n",
       "         0.01703607, -0.0052198 ],\n",
       "       [ 1.        ,  0.02354575,  0.05068012, ..., -0.03949338,\n",
       "        -0.09643495, -0.01764613],\n",
       "       ...,\n",
       "       [ 1.        ,  0.06350368,  0.05068012, ..., -0.00259226,\n",
       "         0.08449153, -0.01764613],\n",
       "       [ 1.        , -0.05273755,  0.05068012, ...,  0.1081111 ,\n",
       "         0.03606033, -0.04249877],\n",
       "       [ 1.        ,  0.00175052,  0.05068012, ...,  0.1081111 ,\n",
       "         0.06898589,  0.12732762]])"
      ]
     },
     "execution_count": 18,
     "metadata": {},
     "output_type": "execute_result"
    }
   ],
   "source": [
    " np.insert(X_train,0,1,axis=1)"
   ]
  },
  {
   "cell_type": "code",
   "execution_count": 19,
   "id": "475eb511",
   "metadata": {
    "execution": {
     "iopub.execute_input": "2025-04-23T10:42:13.017520Z",
     "iopub.status.busy": "2025-04-23T10:42:13.017010Z",
     "iopub.status.idle": "2025-04-23T10:42:13.045510Z",
     "shell.execute_reply": "2025-04-23T10:42:13.044499Z"
    },
    "papermill": {
     "duration": 0.035756,
     "end_time": "2025-04-23T10:42:13.046847",
     "exception": false,
     "start_time": "2025-04-23T10:42:13.011091",
     "status": "completed"
    },
    "tags": []
   },
   "outputs": [
    {
     "name": "stdout",
     "output_type": "stream",
     "text": [
      "151.88331005254167\n",
      "[  -9.15865318 -205.45432163  516.69374454  340.61999905 -895.5520019\n",
      "  561.22067904  153.89310954  126.73139688  861.12700152   52.42112238]\n"
     ]
    }
   ],
   "source": [
    "mlr = MultipleLinearReg()\n",
    "\n",
    "mlr.fit(X_train, y_train)"
   ]
  },
  {
   "cell_type": "markdown",
   "id": "b99150c0",
   "metadata": {
    "papermill": {
     "duration": 0.005231,
     "end_time": "2025-04-23T10:42:13.057480",
     "exception": false,
     "start_time": "2025-04-23T10:42:13.052249",
     "status": "completed"
    },
    "tags": []
   },
   "source": [
    "numpy.insert(arr, obj, values, axis = None)\n",
    "arr: Input array.\n",
    "obj: The index before which insertion is to be made.\n",
    "values: The array of values to be inserted.\n",
    "axis: The axis along which to insert. If not given then the input array is flattened."
   ]
  },
  {
   "cell_type": "code",
   "execution_count": 20,
   "id": "8034faa0",
   "metadata": {
    "execution": {
     "iopub.execute_input": "2025-04-23T10:42:13.069522Z",
     "iopub.status.busy": "2025-04-23T10:42:13.068874Z",
     "iopub.status.idle": "2025-04-23T10:42:13.079098Z",
     "shell.execute_reply": "2025-04-23T10:42:13.078310Z"
    },
    "papermill": {
     "duration": 0.018652,
     "end_time": "2025-04-23T10:42:13.081275",
     "exception": false,
     "start_time": "2025-04-23T10:42:13.062623",
     "status": "completed"
    },
    "tags": []
   },
   "outputs": [
    {
     "name": "stdout",
     "output_type": "stream",
     "text": [
      "[[ 1.03821723e+00 -2.12234641e+02  5.17224479e+02  3.46033696e+02\n",
      "  -8.88057883e+02  5.65967574e+02  1.64635805e+02  1.20733011e+02\n",
      "   8.61034089e+02  5.54030227e+01]\n",
      " [-2.10306613e+01 -1.97756857e+02  5.28519894e+02  3.48648254e+02\n",
      "  -8.83669213e+02  5.71009148e+02  1.57925653e+02  1.26337676e+02\n",
      "   8.67304525e+02  5.09992043e+01]\n",
      " [-2.82383651e+00 -1.97756857e+02  5.14441550e+02  3.38017461e+02\n",
      "  -8.96417254e+02  5.62495546e+02  1.51774680e+02  1.26449769e+02\n",
      "   8.59320068e+02  5.28865550e+01]\n",
      " [-1.60651636e+01 -2.12234641e+02  5.09366799e+02  3.37667110e+02\n",
      "  -8.95581316e+02  5.58785708e+02  1.64076626e+02  1.20733011e+02\n",
      "   8.57360990e+02  5.54030227e+01]\n",
      " [-7.78933419e+00 -1.97756857e+02  5.27210280e+02  3.49694077e+02\n",
      "  -8.92864521e+02  5.57691781e+02  1.46742066e+02  1.31942340e+02\n",
      "   8.76816095e+02  6.35815425e+01]\n",
      " [-3.92728044e+00 -1.97756857e+02  5.35722767e+02  3.44987873e+02\n",
      "  -9.03731703e+02  5.59261328e+02  1.38354376e+02  1.43151669e+02\n",
      "   8.61168386e+02  5.66612565e+01]\n",
      " [-1.44099978e+01 -2.12234641e+02  5.07729782e+02  3.40804580e+02\n",
      "  -9.03731703e+02  5.49368427e+02  1.64076626e+02  1.15128347e+02\n",
      "   8.57877411e+02  5.47739058e+01]\n",
      " [-1.66168856e+01 -2.12234641e+02  5.08057185e+02  3.34006729e+02\n",
      "  -9.02477798e+02  5.54647812e+02  1.54011397e+02  1.20733011e+02\n",
      "   8.59320068e+02  5.47739058e+01]\n",
      " [-4.47900241e+00 -2.12234641e+02  5.11658622e+02  3.37144199e+02\n",
      "  -9.02686782e+02  5.48892807e+02  1.69668419e+02  1.15128347e+02\n",
      "   8.55080705e+02  4.40789183e+01]\n",
      " [-1.38582758e+01 -1.97756857e+02  5.25736965e+02  3.40804580e+02\n",
      "  -8.93700458e+02  5.66015136e+02  1.47301245e+02  1.31942340e+02\n",
      "   8.63378061e+02  5.35156719e+01]\n",
      " [-1.05479440e+01 -1.97756857e+02  5.16897075e+02  3.40281668e+02\n",
      "  -8.83460229e+02  5.71865265e+02  1.59044011e+02  1.26337676e+02\n",
      "   8.65184844e+02  6.48397763e+01]\n",
      " [-3.37555848e+00 -1.97756857e+02  5.13950445e+02  3.50739900e+02\n",
      "  -9.03313735e+02  5.58690584e+02  1.42268631e+02  1.31942340e+02\n",
      "   8.59320068e+02  5.03700874e+01]\n",
      " [-7.78933419e+00 -1.97756857e+02  5.21317020e+02  3.47079519e+02\n",
      "  -8.95999285e+02  5.66823690e+02  1.43946169e+02  1.37547004e+02\n",
      "   8.57535438e+02  5.47739058e+01]\n",
      " [-6.52266958e-02 -2.12234641e+02  5.16569672e+02  3.27731790e+02\n",
      "  -8.84087181e+02  5.73292125e+02  1.54570577e+02  1.31942340e+02\n",
      "   8.64676729e+02  5.66612565e+01]\n",
      " [-5.58244633e+00 -2.12234641e+02  5.33430944e+02  3.50216989e+02\n",
      "  -8.93491474e+02  5.56217358e+02  1.50097142e+02  1.29868614e+02\n",
      "   8.76199989e+02  5.60321396e+01]\n",
      " [-7.78933419e+00 -2.12234641e+02  5.11822324e+02  3.36621287e+02\n",
      "  -8.89102804e+02  5.59641824e+02  1.78056109e+02  1.15128347e+02\n",
      "   8.59320068e+02  4.65953859e+01]\n",
      " [-1.60651636e+01 -2.12234641e+02  5.22626634e+02  3.40804580e+02\n",
      "  -8.93073505e+02  5.63541910e+02  1.49537963e+02  1.30765360e+02\n",
      "   8.67890172e+02  4.84827367e+01]\n",
      " [-1.93754954e+01 -2.12234641e+02  5.07729782e+02  3.45510784e+02\n",
      "  -9.03313735e+02  5.53696571e+02  1.52333859e+02  1.20733011e+02\n",
      "   8.61431443e+02  5.60321396e+01]\n",
      " [-1.44099978e+01 -1.97756857e+02  5.12804534e+02  3.38017461e+02\n",
      "  -8.95372332e+02  5.60783313e+02  1.55129756e+02  1.24376043e+02\n",
      "   8.63378061e+02  5.85486072e+01]\n",
      " [-2.82383651e+00 -1.97756857e+02  5.14277849e+02  3.43246577e+02\n",
      "  -9.01223892e+02  5.59118642e+02  1.50097142e+02  1.25048603e+02\n",
      "   8.54006327e+02  5.47739058e+01]\n",
      " [-8.34105615e+00 -2.12234641e+02  5.25573264e+02  3.34006729e+02\n",
      "  -9.06657483e+02  5.50224543e+02  1.56807294e+02  1.15128347e+02\n",
      "   8.53319611e+02  4.84827367e+01]\n",
      " [-1.49617197e+01 -1.97756857e+02  5.27537684e+02  3.31915083e+02\n",
      "  -8.72175078e+02  5.84897259e+02  1.54011397e+02  1.37659098e+02\n",
      "   8.68763797e+02  6.29524256e+01]\n",
      " [-7.78933419e+00 -1.97756857e+02  5.10676412e+02  3.44987873e+02\n",
      "  -8.89729757e+02  5.72388447e+02  1.42827811e+02  1.43151669e+02\n",
      "   8.63491591e+02  4.53371521e+01]\n",
      " [-2.82383651e+00 -1.97756857e+02  5.18534092e+02  3.46556607e+02\n",
      "  -8.87221945e+02  5.67965179e+02  1.54570577e+02  1.26337676e+02\n",
      "   8.68053544e+02  5.22574381e+01]\n",
      " [-4.47900241e+00 -2.12234641e+02  5.13623042e+02  3.39758757e+02\n",
      "  -8.96208269e+02  5.56740541e+02  1.65754164e+02  1.20733011e+02\n",
      "   8.59470980e+02  5.22574381e+01]\n",
      " [-1.33065538e+01 -2.12234641e+02  5.23936247e+02  3.33483817e+02\n",
      "  -8.90356710e+02  5.69915222e+02  1.41709452e+02  1.46514467e+02\n",
      "   8.67971858e+02  7.23891792e+01]\n",
      " [-6.68589026e+00 -1.97756857e+02  5.27701385e+02  3.52308635e+02\n",
      "  -8.96835222e+02  5.62067488e+02  1.52893039e+02  1.26337676e+02\n",
      "   8.57535438e+02  6.16941917e+01]\n",
      " [-7.78933419e+00 -2.12234641e+02  5.12968235e+02  3.36621287e+02\n",
      "  -8.80534449e+02  5.75527541e+02  1.64635805e+02  1.26337676e+02\n",
      "   8.57877411e+02  5.35156719e+01]\n",
      " [-8.89277812e+00 -2.12234641e+02  5.10676412e+02  3.25289793e+02\n",
      "  -8.99969986e+02  5.56645417e+02  1.60721550e+02  1.19107658e+02\n",
      "   8.50748580e+02  3.27548139e+01]\n",
      " [-1.60651636e+01 -1.97756857e+02  5.26391772e+02  3.51262812e+02\n",
      "  -8.75309842e+02  5.81187422e+02  1.47860425e+02  1.43151669e+02\n",
      "   8.72630727e+02  6.54688932e+01]\n",
      " [-1.22031099e+01 -2.12234641e+02  5.29665805e+02  3.35052552e+02\n",
      "  -8.81579370e+02  5.74814110e+02  1.44505349e+02  1.48756333e+02\n",
      "   8.73421281e+02  6.04359579e+01]\n",
      " [-9.44450008e+00 -2.12234641e+02  5.06583870e+02  3.40804580e+02\n",
      "  -8.95999285e+02  5.61686991e+02  1.55688935e+02  1.26337676e+02\n",
      "   8.58044937e+02  4.84827367e+01]\n",
      " [-2.37892711e+01 -2.12234641e+02  5.06092765e+02  3.30346348e+02\n",
      "  -8.98507096e+02  5.59594262e+02  1.56248115e+02  1.20733011e+02\n",
      "   8.54006327e+02  4.03042168e+01]\n",
      " [-9.99622204e+00 -1.97756857e+02  5.11658622e+02  3.38190022e+02\n",
      "  -8.94327411e+02  5.63684596e+02  1.56248115e+02  1.26337676e+02\n",
      "   8.56825185e+02  4.09333338e+01]\n",
      " [-1.16513879e+01 -1.97756857e+02  5.17060777e+02  3.42896226e+02\n",
      "  -8.92237568e+02  5.59689386e+02  1.50097142e+02  1.31942340e+02\n",
      "   8.74117689e+02  6.48397763e+01]\n",
      " [-9.99622204e+00 -2.12234641e+02  5.18042987e+02  3.32960906e+02\n",
      "  -8.91610615e+02  5.68393237e+02  1.47301245e+02  1.37547004e+02\n",
      "   8.63378061e+02  5.28865550e+01]\n",
      " [-2.27211455e+00 -1.97756857e+02  5.19680004e+02  3.46556607e+02\n",
      "  -8.92446552e+02  5.65159019e+02  1.55129756e+02  1.26337676e+02\n",
      "   8.60625659e+02  5.54030227e+01]\n",
      " [-3.37555848e+00 -1.97756857e+02  5.19188899e+02  3.43942049e+02\n",
      "  -8.89520772e+02  5.68060303e+02  1.47301245e+02  1.37547004e+02\n",
      "   8.68686264e+02  5.47739058e+01]\n",
      " [-6.68589026e+00 -2.12234641e+02  5.12313429e+02  3.39235845e+02\n",
      "  -8.96208269e+02  5.59736948e+02  1.60721550e+02  1.20733011e+02\n",
      "   8.56456906e+02  4.59662690e+01]\n",
      " [-6.52266958e-02 -2.12234641e+02  5.13459340e+02  3.53877370e+02\n",
      "  -8.88684835e+02  5.66015136e+02  1.46742066e+02  1.37547004e+02\n",
      "   8.73144380e+02  7.30182961e+01]\n",
      " [-1.82720515e+01 -1.97756857e+02  5.24918457e+02  3.37667110e+02\n",
      "  -9.03104750e+02  5.53791695e+02  1.57366473e+02  1.20733011e+02\n",
      "   8.54446601e+02  5.16283212e+01]\n",
      " [-3.37555848e+00 -1.97756857e+02  5.12968235e+02  3.41327491e+02\n",
      "  -8.99552018e+02  5.57216161e+02  1.56248115e+02  1.20733011e+02\n",
      "   8.58697040e+02  4.84827367e+01]\n",
      " [-2.04789394e+01 -1.97756857e+02  5.25082159e+02  3.34529641e+02\n",
      "  -8.87430930e+02  5.69296915e+02  1.47301245e+02  1.37547004e+02\n",
      "   8.70427975e+02  4.72245028e+01]\n",
      " [-1.60651636e+01 -1.97756857e+02  5.12968235e+02  3.49694077e+02\n",
      "  -8.94745379e+02  5.63494348e+02  1.45623707e+02  1.37547004e+02\n",
      "   8.67557890e+02  5.47739058e+01]\n",
      " [ 3.79682705e+00 -1.97756857e+02  5.23445142e+02  3.39758757e+02\n",
      "  -9.02477798e+02  5.56027110e+02  1.48978783e+02  1.26337676e+02\n",
      "   8.61561587e+02  4.84827367e+01]\n",
      " [-1.93754954e+01 -1.97756857e+02  5.14768954e+02  3.34529641e+02\n",
      "  -8.97880143e+02  5.61924801e+02  1.45064528e+02  1.31942340e+02\n",
      "   8.64042625e+02  4.72245028e+01]\n",
      " [-6.16948660e-01 -1.97756857e+02  5.20007407e+02  3.49171165e+02\n",
      "  -8.96626238e+02  5.63969969e+02  1.48978783e+02  1.26337676e+02\n",
      "   8.57535438e+02  5.60321396e+01]\n",
      " [-5.58244633e+00 -1.97756857e+02  5.26064369e+02  3.50044428e+02\n",
      "  -8.91819599e+02  5.55741738e+02  1.40031914e+02  1.50325639e+02\n",
      "   8.81387740e+02  6.48397763e+01]\n",
      " [-6.68589026e+00 -1.97756857e+02  5.09694202e+02  3.42373315e+02\n",
      "  -9.00596939e+02  5.58785708e+02  1.52333859e+02  1.26337676e+02\n",
      "   8.54446601e+02  4.59662690e+01]\n",
      " [ 3.24510509e+00 -1.97756857e+02  5.17715584e+02  3.39931317e+02\n",
      "  -8.78862574e+02  5.78999568e+02  1.48978783e+02  1.40685616e+02\n",
      "   8.69438052e+02  5.35156719e+01]\n",
      " [-1.33065538e+01 -1.97756857e+02  5.25900667e+02  3.57014839e+02\n",
      "  -8.93700458e+02  5.58547898e+02  1.53452218e+02  1.26337676e+02\n",
      "   8.71790331e+02  7.30182961e+01]\n",
      " [-1.71686076e+01 -2.12234641e+02  5.24918457e+02  3.36621287e+02\n",
      "  -9.03940687e+02  5.56074672e+02  1.51774680e+02  1.20733011e+02\n",
      "   8.49873571e+02  4.34498014e+01]\n",
      " [-1.66168856e+01 -2.12234641e+02  5.17388180e+02  3.42373315e+02\n",
      "  -9.01223892e+02  5.58405212e+02  1.51215501e+02  1.26337676e+02\n",
      "   8.55080705e+02  4.91118536e+01]\n",
      " [ 2.69338312e+00 -1.97756857e+02  5.12968235e+02  3.34179290e+02\n",
      "  -8.94536395e+02  5.69249353e+02  1.43386990e+02  1.39004217e+02\n",
      "   8.55487751e+02  6.10650748e+01]\n",
      " [-6.52266958e-02 -1.97756857e+02  5.20171109e+02  3.48125342e+02\n",
      "  -8.93073505e+02  5.63018728e+02  1.51774680e+02  1.26337676e+02\n",
      "   8.67132846e+02  5.54030227e+01]\n",
      " [-5.58244633e+00 -1.97756857e+02  5.11986025e+02  3.39758757e+02\n",
      "  -8.98089128e+02  5.63922407e+02  1.48978783e+02  1.26337676e+02\n",
      "   8.49873571e+02  4.72245028e+01]\n",
      " [-2.82383651e+00 -1.97756857e+02  5.10840114e+02  3.48648254e+02\n",
      "  -8.83878197e+02  5.78904444e+02  1.47860425e+02  1.37547004e+02\n",
      "   8.57707117e+02  5.03700874e+01]\n",
      " [-1.55134417e+01 -2.12234641e+02  5.09203097e+02  3.35052552e+02\n",
      "  -8.96626238e+02  5.57786905e+02  1.66872522e+02  1.20733011e+02\n",
      "   8.51028251e+02  5.35156719e+01]\n",
      " [-1.05479440e+01 -2.12234641e+02  5.14277849e+02  3.51262812e+02\n",
      "  -8.93700458e+02  5.64588275e+02  1.56248115e+02  1.26337676e+02\n",
      "   8.56077551e+02  5.98068410e+01]\n",
      " [-1.88237735e+01 -2.12234641e+02  5.22135529e+02  3.37144199e+02\n",
      "  -9.00178970e+02  5.58357650e+02  1.52893039e+02  1.26337676e+02\n",
      "   8.57185157e+02  4.40789183e+01]\n",
      " [-1.16867062e+00 -1.97756857e+02  5.12968235e+02  3.49171165e+02\n",
      "  -8.96626238e+02  5.60450379e+02  1.50656321e+02  1.26337676e+02\n",
      "   8.65184844e+02  4.65953859e+01]\n",
      " [-6.52266958e-02 -1.97756857e+02  5.22954037e+02  3.42373315e+02\n",
      "  -8.89311788e+02  5.71960389e+02  1.48419604e+02  1.31942340e+02\n",
      "   8.59470980e+02  4.78536198e+01]\n",
      " [-2.82383651e+00 -2.12234641e+02  5.15423760e+02  3.36621287e+02\n",
      "  -8.91819599e+02  5.63684596e+02  1.64635805e+02  1.20733011e+02\n",
      "   8.53782037e+02  4.78536198e+01]\n",
      " [-9.99622204e+00 -2.12234641e+02  5.23281440e+02  3.53877370e+02\n",
      "  -8.93491474e+02  5.62305298e+02  1.51774680e+02  1.26337676e+02\n",
      "   8.67557890e+02  4.97409705e+01]\n",
      " [-1.05479440e+01 -1.97756857e+02  5.13950445e+02  3.35575464e+02\n",
      "  -8.98716081e+02  5.63066290e+02  1.42827811e+02  1.37547004e+02\n",
      "   8.61168386e+02  5.54030227e+01]\n",
      " [ 4.86495268e-01 -1.97756857e+02  5.16405970e+02  3.50739900e+02\n",
      "  -8.81788354e+02  5.77762956e+02  1.57366473e+02  1.29420241e+02\n",
      "   8.55687120e+02  5.28865550e+01]\n",
      " [-6.68589026e+00 -1.97756857e+02  5.18206689e+02  3.34006729e+02\n",
      "  -9.10210216e+02  5.46847640e+02  1.47860425e+02  1.20733011e+02\n",
      "   8.63714496e+02  5.35156719e+01]\n",
      " [-7.23761223e+00 -2.12234641e+02  5.13623042e+02  3.38190022e+02\n",
      "  -8.93700458e+02  5.64445589e+02  1.42268631e+02  1.43151669e+02\n",
      "   8.70221684e+02  4.91118536e+01]\n",
      " [-6.68589026e+00 -2.12234641e+02  5.09694202e+02  3.39758757e+02\n",
      "  -9.07075452e+02  5.51889214e+02  1.51774680e+02  1.20733011e+02\n",
      "   8.53319611e+02  5.54030227e+01]\n",
      " [-9.44450008e+00 -1.97756857e+02  5.11658622e+02  3.37839671e+02\n",
      "  -8.90774678e+02  5.67727369e+02  1.51774680e+02  1.29756521e+02\n",
      "   8.62680269e+02  5.66612565e+01]\n",
      " [ 2.14166116e+00 -2.12234641e+02  5.34085750e+02  3.44987873e+02\n",
      "  -8.91819599e+02  5.65016333e+02  1.56807294e+02  1.26337676e+02\n",
      "   8.61034089e+02  5.16283212e+01]\n",
      " [-9.99622204e+00 -2.12234641e+02  5.26555474e+02  3.46033696e+02\n",
      "  -8.95790301e+02  5.63494348e+02  1.51774680e+02  1.26842095e+02\n",
      "   8.58375834e+02  5.72903734e+01]\n",
      " [-1.16867062e+00 -2.12234641e+02  5.13459340e+02  3.29300524e+02\n",
      "  -9.01641860e+02  5.55503928e+02  1.52893039e+02  1.20733011e+02\n",
      "   8.61034089e+02  4.40789183e+01]\n",
      " [-1.27548319e+01 -1.97756857e+02  5.12804534e+02  3.47079519e+02\n",
      "  -9.03731703e+02  5.53981943e+02  1.50656321e+02  1.20733011e+02\n",
      "   8.61301299e+02  5.54030227e+01]\n",
      " [-6.68589026e+00 -2.12234641e+02  5.09530500e+02  3.40281668e+02\n",
      "  -8.98507096e+02  5.54695374e+02  1.59044011e+02  1.20733011e+02\n",
      "   8.65283144e+02  5.66612565e+01]\n",
      " [-1.71686076e+01 -2.12234641e+02  5.14768954e+02  3.31392171e+02\n",
      "  -8.95581316e+02  5.62447984e+02  1.55688935e+02  1.26337676e+02\n",
      "   8.57006556e+02  4.47080352e+01]\n",
      " [-2.37892711e+01 -2.12234641e+02  5.11167517e+02  3.29300524e+02\n",
      "  -9.01432876e+02  5.57025913e+02  1.56248115e+02  1.20733011e+02\n",
      "   8.49873571e+02  5.22574381e+01]\n",
      " [-9.99622204e+00 -1.97756857e+02  5.16897075e+02  3.27731790e+02\n",
      "  -8.97253191e+02  5.58690584e+02  1.61280729e+02  1.20733011e+02\n",
      "   8.54873029e+02  3.90459830e+01]\n",
      " [-8.89277812e+00 -1.97756857e+02  5.18370390e+02  3.37667110e+02\n",
      "  -8.98089128e+02  5.60640627e+02  1.46742066e+02  1.31942340e+02\n",
      "   8.64780568e+02  5.60321396e+01]\n",
      " [-2.48927151e+01 -1.97756857e+02  5.09694202e+02  3.36621287e+02\n",
      "  -8.99343033e+02  5.57453971e+02  1.58484832e+02  1.20733011e+02\n",
      "   8.55080705e+02  4.40789183e+01]\n",
      " [-1.60651636e+01 -2.12234641e+02  5.19025197e+02  3.29300524e+02\n",
      "  -9.03104750e+02  5.58595460e+02  1.49537963e+02  1.26337676e+02\n",
      "   8.45275620e+02  4.09333338e+01]\n",
      " [-8.89277812e+00 -1.97756857e+02  5.07893484e+02  3.34006729e+02\n",
      "  -9.10210216e+02  5.54077067e+02  1.38913555e+02  1.31942340e+02\n",
      "   8.51835419e+02  4.15624507e+01]\n",
      " [-1.49617197e+01 -2.12234641e+02  5.26882877e+02  3.31392171e+02\n",
      "  -8.99969986e+02  5.57691781e+02  1.52333859e+02  1.26337676e+02\n",
      "   8.60899792e+02  5.54030227e+01]\n",
      " [-1.71686076e+01 -1.97756857e+02  5.31630225e+02  3.53877370e+02\n",
      "  -8.86386008e+02  5.68631047e+02  1.45064528e+02  1.43151669e+02\n",
      "   8.73959855e+02  5.85486072e+01]\n",
      " [-7.78933419e+00 -2.12234641e+02  5.19188899e+02  3.41327491e+02\n",
      "  -8.94118427e+02  5.62828480e+02  1.49537963e+02  1.31942340e+02\n",
      "   8.67045622e+02  7.05018285e+01]\n",
      " [-1.71686076e+01 -2.12234641e+02  5.27537684e+02  3.29300524e+02\n",
      "  -8.97880143e+02  5.61021123e+02  1.54570577e+02  1.23479297e+02\n",
      "   8.54006327e+02  5.28865550e+01]\n",
      " [-4.47900241e+00 -2.12234641e+02  5.32612435e+02  3.52308635e+02\n",
      "  -8.97253191e+02  5.59499138e+02  1.45064528e+02  1.31942340e+02\n",
      "   8.69800793e+02  5.79194903e+01]\n",
      " [-5.58244633e+00 -2.12234641e+02  5.27373982e+02  3.44464961e+02\n",
      "  -9.00805923e+02  5.59023518e+02  1.48978783e+02  1.26337676e+02\n",
      "   8.58211078e+02  5.09992043e+01]\n",
      " [-6.16948660e-01 -1.97756857e+02  5.11986025e+02  3.41850403e+02\n",
      "  -8.92655537e+02  5.64445589e+02  1.59044011e+02  1.20733011e+02\n",
      "   8.56642430e+02  4.34498014e+01]]\n"
     ]
    }
   ],
   "source": [
    "mlr.predict(X_test)"
   ]
  },
  {
   "cell_type": "code",
   "execution_count": 21,
   "id": "140cec94",
   "metadata": {
    "execution": {
     "iopub.execute_input": "2025-04-23T10:42:13.093387Z",
     "iopub.status.busy": "2025-04-23T10:42:13.093094Z",
     "iopub.status.idle": "2025-04-23T10:42:13.098901Z",
     "shell.execute_reply": "2025-04-23T10:42:13.098134Z"
    },
    "papermill": {
     "duration": 0.013107,
     "end_time": "2025-04-23T10:42:13.100101",
     "exception": false,
     "start_time": "2025-04-23T10:42:13.086994",
     "status": "completed"
    },
    "tags": []
   },
   "outputs": [
    {
     "data": {
      "text/plain": [
       "0.4399338661568969"
      ]
     },
     "execution_count": 21,
     "metadata": {},
     "output_type": "execute_result"
    }
   ],
   "source": [
    "r2_score(y_test,y_pred)"
   ]
  },
  {
   "cell_type": "code",
   "execution_count": 22,
   "id": "2498a874",
   "metadata": {
    "execution": {
     "iopub.execute_input": "2025-04-23T10:42:13.112733Z",
     "iopub.status.busy": "2025-04-23T10:42:13.112112Z",
     "iopub.status.idle": "2025-04-23T10:42:13.116932Z",
     "shell.execute_reply": "2025-04-23T10:42:13.116303Z"
    },
    "papermill": {
     "duration": 0.012182,
     "end_time": "2025-04-23T10:42:13.118089",
     "exception": false,
     "start_time": "2025-04-23T10:42:13.105907",
     "status": "completed"
    },
    "tags": []
   },
   "outputs": [
    {
     "data": {
      "text/plain": [
       "151.88331005254167"
      ]
     },
     "execution_count": 22,
     "metadata": {},
     "output_type": "execute_result"
    }
   ],
   "source": [
    "mlr.coef_"
   ]
  },
  {
   "cell_type": "code",
   "execution_count": 23,
   "id": "021b7ea8",
   "metadata": {
    "execution": {
     "iopub.execute_input": "2025-04-23T10:42:13.130311Z",
     "iopub.status.busy": "2025-04-23T10:42:13.129987Z",
     "iopub.status.idle": "2025-04-23T10:42:13.134752Z",
     "shell.execute_reply": "2025-04-23T10:42:13.134092Z"
    },
    "papermill": {
     "duration": 0.01218,
     "end_time": "2025-04-23T10:42:13.135947",
     "exception": false,
     "start_time": "2025-04-23T10:42:13.123767",
     "status": "completed"
    },
    "tags": []
   },
   "outputs": [
    {
     "data": {
      "text/plain": [
       "array([  -9.15865318, -205.45432163,  516.69374454,  340.61999905,\n",
       "       -895.5520019 ,  561.22067904,  153.89310954,  126.73139688,\n",
       "        861.12700152,   52.42112238])"
      ]
     },
     "execution_count": 23,
     "metadata": {},
     "output_type": "execute_result"
    }
   ],
   "source": [
    "mlr.intercept_"
   ]
  },
  {
   "cell_type": "markdown",
   "id": "5ad73ae6",
   "metadata": {
    "papermill": {
     "duration": 0.005818,
     "end_time": "2025-04-23T10:42:13.147513",
     "exception": false,
     "start_time": "2025-04-23T10:42:13.141695",
     "status": "completed"
    },
    "tags": []
   },
   "source": [
    "NumPy provides the numpy.linalg.inv() function to compute the inverse of a matrix. Let us see how this function works."
   ]
  }
 ],
 "metadata": {
  "kaggle": {
   "accelerator": "none",
   "dataSources": [],
   "dockerImageVersionId": 31012,
   "isGpuEnabled": false,
   "isInternetEnabled": true,
   "language": "python",
   "sourceType": "notebook"
  },
  "kernelspec": {
   "display_name": "Python 3",
   "language": "python",
   "name": "python3"
  },
  "language_info": {
   "codemirror_mode": {
    "name": "ipython",
    "version": 3
   },
   "file_extension": ".py",
   "mimetype": "text/x-python",
   "name": "python",
   "nbconvert_exporter": "python",
   "pygments_lexer": "ipython3",
   "version": "3.11.11"
  },
  "papermill": {
   "default_parameters": {},
   "duration": 8.68632,
   "end_time": "2025-04-23T10:42:13.772018",
   "environment_variables": {},
   "exception": null,
   "input_path": "__notebook__.ipynb",
   "output_path": "__notebook__.ipynb",
   "parameters": {},
   "start_time": "2025-04-23T10:42:05.085698",
   "version": "2.6.0"
  }
 },
 "nbformat": 4,
 "nbformat_minor": 5
}
