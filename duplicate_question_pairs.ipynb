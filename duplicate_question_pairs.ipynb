{
 "cells": [
  {
   "cell_type": "code",
   "execution_count": 1,
   "id": "83af71d2",
   "metadata": {
    "_cell_guid": "b1076dfc-b9ad-4769-8c92-a6c4dae69d19",
    "_uuid": "8f2839f25d086af736a60e9eeb907d3b93b6e0e5",
    "execution": {
     "iopub.execute_input": "2025-05-07T17:51:09.386213Z",
     "iopub.status.busy": "2025-05-07T17:51:09.385889Z",
     "iopub.status.idle": "2025-05-07T17:51:11.269363Z",
     "shell.execute_reply": "2025-05-07T17:51:11.268159Z"
    },
    "papermill": {
     "duration": 1.893751,
     "end_time": "2025-05-07T17:51:11.270988",
     "exception": false,
     "start_time": "2025-05-07T17:51:09.377237",
     "status": "completed"
    },
    "tags": []
   },
   "outputs": [
    {
     "name": "stdout",
     "output_type": "stream",
     "text": [
      "/kaggle/input/quora-question-pairs/train.csv.zip\n",
      "/kaggle/input/quora-question-pairs/sample_submission.csv.zip\n",
      "/kaggle/input/quora-question-pairs/test.csv\n",
      "/kaggle/input/quora-question-pairs/test.csv.zip\n"
     ]
    }
   ],
   "source": [
    "# This Python 3 environment comes with many helpful analytics libraries installed\n",
    "# It is defined by the kaggle/python Docker image: https://github.com/kaggle/docker-python\n",
    "# For example, here's several helpful packages to load\n",
    "\n",
    "import numpy as np # linear algebra\n",
    "import pandas as pd # data processing, CSV file I/O (e.g. pd.read_csv)\n",
    "\n",
    "# Input data files are available in the read-only \"../input/\" directory\n",
    "# For example, running this (by clicking run or pressing Shift+Enter) will list all files under the input directory\n",
    "\n",
    "import os\n",
    "for dirname, _, filenames in os.walk('/kaggle/input'):\n",
    "    for filename in filenames:\n",
    "        print(os.path.join(dirname, filename))\n",
    "\n",
    "# You can write up to 20GB to the current directory (/kaggle/working/) that gets preserved as output when you create a version using \"Save & Run All\" \n",
    "# You can also write temporary files to /kaggle/temp/, but they won't be saved outside of the current session"
   ]
  },
  {
   "cell_type": "code",
   "execution_count": 2,
   "id": "f0117283",
   "metadata": {
    "execution": {
     "iopub.execute_input": "2025-05-07T17:51:11.287977Z",
     "iopub.status.busy": "2025-05-07T17:51:11.287503Z",
     "iopub.status.idle": "2025-05-07T17:51:11.293261Z",
     "shell.execute_reply": "2025-05-07T17:51:11.292297Z"
    },
    "papermill": {
     "duration": 0.016399,
     "end_time": "2025-05-07T17:51:11.294708",
     "exception": false,
     "start_time": "2025-05-07T17:51:11.278309",
     "status": "completed"
    },
    "tags": []
   },
   "outputs": [
    {
     "name": "stdout",
     "output_type": "stream",
     "text": [
      "File not found.\n"
     ]
    }
   ],
   "source": [
    "if os.path.exists('/kaggle/working/submission.csv'):\n",
    "    os.remove('/kaggle/working/submission.csv')\n",
    "    print(\"File deleted.\")\n",
    "else:\n",
    "    print(\"File not found.\")"
   ]
  },
  {
   "cell_type": "markdown",
   "id": "d2df2bc9",
   "metadata": {
    "papermill": {
     "duration": 0.006687,
     "end_time": "2025-05-07T17:51:11.308402",
     "exception": false,
     "start_time": "2025-05-07T17:51:11.301715",
     "status": "completed"
    },
    "tags": []
   },
   "source": [
    "import zipfile\n",
    "\n",
    "zip_path = \"/kaggle/input/quora-question-pairs/train.csv.zip\"\n",
    "extract_path = \"/kaggle/working/\"\n",
    "\n",
    "with zipfile.ZipFile(zip_path, 'r') as zip_ref:\n",
    "    zip_ref.extractall(extract_path)"
   ]
  },
  {
   "cell_type": "code",
   "execution_count": 3,
   "id": "7ebc7d23",
   "metadata": {
    "execution": {
     "iopub.execute_input": "2025-05-07T17:51:11.322806Z",
     "iopub.status.busy": "2025-05-07T17:51:11.322451Z",
     "iopub.status.idle": "2025-05-07T17:51:13.452661Z",
     "shell.execute_reply": "2025-05-07T17:51:13.451804Z"
    },
    "papermill": {
     "duration": 2.139064,
     "end_time": "2025-05-07T17:51:13.454064",
     "exception": false,
     "start_time": "2025-05-07T17:51:11.315000",
     "status": "completed"
    },
    "tags": []
   },
   "outputs": [
    {
     "data": {
      "text/plain": [
       "(404290, 6)"
      ]
     },
     "execution_count": 3,
     "metadata": {},
     "output_type": "execute_result"
    }
   ],
   "source": [
    "df = pd.read_csv('/kaggle/input/quora-question-pairs/train.csv.zip')\n",
    "df.shape"
   ]
  },
  {
   "cell_type": "code",
   "execution_count": 4,
   "id": "a7c3ee9a",
   "metadata": {
    "execution": {
     "iopub.execute_input": "2025-05-07T17:51:13.468539Z",
     "iopub.status.busy": "2025-05-07T17:51:13.468224Z",
     "iopub.status.idle": "2025-05-07T17:51:13.522747Z",
     "shell.execute_reply": "2025-05-07T17:51:13.522048Z"
    },
    "papermill": {
     "duration": 0.063539,
     "end_time": "2025-05-07T17:51:13.524314",
     "exception": false,
     "start_time": "2025-05-07T17:51:13.460775",
     "status": "completed"
    },
    "tags": []
   },
   "outputs": [],
   "source": [
    "df = df.sample(30000)"
   ]
  },
  {
   "cell_type": "code",
   "execution_count": 5,
   "id": "5581ca3b",
   "metadata": {
    "execution": {
     "iopub.execute_input": "2025-05-07T17:51:13.539497Z",
     "iopub.status.busy": "2025-05-07T17:51:13.539200Z",
     "iopub.status.idle": "2025-05-07T17:51:13.554972Z",
     "shell.execute_reply": "2025-05-07T17:51:13.554106Z"
    },
    "papermill": {
     "duration": 0.025052,
     "end_time": "2025-05-07T17:51:13.556396",
     "exception": false,
     "start_time": "2025-05-07T17:51:13.531344",
     "status": "completed"
    },
    "tags": []
   },
   "outputs": [
    {
     "data": {
      "text/plain": [
       "<bound method DataFrame.info of             id    qid1    qid2  \\\n",
       "281804  281804  239003   95939   \n",
       "380952  380952  512626  512627   \n",
       "89012    89012  112859   46708   \n",
       "50043    50043   68380   88978   \n",
       "258868  258868   28962  313170   \n",
       "...        ...     ...     ...   \n",
       "313187  313187  437726  437727   \n",
       "176318  176318  271304  271305   \n",
       "21161    21161   39867   24068   \n",
       "97319    97319  161941  123488   \n",
       "346669  346669  211482  228106   \n",
       "\n",
       "                                                question1  \\\n",
       "281804               What's your favorite movies and why?   \n",
       "380952      What is \"Testing in production\" as a concept?   \n",
       "89012   How in heaven's name would I dress like a work...   \n",
       "50043   What are some tips for booking Tatkal ticket o...   \n",
       "258868               How can I increase my writing speed?   \n",
       "...                                                   ...   \n",
       "313187  Is it better to pursue law in NUALS Kochi or C...   \n",
       "176318    What is the most interesting part in your life?   \n",
       "21161   What are the reset steps for a Gmail password ...   \n",
       "97319   What are the disadvantages of changing 1000 an...   \n",
       "346669  What hotel in Kausani Hill-station would be sa...   \n",
       "\n",
       "                                                question2  is_duplicate  \n",
       "281804                      Which is your favorite movie?             1  \n",
       "380952                    What is a test product concept?             0  \n",
       "89012   How would I dress like a workout guy from the ...             1  \n",
       "50043   What is the fastest payment option on IRCTC to...             0  \n",
       "258868     How can I increase my writing speed magically?             1  \n",
       "...                                                   ...           ...  \n",
       "313187  Is Christ University better or is CMS better f...             0  \n",
       "176318           What is the most important part of life?             0  \n",
       "21161                   How do I reset my Gmail Password?             1  \n",
       "97319   What are the advantages of changing 1000 and 5...             0  \n",
       "346669  What hotel in Binsar Hill-station would be saf...             0  \n",
       "\n",
       "[30000 rows x 6 columns]>"
      ]
     },
     "execution_count": 5,
     "metadata": {},
     "output_type": "execute_result"
    }
   ],
   "source": [
    "df.info"
   ]
  },
  {
   "cell_type": "code",
   "execution_count": 6,
   "id": "a5673a77",
   "metadata": {
    "execution": {
     "iopub.execute_input": "2025-05-07T17:51:13.571812Z",
     "iopub.status.busy": "2025-05-07T17:51:13.570948Z",
     "iopub.status.idle": "2025-05-07T17:51:13.588564Z",
     "shell.execute_reply": "2025-05-07T17:51:13.587696Z"
    },
    "papermill": {
     "duration": 0.026756,
     "end_time": "2025-05-07T17:51:13.590022",
     "exception": false,
     "start_time": "2025-05-07T17:51:13.563266",
     "status": "completed"
    },
    "tags": []
   },
   "outputs": [
    {
     "data": {
      "text/plain": [
       "id              0\n",
       "qid1            0\n",
       "qid2            0\n",
       "question1       0\n",
       "question2       0\n",
       "is_duplicate    0\n",
       "dtype: int64"
      ]
     },
     "execution_count": 6,
     "metadata": {},
     "output_type": "execute_result"
    }
   ],
   "source": [
    "#missing values\n",
    "df.isnull().sum()"
   ]
  },
  {
   "cell_type": "code",
   "execution_count": 7,
   "id": "dfc6ca72",
   "metadata": {
    "execution": {
     "iopub.execute_input": "2025-05-07T17:51:13.605165Z",
     "iopub.status.busy": "2025-05-07T17:51:13.604512Z",
     "iopub.status.idle": "2025-05-07T17:51:13.654219Z",
     "shell.execute_reply": "2025-05-07T17:51:13.653407Z"
    },
    "papermill": {
     "duration": 0.058729,
     "end_time": "2025-05-07T17:51:13.655623",
     "exception": false,
     "start_time": "2025-05-07T17:51:13.596894",
     "status": "completed"
    },
    "tags": []
   },
   "outputs": [
    {
     "data": {
      "text/plain": [
       "0"
      ]
     },
     "execution_count": 7,
     "metadata": {},
     "output_type": "execute_result"
    }
   ],
   "source": [
    "#check for duplicates\n",
    "df.duplicated().sum()"
   ]
  },
  {
   "cell_type": "code",
   "execution_count": 8,
   "id": "f4b0950b",
   "metadata": {
    "execution": {
     "iopub.execute_input": "2025-05-07T17:51:13.671173Z",
     "iopub.status.busy": "2025-05-07T17:51:13.670531Z",
     "iopub.status.idle": "2025-05-07T17:51:13.678880Z",
     "shell.execute_reply": "2025-05-07T17:51:13.678058Z"
    },
    "papermill": {
     "duration": 0.017629,
     "end_time": "2025-05-07T17:51:13.680291",
     "exception": false,
     "start_time": "2025-05-07T17:51:13.662662",
     "status": "completed"
    },
    "tags": []
   },
   "outputs": [
    {
     "data": {
      "text/plain": [
       "is_duplicate\n",
       "0    18867\n",
       "1    11133\n",
       "Name: count, dtype: int64"
      ]
     },
     "execution_count": 8,
     "metadata": {},
     "output_type": "execute_result"
    }
   ],
   "source": [
    "df['is_duplicate'].value_counts()"
   ]
  },
  {
   "cell_type": "code",
   "execution_count": 9,
   "id": "b1624900",
   "metadata": {
    "execution": {
     "iopub.execute_input": "2025-05-07T17:51:13.695711Z",
     "iopub.status.busy": "2025-05-07T17:51:13.695356Z",
     "iopub.status.idle": "2025-05-07T17:51:13.701406Z",
     "shell.execute_reply": "2025-05-07T17:51:13.700658Z"
    },
    "papermill": {
     "duration": 0.015487,
     "end_time": "2025-05-07T17:51:13.702867",
     "exception": false,
     "start_time": "2025-05-07T17:51:13.687380",
     "status": "completed"
    },
    "tags": []
   },
   "outputs": [
    {
     "data": {
      "text/plain": [
       "30000"
      ]
     },
     "execution_count": 9,
     "metadata": {},
     "output_type": "execute_result"
    }
   ],
   "source": [
    "df['is_duplicate'].count()"
   ]
  },
  {
   "cell_type": "code",
   "execution_count": 10,
   "id": "e69534d4",
   "metadata": {
    "execution": {
     "iopub.execute_input": "2025-05-07T17:51:13.718440Z",
     "iopub.status.busy": "2025-05-07T17:51:13.718132Z",
     "iopub.status.idle": "2025-05-07T17:51:14.070695Z",
     "shell.execute_reply": "2025-05-07T17:51:14.069750Z"
    },
    "papermill": {
     "duration": 0.362076,
     "end_time": "2025-05-07T17:51:14.072226",
     "exception": false,
     "start_time": "2025-05-07T17:51:13.710150",
     "status": "completed"
    },
    "tags": []
   },
   "outputs": [
    {
     "data": {
      "text/plain": [
       "Text(0, 0.5, 'Frequency')"
      ]
     },
     "execution_count": 10,
     "metadata": {},
     "output_type": "execute_result"
    },
    {
     "data": {
      "image/png": "[encoded data removed]",
      "text/plain": [
       "<Figure size 640x480 with 1 Axes>"
      ]
     },
     "metadata": {},
     "output_type": "display_data"
    }
   ],
   "source": [
    "import matplotlib.pyplot as plt\n",
    "df['is_duplicate'].value_counts().plot(kind='bar')\n",
    "plt.xlabel(\"Question ID\")\n",
    "plt.ylabel(\"Frequency\")"
   ]
  },
  {
   "cell_type": "code",
   "execution_count": 11,
   "id": "7e143ba1",
   "metadata": {
    "execution": {
     "iopub.execute_input": "2025-05-07T17:51:14.088630Z",
     "iopub.status.busy": "2025-05-07T17:51:14.088296Z",
     "iopub.status.idle": "2025-05-07T17:51:14.124854Z",
     "shell.execute_reply": "2025-05-07T17:51:14.123503Z"
    },
    "papermill": {
     "duration": 0.046432,
     "end_time": "2025-05-07T17:51:14.126386",
     "exception": false,
     "start_time": "2025-05-07T17:51:14.079954",
     "status": "completed"
    },
    "tags": []
   },
   "outputs": [
    {
     "name": "stdout",
     "output_type": "stream",
     "text": [
      "Number of unique questions 55277\n",
      "Number of questions repeated 3483\n"
     ]
    }
   ],
   "source": [
    "# Unique questions\n",
    "qid = pd.Series(df['qid1'].tolist() + df['qid2'].tolist())\n",
    "print(f'Number of unique questions {np.unique(qid).shape[0]}')\n",
    "\n",
    "# Repeted questions\n",
    "x = qid.value_counts()>1\n",
    "print(f'Number of questions repeated {x[x].shape[0]}')\n"
   ]
  },
  {
   "cell_type": "code",
   "execution_count": 12,
   "id": "e3cc82c6",
   "metadata": {
    "execution": {
     "iopub.execute_input": "2025-05-07T17:51:14.142689Z",
     "iopub.status.busy": "2025-05-07T17:51:14.142319Z",
     "iopub.status.idle": "2025-05-07T17:51:14.155377Z",
     "shell.execute_reply": "2025-05-07T17:51:14.154693Z"
    },
    "papermill": {
     "duration": 0.022724,
     "end_time": "2025-05-07T17:51:14.156755",
     "exception": false,
     "start_time": "2025-05-07T17:51:14.134031",
     "status": "completed"
    },
    "tags": []
   },
   "outputs": [
    {
     "data": {
      "text/plain": [
       "array([12,  8,  8, ...,  1,  1,  1])"
      ]
     },
     "execution_count": 12,
     "metadata": {},
     "output_type": "execute_result"
    }
   ],
   "source": [
    "qid.value_counts().values"
   ]
  },
  {
   "cell_type": "code",
   "execution_count": 13,
   "id": "25cf447b",
   "metadata": {
    "execution": {
     "iopub.execute_input": "2025-05-07T17:51:14.173119Z",
     "iopub.status.busy": "2025-05-07T17:51:14.172805Z",
     "iopub.status.idle": "2025-05-07T17:51:14.723272Z",
     "shell.execute_reply": "2025-05-07T17:51:14.722312Z"
    },
    "papermill": {
     "duration": 0.56075,
     "end_time": "2025-05-07T17:51:14.725105",
     "exception": false,
     "start_time": "2025-05-07T17:51:14.164355",
     "status": "completed"
    },
    "tags": []
   },
   "outputs": [
    {
     "data": {
      "image/png": "[encoded data removed]",
      "text/plain": [
       "<Figure size 640x480 with 1 Axes>"
      ]
     },
     "metadata": {},
     "output_type": "display_data"
    }
   ],
   "source": [
    "plt.hist(qid.value_counts().values, bins=160)\n",
    "plt.yscale('log')\n",
    "plt.show()"
   ]
  },
  {
   "cell_type": "markdown",
   "id": "1f008fc2",
   "metadata": {
    "papermill": {
     "duration": 0.007866,
     "end_time": "2025-05-07T17:51:14.741323",
     "exception": false,
     "start_time": "2025-05-07T17:51:14.733457",
     "status": "completed"
    },
    "tags": []
   },
   "source": [
    "qid1 , qid2, question1, question2, is_duplicate <br>\n",
    "              bow        bow        randomforest"
   ]
  },
  {
   "cell_type": "code",
   "execution_count": 14,
   "id": "3c508d3a",
   "metadata": {
    "execution": {
     "iopub.execute_input": "2025-05-07T17:51:14.759170Z",
     "iopub.status.busy": "2025-05-07T17:51:14.758473Z",
     "iopub.status.idle": "2025-05-07T17:51:14.763078Z",
     "shell.execute_reply": "2025-05-07T17:51:14.762309Z"
    },
    "papermill": {
     "duration": 0.015006,
     "end_time": "2025-05-07T17:51:14.764425",
     "exception": false,
     "start_time": "2025-05-07T17:51:14.749419",
     "status": "completed"
    },
    "tags": []
   },
   "outputs": [],
   "source": [
    "# Feature engineering"
   ]
  },
  {
   "cell_type": "code",
   "execution_count": 15,
   "id": "7588a3fc",
   "metadata": {
    "execution": {
     "iopub.execute_input": "2025-05-07T17:51:14.846044Z",
     "iopub.status.busy": "2025-05-07T17:51:14.845719Z",
     "iopub.status.idle": "2025-05-07T17:51:14.866629Z",
     "shell.execute_reply": "2025-05-07T17:51:14.865743Z"
    },
    "papermill": {
     "duration": 0.095783,
     "end_time": "2025-05-07T17:51:14.868334",
     "exception": false,
     "start_time": "2025-05-07T17:51:14.772551",
     "status": "completed"
    },
    "tags": []
   },
   "outputs": [
    {
     "data": {
      "text/html": [
       "<div>\n",
       "<style scoped>\n",
       "    .dataframe tbody tr th:only-of-type {\n",
       "        vertical-align: middle;\n",
       "    }\n",
       "\n",
       "    .dataframe tbody tr th {\n",
       "        vertical-align: top;\n",
       "    }\n",
       "\n",
       "    .dataframe thead th {\n",
       "        text-align: right;\n",
       "    }\n",
       "</style>\n",
       "<table border=\"1\" class=\"dataframe\">\n",
       "  <thead>\n",
       "    <tr style=\"text-align: right;\">\n",
       "      <th></th>\n",
       "      <th>question1</th>\n",
       "      <th>question2</th>\n",
       "    </tr>\n",
       "  </thead>\n",
       "  <tbody>\n",
       "    <tr>\n",
       "      <th>281804</th>\n",
       "      <td>What's your favorite movies and why?</td>\n",
       "      <td>Which is your favorite movie?</td>\n",
       "    </tr>\n",
       "    <tr>\n",
       "      <th>380952</th>\n",
       "      <td>What is \"Testing in production\" as a concept?</td>\n",
       "      <td>What is a test product concept?</td>\n",
       "    </tr>\n",
       "    <tr>\n",
       "      <th>89012</th>\n",
       "      <td>How in heaven's name would I dress like a work...</td>\n",
       "      <td>How would I dress like a workout guy from the ...</td>\n",
       "    </tr>\n",
       "    <tr>\n",
       "      <th>50043</th>\n",
       "      <td>What are some tips for booking Tatkal ticket o...</td>\n",
       "      <td>What is the fastest payment option on IRCTC to...</td>\n",
       "    </tr>\n",
       "    <tr>\n",
       "      <th>258868</th>\n",
       "      <td>How can I increase my writing speed?</td>\n",
       "      <td>How can I increase my writing speed magically?</td>\n",
       "    </tr>\n",
       "  </tbody>\n",
       "</table>\n",
       "</div>"
      ],
      "text/plain": [
       "                                                question1  \\\n",
       "281804               What's your favorite movies and why?   \n",
       "380952      What is \"Testing in production\" as a concept?   \n",
       "89012   How in heaven's name would I dress like a work...   \n",
       "50043   What are some tips for booking Tatkal ticket o...   \n",
       "258868               How can I increase my writing speed?   \n",
       "\n",
       "                                                question2  \n",
       "281804                      Which is your favorite movie?  \n",
       "380952                    What is a test product concept?  \n",
       "89012   How would I dress like a workout guy from the ...  \n",
       "50043   What is the fastest payment option on IRCTC to...  \n",
       "258868     How can I increase my writing speed magically?  "
      ]
     },
     "execution_count": 15,
     "metadata": {},
     "output_type": "execute_result"
    }
   ],
   "source": [
    "ques_df = df[['question1','question2']]\n",
    "ques_df.head()\n"
   ]
  },
  {
   "cell_type": "code",
   "execution_count": 16,
   "id": "2cbc9fa5",
   "metadata": {
    "execution": {
     "iopub.execute_input": "2025-05-07T17:51:14.885491Z",
     "iopub.status.busy": "2025-05-07T17:51:14.885199Z",
     "iopub.status.idle": "2025-05-07T17:51:18.065084Z",
     "shell.execute_reply": "2025-05-07T17:51:18.063988Z"
    },
    "papermill": {
     "duration": 3.190548,
     "end_time": "2025-05-07T17:51:18.066998",
     "exception": false,
     "start_time": "2025-05-07T17:51:14.876450",
     "status": "completed"
    },
    "tags": []
   },
   "outputs": [],
   "source": [
    "from sklearn.feature_extraction.text import CountVectorizer\n",
    "\n",
    "# Merge all questions into one list\n",
    "questions = list(ques_df['question1'].fillna(\"\")) + list(ques_df['question2'].fillna(\"\"))\n",
    "\n",
    "# Vectorize\n",
    "cv = CountVectorizer(max_features=3000)\n",
    "q_vectors = cv.fit_transform(questions).toarray()\n",
    "\n",
    "# Split back into q1 and q2 arrays\n",
    "half = len(q_vectors) // 2\n",
    "q1_arr, q2_arr = np.vsplit(q_vectors, [half])"
   ]
  },
  {
   "cell_type": "code",
   "execution_count": 17,
   "id": "e24504df",
   "metadata": {
    "execution": {
     "iopub.execute_input": "2025-05-07T17:51:18.085108Z",
     "iopub.status.busy": "2025-05-07T17:51:18.084317Z",
     "iopub.status.idle": "2025-05-07T17:51:21.315244Z",
     "shell.execute_reply": "2025-05-07T17:51:21.314195Z"
    },
    "papermill": {
     "duration": 3.241577,
     "end_time": "2025-05-07T17:51:21.316875",
     "exception": false,
     "start_time": "2025-05-07T17:51:18.075298",
     "status": "completed"
    },
    "tags": []
   },
   "outputs": [
    {
     "data": {
      "text/html": [
       "<div>\n",
       "<style scoped>\n",
       "    .dataframe tbody tr th:only-of-type {\n",
       "        vertical-align: middle;\n",
       "    }\n",
       "\n",
       "    .dataframe tbody tr th {\n",
       "        vertical-align: top;\n",
       "    }\n",
       "\n",
       "    .dataframe thead th {\n",
       "        text-align: right;\n",
       "    }\n",
       "</style>\n",
       "<table border=\"1\" class=\"dataframe\">\n",
       "  <thead>\n",
       "    <tr style=\"text-align: right;\">\n",
       "      <th></th>\n",
       "      <th>0</th>\n",
       "      <th>1</th>\n",
       "      <th>2</th>\n",
       "      <th>3</th>\n",
       "      <th>4</th>\n",
       "      <th>5</th>\n",
       "      <th>6</th>\n",
       "      <th>7</th>\n",
       "      <th>8</th>\n",
       "      <th>9</th>\n",
       "      <th>...</th>\n",
       "      <th>2990</th>\n",
       "      <th>2991</th>\n",
       "      <th>2992</th>\n",
       "      <th>2993</th>\n",
       "      <th>2994</th>\n",
       "      <th>2995</th>\n",
       "      <th>2996</th>\n",
       "      <th>2997</th>\n",
       "      <th>2998</th>\n",
       "      <th>2999</th>\n",
       "    </tr>\n",
       "  </thead>\n",
       "  <tbody>\n",
       "    <tr>\n",
       "      <th>281804</th>\n",
       "      <td>0</td>\n",
       "      <td>0</td>\n",
       "      <td>0</td>\n",
       "      <td>0</td>\n",
       "      <td>0</td>\n",
       "      <td>0</td>\n",
       "      <td>0</td>\n",
       "      <td>0</td>\n",
       "      <td>0</td>\n",
       "      <td>0</td>\n",
       "      <td>...</td>\n",
       "      <td>0</td>\n",
       "      <td>0</td>\n",
       "      <td>0</td>\n",
       "      <td>1</td>\n",
       "      <td>0</td>\n",
       "      <td>0</td>\n",
       "      <td>0</td>\n",
       "      <td>0</td>\n",
       "      <td>0</td>\n",
       "      <td>0</td>\n",
       "    </tr>\n",
       "    <tr>\n",
       "      <th>380952</th>\n",
       "      <td>0</td>\n",
       "      <td>0</td>\n",
       "      <td>0</td>\n",
       "      <td>0</td>\n",
       "      <td>0</td>\n",
       "      <td>0</td>\n",
       "      <td>0</td>\n",
       "      <td>0</td>\n",
       "      <td>0</td>\n",
       "      <td>0</td>\n",
       "      <td>...</td>\n",
       "      <td>0</td>\n",
       "      <td>0</td>\n",
       "      <td>0</td>\n",
       "      <td>0</td>\n",
       "      <td>0</td>\n",
       "      <td>0</td>\n",
       "      <td>0</td>\n",
       "      <td>0</td>\n",
       "      <td>0</td>\n",
       "      <td>0</td>\n",
       "    </tr>\n",
       "    <tr>\n",
       "      <th>89012</th>\n",
       "      <td>0</td>\n",
       "      <td>0</td>\n",
       "      <td>0</td>\n",
       "      <td>0</td>\n",
       "      <td>0</td>\n",
       "      <td>0</td>\n",
       "      <td>0</td>\n",
       "      <td>0</td>\n",
       "      <td>0</td>\n",
       "      <td>0</td>\n",
       "      <td>...</td>\n",
       "      <td>0</td>\n",
       "      <td>0</td>\n",
       "      <td>0</td>\n",
       "      <td>0</td>\n",
       "      <td>0</td>\n",
       "      <td>0</td>\n",
       "      <td>0</td>\n",
       "      <td>0</td>\n",
       "      <td>0</td>\n",
       "      <td>0</td>\n",
       "    </tr>\n",
       "    <tr>\n",
       "      <th>50043</th>\n",
       "      <td>0</td>\n",
       "      <td>0</td>\n",
       "      <td>0</td>\n",
       "      <td>0</td>\n",
       "      <td>0</td>\n",
       "      <td>0</td>\n",
       "      <td>0</td>\n",
       "      <td>0</td>\n",
       "      <td>0</td>\n",
       "      <td>0</td>\n",
       "      <td>...</td>\n",
       "      <td>0</td>\n",
       "      <td>0</td>\n",
       "      <td>0</td>\n",
       "      <td>0</td>\n",
       "      <td>0</td>\n",
       "      <td>0</td>\n",
       "      <td>0</td>\n",
       "      <td>0</td>\n",
       "      <td>0</td>\n",
       "      <td>0</td>\n",
       "    </tr>\n",
       "    <tr>\n",
       "      <th>258868</th>\n",
       "      <td>0</td>\n",
       "      <td>0</td>\n",
       "      <td>0</td>\n",
       "      <td>0</td>\n",
       "      <td>0</td>\n",
       "      <td>0</td>\n",
       "      <td>0</td>\n",
       "      <td>0</td>\n",
       "      <td>0</td>\n",
       "      <td>0</td>\n",
       "      <td>...</td>\n",
       "      <td>0</td>\n",
       "      <td>0</td>\n",
       "      <td>0</td>\n",
       "      <td>0</td>\n",
       "      <td>0</td>\n",
       "      <td>0</td>\n",
       "      <td>0</td>\n",
       "      <td>0</td>\n",
       "      <td>0</td>\n",
       "      <td>0</td>\n",
       "    </tr>\n",
       "    <tr>\n",
       "      <th>...</th>\n",
       "      <td>...</td>\n",
       "      <td>...</td>\n",
       "      <td>...</td>\n",
       "      <td>...</td>\n",
       "      <td>...</td>\n",
       "      <td>...</td>\n",
       "      <td>...</td>\n",
       "      <td>...</td>\n",
       "      <td>...</td>\n",
       "      <td>...</td>\n",
       "      <td>...</td>\n",
       "      <td>...</td>\n",
       "      <td>...</td>\n",
       "      <td>...</td>\n",
       "      <td>...</td>\n",
       "      <td>...</td>\n",
       "      <td>...</td>\n",
       "      <td>...</td>\n",
       "      <td>...</td>\n",
       "      <td>...</td>\n",
       "      <td>...</td>\n",
       "    </tr>\n",
       "    <tr>\n",
       "      <th>313187</th>\n",
       "      <td>0</td>\n",
       "      <td>0</td>\n",
       "      <td>0</td>\n",
       "      <td>0</td>\n",
       "      <td>0</td>\n",
       "      <td>0</td>\n",
       "      <td>0</td>\n",
       "      <td>0</td>\n",
       "      <td>0</td>\n",
       "      <td>0</td>\n",
       "      <td>...</td>\n",
       "      <td>0</td>\n",
       "      <td>0</td>\n",
       "      <td>0</td>\n",
       "      <td>0</td>\n",
       "      <td>0</td>\n",
       "      <td>0</td>\n",
       "      <td>0</td>\n",
       "      <td>0</td>\n",
       "      <td>0</td>\n",
       "      <td>0</td>\n",
       "    </tr>\n",
       "    <tr>\n",
       "      <th>176318</th>\n",
       "      <td>0</td>\n",
       "      <td>0</td>\n",
       "      <td>0</td>\n",
       "      <td>0</td>\n",
       "      <td>0</td>\n",
       "      <td>0</td>\n",
       "      <td>0</td>\n",
       "      <td>0</td>\n",
       "      <td>0</td>\n",
       "      <td>0</td>\n",
       "      <td>...</td>\n",
       "      <td>0</td>\n",
       "      <td>0</td>\n",
       "      <td>0</td>\n",
       "      <td>0</td>\n",
       "      <td>0</td>\n",
       "      <td>0</td>\n",
       "      <td>0</td>\n",
       "      <td>0</td>\n",
       "      <td>0</td>\n",
       "      <td>0</td>\n",
       "    </tr>\n",
       "    <tr>\n",
       "      <th>21161</th>\n",
       "      <td>0</td>\n",
       "      <td>0</td>\n",
       "      <td>0</td>\n",
       "      <td>0</td>\n",
       "      <td>0</td>\n",
       "      <td>0</td>\n",
       "      <td>0</td>\n",
       "      <td>0</td>\n",
       "      <td>0</td>\n",
       "      <td>0</td>\n",
       "      <td>...</td>\n",
       "      <td>0</td>\n",
       "      <td>0</td>\n",
       "      <td>0</td>\n",
       "      <td>0</td>\n",
       "      <td>0</td>\n",
       "      <td>0</td>\n",
       "      <td>0</td>\n",
       "      <td>0</td>\n",
       "      <td>0</td>\n",
       "      <td>0</td>\n",
       "    </tr>\n",
       "    <tr>\n",
       "      <th>97319</th>\n",
       "      <td>0</td>\n",
       "      <td>0</td>\n",
       "      <td>0</td>\n",
       "      <td>1</td>\n",
       "      <td>0</td>\n",
       "      <td>0</td>\n",
       "      <td>0</td>\n",
       "      <td>0</td>\n",
       "      <td>0</td>\n",
       "      <td>0</td>\n",
       "      <td>...</td>\n",
       "      <td>0</td>\n",
       "      <td>0</td>\n",
       "      <td>0</td>\n",
       "      <td>0</td>\n",
       "      <td>0</td>\n",
       "      <td>0</td>\n",
       "      <td>0</td>\n",
       "      <td>0</td>\n",
       "      <td>0</td>\n",
       "      <td>0</td>\n",
       "    </tr>\n",
       "    <tr>\n",
       "      <th>346669</th>\n",
       "      <td>0</td>\n",
       "      <td>0</td>\n",
       "      <td>0</td>\n",
       "      <td>0</td>\n",
       "      <td>0</td>\n",
       "      <td>0</td>\n",
       "      <td>0</td>\n",
       "      <td>0</td>\n",
       "      <td>0</td>\n",
       "      <td>0</td>\n",
       "      <td>...</td>\n",
       "      <td>0</td>\n",
       "      <td>0</td>\n",
       "      <td>0</td>\n",
       "      <td>0</td>\n",
       "      <td>0</td>\n",
       "      <td>0</td>\n",
       "      <td>0</td>\n",
       "      <td>0</td>\n",
       "      <td>0</td>\n",
       "      <td>0</td>\n",
       "    </tr>\n",
       "  </tbody>\n",
       "</table>\n",
       "<p>30000 rows × 6000 columns</p>\n",
       "</div>"
      ],
      "text/plain": [
       "        0     1     2     3     4     5     6     7     8     9     ...  2990  \\\n",
       "281804     0     0     0     0     0     0     0     0     0     0  ...     0   \n",
       "380952     0     0     0     0     0     0     0     0     0     0  ...     0   \n",
       "89012      0     0     0     0     0     0     0     0     0     0  ...     0   \n",
       "50043      0     0     0     0     0     0     0     0     0     0  ...     0   \n",
       "258868     0     0     0     0     0     0     0     0     0     0  ...     0   \n",
       "...      ...   ...   ...   ...   ...   ...   ...   ...   ...   ...  ...   ...   \n",
       "313187     0     0     0     0     0     0     0     0     0     0  ...     0   \n",
       "176318     0     0     0     0     0     0     0     0     0     0  ...     0   \n",
       "21161      0     0     0     0     0     0     0     0     0     0  ...     0   \n",
       "97319      0     0     0     1     0     0     0     0     0     0  ...     0   \n",
       "346669     0     0     0     0     0     0     0     0     0     0  ...     0   \n",
       "\n",
       "        2991  2992  2993  2994  2995  2996  2997  2998  2999  \n",
       "281804     0     0     1     0     0     0     0     0     0  \n",
       "380952     0     0     0     0     0     0     0     0     0  \n",
       "89012      0     0     0     0     0     0     0     0     0  \n",
       "50043      0     0     0     0     0     0     0     0     0  \n",
       "258868     0     0     0     0     0     0     0     0     0  \n",
       "...      ...   ...   ...   ...   ...   ...   ...   ...   ...  \n",
       "313187     0     0     0     0     0     0     0     0     0  \n",
       "176318     0     0     0     0     0     0     0     0     0  \n",
       "21161      0     0     0     0     0     0     0     0     0  \n",
       "97319      0     0     0     0     0     0     0     0     0  \n",
       "346669     0     0     0     0     0     0     0     0     0  \n",
       "\n",
       "[30000 rows x 6000 columns]"
      ]
     },
     "execution_count": 17,
     "metadata": {},
     "output_type": "execute_result"
    }
   ],
   "source": [
    "temp_df1 = pd.DataFrame(q1_arr, index = ques_df.index)\n",
    "temp_df2 = pd.DataFrame(q2_arr, index = ques_df.index)\n",
    "\n",
    "temp_df = pd.concat([temp_df1,temp_df2],axis=1)\n",
    "temp_df"
   ]
  },
  {
   "cell_type": "code",
   "execution_count": 18,
   "id": "f3fdcb4a",
   "metadata": {
    "execution": {
     "iopub.execute_input": "2025-05-07T17:51:21.335410Z",
     "iopub.status.busy": "2025-05-07T17:51:21.335083Z",
     "iopub.status.idle": "2025-05-07T17:51:21.372019Z",
     "shell.execute_reply": "2025-05-07T17:51:21.371071Z"
    },
    "papermill": {
     "duration": 0.047918,
     "end_time": "2025-05-07T17:51:21.373591",
     "exception": false,
     "start_time": "2025-05-07T17:51:21.325673",
     "status": "completed"
    },
    "tags": []
   },
   "outputs": [
    {
     "data": {
      "text/html": [
       "<div>\n",
       "<style scoped>\n",
       "    .dataframe tbody tr th:only-of-type {\n",
       "        vertical-align: middle;\n",
       "    }\n",
       "\n",
       "    .dataframe tbody tr th {\n",
       "        vertical-align: top;\n",
       "    }\n",
       "\n",
       "    .dataframe thead th {\n",
       "        text-align: right;\n",
       "    }\n",
       "</style>\n",
       "<table border=\"1\" class=\"dataframe\">\n",
       "  <thead>\n",
       "    <tr style=\"text-align: right;\">\n",
       "      <th></th>\n",
       "      <th>0</th>\n",
       "      <th>1</th>\n",
       "      <th>2</th>\n",
       "      <th>3</th>\n",
       "      <th>4</th>\n",
       "      <th>5</th>\n",
       "      <th>6</th>\n",
       "      <th>7</th>\n",
       "      <th>8</th>\n",
       "      <th>9</th>\n",
       "      <th>...</th>\n",
       "      <th>2991</th>\n",
       "      <th>2992</th>\n",
       "      <th>2993</th>\n",
       "      <th>2994</th>\n",
       "      <th>2995</th>\n",
       "      <th>2996</th>\n",
       "      <th>2997</th>\n",
       "      <th>2998</th>\n",
       "      <th>2999</th>\n",
       "      <th>is_duplicate</th>\n",
       "    </tr>\n",
       "  </thead>\n",
       "  <tbody>\n",
       "    <tr>\n",
       "      <th>281804</th>\n",
       "      <td>0</td>\n",
       "      <td>0</td>\n",
       "      <td>0</td>\n",
       "      <td>0</td>\n",
       "      <td>0</td>\n",
       "      <td>0</td>\n",
       "      <td>0</td>\n",
       "      <td>0</td>\n",
       "      <td>0</td>\n",
       "      <td>0</td>\n",
       "      <td>...</td>\n",
       "      <td>0</td>\n",
       "      <td>0</td>\n",
       "      <td>1</td>\n",
       "      <td>0</td>\n",
       "      <td>0</td>\n",
       "      <td>0</td>\n",
       "      <td>0</td>\n",
       "      <td>0</td>\n",
       "      <td>0</td>\n",
       "      <td>1</td>\n",
       "    </tr>\n",
       "    <tr>\n",
       "      <th>380952</th>\n",
       "      <td>0</td>\n",
       "      <td>0</td>\n",
       "      <td>0</td>\n",
       "      <td>0</td>\n",
       "      <td>0</td>\n",
       "      <td>0</td>\n",
       "      <td>0</td>\n",
       "      <td>0</td>\n",
       "      <td>0</td>\n",
       "      <td>0</td>\n",
       "      <td>...</td>\n",
       "      <td>0</td>\n",
       "      <td>0</td>\n",
       "      <td>0</td>\n",
       "      <td>0</td>\n",
       "      <td>0</td>\n",
       "      <td>0</td>\n",
       "      <td>0</td>\n",
       "      <td>0</td>\n",
       "      <td>0</td>\n",
       "      <td>0</td>\n",
       "    </tr>\n",
       "    <tr>\n",
       "      <th>89012</th>\n",
       "      <td>0</td>\n",
       "      <td>0</td>\n",
       "      <td>0</td>\n",
       "      <td>0</td>\n",
       "      <td>0</td>\n",
       "      <td>0</td>\n",
       "      <td>0</td>\n",
       "      <td>0</td>\n",
       "      <td>0</td>\n",
       "      <td>0</td>\n",
       "      <td>...</td>\n",
       "      <td>0</td>\n",
       "      <td>0</td>\n",
       "      <td>0</td>\n",
       "      <td>0</td>\n",
       "      <td>0</td>\n",
       "      <td>0</td>\n",
       "      <td>0</td>\n",
       "      <td>0</td>\n",
       "      <td>0</td>\n",
       "      <td>1</td>\n",
       "    </tr>\n",
       "    <tr>\n",
       "      <th>50043</th>\n",
       "      <td>0</td>\n",
       "      <td>0</td>\n",
       "      <td>0</td>\n",
       "      <td>0</td>\n",
       "      <td>0</td>\n",
       "      <td>0</td>\n",
       "      <td>0</td>\n",
       "      <td>0</td>\n",
       "      <td>0</td>\n",
       "      <td>0</td>\n",
       "      <td>...</td>\n",
       "      <td>0</td>\n",
       "      <td>0</td>\n",
       "      <td>0</td>\n",
       "      <td>0</td>\n",
       "      <td>0</td>\n",
       "      <td>0</td>\n",
       "      <td>0</td>\n",
       "      <td>0</td>\n",
       "      <td>0</td>\n",
       "      <td>0</td>\n",
       "    </tr>\n",
       "    <tr>\n",
       "      <th>258868</th>\n",
       "      <td>0</td>\n",
       "      <td>0</td>\n",
       "      <td>0</td>\n",
       "      <td>0</td>\n",
       "      <td>0</td>\n",
       "      <td>0</td>\n",
       "      <td>0</td>\n",
       "      <td>0</td>\n",
       "      <td>0</td>\n",
       "      <td>0</td>\n",
       "      <td>...</td>\n",
       "      <td>0</td>\n",
       "      <td>0</td>\n",
       "      <td>0</td>\n",
       "      <td>0</td>\n",
       "      <td>0</td>\n",
       "      <td>0</td>\n",
       "      <td>0</td>\n",
       "      <td>0</td>\n",
       "      <td>0</td>\n",
       "      <td>1</td>\n",
       "    </tr>\n",
       "    <tr>\n",
       "      <th>...</th>\n",
       "      <td>...</td>\n",
       "      <td>...</td>\n",
       "      <td>...</td>\n",
       "      <td>...</td>\n",
       "      <td>...</td>\n",
       "      <td>...</td>\n",
       "      <td>...</td>\n",
       "      <td>...</td>\n",
       "      <td>...</td>\n",
       "      <td>...</td>\n",
       "      <td>...</td>\n",
       "      <td>...</td>\n",
       "      <td>...</td>\n",
       "      <td>...</td>\n",
       "      <td>...</td>\n",
       "      <td>...</td>\n",
       "      <td>...</td>\n",
       "      <td>...</td>\n",
       "      <td>...</td>\n",
       "      <td>...</td>\n",
       "      <td>...</td>\n",
       "    </tr>\n",
       "    <tr>\n",
       "      <th>313187</th>\n",
       "      <td>0</td>\n",
       "      <td>0</td>\n",
       "      <td>0</td>\n",
       "      <td>0</td>\n",
       "      <td>0</td>\n",
       "      <td>0</td>\n",
       "      <td>0</td>\n",
       "      <td>0</td>\n",
       "      <td>0</td>\n",
       "      <td>0</td>\n",
       "      <td>...</td>\n",
       "      <td>0</td>\n",
       "      <td>0</td>\n",
       "      <td>0</td>\n",
       "      <td>0</td>\n",
       "      <td>0</td>\n",
       "      <td>0</td>\n",
       "      <td>0</td>\n",
       "      <td>0</td>\n",
       "      <td>0</td>\n",
       "      <td>0</td>\n",
       "    </tr>\n",
       "    <tr>\n",
       "      <th>176318</th>\n",
       "      <td>0</td>\n",
       "      <td>0</td>\n",
       "      <td>0</td>\n",
       "      <td>0</td>\n",
       "      <td>0</td>\n",
       "      <td>0</td>\n",
       "      <td>0</td>\n",
       "      <td>0</td>\n",
       "      <td>0</td>\n",
       "      <td>0</td>\n",
       "      <td>...</td>\n",
       "      <td>0</td>\n",
       "      <td>0</td>\n",
       "      <td>0</td>\n",
       "      <td>0</td>\n",
       "      <td>0</td>\n",
       "      <td>0</td>\n",
       "      <td>0</td>\n",
       "      <td>0</td>\n",
       "      <td>0</td>\n",
       "      <td>0</td>\n",
       "    </tr>\n",
       "    <tr>\n",
       "      <th>21161</th>\n",
       "      <td>0</td>\n",
       "      <td>0</td>\n",
       "      <td>0</td>\n",
       "      <td>0</td>\n",
       "      <td>0</td>\n",
       "      <td>0</td>\n",
       "      <td>0</td>\n",
       "      <td>0</td>\n",
       "      <td>0</td>\n",
       "      <td>0</td>\n",
       "      <td>...</td>\n",
       "      <td>0</td>\n",
       "      <td>0</td>\n",
       "      <td>0</td>\n",
       "      <td>0</td>\n",
       "      <td>0</td>\n",
       "      <td>0</td>\n",
       "      <td>0</td>\n",
       "      <td>0</td>\n",
       "      <td>0</td>\n",
       "      <td>1</td>\n",
       "    </tr>\n",
       "    <tr>\n",
       "      <th>97319</th>\n",
       "      <td>0</td>\n",
       "      <td>0</td>\n",
       "      <td>0</td>\n",
       "      <td>1</td>\n",
       "      <td>0</td>\n",
       "      <td>0</td>\n",
       "      <td>0</td>\n",
       "      <td>0</td>\n",
       "      <td>0</td>\n",
       "      <td>0</td>\n",
       "      <td>...</td>\n",
       "      <td>0</td>\n",
       "      <td>0</td>\n",
       "      <td>0</td>\n",
       "      <td>0</td>\n",
       "      <td>0</td>\n",
       "      <td>0</td>\n",
       "      <td>0</td>\n",
       "      <td>0</td>\n",
       "      <td>0</td>\n",
       "      <td>0</td>\n",
       "    </tr>\n",
       "    <tr>\n",
       "      <th>346669</th>\n",
       "      <td>0</td>\n",
       "      <td>0</td>\n",
       "      <td>0</td>\n",
       "      <td>0</td>\n",
       "      <td>0</td>\n",
       "      <td>0</td>\n",
       "      <td>0</td>\n",
       "      <td>0</td>\n",
       "      <td>0</td>\n",
       "      <td>0</td>\n",
       "      <td>...</td>\n",
       "      <td>0</td>\n",
       "      <td>0</td>\n",
       "      <td>0</td>\n",
       "      <td>0</td>\n",
       "      <td>0</td>\n",
       "      <td>0</td>\n",
       "      <td>0</td>\n",
       "      <td>0</td>\n",
       "      <td>0</td>\n",
       "      <td>0</td>\n",
       "    </tr>\n",
       "  </tbody>\n",
       "</table>\n",
       "<p>30000 rows × 6001 columns</p>\n",
       "</div>"
      ],
      "text/plain": [
       "        0  1  2  3  4  5  6  7  8  9  ...  2991  2992  2993  2994  2995  2996  \\\n",
       "281804  0  0  0  0  0  0  0  0  0  0  ...     0     0     1     0     0     0   \n",
       "380952  0  0  0  0  0  0  0  0  0  0  ...     0     0     0     0     0     0   \n",
       "89012   0  0  0  0  0  0  0  0  0  0  ...     0     0     0     0     0     0   \n",
       "50043   0  0  0  0  0  0  0  0  0  0  ...     0     0     0     0     0     0   \n",
       "258868  0  0  0  0  0  0  0  0  0  0  ...     0     0     0     0     0     0   \n",
       "...    .. .. .. .. .. .. .. .. .. ..  ...   ...   ...   ...   ...   ...   ...   \n",
       "313187  0  0  0  0  0  0  0  0  0  0  ...     0     0     0     0     0     0   \n",
       "176318  0  0  0  0  0  0  0  0  0  0  ...     0     0     0     0     0     0   \n",
       "21161   0  0  0  0  0  0  0  0  0  0  ...     0     0     0     0     0     0   \n",
       "97319   0  0  0  1  0  0  0  0  0  0  ...     0     0     0     0     0     0   \n",
       "346669  0  0  0  0  0  0  0  0  0  0  ...     0     0     0     0     0     0   \n",
       "\n",
       "        2997  2998  2999  is_duplicate  \n",
       "281804     0     0     0             1  \n",
       "380952     0     0     0             0  \n",
       "89012      0     0     0             1  \n",
       "50043      0     0     0             0  \n",
       "258868     0     0     0             1  \n",
       "...      ...   ...   ...           ...  \n",
       "313187     0     0     0             0  \n",
       "176318     0     0     0             0  \n",
       "21161      0     0     0             1  \n",
       "97319      0     0     0             0  \n",
       "346669     0     0     0             0  \n",
       "\n",
       "[30000 rows x 6001 columns]"
      ]
     },
     "execution_count": 18,
     "metadata": {},
     "output_type": "execute_result"
    }
   ],
   "source": [
    "temp_df['is_duplicate'] = df['is_duplicate']\n",
    "temp_df"
   ]
  },
  {
   "cell_type": "code",
   "execution_count": 19,
   "id": "53d077e4",
   "metadata": {
    "execution": {
     "iopub.execute_input": "2025-05-07T17:51:21.393079Z",
     "iopub.status.busy": "2025-05-07T17:51:21.392716Z",
     "iopub.status.idle": "2025-05-07T17:51:21.396909Z",
     "shell.execute_reply": "2025-05-07T17:51:21.396049Z"
    },
    "papermill": {
     "duration": 0.015488,
     "end_time": "2025-05-07T17:51:21.398297",
     "exception": false,
     "start_time": "2025-05-07T17:51:21.382809",
     "status": "completed"
    },
    "tags": []
   },
   "outputs": [],
   "source": [
    "# EDA\n"
   ]
  },
  {
   "cell_type": "markdown",
   "id": "afd1f3f5",
   "metadata": {
    "papermill": {
     "duration": 0.008566,
     "end_time": "2025-05-07T17:51:21.415832",
     "exception": false,
     "start_time": "2025-05-07T17:51:21.407266",
     "status": "completed"
    },
    "tags": []
   },
   "source": [
    "### Data Preprocessing & Transformation\n"
   ]
  },
  {
   "cell_type": "code",
   "execution_count": 20,
   "id": "4ed31827",
   "metadata": {
    "execution": {
     "iopub.execute_input": "2025-05-07T17:51:21.435751Z",
     "iopub.status.busy": "2025-05-07T17:51:21.435281Z",
     "iopub.status.idle": "2025-05-07T17:51:22.688197Z",
     "shell.execute_reply": "2025-05-07T17:51:22.687087Z"
    },
    "papermill": {
     "duration": 1.264555,
     "end_time": "2025-05-07T17:51:22.689957",
     "exception": false,
     "start_time": "2025-05-07T17:51:21.425402",
     "status": "completed"
    },
    "tags": []
   },
   "outputs": [
    {
     "data": {
      "text/plain": [
       "array([[0, 0, 0, ..., 0, 0, 0],\n",
       "       [0, 0, 0, ..., 0, 0, 0],\n",
       "       [0, 0, 0, ..., 0, 0, 0],\n",
       "       ...,\n",
       "       [0, 0, 0, ..., 0, 0, 0],\n",
       "       [0, 0, 0, ..., 0, 0, 0],\n",
       "       [0, 0, 0, ..., 0, 0, 0]])"
      ]
     },
     "execution_count": 20,
     "metadata": {},
     "output_type": "execute_result"
    }
   ],
   "source": [
    "temp_df.iloc[:,0:-1].values"
   ]
  },
  {
   "cell_type": "code",
   "execution_count": 21,
   "id": "864757c0",
   "metadata": {
    "execution": {
     "iopub.execute_input": "2025-05-07T17:51:22.708928Z",
     "iopub.status.busy": "2025-05-07T17:51:22.708609Z",
     "iopub.status.idle": "2025-05-07T17:51:26.161387Z",
     "shell.execute_reply": "2025-05-07T17:51:26.160493Z"
    },
    "papermill": {
     "duration": 3.464094,
     "end_time": "2025-05-07T17:51:26.163061",
     "exception": false,
     "start_time": "2025-05-07T17:51:22.698967",
     "status": "completed"
    },
    "tags": []
   },
   "outputs": [],
   "source": [
    "#importing and splitting data\n",
    "from sklearn.model_selection import train_test_split\n",
    "X_train, X_test, y_train, y_test = train_test_split(temp_df.iloc[:,0:-1].values,temp_df.iloc[:,-1].values,test_size=0.2, random_state=2)\n",
    "\n"
   ]
  },
  {
   "cell_type": "markdown",
   "id": "0a4864cb",
   "metadata": {
    "papermill": {
     "duration": 0.008717,
     "end_time": "2025-05-07T17:51:26.181185",
     "exception": false,
     "start_time": "2025-05-07T17:51:26.172468",
     "status": "completed"
    },
    "tags": []
   },
   "source": [
    "### Model Selection & Evaluation"
   ]
  },
  {
   "cell_type": "markdown",
   "id": "e7b72653",
   "metadata": {
    "papermill": {
     "duration": 0.008717,
     "end_time": "2025-05-07T17:51:26.198850",
     "exception": false,
     "start_time": "2025-05-07T17:51:26.190133",
     "status": "completed"
    },
    "tags": []
   },
   "source": [
    "### Classification Models / Regression Models"
   ]
  },
  {
   "cell_type": "code",
   "execution_count": 22,
   "id": "dabb177e",
   "metadata": {
    "execution": {
     "iopub.execute_input": "2025-05-07T17:51:26.218892Z",
     "iopub.status.busy": "2025-05-07T17:51:26.218480Z",
     "iopub.status.idle": "2025-05-07T17:53:09.588607Z",
     "shell.execute_reply": "2025-05-07T17:53:09.587641Z"
    },
    "papermill": {
     "duration": 103.391153,
     "end_time": "2025-05-07T17:53:09.599626",
     "exception": false,
     "start_time": "2025-05-07T17:51:26.208473",
     "status": "completed"
    },
    "tags": []
   },
   "outputs": [
    {
     "data": {
      "text/html": [
       "<style>#sk-container-id-1 {color: black;background-color: white;}#sk-container-id-1 pre{padding: 0;}#sk-container-id-1 div.sk-toggleable {background-color: white;}#sk-container-id-1 label.sk-toggleable__label {cursor: pointer;display: block;width: 100%;margin-bottom: 0;padding: 0.3em;box-sizing: border-box;text-align: center;}#sk-container-id-1 label.sk-toggleable__label-arrow:before {content: \"▸\";float: left;margin-right: 0.25em;color: #696969;}#sk-container-id-1 label.sk-toggleable__label-arrow:hover:before {color: black;}#sk-container-id-1 div.sk-estimator:hover label.sk-toggleable__label-arrow:before {color: black;}#sk-container-id-1 div.sk-toggleable__content {max-height: 0;max-width: 0;overflow: hidden;text-align: left;background-color: #f0f8ff;}#sk-container-id-1 div.sk-toggleable__content pre {margin: 0.2em;color: black;border-radius: 0.25em;background-color: #f0f8ff;}#sk-container-id-1 input.sk-toggleable__control:checked~div.sk-toggleable__content {max-height: 200px;max-width: 100%;overflow: auto;}#sk-container-id-1 input.sk-toggleable__control:checked~label.sk-toggleable__label-arrow:before {content: \"▾\";}#sk-container-id-1 div.sk-estimator input.sk-toggleable__control:checked~label.sk-toggleable__label {background-color: #d4ebff;}#sk-container-id-1 div.sk-label input.sk-toggleable__control:checked~label.sk-toggleable__label {background-color: #d4ebff;}#sk-container-id-1 input.sk-hidden--visually {border: 0;clip: rect(1px 1px 1px 1px);clip: rect(1px, 1px, 1px, 1px);height: 1px;margin: -1px;overflow: hidden;padding: 0;position: absolute;width: 1px;}#sk-container-id-1 div.sk-estimator {font-family: monospace;background-color: #f0f8ff;border: 1px dotted black;border-radius: 0.25em;box-sizing: border-box;margin-bottom: 0.5em;}#sk-container-id-1 div.sk-estimator:hover {background-color: #d4ebff;}#sk-container-id-1 div.sk-parallel-item::after {content: \"\";width: 100%;border-bottom: 1px solid gray;flex-grow: 1;}#sk-container-id-1 div.sk-label:hover label.sk-toggleable__label {background-color: #d4ebff;}#sk-container-id-1 div.sk-serial::before {content: \"\";position: absolute;border-left: 1px solid gray;box-sizing: border-box;top: 0;bottom: 0;left: 50%;z-index: 0;}#sk-container-id-1 div.sk-serial {display: flex;flex-direction: column;align-items: center;background-color: white;padding-right: 0.2em;padding-left: 0.2em;position: relative;}#sk-container-id-1 div.sk-item {position: relative;z-index: 1;}#sk-container-id-1 div.sk-parallel {display: flex;align-items: stretch;justify-content: center;background-color: white;position: relative;}#sk-container-id-1 div.sk-item::before, #sk-container-id-1 div.sk-parallel-item::before {content: \"\";position: absolute;border-left: 1px solid gray;box-sizing: border-box;top: 0;bottom: 0;left: 50%;z-index: -1;}#sk-container-id-1 div.sk-parallel-item {display: flex;flex-direction: column;z-index: 1;position: relative;background-color: white;}#sk-container-id-1 div.sk-parallel-item:first-child::after {align-self: flex-end;width: 50%;}#sk-container-id-1 div.sk-parallel-item:last-child::after {align-self: flex-start;width: 50%;}#sk-container-id-1 div.sk-parallel-item:only-child::after {width: 0;}#sk-container-id-1 div.sk-dashed-wrapped {border: 1px dashed gray;margin: 0 0.4em 0.5em 0.4em;box-sizing: border-box;padding-bottom: 0.4em;background-color: white;}#sk-container-id-1 div.sk-label label {font-family: monospace;font-weight: bold;display: inline-block;line-height: 1.2em;}#sk-container-id-1 div.sk-label-container {text-align: center;}#sk-container-id-1 div.sk-container {/* jupyter's `normalize.less` sets `[hidden] { display: none; }` but bootstrap.min.css set `[hidden] { display: none !important; }` so we also need the `!important` here to be able to override the default hidden behavior on the sphinx rendered scikit-learn.org. See: https://github.com/scikit-learn/scikit-learn/issues/21755 */display: inline-block !important;position: relative;}#sk-container-id-1 div.sk-text-repr-fallback {display: none;}</style><div id=\"sk-container-id-1\" class=\"sk-top-container\"><div class=\"sk-text-repr-fallback\"><pre>RandomForestClassifier()</pre><b>In a Jupyter environment, please rerun this cell to show the HTML representation or trust the notebook. <br />On GitHub, the HTML representation is unable to render, please try loading this page with nbviewer.org.</b></div><div class=\"sk-container\" hidden><div class=\"sk-item\"><div class=\"sk-estimator sk-toggleable\"><input class=\"sk-toggleable__control sk-hidden--visually\" id=\"sk-estimator-id-1\" type=\"checkbox\" checked><label for=\"sk-estimator-id-1\" class=\"sk-toggleable__label sk-toggleable__label-arrow\">RandomForestClassifier</label><div class=\"sk-toggleable__content\"><pre>RandomForestClassifier()</pre></div></div></div></div></div>"
      ],
      "text/plain": [
       "RandomForestClassifier()"
      ]
     },
     "execution_count": 22,
     "metadata": {},
     "output_type": "execute_result"
    }
   ],
   "source": [
    "#Random Forest Classifier\n",
    "from sklearn.ensemble import RandomForestClassifier\n",
    "from sklearn.metrics import accuracy_score\n",
    "model = RandomForestClassifier()\n",
    "model.fit(X_train,y_train)"
   ]
  },
  {
   "cell_type": "code",
   "execution_count": 23,
   "id": "3501e9be",
   "metadata": {
    "execution": {
     "iopub.execute_input": "2025-05-07T17:53:09.620096Z",
     "iopub.status.busy": "2025-05-07T17:53:09.619336Z",
     "iopub.status.idle": "2025-05-07T17:53:10.511541Z",
     "shell.execute_reply": "2025-05-07T17:53:10.510511Z"
    },
    "papermill": {
     "duration": 0.90414,
     "end_time": "2025-05-07T17:53:10.513195",
     "exception": false,
     "start_time": "2025-05-07T17:53:09.609055",
     "status": "completed"
    },
    "tags": []
   },
   "outputs": [
    {
     "data": {
      "text/plain": [
       "0.7415"
      ]
     },
     "execution_count": 23,
     "metadata": {},
     "output_type": "execute_result"
    }
   ],
   "source": [
    "y_pred = model.predict(X_test)\n",
    "accuracy_score(y_test,y_pred)"
   ]
  },
  {
   "cell_type": "code",
   "execution_count": 24,
   "id": "30943cfc",
   "metadata": {
    "execution": {
     "iopub.execute_input": "2025-05-07T17:53:10.533213Z",
     "iopub.status.busy": "2025-05-07T17:53:10.532874Z",
     "iopub.status.idle": "2025-05-07T17:53:24.464293Z",
     "shell.execute_reply": "2025-05-07T17:53:24.463435Z"
    },
    "papermill": {
     "duration": 13.943102,
     "end_time": "2025-05-07T17:53:24.465942",
     "exception": false,
     "start_time": "2025-05-07T17:53:10.522840",
     "status": "completed"
    },
    "tags": []
   },
   "outputs": [
    {
     "data": {
      "text/html": [
       "<style>#sk-container-id-2 {color: black;background-color: white;}#sk-container-id-2 pre{padding: 0;}#sk-container-id-2 div.sk-toggleable {background-color: white;}#sk-container-id-2 label.sk-toggleable__label {cursor: pointer;display: block;width: 100%;margin-bottom: 0;padding: 0.3em;box-sizing: border-box;text-align: center;}#sk-container-id-2 label.sk-toggleable__label-arrow:before {content: \"▸\";float: left;margin-right: 0.25em;color: #696969;}#sk-container-id-2 label.sk-toggleable__label-arrow:hover:before {color: black;}#sk-container-id-2 div.sk-estimator:hover label.sk-toggleable__label-arrow:before {color: black;}#sk-container-id-2 div.sk-toggleable__content {max-height: 0;max-width: 0;overflow: hidden;text-align: left;background-color: #f0f8ff;}#sk-container-id-2 div.sk-toggleable__content pre {margin: 0.2em;color: black;border-radius: 0.25em;background-color: #f0f8ff;}#sk-container-id-2 input.sk-toggleable__control:checked~div.sk-toggleable__content {max-height: 200px;max-width: 100%;overflow: auto;}#sk-container-id-2 input.sk-toggleable__control:checked~label.sk-toggleable__label-arrow:before {content: \"▾\";}#sk-container-id-2 div.sk-estimator input.sk-toggleable__control:checked~label.sk-toggleable__label {background-color: #d4ebff;}#sk-container-id-2 div.sk-label input.sk-toggleable__control:checked~label.sk-toggleable__label {background-color: #d4ebff;}#sk-container-id-2 input.sk-hidden--visually {border: 0;clip: rect(1px 1px 1px 1px);clip: rect(1px, 1px, 1px, 1px);height: 1px;margin: -1px;overflow: hidden;padding: 0;position: absolute;width: 1px;}#sk-container-id-2 div.sk-estimator {font-family: monospace;background-color: #f0f8ff;border: 1px dotted black;border-radius: 0.25em;box-sizing: border-box;margin-bottom: 0.5em;}#sk-container-id-2 div.sk-estimator:hover {background-color: #d4ebff;}#sk-container-id-2 div.sk-parallel-item::after {content: \"\";width: 100%;border-bottom: 1px solid gray;flex-grow: 1;}#sk-container-id-2 div.sk-label:hover label.sk-toggleable__label {background-color: #d4ebff;}#sk-container-id-2 div.sk-serial::before {content: \"\";position: absolute;border-left: 1px solid gray;box-sizing: border-box;top: 0;bottom: 0;left: 50%;z-index: 0;}#sk-container-id-2 div.sk-serial {display: flex;flex-direction: column;align-items: center;background-color: white;padding-right: 0.2em;padding-left: 0.2em;position: relative;}#sk-container-id-2 div.sk-item {position: relative;z-index: 1;}#sk-container-id-2 div.sk-parallel {display: flex;align-items: stretch;justify-content: center;background-color: white;position: relative;}#sk-container-id-2 div.sk-item::before, #sk-container-id-2 div.sk-parallel-item::before {content: \"\";position: absolute;border-left: 1px solid gray;box-sizing: border-box;top: 0;bottom: 0;left: 50%;z-index: -1;}#sk-container-id-2 div.sk-parallel-item {display: flex;flex-direction: column;z-index: 1;position: relative;background-color: white;}#sk-container-id-2 div.sk-parallel-item:first-child::after {align-self: flex-end;width: 50%;}#sk-container-id-2 div.sk-parallel-item:last-child::after {align-self: flex-start;width: 50%;}#sk-container-id-2 div.sk-parallel-item:only-child::after {width: 0;}#sk-container-id-2 div.sk-dashed-wrapped {border: 1px dashed gray;margin: 0 0.4em 0.5em 0.4em;box-sizing: border-box;padding-bottom: 0.4em;background-color: white;}#sk-container-id-2 div.sk-label label {font-family: monospace;font-weight: bold;display: inline-block;line-height: 1.2em;}#sk-container-id-2 div.sk-label-container {text-align: center;}#sk-container-id-2 div.sk-container {/* jupyter's `normalize.less` sets `[hidden] { display: none; }` but bootstrap.min.css set `[hidden] { display: none !important; }` so we also need the `!important` here to be able to override the default hidden behavior on the sphinx rendered scikit-learn.org. See: https://github.com/scikit-learn/scikit-learn/issues/21755 */display: inline-block !important;position: relative;}#sk-container-id-2 div.sk-text-repr-fallback {display: none;}</style><div id=\"sk-container-id-2\" class=\"sk-top-container\"><div class=\"sk-text-repr-fallback\"><pre>XGBClassifier(base_score=None, booster=None, callbacks=None,\n",
       "              colsample_bylevel=None, colsample_bynode=None,\n",
       "              colsample_bytree=None, device=None, early_stopping_rounds=None,\n",
       "              enable_categorical=False, eval_metric=None, feature_types=None,\n",
       "              gamma=None, grow_policy=None, importance_type=None,\n",
       "              interaction_constraints=None, learning_rate=None, max_bin=None,\n",
       "              max_cat_threshold=None, max_cat_to_onehot=None,\n",
       "              max_delta_step=None, max_depth=None, max_leaves=None,\n",
       "              min_child_weight=None, missing=nan, monotone_constraints=None,\n",
       "              multi_strategy=None, n_estimators=None, n_jobs=None,\n",
       "              num_parallel_tree=None, random_state=None, ...)</pre><b>In a Jupyter environment, please rerun this cell to show the HTML representation or trust the notebook. <br />On GitHub, the HTML representation is unable to render, please try loading this page with nbviewer.org.</b></div><div class=\"sk-container\" hidden><div class=\"sk-item\"><div class=\"sk-estimator sk-toggleable\"><input class=\"sk-toggleable__control sk-hidden--visually\" id=\"sk-estimator-id-2\" type=\"checkbox\" checked><label for=\"sk-estimator-id-2\" class=\"sk-toggleable__label sk-toggleable__label-arrow\">XGBClassifier</label><div class=\"sk-toggleable__content\"><pre>XGBClassifier(base_score=None, booster=None, callbacks=None,\n",
       "              colsample_bylevel=None, colsample_bynode=None,\n",
       "              colsample_bytree=None, device=None, early_stopping_rounds=None,\n",
       "              enable_categorical=False, eval_metric=None, feature_types=None,\n",
       "              gamma=None, grow_policy=None, importance_type=None,\n",
       "              interaction_constraints=None, learning_rate=None, max_bin=None,\n",
       "              max_cat_threshold=None, max_cat_to_onehot=None,\n",
       "              max_delta_step=None, max_depth=None, max_leaves=None,\n",
       "              min_child_weight=None, missing=nan, monotone_constraints=None,\n",
       "              multi_strategy=None, n_estimators=None, n_jobs=None,\n",
       "              num_parallel_tree=None, random_state=None, ...)</pre></div></div></div></div></div>"
      ],
      "text/plain": [
       "XGBClassifier(base_score=None, booster=None, callbacks=None,\n",
       "              colsample_bylevel=None, colsample_bynode=None,\n",
       "              colsample_bytree=None, device=None, early_stopping_rounds=None,\n",
       "              enable_categorical=False, eval_metric=None, feature_types=None,\n",
       "              gamma=None, grow_policy=None, importance_type=None,\n",
       "              interaction_constraints=None, learning_rate=None, max_bin=None,\n",
       "              max_cat_threshold=None, max_cat_to_onehot=None,\n",
       "              max_delta_step=None, max_depth=None, max_leaves=None,\n",
       "              min_child_weight=None, missing=nan, monotone_constraints=None,\n",
       "              multi_strategy=None, n_estimators=None, n_jobs=None,\n",
       "              num_parallel_tree=None, random_state=None, ...)"
      ]
     },
     "execution_count": 24,
     "metadata": {},
     "output_type": "execute_result"
    }
   ],
   "source": [
    "#Random Forest Classifier\n",
    "from xgboost import XGBClassifier\n",
    "\n",
    "xgb = XGBClassifier()\n",
    "xgb.fit(X_train,y_train)"
   ]
  },
  {
   "cell_type": "code",
   "execution_count": 25,
   "id": "deb929d3",
   "metadata": {
    "execution": {
     "iopub.execute_input": "2025-05-07T17:53:24.486081Z",
     "iopub.status.busy": "2025-05-07T17:53:24.485768Z",
     "iopub.status.idle": "2025-05-07T17:53:24.589370Z",
     "shell.execute_reply": "2025-05-07T17:53:24.588623Z"
    },
    "papermill": {
     "duration": 0.115501,
     "end_time": "2025-05-07T17:53:24.591061",
     "exception": false,
     "start_time": "2025-05-07T17:53:24.475560",
     "status": "completed"
    },
    "tags": []
   },
   "outputs": [
    {
     "data": {
      "text/plain": [
       "0.733"
      ]
     },
     "execution_count": 25,
     "metadata": {},
     "output_type": "execute_result"
    }
   ],
   "source": [
    "y_pred = xgb.predict(X_test)\n",
    "accuracy_score(y_test,y_pred)"
   ]
  },
  {
   "cell_type": "code",
   "execution_count": 26,
   "id": "3936cdd5",
   "metadata": {
    "execution": {
     "iopub.execute_input": "2025-05-07T17:53:24.613735Z",
     "iopub.status.busy": "2025-05-07T17:53:24.613393Z",
     "iopub.status.idle": "2025-05-07T17:53:39.363777Z",
     "shell.execute_reply": "2025-05-07T17:53:39.362714Z"
    },
    "papermill": {
     "duration": 14.762424,
     "end_time": "2025-05-07T17:53:39.365374",
     "exception": false,
     "start_time": "2025-05-07T17:53:24.602950",
     "status": "completed"
    },
    "tags": []
   },
   "outputs": [
    {
     "name": "stderr",
     "output_type": "stream",
     "text": [
      "/tmp/ipykernel_13/787706316.py:1: DtypeWarning: Columns (0) have mixed types. Specify dtype option on import or set low_memory=False.\n",
      "  test_df = pd.read_csv('/kaggle/input/quora-question-pairs/test.csv.zip')\n"
     ]
    },
    {
     "name": "stdout",
     "output_type": "stream",
     "text": [
      "(3563475, 3)\n",
      "(3563475, 3)\n"
     ]
    }
   ],
   "source": [
    "test_df = pd.read_csv('/kaggle/input/quora-question-pairs/test.csv.zip')\n",
    "print(test_df.shape)\n",
    "\n",
    "#test_df = test_df.sample(2345796)\n",
    "print(test_df.shape)"
   ]
  },
  {
   "cell_type": "code",
   "execution_count": 27,
   "id": "9143cd97",
   "metadata": {
    "execution": {
     "iopub.execute_input": "2025-05-07T17:53:39.385805Z",
     "iopub.status.busy": "2025-05-07T17:53:39.385470Z",
     "iopub.status.idle": "2025-05-07T17:53:45.818949Z",
     "shell.execute_reply": "2025-05-07T17:53:45.818059Z"
    },
    "papermill": {
     "duration": 6.445402,
     "end_time": "2025-05-07T17:53:45.820471",
     "exception": false,
     "start_time": "2025-05-07T17:53:39.375069",
     "status": "completed"
    },
    "tags": []
   },
   "outputs": [
    {
     "data": {
      "text/plain": [
       "955535"
      ]
     },
     "execution_count": 27,
     "metadata": {},
     "output_type": "execute_result"
    }
   ],
   "source": [
    "test_df.duplicated().sum()"
   ]
  },
  {
   "cell_type": "markdown",
   "id": "52ff853e",
   "metadata": {
    "execution": {
     "iopub.execute_input": "2025-05-07T16:56:30.785514Z",
     "iopub.status.busy": "2025-05-07T16:56:30.785146Z",
     "iopub.status.idle": "2025-05-07T16:56:35.751282Z",
     "shell.execute_reply": "2025-05-07T16:56:35.750363Z",
     "shell.execute_reply.started": "2025-05-07T16:56:30.785481Z"
    },
    "papermill": {
     "duration": 0.009249,
     "end_time": "2025-05-07T17:53:45.839794",
     "exception": false,
     "start_time": "2025-05-07T17:53:45.830545",
     "status": "completed"
    },
    "tags": []
   },
   "source": [
    "test_df = test_df.drop_duplicates()"
   ]
  },
  {
   "cell_type": "code",
   "execution_count": 28,
   "id": "cf2c91e6",
   "metadata": {
    "execution": {
     "iopub.execute_input": "2025-05-07T17:53:45.860260Z",
     "iopub.status.busy": "2025-05-07T17:53:45.859947Z",
     "iopub.status.idle": "2025-05-07T17:53:45.864718Z",
     "shell.execute_reply": "2025-05-07T17:53:45.863605Z"
    },
    "papermill": {
     "duration": 0.016764,
     "end_time": "2025-05-07T17:53:45.866130",
     "exception": false,
     "start_time": "2025-05-07T17:53:45.849366",
     "status": "completed"
    },
    "tags": []
   },
   "outputs": [
    {
     "name": "stdout",
     "output_type": "stream",
     "text": [
      "(3563475, 3)\n"
     ]
    }
   ],
   "source": [
    "print(test_df.shape)"
   ]
  },
  {
   "cell_type": "code",
   "execution_count": 29,
   "id": "c4564c5c",
   "metadata": {
    "execution": {
     "iopub.execute_input": "2025-05-07T17:53:45.887411Z",
     "iopub.status.busy": "2025-05-07T17:53:45.886421Z",
     "iopub.status.idle": "2025-05-07T17:54:58.327048Z",
     "shell.execute_reply": "2025-05-07T17:54:58.326173Z"
    },
    "papermill": {
     "duration": 72.462513,
     "end_time": "2025-05-07T17:54:58.338470",
     "exception": false,
     "start_time": "2025-05-07T17:53:45.875957",
     "status": "completed"
    },
    "tags": []
   },
   "outputs": [
    {
     "data": {
      "text/html": [
       "<style>#sk-container-id-3 {color: black;background-color: white;}#sk-container-id-3 pre{padding: 0;}#sk-container-id-3 div.sk-toggleable {background-color: white;}#sk-container-id-3 label.sk-toggleable__label {cursor: pointer;display: block;width: 100%;margin-bottom: 0;padding: 0.3em;box-sizing: border-box;text-align: center;}#sk-container-id-3 label.sk-toggleable__label-arrow:before {content: \"▸\";float: left;margin-right: 0.25em;color: #696969;}#sk-container-id-3 label.sk-toggleable__label-arrow:hover:before {color: black;}#sk-container-id-3 div.sk-estimator:hover label.sk-toggleable__label-arrow:before {color: black;}#sk-container-id-3 div.sk-toggleable__content {max-height: 0;max-width: 0;overflow: hidden;text-align: left;background-color: #f0f8ff;}#sk-container-id-3 div.sk-toggleable__content pre {margin: 0.2em;color: black;border-radius: 0.25em;background-color: #f0f8ff;}#sk-container-id-3 input.sk-toggleable__control:checked~div.sk-toggleable__content {max-height: 200px;max-width: 100%;overflow: auto;}#sk-container-id-3 input.sk-toggleable__control:checked~label.sk-toggleable__label-arrow:before {content: \"▾\";}#sk-container-id-3 div.sk-estimator input.sk-toggleable__control:checked~label.sk-toggleable__label {background-color: #d4ebff;}#sk-container-id-3 div.sk-label input.sk-toggleable__control:checked~label.sk-toggleable__label {background-color: #d4ebff;}#sk-container-id-3 input.sk-hidden--visually {border: 0;clip: rect(1px 1px 1px 1px);clip: rect(1px, 1px, 1px, 1px);height: 1px;margin: -1px;overflow: hidden;padding: 0;position: absolute;width: 1px;}#sk-container-id-3 div.sk-estimator {font-family: monospace;background-color: #f0f8ff;border: 1px dotted black;border-radius: 0.25em;box-sizing: border-box;margin-bottom: 0.5em;}#sk-container-id-3 div.sk-estimator:hover {background-color: #d4ebff;}#sk-container-id-3 div.sk-parallel-item::after {content: \"\";width: 100%;border-bottom: 1px solid gray;flex-grow: 1;}#sk-container-id-3 div.sk-label:hover label.sk-toggleable__label {background-color: #d4ebff;}#sk-container-id-3 div.sk-serial::before {content: \"\";position: absolute;border-left: 1px solid gray;box-sizing: border-box;top: 0;bottom: 0;left: 50%;z-index: 0;}#sk-container-id-3 div.sk-serial {display: flex;flex-direction: column;align-items: center;background-color: white;padding-right: 0.2em;padding-left: 0.2em;position: relative;}#sk-container-id-3 div.sk-item {position: relative;z-index: 1;}#sk-container-id-3 div.sk-parallel {display: flex;align-items: stretch;justify-content: center;background-color: white;position: relative;}#sk-container-id-3 div.sk-item::before, #sk-container-id-3 div.sk-parallel-item::before {content: \"\";position: absolute;border-left: 1px solid gray;box-sizing: border-box;top: 0;bottom: 0;left: 50%;z-index: -1;}#sk-container-id-3 div.sk-parallel-item {display: flex;flex-direction: column;z-index: 1;position: relative;background-color: white;}#sk-container-id-3 div.sk-parallel-item:first-child::after {align-self: flex-end;width: 50%;}#sk-container-id-3 div.sk-parallel-item:last-child::after {align-self: flex-start;width: 50%;}#sk-container-id-3 div.sk-parallel-item:only-child::after {width: 0;}#sk-container-id-3 div.sk-dashed-wrapped {border: 1px dashed gray;margin: 0 0.4em 0.5em 0.4em;box-sizing: border-box;padding-bottom: 0.4em;background-color: white;}#sk-container-id-3 div.sk-label label {font-family: monospace;font-weight: bold;display: inline-block;line-height: 1.2em;}#sk-container-id-3 div.sk-label-container {text-align: center;}#sk-container-id-3 div.sk-container {/* jupyter's `normalize.less` sets `[hidden] { display: none; }` but bootstrap.min.css set `[hidden] { display: none !important; }` so we also need the `!important` here to be able to override the default hidden behavior on the sphinx rendered scikit-learn.org. See: https://github.com/scikit-learn/scikit-learn/issues/21755 */display: inline-block !important;position: relative;}#sk-container-id-3 div.sk-text-repr-fallback {display: none;}</style><div id=\"sk-container-id-3\" class=\"sk-top-container\"><div class=\"sk-text-repr-fallback\"><pre>CountVectorizer(max_features=3000)</pre><b>In a Jupyter environment, please rerun this cell to show the HTML representation or trust the notebook. <br />On GitHub, the HTML representation is unable to render, please try loading this page with nbviewer.org.</b></div><div class=\"sk-container\" hidden><div class=\"sk-item\"><div class=\"sk-estimator sk-toggleable\"><input class=\"sk-toggleable__control sk-hidden--visually\" id=\"sk-estimator-id-3\" type=\"checkbox\" checked><label for=\"sk-estimator-id-3\" class=\"sk-toggleable__label sk-toggleable__label-arrow\">CountVectorizer</label><div class=\"sk-toggleable__content\"><pre>CountVectorizer(max_features=3000)</pre></div></div></div></div></div>"
      ],
      "text/plain": [
       "CountVectorizer(max_features=3000)"
      ]
     },
     "execution_count": 29,
     "metadata": {},
     "output_type": "execute_result"
    }
   ],
   "source": [
    "# Step 1: Fit vectorizer on training data\n",
    "from sklearn.feature_extraction.text import CountVectorizer\n",
    "\n",
    "cv = CountVectorizer(max_features=3000)\n",
    "train_questions = list(test_df['question1'].fillna('')) + list(test_df['question2'].fillna(''))\n",
    "cv.fit(train_questions)"
   ]
  },
  {
   "cell_type": "code",
   "execution_count": 30,
   "id": "4421b0dc",
   "metadata": {
    "execution": {
     "iopub.execute_input": "2025-05-07T17:54:58.358934Z",
     "iopub.status.busy": "2025-05-07T17:54:58.358559Z",
     "iopub.status.idle": "2025-05-07T17:54:58.362701Z",
     "shell.execute_reply": "2025-05-07T17:54:58.361847Z"
    },
    "papermill": {
     "duration": 0.016228,
     "end_time": "2025-05-07T17:54:58.364308",
     "exception": false,
     "start_time": "2025-05-07T17:54:58.348080",
     "status": "completed"
    },
    "tags": []
   },
   "outputs": [],
   "source": [
    "from scipy.sparse import hstack"
   ]
  },
  {
   "cell_type": "code",
   "execution_count": 31,
   "id": "22730ef8",
   "metadata": {
    "execution": {
     "iopub.execute_input": "2025-05-07T17:54:58.386398Z",
     "iopub.status.busy": "2025-05-07T17:54:58.385441Z",
     "iopub.status.idle": "2025-05-07T17:56:11.621032Z",
     "shell.execute_reply": "2025-05-07T17:56:11.619899Z"
    },
    "papermill": {
     "duration": 73.248361,
     "end_time": "2025-05-07T17:56:11.622868",
     "exception": false,
     "start_time": "2025-05-07T17:54:58.374507",
     "status": "completed"
    },
    "tags": []
   },
   "outputs": [],
   "source": [
    "# Ensure test_questions is built correctly\n",
    "q1_test = test_df['question1'].fillna('')\n",
    "q2_test = test_df['question2'].fillna('')\n",
    "\n",
    "# Vectorize separately using the same trained vectorizer\n",
    "# Step 2: Transform test data\n",
    "q1_test_vec = cv.transform(test_df['question1'].fillna(''))\n",
    "q2_test_vec = cv.transform(test_df['question2'].fillna(''))"
   ]
  },
  {
   "cell_type": "code",
   "execution_count": 32,
   "id": "5268a41f",
   "metadata": {
    "execution": {
     "iopub.execute_input": "2025-05-07T17:56:11.644549Z",
     "iopub.status.busy": "2025-05-07T17:56:11.643979Z",
     "iopub.status.idle": "2025-05-07T18:02:24.372394Z",
     "shell.execute_reply": "2025-05-07T18:02:24.371327Z"
    },
    "papermill": {
     "duration": 372.741181,
     "end_time": "2025-05-07T18:02:24.374400",
     "exception": false,
     "start_time": "2025-05-07T17:56:11.633219",
     "status": "completed"
    },
    "tags": []
   },
   "outputs": [],
   "source": [
    "# Horizontally stack the sparse matrices\n",
    "X_test = hstack([q1_test_vec, q2_test_vec])\n",
    "\n",
    "model.fit(X_train,y_train)\n",
    "# Predict on the test set\n",
    "y_pred = model.predict(X_test)\n",
    "\n",
    "# Ensure shape matches\n",
    "assert len(y_pred) == len(test_df), \"Mismatch in prediction and test_df lengths!\"\n",
    "\n",
    "# Create a clean submission\n",
    "submission = pd.DataFrame({\n",
    "    'test_id': test_df['test_id'],\n",
    "    'is_duplicate': y_pred.astype(int)  # or float if regression\n",
    "})\n"
   ]
  },
  {
   "cell_type": "markdown",
   "id": "54fee417",
   "metadata": {
    "execution": {
     "iopub.execute_input": "2025-05-07T17:36:46.033833Z",
     "iopub.status.busy": "2025-05-07T17:36:46.033134Z",
     "iopub.status.idle": "2025-05-07T17:36:46.731870Z",
     "shell.execute_reply": "2025-05-07T17:36:46.730326Z",
     "shell.execute_reply.started": "2025-05-07T17:36:46.033797Z"
    },
    "papermill": {
     "duration": 0.009895,
     "end_time": "2025-05-07T18:02:24.395070",
     "exception": false,
     "start_time": "2025-05-07T18:02:24.385175",
     "status": "completed"
    },
    "tags": []
   },
   "source": [
    "### Sanity check for duplicates\n",
    "assert submission['test_id'].is_unique, \"Duplicate test_id values found!\""
   ]
  },
  {
   "cell_type": "code",
   "execution_count": 33,
   "id": "0ebe0441",
   "metadata": {
    "execution": {
     "iopub.execute_input": "2025-05-07T18:02:24.416109Z",
     "iopub.status.busy": "2025-05-07T18:02:24.415782Z",
     "iopub.status.idle": "2025-05-07T18:02:27.453096Z",
     "shell.execute_reply": "2025-05-07T18:02:27.452339Z"
    },
    "papermill": {
     "duration": 3.049906,
     "end_time": "2025-05-07T18:02:27.454774",
     "exception": false,
     "start_time": "2025-05-07T18:02:24.404868",
     "status": "completed"
    },
    "tags": []
   },
   "outputs": [
    {
     "name": "stdout",
     "output_type": "stream",
     "text": [
      "File not found.\n"
     ]
    }
   ],
   "source": [
    "if os.path.exists('/kaggle/working/submission.csv'):\n",
    "    os.remove('/kaggle/working/submission.csv')\n",
    "    print(\"File deleted.\")\n",
    "else:\n",
    "    print(\"File not found.\")\n",
    "\n",
    "submission = submission.drop_duplicates(subset='test_id')  # Just in case\n",
    "\n",
    "assert submission['test_id'].is_unique, \"Still has duplicate test_id values!\"\n",
    "\n",
    "# Save\n",
    "submission.to_csv('submission.csv', index=False)"
   ]
  },
  {
   "cell_type": "markdown",
   "id": "f9d70f69",
   "metadata": {
    "execution": {
     "iopub.status.busy": "2025-05-07T17:18:00.424103Z",
     "iopub.status.idle": "2025-05-07T17:18:00.424554Z",
     "shell.execute_reply": "2025-05-07T17:18:00.424343Z",
     "shell.execute_reply.started": "2025-05-07T17:18:00.424319Z"
    },
    "papermill": {
     "duration": 0.009834,
     "end_time": "2025-05-07T18:02:27.474679",
     "exception": false,
     "start_time": "2025-05-07T18:02:27.464845",
     "status": "completed"
    },
    "tags": []
   },
   "source": [
    "\n",
    "### Vectorize test questions (keep sparse!)\n",
    "test_questions = list(test_df['question1'].fillna('')) + list(test_df['question2'].fillna(''))\n",
    "test_vectors = cv.transform(test_questions)  # DO NOT call .toarray()\n",
    "\n",
    "### Split into two sparse matrices\n",
    "q1_test, q2_test = test_vectors[:len(test_df)], test_vectors[len(test_df):]\n",
    "\n",
    "# Horizontally stack the sparse matrices\n",
    "X_test = hstack([q1_test, q2_test])"
   ]
  },
  {
   "cell_type": "markdown",
   "id": "1da9c809",
   "metadata": {
    "execution": {
     "iopub.execute_input": "2025-05-07T14:39:35.788868Z",
     "iopub.status.busy": "2025-05-07T14:39:35.788558Z",
     "iopub.status.idle": "2025-05-07T14:41:58.014628Z",
     "shell.execute_reply": "2025-05-07T14:41:58.013729Z",
     "shell.execute_reply.started": "2025-05-07T14:39:35.788846Z"
    },
    "papermill": {
     "duration": 0.009593,
     "end_time": "2025-05-07T18:02:27.494109",
     "exception": false,
     "start_time": "2025-05-07T18:02:27.484516",
     "status": "completed"
    },
    "tags": []
   },
   "source": [
    "### Predict on the Kaggle test set\n",
    "y_pred = model.predict(X_test)\n",
    "print(\"Predictions shape:\", y_pred.shape)\n"
   ]
  },
  {
   "cell_type": "markdown",
   "id": "b8b06396",
   "metadata": {
    "execution": {
     "iopub.execute_input": "2025-05-07T14:42:17.178356Z",
     "iopub.status.busy": "2025-05-07T14:42:17.178044Z",
     "iopub.status.idle": "2025-05-07T14:42:19.356566Z",
     "shell.execute_reply": "2025-05-07T14:42:19.355717Z",
     "shell.execute_reply.started": "2025-05-07T14:42:17.178332Z"
    },
    "papermill": {
     "duration": 0.009723,
     "end_time": "2025-05-07T18:02:27.513741",
     "exception": false,
     "start_time": "2025-05-07T18:02:27.504018",
     "status": "completed"
    },
    "tags": []
   },
   "source": [
    "submission = pd.DataFrame({\n",
    "    'test_id': test_df['test_id'],    \n",
    "    'is_duplicate': y_pred\n",
    "})\n",
    "\n",
    "submission.to_csv('submission.csv', index=False)"
   ]
  }
 ],
 "metadata": {
  "kaggle": {
   "accelerator": "none",
   "dataSources": [
    {
     "databundleVersionId": 323734,
     "isSourceIdPinned": false,
     "sourceId": 6277,
     "sourceType": "competition"
    }
   ],
   "dockerImageVersionId": 31012,
   "isGpuEnabled": false,
   "isInternetEnabled": true,
   "language": "python",
   "sourceType": "notebook"
  },
  "kernelspec": {
   "display_name": "Python 3",
   "language": "python",
   "name": "python3"
  },
  "language_info": {
   "codemirror_mode": {
    "name": "ipython",
    "version": 3
   },
   "file_extension": ".py",
   "mimetype": "text/x-python",
   "name": "python",
   "nbconvert_exporter": "python",
   "pygments_lexer": "ipython3",
   "version": "3.11.11"
  },
  "papermill": {
   "default_parameters": {},
   "duration": 684.737273,
   "end_time": "2025-05-07T18:02:29.047656",
   "environment_variables": {},
   "exception": null,
   "input_path": "__notebook__.ipynb",
   "output_path": "__notebook__.ipynb",
   "parameters": {},
   "start_time": "2025-05-07T17:51:04.310383",
   "version": "2.6.0"
  }
 },
 "nbformat": 4,
 "nbformat_minor": 5
}
