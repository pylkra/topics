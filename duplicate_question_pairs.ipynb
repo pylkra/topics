{
 "cells": [
  {
   "cell_type": "code",
   "execution_count": 1,
   "id": "502b6ee4",
   "metadata": {
    "_cell_guid": "b1076dfc-b9ad-4769-8c92-a6c4dae69d19",
    "_uuid": "8f2839f25d086af736a60e9eeb907d3b93b6e0e5",
    "execution": {
     "iopub.execute_input": "2025-05-07T10:40:45.960321Z",
     "iopub.status.busy": "2025-05-07T10:40:45.959132Z",
     "iopub.status.idle": "2025-05-07T10:40:48.018565Z",
     "shell.execute_reply": "2025-05-07T10:40:48.017598Z"
    },
    "papermill": {
     "duration": 2.069195,
     "end_time": "2025-05-07T10:40:48.020252",
     "exception": false,
     "start_time": "2025-05-07T10:40:45.951057",
     "status": "completed"
    },
    "tags": []
   },
   "outputs": [
    {
     "name": "stdout",
     "output_type": "stream",
     "text": [
      "/kaggle/input/quora-question-pairs/train.csv.zip\n",
      "/kaggle/input/quora-question-pairs/sample_submission.csv.zip\n",
      "/kaggle/input/quora-question-pairs/test.csv\n",
      "/kaggle/input/quora-question-pairs/test.csv.zip\n"
     ]
    }
   ],
   "source": [
    "# This Python 3 environment comes with many helpful analytics libraries installed\n",
    "# It is defined by the kaggle/python Docker image: https://github.com/kaggle/docker-python\n",
    "# For example, here's several helpful packages to load\n",
    "\n",
    "import numpy as np # linear algebra\n",
    "import pandas as pd # data processing, CSV file I/O (e.g. pd.read_csv)\n",
    "\n",
    "# Input data files are available in the read-only \"../input/\" directory\n",
    "# For example, running this (by clicking run or pressing Shift+Enter) will list all files under the input directory\n",
    "\n",
    "import os\n",
    "for dirname, _, filenames in os.walk('/kaggle/input'):\n",
    "    for filename in filenames:\n",
    "        print(os.path.join(dirname, filename))\n",
    "\n",
    "# You can write up to 20GB to the current directory (/kaggle/working/) that gets preserved as output when you create a version using \"Save & Run All\" \n",
    "# You can also write temporary files to /kaggle/temp/, but they won't be saved outside of the current session"
   ]
  },
  {
   "cell_type": "code",
   "execution_count": 2,
   "id": "85935398",
   "metadata": {
    "execution": {
     "iopub.execute_input": "2025-05-07T10:40:48.033303Z",
     "iopub.status.busy": "2025-05-07T10:40:48.032763Z",
     "iopub.status.idle": "2025-05-07T10:40:48.967287Z",
     "shell.execute_reply": "2025-05-07T10:40:48.965930Z"
    },
    "papermill": {
     "duration": 0.943166,
     "end_time": "2025-05-07T10:40:48.969283",
     "exception": false,
     "start_time": "2025-05-07T10:40:48.026117",
     "status": "completed"
    },
    "tags": []
   },
   "outputs": [],
   "source": [
    "import zipfile\n",
    "\n",
    "zip_path = \"/kaggle/input/quora-question-pairs/train.csv.zip\"\n",
    "extract_path = \"/kaggle/working/\"\n",
    "\n",
    "with zipfile.ZipFile(zip_path, 'r') as zip_ref:\n",
    "    zip_ref.extractall(extract_path)"
   ]
  },
  {
   "cell_type": "code",
   "execution_count": 3,
   "id": "a54f0bfe",
   "metadata": {
    "execution": {
     "iopub.execute_input": "2025-05-07T10:40:48.983054Z",
     "iopub.status.busy": "2025-05-07T10:40:48.982733Z",
     "iopub.status.idle": "2025-05-07T10:40:50.540765Z",
     "shell.execute_reply": "2025-05-07T10:40:50.539719Z"
    },
    "papermill": {
     "duration": 1.566172,
     "end_time": "2025-05-07T10:40:50.542450",
     "exception": false,
     "start_time": "2025-05-07T10:40:48.976278",
     "status": "completed"
    },
    "tags": []
   },
   "outputs": [
    {
     "data": {
      "text/plain": [
       "(404290, 6)"
      ]
     },
     "execution_count": 3,
     "metadata": {},
     "output_type": "execute_result"
    }
   ],
   "source": [
    "df = pd.read_csv('/kaggle/working/train.csv')\n",
    "df.shape"
   ]
  },
  {
   "cell_type": "code",
   "execution_count": 4,
   "id": "25b3b2e7",
   "metadata": {
    "execution": {
     "iopub.execute_input": "2025-05-07T10:40:50.554963Z",
     "iopub.status.busy": "2025-05-07T10:40:50.554645Z",
     "iopub.status.idle": "2025-05-07T10:40:50.612809Z",
     "shell.execute_reply": "2025-05-07T10:40:50.611723Z"
    },
    "papermill": {
     "duration": 0.066454,
     "end_time": "2025-05-07T10:40:50.614622",
     "exception": false,
     "start_time": "2025-05-07T10:40:50.548168",
     "status": "completed"
    },
    "tags": []
   },
   "outputs": [],
   "source": [
    "df = df.sample(30000)"
   ]
  },
  {
   "cell_type": "code",
   "execution_count": 5,
   "id": "5646a053",
   "metadata": {
    "execution": {
     "iopub.execute_input": "2025-05-07T10:40:50.627849Z",
     "iopub.status.busy": "2025-05-07T10:40:50.627469Z",
     "iopub.status.idle": "2025-05-07T10:40:50.644760Z",
     "shell.execute_reply": "2025-05-07T10:40:50.643846Z"
    },
    "papermill": {
     "duration": 0.025558,
     "end_time": "2025-05-07T10:40:50.646521",
     "exception": false,
     "start_time": "2025-05-07T10:40:50.620963",
     "status": "completed"
    },
    "tags": []
   },
   "outputs": [
    {
     "data": {
      "text/plain": [
       "<bound method DataFrame.info of             id    qid1    qid2  \\\n",
       "61659    61659  107608  107609   \n",
       "217286  217286  323607  323608   \n",
       "391859  391859  239329  275724   \n",
       "203769  203769  306476   80822   \n",
       "325053  325053  451245  451246   \n",
       "...        ...     ...     ...   \n",
       "198912  198912    5723    3261   \n",
       "267159  267159  384466  384467   \n",
       "79034    79034  118069  134656   \n",
       "232283  232283  199613   94939   \n",
       "291829  291829   85548  368724   \n",
       "\n",
       "                                                question1  \\\n",
       "61659                         How do I manage a business?   \n",
       "217286                  How do children develop literacy?   \n",
       "391859   What are some essential customer service skills?   \n",
       "203769    What are some recommended equipment for hiking?   \n",
       "325053  Is it possible to have a Vulkan game engine ru...   \n",
       "...                                                   ...   \n",
       "198912  How can I increase traffic to my website using...   \n",
       "267159  How do I destroy earbuds without visible physi...   \n",
       "79034                              What is a voodoo doll?   \n",
       "232283  How much is known about the release date of th...   \n",
       "291829  What does it feel like to have your penis insi...   \n",
       "\n",
       "                                                question2  is_duplicate  \n",
       "61659                       How do I manage the business?             1  \n",
       "217286                     How children develop literacy?             1  \n",
       "391859       How do I improve my customer service skills?             1  \n",
       "203769                What are the essentials for hiking?             1  \n",
       "325053       Is it possible run pc without ROM BIOS chip?             0  \n",
       "...                                                   ...           ...  \n",
       "198912             How can I increase traffic on my blog?             1  \n",
       "267159  Could infrasound damage a human brain and/or d...             0  \n",
       "79034                              Are Voodoo Dolls real?             0  \n",
       "232283  When is the next posible release date for the ...             1  \n",
       "291829  What is it like for a guy to have sex for the ...             0  \n",
       "\n",
       "[30000 rows x 6 columns]>"
      ]
     },
     "execution_count": 5,
     "metadata": {},
     "output_type": "execute_result"
    }
   ],
   "source": [
    "df.info"
   ]
  },
  {
   "cell_type": "code",
   "execution_count": 6,
   "id": "abe0bd8c",
   "metadata": {
    "execution": {
     "iopub.execute_input": "2025-05-07T10:40:50.659679Z",
     "iopub.status.busy": "2025-05-07T10:40:50.659398Z",
     "iopub.status.idle": "2025-05-07T10:40:50.676390Z",
     "shell.execute_reply": "2025-05-07T10:40:50.675353Z"
    },
    "papermill": {
     "duration": 0.025061,
     "end_time": "2025-05-07T10:40:50.678063",
     "exception": false,
     "start_time": "2025-05-07T10:40:50.653002",
     "status": "completed"
    },
    "tags": []
   },
   "outputs": [
    {
     "data": {
      "text/plain": [
       "id              0\n",
       "qid1            0\n",
       "qid2            0\n",
       "question1       0\n",
       "question2       0\n",
       "is_duplicate    0\n",
       "dtype: int64"
      ]
     },
     "execution_count": 6,
     "metadata": {},
     "output_type": "execute_result"
    }
   ],
   "source": [
    "#missing values\n",
    "df.isnull().sum()"
   ]
  },
  {
   "cell_type": "code",
   "execution_count": 7,
   "id": "40f1c28d",
   "metadata": {
    "execution": {
     "iopub.execute_input": "2025-05-07T10:40:50.691357Z",
     "iopub.status.busy": "2025-05-07T10:40:50.690697Z",
     "iopub.status.idle": "2025-05-07T10:40:50.747790Z",
     "shell.execute_reply": "2025-05-07T10:40:50.746560Z"
    },
    "papermill": {
     "duration": 0.06562,
     "end_time": "2025-05-07T10:40:50.749589",
     "exception": false,
     "start_time": "2025-05-07T10:40:50.683969",
     "status": "completed"
    },
    "tags": []
   },
   "outputs": [
    {
     "data": {
      "text/plain": [
       "0"
      ]
     },
     "execution_count": 7,
     "metadata": {},
     "output_type": "execute_result"
    }
   ],
   "source": [
    "#check for duplicates\n",
    "df.duplicated().sum()"
   ]
  },
  {
   "cell_type": "code",
   "execution_count": 8,
   "id": "ac80ccfb",
   "metadata": {
    "execution": {
     "iopub.execute_input": "2025-05-07T10:40:50.762904Z",
     "iopub.status.busy": "2025-05-07T10:40:50.762410Z",
     "iopub.status.idle": "2025-05-07T10:40:50.774249Z",
     "shell.execute_reply": "2025-05-07T10:40:50.773173Z"
    },
    "papermill": {
     "duration": 0.02063,
     "end_time": "2025-05-07T10:40:50.776196",
     "exception": false,
     "start_time": "2025-05-07T10:40:50.755566",
     "status": "completed"
    },
    "tags": []
   },
   "outputs": [
    {
     "data": {
      "text/plain": [
       "is_duplicate\n",
       "0    18876\n",
       "1    11124\n",
       "Name: count, dtype: int64"
      ]
     },
     "execution_count": 8,
     "metadata": {},
     "output_type": "execute_result"
    }
   ],
   "source": [
    "df['is_duplicate'].value_counts()"
   ]
  },
  {
   "cell_type": "code",
   "execution_count": 9,
   "id": "d74fefc1",
   "metadata": {
    "execution": {
     "iopub.execute_input": "2025-05-07T10:40:50.789278Z",
     "iopub.status.busy": "2025-05-07T10:40:50.788924Z",
     "iopub.status.idle": "2025-05-07T10:40:50.795294Z",
     "shell.execute_reply": "2025-05-07T10:40:50.794277Z"
    },
    "papermill": {
     "duration": 0.014933,
     "end_time": "2025-05-07T10:40:50.796991",
     "exception": false,
     "start_time": "2025-05-07T10:40:50.782058",
     "status": "completed"
    },
    "tags": []
   },
   "outputs": [
    {
     "data": {
      "text/plain": [
       "30000"
      ]
     },
     "execution_count": 9,
     "metadata": {},
     "output_type": "execute_result"
    }
   ],
   "source": [
    "df['is_duplicate'].count()"
   ]
  },
  {
   "cell_type": "code",
   "execution_count": 10,
   "id": "25e38243",
   "metadata": {
    "execution": {
     "iopub.execute_input": "2025-05-07T10:40:50.810449Z",
     "iopub.status.busy": "2025-05-07T10:40:50.810141Z",
     "iopub.status.idle": "2025-05-07T10:40:51.195542Z",
     "shell.execute_reply": "2025-05-07T10:40:51.194562Z"
    },
    "papermill": {
     "duration": 0.393798,
     "end_time": "2025-05-07T10:40:51.197213",
     "exception": false,
     "start_time": "2025-05-07T10:40:50.803415",
     "status": "completed"
    },
    "tags": []
   },
   "outputs": [
    {
     "data": {
      "text/plain": [
       "Text(0, 0.5, 'Frequency')"
      ]
     },
     "execution_count": 10,
     "metadata": {},
     "output_type": "execute_result"
    },
    {
     "data": {
      "image/png": "[encoded data removed]",
      "text/plain": [
       "<Figure size 640x480 with 1 Axes>"
      ]
     },
     "metadata": {},
     "output_type": "display_data"
    }
   ],
   "source": [
    "import matplotlib.pyplot as plt\n",
    "df['is_duplicate'].value_counts().plot(kind='bar')\n",
    "plt.xlabel(\"Question ID\")\n",
    "plt.ylabel(\"Frequency\")"
   ]
  },
  {
   "cell_type": "code",
   "execution_count": 11,
   "id": "88da9554",
   "metadata": {
    "execution": {
     "iopub.execute_input": "2025-05-07T10:40:51.212478Z",
     "iopub.status.busy": "2025-05-07T10:40:51.212119Z",
     "iopub.status.idle": "2025-05-07T10:40:51.251193Z",
     "shell.execute_reply": "2025-05-07T10:40:51.249743Z"
    },
    "papermill": {
     "duration": 0.048897,
     "end_time": "2025-05-07T10:40:51.252885",
     "exception": false,
     "start_time": "2025-05-07T10:40:51.203988",
     "status": "completed"
    },
    "tags": []
   },
   "outputs": [
    {
     "name": "stdout",
     "output_type": "stream",
     "text": [
      "Number of unique questions 55306\n",
      "Number of questions repeated 3511\n"
     ]
    }
   ],
   "source": [
    "# Unique questions\n",
    "qid = pd.Series(df['qid1'].tolist() + df['qid2'].tolist())\n",
    "print(f'Number of unique questions {np.unique(qid).shape[0]}')\n",
    "\n",
    "# Repeted questions\n",
    "x = qid.value_counts()>1\n",
    "print(f'Number of questions repeated {x[x].shape[0]}')\n"
   ]
  },
  {
   "cell_type": "code",
   "execution_count": 12,
   "id": "7af47817",
   "metadata": {
    "execution": {
     "iopub.execute_input": "2025-05-07T10:40:51.267176Z",
     "iopub.status.busy": "2025-05-07T10:40:51.266798Z",
     "iopub.status.idle": "2025-05-07T10:40:51.282023Z",
     "shell.execute_reply": "2025-05-07T10:40:51.280722Z"
    },
    "papermill": {
     "duration": 0.024547,
     "end_time": "2025-05-07T10:40:51.283911",
     "exception": false,
     "start_time": "2025-05-07T10:40:51.259364",
     "status": "completed"
    },
    "tags": []
   },
   "outputs": [
    {
     "data": {
      "text/plain": [
       "array([15, 10,  9, ...,  1,  1,  1])"
      ]
     },
     "execution_count": 12,
     "metadata": {},
     "output_type": "execute_result"
    }
   ],
   "source": [
    "qid.value_counts().values"
   ]
  },
  {
   "cell_type": "code",
   "execution_count": 13,
   "id": "f25b8b80",
   "metadata": {
    "execution": {
     "iopub.execute_input": "2025-05-07T10:40:51.299690Z",
     "iopub.status.busy": "2025-05-07T10:40:51.299137Z",
     "iopub.status.idle": "2025-05-07T10:40:51.914204Z",
     "shell.execute_reply": "2025-05-07T10:40:51.913175Z"
    },
    "papermill": {
     "duration": 0.624842,
     "end_time": "2025-05-07T10:40:51.915876",
     "exception": false,
     "start_time": "2025-05-07T10:40:51.291034",
     "status": "completed"
    },
    "tags": []
   },
   "outputs": [
    {
     "data": {
      "image/png": "[encoded data removed]",
      "text/plain": [
       "<Figure size 640x480 with 1 Axes>"
      ]
     },
     "metadata": {},
     "output_type": "display_data"
    }
   ],
   "source": [
    "plt.hist(qid.value_counts().values, bins=160)\n",
    "plt.yscale('log')\n",
    "plt.show()"
   ]
  },
  {
   "cell_type": "markdown",
   "id": "2b3ac7bf",
   "metadata": {
    "papermill": {
     "duration": 0.006349,
     "end_time": "2025-05-07T10:40:51.928835",
     "exception": false,
     "start_time": "2025-05-07T10:40:51.922486",
     "status": "completed"
    },
    "tags": []
   },
   "source": [
    "qid1 , qid2, question1, question2, is_duplicate <br>\n",
    "              bow        bow        randomforest"
   ]
  },
  {
   "cell_type": "code",
   "execution_count": 14,
   "id": "51f8c074",
   "metadata": {
    "execution": {
     "iopub.execute_input": "2025-05-07T10:40:51.943420Z",
     "iopub.status.busy": "2025-05-07T10:40:51.943030Z",
     "iopub.status.idle": "2025-05-07T10:40:51.947900Z",
     "shell.execute_reply": "2025-05-07T10:40:51.946810Z"
    },
    "papermill": {
     "duration": 0.014531,
     "end_time": "2025-05-07T10:40:51.949824",
     "exception": false,
     "start_time": "2025-05-07T10:40:51.935293",
     "status": "completed"
    },
    "tags": []
   },
   "outputs": [],
   "source": [
    "# Feature engineering"
   ]
  },
  {
   "cell_type": "code",
   "execution_count": 15,
   "id": "38979376",
   "metadata": {
    "execution": {
     "iopub.execute_input": "2025-05-07T10:40:51.964584Z",
     "iopub.status.busy": "2025-05-07T10:40:51.964262Z",
     "iopub.status.idle": "2025-05-07T10:40:51.987908Z",
     "shell.execute_reply": "2025-05-07T10:40:51.986738Z"
    },
    "papermill": {
     "duration": 0.033042,
     "end_time": "2025-05-07T10:40:51.989570",
     "exception": false,
     "start_time": "2025-05-07T10:40:51.956528",
     "status": "completed"
    },
    "tags": []
   },
   "outputs": [
    {
     "data": {
      "text/html": [
       "<div>\n",
       "<style scoped>\n",
       "    .dataframe tbody tr th:only-of-type {\n",
       "        vertical-align: middle;\n",
       "    }\n",
       "\n",
       "    .dataframe tbody tr th {\n",
       "        vertical-align: top;\n",
       "    }\n",
       "\n",
       "    .dataframe thead th {\n",
       "        text-align: right;\n",
       "    }\n",
       "</style>\n",
       "<table border=\"1\" class=\"dataframe\">\n",
       "  <thead>\n",
       "    <tr style=\"text-align: right;\">\n",
       "      <th></th>\n",
       "      <th>question1</th>\n",
       "      <th>question2</th>\n",
       "    </tr>\n",
       "  </thead>\n",
       "  <tbody>\n",
       "    <tr>\n",
       "      <th>61659</th>\n",
       "      <td>How do I manage a business?</td>\n",
       "      <td>How do I manage the business?</td>\n",
       "    </tr>\n",
       "    <tr>\n",
       "      <th>217286</th>\n",
       "      <td>How do children develop literacy?</td>\n",
       "      <td>How children develop literacy?</td>\n",
       "    </tr>\n",
       "    <tr>\n",
       "      <th>391859</th>\n",
       "      <td>What are some essential customer service skills?</td>\n",
       "      <td>How do I improve my customer service skills?</td>\n",
       "    </tr>\n",
       "    <tr>\n",
       "      <th>203769</th>\n",
       "      <td>What are some recommended equipment for hiking?</td>\n",
       "      <td>What are the essentials for hiking?</td>\n",
       "    </tr>\n",
       "    <tr>\n",
       "      <th>325053</th>\n",
       "      <td>Is it possible to have a Vulkan game engine ru...</td>\n",
       "      <td>Is it possible run pc without ROM BIOS chip?</td>\n",
       "    </tr>\n",
       "  </tbody>\n",
       "</table>\n",
       "</div>"
      ],
      "text/plain": [
       "                                                question1  \\\n",
       "61659                         How do I manage a business?   \n",
       "217286                  How do children develop literacy?   \n",
       "391859   What are some essential customer service skills?   \n",
       "203769    What are some recommended equipment for hiking?   \n",
       "325053  Is it possible to have a Vulkan game engine ru...   \n",
       "\n",
       "                                           question2  \n",
       "61659                  How do I manage the business?  \n",
       "217286                How children develop literacy?  \n",
       "391859  How do I improve my customer service skills?  \n",
       "203769           What are the essentials for hiking?  \n",
       "325053  Is it possible run pc without ROM BIOS chip?  "
      ]
     },
     "execution_count": 15,
     "metadata": {},
     "output_type": "execute_result"
    }
   ],
   "source": [
    "ques_df = df[['question1','question2']]\n",
    "ques_df.head()\n"
   ]
  },
  {
   "cell_type": "code",
   "execution_count": 16,
   "id": "3f0f8c69",
   "metadata": {
    "execution": {
     "iopub.execute_input": "2025-05-07T10:40:52.004894Z",
     "iopub.status.busy": "2025-05-07T10:40:52.004448Z",
     "iopub.status.idle": "2025-05-07T10:40:55.395850Z",
     "shell.execute_reply": "2025-05-07T10:40:55.394798Z"
    },
    "papermill": {
     "duration": 3.401347,
     "end_time": "2025-05-07T10:40:55.397813",
     "exception": false,
     "start_time": "2025-05-07T10:40:51.996466",
     "status": "completed"
    },
    "tags": []
   },
   "outputs": [],
   "source": [
    "from sklearn.feature_extraction.text import CountVectorizer\n",
    "\n",
    "# Merge all questions into one list\n",
    "questions = list(ques_df['question1'].fillna(\"\")) + list(ques_df['question2'].fillna(\"\"))\n",
    "\n",
    "# Vectorize\n",
    "cv = CountVectorizer(max_features=3000)\n",
    "q_vectors = cv.fit_transform(questions).toarray()\n",
    "\n",
    "# Split back into q1 and q2 arrays\n",
    "half = len(q_vectors) // 2\n",
    "q1_arr, q2_arr = np.vsplit(q_vectors, [half])"
   ]
  },
  {
   "cell_type": "code",
   "execution_count": 17,
   "id": "70d5b312",
   "metadata": {
    "execution": {
     "iopub.execute_input": "2025-05-07T10:40:55.413493Z",
     "iopub.status.busy": "2025-05-07T10:40:55.413021Z",
     "iopub.status.idle": "2025-05-07T10:40:58.888333Z",
     "shell.execute_reply": "2025-05-07T10:40:58.887322Z"
    },
    "papermill": {
     "duration": 3.485595,
     "end_time": "2025-05-07T10:40:58.890470",
     "exception": false,
     "start_time": "2025-05-07T10:40:55.404875",
     "status": "completed"
    },
    "tags": []
   },
   "outputs": [
    {
     "data": {
      "text/html": [
       "<div>\n",
       "<style scoped>\n",
       "    .dataframe tbody tr th:only-of-type {\n",
       "        vertical-align: middle;\n",
       "    }\n",
       "\n",
       "    .dataframe tbody tr th {\n",
       "        vertical-align: top;\n",
       "    }\n",
       "\n",
       "    .dataframe thead th {\n",
       "        text-align: right;\n",
       "    }\n",
       "</style>\n",
       "<table border=\"1\" class=\"dataframe\">\n",
       "  <thead>\n",
       "    <tr style=\"text-align: right;\">\n",
       "      <th></th>\n",
       "      <th>0</th>\n",
       "      <th>1</th>\n",
       "      <th>2</th>\n",
       "      <th>3</th>\n",
       "      <th>4</th>\n",
       "      <th>5</th>\n",
       "      <th>6</th>\n",
       "      <th>7</th>\n",
       "      <th>8</th>\n",
       "      <th>9</th>\n",
       "      <th>...</th>\n",
       "      <th>2990</th>\n",
       "      <th>2991</th>\n",
       "      <th>2992</th>\n",
       "      <th>2993</th>\n",
       "      <th>2994</th>\n",
       "      <th>2995</th>\n",
       "      <th>2996</th>\n",
       "      <th>2997</th>\n",
       "      <th>2998</th>\n",
       "      <th>2999</th>\n",
       "    </tr>\n",
       "  </thead>\n",
       "  <tbody>\n",
       "    <tr>\n",
       "      <th>61659</th>\n",
       "      <td>0</td>\n",
       "      <td>0</td>\n",
       "      <td>0</td>\n",
       "      <td>0</td>\n",
       "      <td>0</td>\n",
       "      <td>0</td>\n",
       "      <td>0</td>\n",
       "      <td>0</td>\n",
       "      <td>0</td>\n",
       "      <td>0</td>\n",
       "      <td>...</td>\n",
       "      <td>0</td>\n",
       "      <td>0</td>\n",
       "      <td>0</td>\n",
       "      <td>0</td>\n",
       "      <td>0</td>\n",
       "      <td>0</td>\n",
       "      <td>0</td>\n",
       "      <td>0</td>\n",
       "      <td>0</td>\n",
       "      <td>0</td>\n",
       "    </tr>\n",
       "    <tr>\n",
       "      <th>217286</th>\n",
       "      <td>0</td>\n",
       "      <td>0</td>\n",
       "      <td>0</td>\n",
       "      <td>0</td>\n",
       "      <td>0</td>\n",
       "      <td>0</td>\n",
       "      <td>0</td>\n",
       "      <td>0</td>\n",
       "      <td>0</td>\n",
       "      <td>0</td>\n",
       "      <td>...</td>\n",
       "      <td>0</td>\n",
       "      <td>0</td>\n",
       "      <td>0</td>\n",
       "      <td>0</td>\n",
       "      <td>0</td>\n",
       "      <td>0</td>\n",
       "      <td>0</td>\n",
       "      <td>0</td>\n",
       "      <td>0</td>\n",
       "      <td>0</td>\n",
       "    </tr>\n",
       "    <tr>\n",
       "      <th>391859</th>\n",
       "      <td>0</td>\n",
       "      <td>0</td>\n",
       "      <td>0</td>\n",
       "      <td>0</td>\n",
       "      <td>0</td>\n",
       "      <td>0</td>\n",
       "      <td>0</td>\n",
       "      <td>0</td>\n",
       "      <td>0</td>\n",
       "      <td>0</td>\n",
       "      <td>...</td>\n",
       "      <td>0</td>\n",
       "      <td>0</td>\n",
       "      <td>0</td>\n",
       "      <td>0</td>\n",
       "      <td>0</td>\n",
       "      <td>0</td>\n",
       "      <td>0</td>\n",
       "      <td>0</td>\n",
       "      <td>0</td>\n",
       "      <td>0</td>\n",
       "    </tr>\n",
       "    <tr>\n",
       "      <th>203769</th>\n",
       "      <td>0</td>\n",
       "      <td>0</td>\n",
       "      <td>0</td>\n",
       "      <td>0</td>\n",
       "      <td>0</td>\n",
       "      <td>0</td>\n",
       "      <td>0</td>\n",
       "      <td>0</td>\n",
       "      <td>0</td>\n",
       "      <td>0</td>\n",
       "      <td>...</td>\n",
       "      <td>0</td>\n",
       "      <td>0</td>\n",
       "      <td>0</td>\n",
       "      <td>0</td>\n",
       "      <td>0</td>\n",
       "      <td>0</td>\n",
       "      <td>0</td>\n",
       "      <td>0</td>\n",
       "      <td>0</td>\n",
       "      <td>0</td>\n",
       "    </tr>\n",
       "    <tr>\n",
       "      <th>325053</th>\n",
       "      <td>0</td>\n",
       "      <td>0</td>\n",
       "      <td>0</td>\n",
       "      <td>0</td>\n",
       "      <td>0</td>\n",
       "      <td>0</td>\n",
       "      <td>0</td>\n",
       "      <td>0</td>\n",
       "      <td>0</td>\n",
       "      <td>0</td>\n",
       "      <td>...</td>\n",
       "      <td>0</td>\n",
       "      <td>0</td>\n",
       "      <td>0</td>\n",
       "      <td>0</td>\n",
       "      <td>0</td>\n",
       "      <td>0</td>\n",
       "      <td>0</td>\n",
       "      <td>0</td>\n",
       "      <td>0</td>\n",
       "      <td>0</td>\n",
       "    </tr>\n",
       "    <tr>\n",
       "      <th>...</th>\n",
       "      <td>...</td>\n",
       "      <td>...</td>\n",
       "      <td>...</td>\n",
       "      <td>...</td>\n",
       "      <td>...</td>\n",
       "      <td>...</td>\n",
       "      <td>...</td>\n",
       "      <td>...</td>\n",
       "      <td>...</td>\n",
       "      <td>...</td>\n",
       "      <td>...</td>\n",
       "      <td>...</td>\n",
       "      <td>...</td>\n",
       "      <td>...</td>\n",
       "      <td>...</td>\n",
       "      <td>...</td>\n",
       "      <td>...</td>\n",
       "      <td>...</td>\n",
       "      <td>...</td>\n",
       "      <td>...</td>\n",
       "      <td>...</td>\n",
       "    </tr>\n",
       "    <tr>\n",
       "      <th>198912</th>\n",
       "      <td>0</td>\n",
       "      <td>0</td>\n",
       "      <td>0</td>\n",
       "      <td>0</td>\n",
       "      <td>0</td>\n",
       "      <td>0</td>\n",
       "      <td>0</td>\n",
       "      <td>0</td>\n",
       "      <td>0</td>\n",
       "      <td>0</td>\n",
       "      <td>...</td>\n",
       "      <td>0</td>\n",
       "      <td>0</td>\n",
       "      <td>0</td>\n",
       "      <td>0</td>\n",
       "      <td>0</td>\n",
       "      <td>0</td>\n",
       "      <td>0</td>\n",
       "      <td>0</td>\n",
       "      <td>0</td>\n",
       "      <td>0</td>\n",
       "    </tr>\n",
       "    <tr>\n",
       "      <th>267159</th>\n",
       "      <td>0</td>\n",
       "      <td>0</td>\n",
       "      <td>0</td>\n",
       "      <td>0</td>\n",
       "      <td>0</td>\n",
       "      <td>0</td>\n",
       "      <td>0</td>\n",
       "      <td>0</td>\n",
       "      <td>0</td>\n",
       "      <td>0</td>\n",
       "      <td>...</td>\n",
       "      <td>0</td>\n",
       "      <td>0</td>\n",
       "      <td>0</td>\n",
       "      <td>0</td>\n",
       "      <td>0</td>\n",
       "      <td>0</td>\n",
       "      <td>0</td>\n",
       "      <td>0</td>\n",
       "      <td>0</td>\n",
       "      <td>0</td>\n",
       "    </tr>\n",
       "    <tr>\n",
       "      <th>79034</th>\n",
       "      <td>0</td>\n",
       "      <td>0</td>\n",
       "      <td>0</td>\n",
       "      <td>0</td>\n",
       "      <td>0</td>\n",
       "      <td>0</td>\n",
       "      <td>0</td>\n",
       "      <td>0</td>\n",
       "      <td>0</td>\n",
       "      <td>0</td>\n",
       "      <td>...</td>\n",
       "      <td>0</td>\n",
       "      <td>0</td>\n",
       "      <td>0</td>\n",
       "      <td>0</td>\n",
       "      <td>0</td>\n",
       "      <td>0</td>\n",
       "      <td>0</td>\n",
       "      <td>0</td>\n",
       "      <td>0</td>\n",
       "      <td>0</td>\n",
       "    </tr>\n",
       "    <tr>\n",
       "      <th>232283</th>\n",
       "      <td>0</td>\n",
       "      <td>0</td>\n",
       "      <td>0</td>\n",
       "      <td>0</td>\n",
       "      <td>0</td>\n",
       "      <td>0</td>\n",
       "      <td>0</td>\n",
       "      <td>0</td>\n",
       "      <td>0</td>\n",
       "      <td>0</td>\n",
       "      <td>...</td>\n",
       "      <td>0</td>\n",
       "      <td>0</td>\n",
       "      <td>0</td>\n",
       "      <td>0</td>\n",
       "      <td>0</td>\n",
       "      <td>0</td>\n",
       "      <td>0</td>\n",
       "      <td>0</td>\n",
       "      <td>0</td>\n",
       "      <td>0</td>\n",
       "    </tr>\n",
       "    <tr>\n",
       "      <th>291829</th>\n",
       "      <td>0</td>\n",
       "      <td>0</td>\n",
       "      <td>0</td>\n",
       "      <td>0</td>\n",
       "      <td>0</td>\n",
       "      <td>0</td>\n",
       "      <td>0</td>\n",
       "      <td>0</td>\n",
       "      <td>0</td>\n",
       "      <td>0</td>\n",
       "      <td>...</td>\n",
       "      <td>0</td>\n",
       "      <td>0</td>\n",
       "      <td>0</td>\n",
       "      <td>0</td>\n",
       "      <td>0</td>\n",
       "      <td>0</td>\n",
       "      <td>0</td>\n",
       "      <td>0</td>\n",
       "      <td>0</td>\n",
       "      <td>0</td>\n",
       "    </tr>\n",
       "  </tbody>\n",
       "</table>\n",
       "<p>30000 rows × 6000 columns</p>\n",
       "</div>"
      ],
      "text/plain": [
       "        0     1     2     3     4     5     6     7     8     9     ...  2990  \\\n",
       "61659      0     0     0     0     0     0     0     0     0     0  ...     0   \n",
       "217286     0     0     0     0     0     0     0     0     0     0  ...     0   \n",
       "391859     0     0     0     0     0     0     0     0     0     0  ...     0   \n",
       "203769     0     0     0     0     0     0     0     0     0     0  ...     0   \n",
       "325053     0     0     0     0     0     0     0     0     0     0  ...     0   \n",
       "...      ...   ...   ...   ...   ...   ...   ...   ...   ...   ...  ...   ...   \n",
       "198912     0     0     0     0     0     0     0     0     0     0  ...     0   \n",
       "267159     0     0     0     0     0     0     0     0     0     0  ...     0   \n",
       "79034      0     0     0     0     0     0     0     0     0     0  ...     0   \n",
       "232283     0     0     0     0     0     0     0     0     0     0  ...     0   \n",
       "291829     0     0     0     0     0     0     0     0     0     0  ...     0   \n",
       "\n",
       "        2991  2992  2993  2994  2995  2996  2997  2998  2999  \n",
       "61659      0     0     0     0     0     0     0     0     0  \n",
       "217286     0     0     0     0     0     0     0     0     0  \n",
       "391859     0     0     0     0     0     0     0     0     0  \n",
       "203769     0     0     0     0     0     0     0     0     0  \n",
       "325053     0     0     0     0     0     0     0     0     0  \n",
       "...      ...   ...   ...   ...   ...   ...   ...   ...   ...  \n",
       "198912     0     0     0     0     0     0     0     0     0  \n",
       "267159     0     0     0     0     0     0     0     0     0  \n",
       "79034      0     0     0     0     0     0     0     0     0  \n",
       "232283     0     0     0     0     0     0     0     0     0  \n",
       "291829     0     0     0     0     0     0     0     0     0  \n",
       "\n",
       "[30000 rows x 6000 columns]"
      ]
     },
     "execution_count": 17,
     "metadata": {},
     "output_type": "execute_result"
    }
   ],
   "source": [
    "temp_df1 = pd.DataFrame(q1_arr, index = ques_df.index)\n",
    "temp_df2 = pd.DataFrame(q2_arr, index = ques_df.index)\n",
    "\n",
    "temp_df = pd.concat([temp_df1,temp_df2],axis=1)\n",
    "temp_df"
   ]
  },
  {
   "cell_type": "code",
   "execution_count": 18,
   "id": "ca7a8f6a",
   "metadata": {
    "execution": {
     "iopub.execute_input": "2025-05-07T10:40:58.916273Z",
     "iopub.status.busy": "2025-05-07T10:40:58.915420Z",
     "iopub.status.idle": "2025-05-07T10:40:58.965493Z",
     "shell.execute_reply": "2025-05-07T10:40:58.964165Z"
    },
    "papermill": {
     "duration": 0.064763,
     "end_time": "2025-05-07T10:40:58.967424",
     "exception": false,
     "start_time": "2025-05-07T10:40:58.902661",
     "status": "completed"
    },
    "tags": []
   },
   "outputs": [
    {
     "data": {
      "text/html": [
       "<div>\n",
       "<style scoped>\n",
       "    .dataframe tbody tr th:only-of-type {\n",
       "        vertical-align: middle;\n",
       "    }\n",
       "\n",
       "    .dataframe tbody tr th {\n",
       "        vertical-align: top;\n",
       "    }\n",
       "\n",
       "    .dataframe thead th {\n",
       "        text-align: right;\n",
       "    }\n",
       "</style>\n",
       "<table border=\"1\" class=\"dataframe\">\n",
       "  <thead>\n",
       "    <tr style=\"text-align: right;\">\n",
       "      <th></th>\n",
       "      <th>0</th>\n",
       "      <th>1</th>\n",
       "      <th>2</th>\n",
       "      <th>3</th>\n",
       "      <th>4</th>\n",
       "      <th>5</th>\n",
       "      <th>6</th>\n",
       "      <th>7</th>\n",
       "      <th>8</th>\n",
       "      <th>9</th>\n",
       "      <th>...</th>\n",
       "      <th>2991</th>\n",
       "      <th>2992</th>\n",
       "      <th>2993</th>\n",
       "      <th>2994</th>\n",
       "      <th>2995</th>\n",
       "      <th>2996</th>\n",
       "      <th>2997</th>\n",
       "      <th>2998</th>\n",
       "      <th>2999</th>\n",
       "      <th>is_duplicate</th>\n",
       "    </tr>\n",
       "  </thead>\n",
       "  <tbody>\n",
       "    <tr>\n",
       "      <th>61659</th>\n",
       "      <td>0</td>\n",
       "      <td>0</td>\n",
       "      <td>0</td>\n",
       "      <td>0</td>\n",
       "      <td>0</td>\n",
       "      <td>0</td>\n",
       "      <td>0</td>\n",
       "      <td>0</td>\n",
       "      <td>0</td>\n",
       "      <td>0</td>\n",
       "      <td>...</td>\n",
       "      <td>0</td>\n",
       "      <td>0</td>\n",
       "      <td>0</td>\n",
       "      <td>0</td>\n",
       "      <td>0</td>\n",
       "      <td>0</td>\n",
       "      <td>0</td>\n",
       "      <td>0</td>\n",
       "      <td>0</td>\n",
       "      <td>1</td>\n",
       "    </tr>\n",
       "    <tr>\n",
       "      <th>217286</th>\n",
       "      <td>0</td>\n",
       "      <td>0</td>\n",
       "      <td>0</td>\n",
       "      <td>0</td>\n",
       "      <td>0</td>\n",
       "      <td>0</td>\n",
       "      <td>0</td>\n",
       "      <td>0</td>\n",
       "      <td>0</td>\n",
       "      <td>0</td>\n",
       "      <td>...</td>\n",
       "      <td>0</td>\n",
       "      <td>0</td>\n",
       "      <td>0</td>\n",
       "      <td>0</td>\n",
       "      <td>0</td>\n",
       "      <td>0</td>\n",
       "      <td>0</td>\n",
       "      <td>0</td>\n",
       "      <td>0</td>\n",
       "      <td>1</td>\n",
       "    </tr>\n",
       "    <tr>\n",
       "      <th>391859</th>\n",
       "      <td>0</td>\n",
       "      <td>0</td>\n",
       "      <td>0</td>\n",
       "      <td>0</td>\n",
       "      <td>0</td>\n",
       "      <td>0</td>\n",
       "      <td>0</td>\n",
       "      <td>0</td>\n",
       "      <td>0</td>\n",
       "      <td>0</td>\n",
       "      <td>...</td>\n",
       "      <td>0</td>\n",
       "      <td>0</td>\n",
       "      <td>0</td>\n",
       "      <td>0</td>\n",
       "      <td>0</td>\n",
       "      <td>0</td>\n",
       "      <td>0</td>\n",
       "      <td>0</td>\n",
       "      <td>0</td>\n",
       "      <td>1</td>\n",
       "    </tr>\n",
       "    <tr>\n",
       "      <th>203769</th>\n",
       "      <td>0</td>\n",
       "      <td>0</td>\n",
       "      <td>0</td>\n",
       "      <td>0</td>\n",
       "      <td>0</td>\n",
       "      <td>0</td>\n",
       "      <td>0</td>\n",
       "      <td>0</td>\n",
       "      <td>0</td>\n",
       "      <td>0</td>\n",
       "      <td>...</td>\n",
       "      <td>0</td>\n",
       "      <td>0</td>\n",
       "      <td>0</td>\n",
       "      <td>0</td>\n",
       "      <td>0</td>\n",
       "      <td>0</td>\n",
       "      <td>0</td>\n",
       "      <td>0</td>\n",
       "      <td>0</td>\n",
       "      <td>1</td>\n",
       "    </tr>\n",
       "    <tr>\n",
       "      <th>325053</th>\n",
       "      <td>0</td>\n",
       "      <td>0</td>\n",
       "      <td>0</td>\n",
       "      <td>0</td>\n",
       "      <td>0</td>\n",
       "      <td>0</td>\n",
       "      <td>0</td>\n",
       "      <td>0</td>\n",
       "      <td>0</td>\n",
       "      <td>0</td>\n",
       "      <td>...</td>\n",
       "      <td>0</td>\n",
       "      <td>0</td>\n",
       "      <td>0</td>\n",
       "      <td>0</td>\n",
       "      <td>0</td>\n",
       "      <td>0</td>\n",
       "      <td>0</td>\n",
       "      <td>0</td>\n",
       "      <td>0</td>\n",
       "      <td>0</td>\n",
       "    </tr>\n",
       "    <tr>\n",
       "      <th>...</th>\n",
       "      <td>...</td>\n",
       "      <td>...</td>\n",
       "      <td>...</td>\n",
       "      <td>...</td>\n",
       "      <td>...</td>\n",
       "      <td>...</td>\n",
       "      <td>...</td>\n",
       "      <td>...</td>\n",
       "      <td>...</td>\n",
       "      <td>...</td>\n",
       "      <td>...</td>\n",
       "      <td>...</td>\n",
       "      <td>...</td>\n",
       "      <td>...</td>\n",
       "      <td>...</td>\n",
       "      <td>...</td>\n",
       "      <td>...</td>\n",
       "      <td>...</td>\n",
       "      <td>...</td>\n",
       "      <td>...</td>\n",
       "      <td>...</td>\n",
       "    </tr>\n",
       "    <tr>\n",
       "      <th>198912</th>\n",
       "      <td>0</td>\n",
       "      <td>0</td>\n",
       "      <td>0</td>\n",
       "      <td>0</td>\n",
       "      <td>0</td>\n",
       "      <td>0</td>\n",
       "      <td>0</td>\n",
       "      <td>0</td>\n",
       "      <td>0</td>\n",
       "      <td>0</td>\n",
       "      <td>...</td>\n",
       "      <td>0</td>\n",
       "      <td>0</td>\n",
       "      <td>0</td>\n",
       "      <td>0</td>\n",
       "      <td>0</td>\n",
       "      <td>0</td>\n",
       "      <td>0</td>\n",
       "      <td>0</td>\n",
       "      <td>0</td>\n",
       "      <td>1</td>\n",
       "    </tr>\n",
       "    <tr>\n",
       "      <th>267159</th>\n",
       "      <td>0</td>\n",
       "      <td>0</td>\n",
       "      <td>0</td>\n",
       "      <td>0</td>\n",
       "      <td>0</td>\n",
       "      <td>0</td>\n",
       "      <td>0</td>\n",
       "      <td>0</td>\n",
       "      <td>0</td>\n",
       "      <td>0</td>\n",
       "      <td>...</td>\n",
       "      <td>0</td>\n",
       "      <td>0</td>\n",
       "      <td>0</td>\n",
       "      <td>0</td>\n",
       "      <td>0</td>\n",
       "      <td>0</td>\n",
       "      <td>0</td>\n",
       "      <td>0</td>\n",
       "      <td>0</td>\n",
       "      <td>0</td>\n",
       "    </tr>\n",
       "    <tr>\n",
       "      <th>79034</th>\n",
       "      <td>0</td>\n",
       "      <td>0</td>\n",
       "      <td>0</td>\n",
       "      <td>0</td>\n",
       "      <td>0</td>\n",
       "      <td>0</td>\n",
       "      <td>0</td>\n",
       "      <td>0</td>\n",
       "      <td>0</td>\n",
       "      <td>0</td>\n",
       "      <td>...</td>\n",
       "      <td>0</td>\n",
       "      <td>0</td>\n",
       "      <td>0</td>\n",
       "      <td>0</td>\n",
       "      <td>0</td>\n",
       "      <td>0</td>\n",
       "      <td>0</td>\n",
       "      <td>0</td>\n",
       "      <td>0</td>\n",
       "      <td>0</td>\n",
       "    </tr>\n",
       "    <tr>\n",
       "      <th>232283</th>\n",
       "      <td>0</td>\n",
       "      <td>0</td>\n",
       "      <td>0</td>\n",
       "      <td>0</td>\n",
       "      <td>0</td>\n",
       "      <td>0</td>\n",
       "      <td>0</td>\n",
       "      <td>0</td>\n",
       "      <td>0</td>\n",
       "      <td>0</td>\n",
       "      <td>...</td>\n",
       "      <td>0</td>\n",
       "      <td>0</td>\n",
       "      <td>0</td>\n",
       "      <td>0</td>\n",
       "      <td>0</td>\n",
       "      <td>0</td>\n",
       "      <td>0</td>\n",
       "      <td>0</td>\n",
       "      <td>0</td>\n",
       "      <td>1</td>\n",
       "    </tr>\n",
       "    <tr>\n",
       "      <th>291829</th>\n",
       "      <td>0</td>\n",
       "      <td>0</td>\n",
       "      <td>0</td>\n",
       "      <td>0</td>\n",
       "      <td>0</td>\n",
       "      <td>0</td>\n",
       "      <td>0</td>\n",
       "      <td>0</td>\n",
       "      <td>0</td>\n",
       "      <td>0</td>\n",
       "      <td>...</td>\n",
       "      <td>0</td>\n",
       "      <td>0</td>\n",
       "      <td>0</td>\n",
       "      <td>0</td>\n",
       "      <td>0</td>\n",
       "      <td>0</td>\n",
       "      <td>0</td>\n",
       "      <td>0</td>\n",
       "      <td>0</td>\n",
       "      <td>0</td>\n",
       "    </tr>\n",
       "  </tbody>\n",
       "</table>\n",
       "<p>30000 rows × 6001 columns</p>\n",
       "</div>"
      ],
      "text/plain": [
       "        0  1  2  3  4  5  6  7  8  9  ...  2991  2992  2993  2994  2995  2996  \\\n",
       "61659   0  0  0  0  0  0  0  0  0  0  ...     0     0     0     0     0     0   \n",
       "217286  0  0  0  0  0  0  0  0  0  0  ...     0     0     0     0     0     0   \n",
       "391859  0  0  0  0  0  0  0  0  0  0  ...     0     0     0     0     0     0   \n",
       "203769  0  0  0  0  0  0  0  0  0  0  ...     0     0     0     0     0     0   \n",
       "325053  0  0  0  0  0  0  0  0  0  0  ...     0     0     0     0     0     0   \n",
       "...    .. .. .. .. .. .. .. .. .. ..  ...   ...   ...   ...   ...   ...   ...   \n",
       "198912  0  0  0  0  0  0  0  0  0  0  ...     0     0     0     0     0     0   \n",
       "267159  0  0  0  0  0  0  0  0  0  0  ...     0     0     0     0     0     0   \n",
       "79034   0  0  0  0  0  0  0  0  0  0  ...     0     0     0     0     0     0   \n",
       "232283  0  0  0  0  0  0  0  0  0  0  ...     0     0     0     0     0     0   \n",
       "291829  0  0  0  0  0  0  0  0  0  0  ...     0     0     0     0     0     0   \n",
       "\n",
       "        2997  2998  2999  is_duplicate  \n",
       "61659      0     0     0             1  \n",
       "217286     0     0     0             1  \n",
       "391859     0     0     0             1  \n",
       "203769     0     0     0             1  \n",
       "325053     0     0     0             0  \n",
       "...      ...   ...   ...           ...  \n",
       "198912     0     0     0             1  \n",
       "267159     0     0     0             0  \n",
       "79034      0     0     0             0  \n",
       "232283     0     0     0             1  \n",
       "291829     0     0     0             0  \n",
       "\n",
       "[30000 rows x 6001 columns]"
      ]
     },
     "execution_count": 18,
     "metadata": {},
     "output_type": "execute_result"
    }
   ],
   "source": [
    "temp_df['is_duplicate'] = df['is_duplicate']\n",
    "temp_df"
   ]
  },
  {
   "cell_type": "code",
   "execution_count": 19,
   "id": "e07956c0",
   "metadata": {
    "execution": {
     "iopub.execute_input": "2025-05-07T10:40:58.984886Z",
     "iopub.status.busy": "2025-05-07T10:40:58.984522Z",
     "iopub.status.idle": "2025-05-07T10:40:58.989042Z",
     "shell.execute_reply": "2025-05-07T10:40:58.988110Z"
    },
    "papermill": {
     "duration": 0.015355,
     "end_time": "2025-05-07T10:40:58.991052",
     "exception": false,
     "start_time": "2025-05-07T10:40:58.975697",
     "status": "completed"
    },
    "tags": []
   },
   "outputs": [],
   "source": [
    "# EDA\n"
   ]
  },
  {
   "cell_type": "markdown",
   "id": "9dd5a5a2",
   "metadata": {
    "papermill": {
     "duration": 0.007233,
     "end_time": "2025-05-07T10:40:59.006925",
     "exception": false,
     "start_time": "2025-05-07T10:40:58.999692",
     "status": "completed"
    },
    "tags": []
   },
   "source": [
    "### Data Preprocessing & Transformation\n"
   ]
  },
  {
   "cell_type": "code",
   "execution_count": 20,
   "id": "9859c21a",
   "metadata": {
    "execution": {
     "iopub.execute_input": "2025-05-07T10:40:59.023949Z",
     "iopub.status.busy": "2025-05-07T10:40:59.023650Z",
     "iopub.status.idle": "2025-05-07T10:41:00.400407Z",
     "shell.execute_reply": "2025-05-07T10:41:00.399040Z"
    },
    "papermill": {
     "duration": 1.387898,
     "end_time": "2025-05-07T10:41:00.402376",
     "exception": false,
     "start_time": "2025-05-07T10:40:59.014478",
     "status": "completed"
    },
    "tags": []
   },
   "outputs": [
    {
     "data": {
      "text/plain": [
       "array([[0, 0, 0, ..., 0, 0, 0],\n",
       "       [0, 0, 0, ..., 0, 0, 0],\n",
       "       [0, 0, 0, ..., 0, 0, 0],\n",
       "       ...,\n",
       "       [0, 0, 0, ..., 0, 0, 0],\n",
       "       [0, 0, 0, ..., 0, 0, 0],\n",
       "       [0, 0, 0, ..., 0, 0, 0]])"
      ]
     },
     "execution_count": 20,
     "metadata": {},
     "output_type": "execute_result"
    }
   ],
   "source": [
    "temp_df.iloc[:,0:-1].values"
   ]
  },
  {
   "cell_type": "code",
   "execution_count": 21,
   "id": "37a36b1f",
   "metadata": {
    "execution": {
     "iopub.execute_input": "2025-05-07T10:41:00.421122Z",
     "iopub.status.busy": "2025-05-07T10:41:00.420633Z",
     "iopub.status.idle": "2025-05-07T10:41:04.133989Z",
     "shell.execute_reply": "2025-05-07T10:41:04.133043Z"
    },
    "papermill": {
     "duration": 3.725418,
     "end_time": "2025-05-07T10:41:04.135913",
     "exception": false,
     "start_time": "2025-05-07T10:41:00.410495",
     "status": "completed"
    },
    "tags": []
   },
   "outputs": [],
   "source": [
    "#importing and splitting data\n",
    "from sklearn.model_selection import train_test_split\n",
    "X_train, X_test, y_train, y_test = train_test_split(temp_df.iloc[:,0:-1].values,temp_df.iloc[:,-1].values,test_size=0.2, random_state=2)\n",
    "\n"
   ]
  },
  {
   "cell_type": "markdown",
   "id": "eced03cb",
   "metadata": {
    "papermill": {
     "duration": 0.008435,
     "end_time": "2025-05-07T10:41:04.152840",
     "exception": false,
     "start_time": "2025-05-07T10:41:04.144405",
     "status": "completed"
    },
    "tags": []
   },
   "source": [
    "### Model Selection & Evaluation"
   ]
  },
  {
   "cell_type": "code",
   "execution_count": null,
   "id": "06cb6427",
   "metadata": {
    "papermill": {
     "duration": 0.007587,
     "end_time": "2025-05-07T10:41:04.169189",
     "exception": false,
     "start_time": "2025-05-07T10:41:04.161602",
     "status": "completed"
    },
    "tags": []
   },
   "outputs": [],
   "source": []
  },
  {
   "cell_type": "markdown",
   "id": "9dc22888",
   "metadata": {
    "papermill": {
     "duration": 0.007559,
     "end_time": "2025-05-07T10:41:04.184370",
     "exception": false,
     "start_time": "2025-05-07T10:41:04.176811",
     "status": "completed"
    },
    "tags": []
   },
   "source": [
    "### Classification Models / Regression Models"
   ]
  },
  {
   "cell_type": "code",
   "execution_count": 22,
   "id": "35d4ff1b",
   "metadata": {
    "execution": {
     "iopub.execute_input": "2025-05-07T10:41:04.201230Z",
     "iopub.status.busy": "2025-05-07T10:41:04.200876Z",
     "iopub.status.idle": "2025-05-07T10:43:02.248850Z",
     "shell.execute_reply": "2025-05-07T10:43:02.247710Z"
    },
    "papermill": {
     "duration": 118.134817,
     "end_time": "2025-05-07T10:43:02.327006",
     "exception": false,
     "start_time": "2025-05-07T10:41:04.192189",
     "status": "completed"
    },
    "tags": []
   },
   "outputs": [
    {
     "data": {
      "text/html": [
       "<style>#sk-container-id-1 {color: black;background-color: white;}#sk-container-id-1 pre{padding: 0;}#sk-container-id-1 div.sk-toggleable {background-color: white;}#sk-container-id-1 label.sk-toggleable__label {cursor: pointer;display: block;width: 100%;margin-bottom: 0;padding: 0.3em;box-sizing: border-box;text-align: center;}#sk-container-id-1 label.sk-toggleable__label-arrow:before {content: \"▸\";float: left;margin-right: 0.25em;color: #696969;}#sk-container-id-1 label.sk-toggleable__label-arrow:hover:before {color: black;}#sk-container-id-1 div.sk-estimator:hover label.sk-toggleable__label-arrow:before {color: black;}#sk-container-id-1 div.sk-toggleable__content {max-height: 0;max-width: 0;overflow: hidden;text-align: left;background-color: #f0f8ff;}#sk-container-id-1 div.sk-toggleable__content pre {margin: 0.2em;color: black;border-radius: 0.25em;background-color: #f0f8ff;}#sk-container-id-1 input.sk-toggleable__control:checked~div.sk-toggleable__content {max-height: 200px;max-width: 100%;overflow: auto;}#sk-container-id-1 input.sk-toggleable__control:checked~label.sk-toggleable__label-arrow:before {content: \"▾\";}#sk-container-id-1 div.sk-estimator input.sk-toggleable__control:checked~label.sk-toggleable__label {background-color: #d4ebff;}#sk-container-id-1 div.sk-label input.sk-toggleable__control:checked~label.sk-toggleable__label {background-color: #d4ebff;}#sk-container-id-1 input.sk-hidden--visually {border: 0;clip: rect(1px 1px 1px 1px);clip: rect(1px, 1px, 1px, 1px);height: 1px;margin: -1px;overflow: hidden;padding: 0;position: absolute;width: 1px;}#sk-container-id-1 div.sk-estimator {font-family: monospace;background-color: #f0f8ff;border: 1px dotted black;border-radius: 0.25em;box-sizing: border-box;margin-bottom: 0.5em;}#sk-container-id-1 div.sk-estimator:hover {background-color: #d4ebff;}#sk-container-id-1 div.sk-parallel-item::after {content: \"\";width: 100%;border-bottom: 1px solid gray;flex-grow: 1;}#sk-container-id-1 div.sk-label:hover label.sk-toggleable__label {background-color: #d4ebff;}#sk-container-id-1 div.sk-serial::before {content: \"\";position: absolute;border-left: 1px solid gray;box-sizing: border-box;top: 0;bottom: 0;left: 50%;z-index: 0;}#sk-container-id-1 div.sk-serial {display: flex;flex-direction: column;align-items: center;background-color: white;padding-right: 0.2em;padding-left: 0.2em;position: relative;}#sk-container-id-1 div.sk-item {position: relative;z-index: 1;}#sk-container-id-1 div.sk-parallel {display: flex;align-items: stretch;justify-content: center;background-color: white;position: relative;}#sk-container-id-1 div.sk-item::before, #sk-container-id-1 div.sk-parallel-item::before {content: \"\";position: absolute;border-left: 1px solid gray;box-sizing: border-box;top: 0;bottom: 0;left: 50%;z-index: -1;}#sk-container-id-1 div.sk-parallel-item {display: flex;flex-direction: column;z-index: 1;position: relative;background-color: white;}#sk-container-id-1 div.sk-parallel-item:first-child::after {align-self: flex-end;width: 50%;}#sk-container-id-1 div.sk-parallel-item:last-child::after {align-self: flex-start;width: 50%;}#sk-container-id-1 div.sk-parallel-item:only-child::after {width: 0;}#sk-container-id-1 div.sk-dashed-wrapped {border: 1px dashed gray;margin: 0 0.4em 0.5em 0.4em;box-sizing: border-box;padding-bottom: 0.4em;background-color: white;}#sk-container-id-1 div.sk-label label {font-family: monospace;font-weight: bold;display: inline-block;line-height: 1.2em;}#sk-container-id-1 div.sk-label-container {text-align: center;}#sk-container-id-1 div.sk-container {/* jupyter's `normalize.less` sets `[hidden] { display: none; }` but bootstrap.min.css set `[hidden] { display: none !important; }` so we also need the `!important` here to be able to override the default hidden behavior on the sphinx rendered scikit-learn.org. See: https://github.com/scikit-learn/scikit-learn/issues/21755 */display: inline-block !important;position: relative;}#sk-container-id-1 div.sk-text-repr-fallback {display: none;}</style><div id=\"sk-container-id-1\" class=\"sk-top-container\"><div class=\"sk-text-repr-fallback\"><pre>RandomForestClassifier()</pre><b>In a Jupyter environment, please rerun this cell to show the HTML representation or trust the notebook. <br />On GitHub, the HTML representation is unable to render, please try loading this page with nbviewer.org.</b></div><div class=\"sk-container\" hidden><div class=\"sk-item\"><div class=\"sk-estimator sk-toggleable\"><input class=\"sk-toggleable__control sk-hidden--visually\" id=\"sk-estimator-id-1\" type=\"checkbox\" checked><label for=\"sk-estimator-id-1\" class=\"sk-toggleable__label sk-toggleable__label-arrow\">RandomForestClassifier</label><div class=\"sk-toggleable__content\"><pre>RandomForestClassifier()</pre></div></div></div></div></div>"
      ],
      "text/plain": [
       "RandomForestClassifier()"
      ]
     },
     "execution_count": 22,
     "metadata": {},
     "output_type": "execute_result"
    }
   ],
   "source": [
    "#Random Forest Classifier\n",
    "from sklearn.ensemble import RandomForestClassifier\n",
    "from sklearn.metrics import accuracy_score\n",
    "model = RandomForestClassifier()\n",
    "model.fit(X_train,y_train)"
   ]
  },
  {
   "cell_type": "code",
   "execution_count": 23,
   "id": "9dd4cbad",
   "metadata": {
    "execution": {
     "iopub.execute_input": "2025-05-07T10:43:02.345664Z",
     "iopub.status.busy": "2025-05-07T10:43:02.345206Z",
     "iopub.status.idle": "2025-05-07T10:43:03.290200Z",
     "shell.execute_reply": "2025-05-07T10:43:03.289301Z"
    },
    "papermill": {
     "duration": 0.9567,
     "end_time": "2025-05-07T10:43:03.292325",
     "exception": false,
     "start_time": "2025-05-07T10:43:02.335625",
     "status": "completed"
    },
    "tags": []
   },
   "outputs": [
    {
     "data": {
      "text/plain": [
       "0.7475"
      ]
     },
     "execution_count": 23,
     "metadata": {},
     "output_type": "execute_result"
    }
   ],
   "source": [
    "y_pred = model.predict(X_test)\n",
    "accuracy_score(y_test,y_pred)"
   ]
  },
  {
   "cell_type": "code",
   "execution_count": 24,
   "id": "f68ab140",
   "metadata": {
    "execution": {
     "iopub.execute_input": "2025-05-07T10:43:03.311033Z",
     "iopub.status.busy": "2025-05-07T10:43:03.310702Z",
     "iopub.status.idle": "2025-05-07T10:44:59.184433Z",
     "shell.execute_reply": "2025-05-07T10:44:59.183333Z"
    },
    "papermill": {
     "duration": 115.893242,
     "end_time": "2025-05-07T10:44:59.194583",
     "exception": false,
     "start_time": "2025-05-07T10:43:03.301341",
     "status": "completed"
    },
    "tags": []
   },
   "outputs": [
    {
     "data": {
      "text/html": [
       "<style>#sk-container-id-2 {color: black;background-color: white;}#sk-container-id-2 pre{padding: 0;}#sk-container-id-2 div.sk-toggleable {background-color: white;}#sk-container-id-2 label.sk-toggleable__label {cursor: pointer;display: block;width: 100%;margin-bottom: 0;padding: 0.3em;box-sizing: border-box;text-align: center;}#sk-container-id-2 label.sk-toggleable__label-arrow:before {content: \"▸\";float: left;margin-right: 0.25em;color: #696969;}#sk-container-id-2 label.sk-toggleable__label-arrow:hover:before {color: black;}#sk-container-id-2 div.sk-estimator:hover label.sk-toggleable__label-arrow:before {color: black;}#sk-container-id-2 div.sk-toggleable__content {max-height: 0;max-width: 0;overflow: hidden;text-align: left;background-color: #f0f8ff;}#sk-container-id-2 div.sk-toggleable__content pre {margin: 0.2em;color: black;border-radius: 0.25em;background-color: #f0f8ff;}#sk-container-id-2 input.sk-toggleable__control:checked~div.sk-toggleable__content {max-height: 200px;max-width: 100%;overflow: auto;}#sk-container-id-2 input.sk-toggleable__control:checked~label.sk-toggleable__label-arrow:before {content: \"▾\";}#sk-container-id-2 div.sk-estimator input.sk-toggleable__control:checked~label.sk-toggleable__label {background-color: #d4ebff;}#sk-container-id-2 div.sk-label input.sk-toggleable__control:checked~label.sk-toggleable__label {background-color: #d4ebff;}#sk-container-id-2 input.sk-hidden--visually {border: 0;clip: rect(1px 1px 1px 1px);clip: rect(1px, 1px, 1px, 1px);height: 1px;margin: -1px;overflow: hidden;padding: 0;position: absolute;width: 1px;}#sk-container-id-2 div.sk-estimator {font-family: monospace;background-color: #f0f8ff;border: 1px dotted black;border-radius: 0.25em;box-sizing: border-box;margin-bottom: 0.5em;}#sk-container-id-2 div.sk-estimator:hover {background-color: #d4ebff;}#sk-container-id-2 div.sk-parallel-item::after {content: \"\";width: 100%;border-bottom: 1px solid gray;flex-grow: 1;}#sk-container-id-2 div.sk-label:hover label.sk-toggleable__label {background-color: #d4ebff;}#sk-container-id-2 div.sk-serial::before {content: \"\";position: absolute;border-left: 1px solid gray;box-sizing: border-box;top: 0;bottom: 0;left: 50%;z-index: 0;}#sk-container-id-2 div.sk-serial {display: flex;flex-direction: column;align-items: center;background-color: white;padding-right: 0.2em;padding-left: 0.2em;position: relative;}#sk-container-id-2 div.sk-item {position: relative;z-index: 1;}#sk-container-id-2 div.sk-parallel {display: flex;align-items: stretch;justify-content: center;background-color: white;position: relative;}#sk-container-id-2 div.sk-item::before, #sk-container-id-2 div.sk-parallel-item::before {content: \"\";position: absolute;border-left: 1px solid gray;box-sizing: border-box;top: 0;bottom: 0;left: 50%;z-index: -1;}#sk-container-id-2 div.sk-parallel-item {display: flex;flex-direction: column;z-index: 1;position: relative;background-color: white;}#sk-container-id-2 div.sk-parallel-item:first-child::after {align-self: flex-end;width: 50%;}#sk-container-id-2 div.sk-parallel-item:last-child::after {align-self: flex-start;width: 50%;}#sk-container-id-2 div.sk-parallel-item:only-child::after {width: 0;}#sk-container-id-2 div.sk-dashed-wrapped {border: 1px dashed gray;margin: 0 0.4em 0.5em 0.4em;box-sizing: border-box;padding-bottom: 0.4em;background-color: white;}#sk-container-id-2 div.sk-label label {font-family: monospace;font-weight: bold;display: inline-block;line-height: 1.2em;}#sk-container-id-2 div.sk-label-container {text-align: center;}#sk-container-id-2 div.sk-container {/* jupyter's `normalize.less` sets `[hidden] { display: none; }` but bootstrap.min.css set `[hidden] { display: none !important; }` so we also need the `!important` here to be able to override the default hidden behavior on the sphinx rendered scikit-learn.org. See: https://github.com/scikit-learn/scikit-learn/issues/21755 */display: inline-block !important;position: relative;}#sk-container-id-2 div.sk-text-repr-fallback {display: none;}</style><div id=\"sk-container-id-2\" class=\"sk-top-container\"><div class=\"sk-text-repr-fallback\"><pre>RandomForestClassifier()</pre><b>In a Jupyter environment, please rerun this cell to show the HTML representation or trust the notebook. <br />On GitHub, the HTML representation is unable to render, please try loading this page with nbviewer.org.</b></div><div class=\"sk-container\" hidden><div class=\"sk-item\"><div class=\"sk-estimator sk-toggleable\"><input class=\"sk-toggleable__control sk-hidden--visually\" id=\"sk-estimator-id-2\" type=\"checkbox\" checked><label for=\"sk-estimator-id-2\" class=\"sk-toggleable__label sk-toggleable__label-arrow\">RandomForestClassifier</label><div class=\"sk-toggleable__content\"><pre>RandomForestClassifier()</pre></div></div></div></div></div>"
      ],
      "text/plain": [
       "RandomForestClassifier()"
      ]
     },
     "execution_count": 24,
     "metadata": {},
     "output_type": "execute_result"
    }
   ],
   "source": [
    "#Random Forest Classifier\n",
    "from xgboost import XGBClassifier\n",
    "\n",
    "xgb = XGBClassifier()\n",
    "model.fit(X_train,y_train)"
   ]
  },
  {
   "cell_type": "code",
   "execution_count": 25,
   "id": "3f3de2ed",
   "metadata": {
    "execution": {
     "iopub.execute_input": "2025-05-07T10:44:59.213159Z",
     "iopub.status.busy": "2025-05-07T10:44:59.212809Z",
     "iopub.status.idle": "2025-05-07T10:45:00.150143Z",
     "shell.execute_reply": "2025-05-07T10:45:00.149127Z"
    },
    "papermill": {
     "duration": 0.949128,
     "end_time": "2025-05-07T10:45:00.151865",
     "exception": false,
     "start_time": "2025-05-07T10:44:59.202737",
     "status": "completed"
    },
    "tags": []
   },
   "outputs": [
    {
     "data": {
      "text/plain": [
       "0.7473333333333333"
      ]
     },
     "execution_count": 25,
     "metadata": {},
     "output_type": "execute_result"
    }
   ],
   "source": [
    "y_pred = model.predict(X_test)\n",
    "accuracy_score(y_test,y_pred)"
   ]
  },
  {
   "cell_type": "code",
   "execution_count": 26,
   "id": "d83ca621",
   "metadata": {
    "execution": {
     "iopub.execute_input": "2025-05-07T10:45:00.171550Z",
     "iopub.status.busy": "2025-05-07T10:45:00.171262Z",
     "iopub.status.idle": "2025-05-07T10:45:00.188370Z",
     "shell.execute_reply": "2025-05-07T10:45:00.187028Z"
    },
    "papermill": {
     "duration": 0.029948,
     "end_time": "2025-05-07T10:45:00.190457",
     "exception": false,
     "start_time": "2025-05-07T10:45:00.160509",
     "status": "completed"
    },
    "tags": []
   },
   "outputs": [],
   "source": [
    "submission = pd.DataFrame({\n",
    "    'test_id': range(len(y_pred)),    \n",
    "    'is_duplicate': y_pred\n",
    "})\n",
    "\n",
    "submission.to_csv('submission.csv', index=False)"
   ]
  },
  {
   "cell_type": "markdown",
   "id": "f13701c3",
   "metadata": {
    "papermill": {
     "duration": 0.008677,
     "end_time": "2025-05-07T10:45:00.208135",
     "exception": false,
     "start_time": "2025-05-07T10:45:00.199458",
     "status": "completed"
    },
    "tags": []
   },
   "source": [
    "### Model Evaluation Metrics"
   ]
  },
  {
   "cell_type": "markdown",
   "id": "a220d58b",
   "metadata": {
    "papermill": {
     "duration": 0.008831,
     "end_time": "2025-05-07T10:45:00.225821",
     "exception": false,
     "start_time": "2025-05-07T10:45:00.216990",
     "status": "completed"
    },
    "tags": []
   },
   "source": [
    "### Pipelines"
   ]
  }
 ],
 "metadata": {
  "kaggle": {
   "accelerator": "none",
   "dataSources": [
    {
     "databundleVersionId": 323734,
     "isSourceIdPinned": false,
     "sourceId": 6277,
     "sourceType": "competition"
    }
   ],
   "dockerImageVersionId": 31012,
   "isGpuEnabled": false,
   "isInternetEnabled": true,
   "language": "python",
   "sourceType": "notebook"
  },
  "kernelspec": {
   "display_name": "Python 3",
   "language": "python",
   "name": "python3"
  },
  "language_info": {
   "codemirror_mode": {
    "name": "ipython",
    "version": 3
   },
   "file_extension": ".py",
   "mimetype": "text/x-python",
   "name": "python",
   "nbconvert_exporter": "python",
   "pygments_lexer": "ipython3",
   "version": "3.11.11"
  },
  "papermill": {
   "default_parameters": {},
   "duration": 260.297954,
   "end_time": "2025-05-07T10:45:01.158641",
   "environment_variables": {},
   "exception": null,
   "input_path": "__notebook__.ipynb",
   "output_path": "__notebook__.ipynb",
   "parameters": {},
   "start_time": "2025-05-07T10:40:40.860687",
   "version": "2.6.0"
  }
 },
 "nbformat": 4,
 "nbformat_minor": 5
}
