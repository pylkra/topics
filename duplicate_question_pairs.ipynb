{
 "cells": [
  {
   "cell_type": "code",
   "execution_count": 1,
   "id": "ca564c9d",
   "metadata": {
    "_cell_guid": "b1076dfc-b9ad-4769-8c92-a6c4dae69d19",
    "_uuid": "8f2839f25d086af736a60e9eeb907d3b93b6e0e5",
    "execution": {
     "iopub.execute_input": "2025-05-07T14:48:40.134417Z",
     "iopub.status.busy": "2025-05-07T14:48:40.134038Z",
     "iopub.status.idle": "2025-05-07T14:48:42.376776Z",
     "shell.execute_reply": "2025-05-07T14:48:42.375560Z"
    },
    "papermill": {
     "duration": 2.25333,
     "end_time": "2025-05-07T14:48:42.378452",
     "exception": false,
     "start_time": "2025-05-07T14:48:40.125122",
     "status": "completed"
    },
    "tags": []
   },
   "outputs": [
    {
     "name": "stdout",
     "output_type": "stream",
     "text": [
      "/kaggle/input/quora-question-pairs/train.csv.zip\n",
      "/kaggle/input/quora-question-pairs/sample_submission.csv.zip\n",
      "/kaggle/input/quora-question-pairs/test.csv\n",
      "/kaggle/input/quora-question-pairs/test.csv.zip\n"
     ]
    }
   ],
   "source": [
    "# This Python 3 environment comes with many helpful analytics libraries installed\n",
    "# It is defined by the kaggle/python Docker image: https://github.com/kaggle/docker-python\n",
    "# For example, here's several helpful packages to load\n",
    "\n",
    "import numpy as np # linear algebra\n",
    "import pandas as pd # data processing, CSV file I/O (e.g. pd.read_csv)\n",
    "\n",
    "# Input data files are available in the read-only \"../input/\" directory\n",
    "# For example, running this (by clicking run or pressing Shift+Enter) will list all files under the input directory\n",
    "\n",
    "import os\n",
    "for dirname, _, filenames in os.walk('/kaggle/input'):\n",
    "    for filename in filenames:\n",
    "        print(os.path.join(dirname, filename))\n",
    "\n",
    "# You can write up to 20GB to the current directory (/kaggle/working/) that gets preserved as output when you create a version using \"Save & Run All\" \n",
    "# You can also write temporary files to /kaggle/temp/, but they won't be saved outside of the current session"
   ]
  },
  {
   "cell_type": "code",
   "execution_count": 2,
   "id": "da61121d",
   "metadata": {
    "execution": {
     "iopub.execute_input": "2025-05-07T14:48:42.392527Z",
     "iopub.status.busy": "2025-05-07T14:48:42.392011Z",
     "iopub.status.idle": "2025-05-07T14:48:42.397608Z",
     "shell.execute_reply": "2025-05-07T14:48:42.396699Z"
    },
    "papermill": {
     "duration": 0.013973,
     "end_time": "2025-05-07T14:48:42.399044",
     "exception": false,
     "start_time": "2025-05-07T14:48:42.385071",
     "status": "completed"
    },
    "tags": []
   },
   "outputs": [
    {
     "name": "stdout",
     "output_type": "stream",
     "text": [
      "File not found.\n"
     ]
    }
   ],
   "source": [
    "if os.path.exists('/kaggle/working/submission.csv'):\n",
    "    os.remove('/kaggle/working/submission.csv')\n",
    "    print(\"File deleted.\")\n",
    "else:\n",
    "    print(\"File not found.\")"
   ]
  },
  {
   "cell_type": "markdown",
   "id": "abf337e9",
   "metadata": {
    "papermill": {
     "duration": 0.005869,
     "end_time": "2025-05-07T14:48:42.412717",
     "exception": false,
     "start_time": "2025-05-07T14:48:42.406848",
     "status": "completed"
    },
    "tags": []
   },
   "source": [
    "import zipfile\n",
    "\n",
    "zip_path = \"/kaggle/input/quora-question-pairs/train.csv.zip\"\n",
    "extract_path = \"/kaggle/working/\"\n",
    "\n",
    "with zipfile.ZipFile(zip_path, 'r') as zip_ref:\n",
    "    zip_ref.extractall(extract_path)"
   ]
  },
  {
   "cell_type": "code",
   "execution_count": 3,
   "id": "beb27ceb",
   "metadata": {
    "execution": {
     "iopub.execute_input": "2025-05-07T14:48:42.426152Z",
     "iopub.status.busy": "2025-05-07T14:48:42.425623Z",
     "iopub.status.idle": "2025-05-07T14:48:44.952007Z",
     "shell.execute_reply": "2025-05-07T14:48:44.950913Z"
    },
    "papermill": {
     "duration": 2.534967,
     "end_time": "2025-05-07T14:48:44.953768",
     "exception": false,
     "start_time": "2025-05-07T14:48:42.418801",
     "status": "completed"
    },
    "tags": []
   },
   "outputs": [
    {
     "data": {
      "text/plain": [
       "(404290, 6)"
      ]
     },
     "execution_count": 3,
     "metadata": {},
     "output_type": "execute_result"
    }
   ],
   "source": [
    "df = pd.read_csv('/kaggle/input/quora-question-pairs/train.csv.zip')\n",
    "df.shape"
   ]
  },
  {
   "cell_type": "code",
   "execution_count": 4,
   "id": "63883b16",
   "metadata": {
    "execution": {
     "iopub.execute_input": "2025-05-07T14:48:44.969549Z",
     "iopub.status.busy": "2025-05-07T14:48:44.969132Z",
     "iopub.status.idle": "2025-05-07T14:48:45.043091Z",
     "shell.execute_reply": "2025-05-07T14:48:45.041941Z"
    },
    "papermill": {
     "duration": 0.084567,
     "end_time": "2025-05-07T14:48:45.045275",
     "exception": false,
     "start_time": "2025-05-07T14:48:44.960708",
     "status": "completed"
    },
    "tags": []
   },
   "outputs": [],
   "source": [
    "df = df.sample(30000)"
   ]
  },
  {
   "cell_type": "code",
   "execution_count": 5,
   "id": "2869a901",
   "metadata": {
    "execution": {
     "iopub.execute_input": "2025-05-07T14:48:45.060161Z",
     "iopub.status.busy": "2025-05-07T14:48:45.059776Z",
     "iopub.status.idle": "2025-05-07T14:48:45.080067Z",
     "shell.execute_reply": "2025-05-07T14:48:45.079047Z"
    },
    "papermill": {
     "duration": 0.029803,
     "end_time": "2025-05-07T14:48:45.081875",
     "exception": false,
     "start_time": "2025-05-07T14:48:45.052072",
     "status": "completed"
    },
    "tags": []
   },
   "outputs": [
    {
     "data": {
      "text/plain": [
       "<bound method DataFrame.info of             id    qid1    qid2  \\\n",
       "30590    30590   33359   47300   \n",
       "373874  373874  504726  504727   \n",
       "143802  143802  227748  227749   \n",
       "31848    31848   56761   58687   \n",
       "375107  375107  506096  506097   \n",
       "...        ...     ...     ...   \n",
       "95666    95666  159485  159486   \n",
       "146217  146217  231022  231023   \n",
       "240593  240593  162974  352437   \n",
       "350973  350973  479770  479771   \n",
       "37394    37394   68053   68054   \n",
       "\n",
       "                                                question1  \\\n",
       "30590                     How do I get my English better?   \n",
       "373874  What is the best stock market advice you have ...   \n",
       "143802       What is the reaction between AgCl and NH4OH?   \n",
       "31848       What are better forms of an education system?   \n",
       "375107              What are the top mobile social games?   \n",
       "...                                                   ...   \n",
       "95666   Physics: What is a layman's explanation of the...   \n",
       "146217     What are the major components of money market?   \n",
       "240593  How much cash can you keep at home legally in ...   \n",
       "350973              Difference between most and majority?   \n",
       "37394   How can I change a shortcut into an original f...   \n",
       "\n",
       "                                                question2  is_duplicate  \n",
       "30590                    How do I speak English fluently?             1  \n",
       "373874   What is the best stock advice you ever received?             1  \n",
       "143802      What is the reaction between CuOH and Oxygen?             0  \n",
       "31848   Are there better alternatives to the current e...             1  \n",
       "375107     What is the best mobile social gaming network?             0  \n",
       "...                                                   ...           ...  \n",
       "95666   What is the difference between quantum physics...             0  \n",
       "146217        The red scare in America during the 1950's?             0  \n",
       "240593  Are CCTV cameras in IT offices to keep a track...             0  \n",
       "350973  When conducting a consumer interest survey, wh...             0  \n",
       "37394   How can I recover shortcut files into original...             0  \n",
       "\n",
       "[30000 rows x 6 columns]>"
      ]
     },
     "execution_count": 5,
     "metadata": {},
     "output_type": "execute_result"
    }
   ],
   "source": [
    "df.info"
   ]
  },
  {
   "cell_type": "code",
   "execution_count": 6,
   "id": "c30fd4af",
   "metadata": {
    "execution": {
     "iopub.execute_input": "2025-05-07T14:48:45.097580Z",
     "iopub.status.busy": "2025-05-07T14:48:45.097186Z",
     "iopub.status.idle": "2025-05-07T14:48:45.120818Z",
     "shell.execute_reply": "2025-05-07T14:48:45.119621Z"
    },
    "papermill": {
     "duration": 0.033919,
     "end_time": "2025-05-07T14:48:45.122803",
     "exception": false,
     "start_time": "2025-05-07T14:48:45.088884",
     "status": "completed"
    },
    "tags": []
   },
   "outputs": [
    {
     "data": {
      "text/plain": [
       "id              0\n",
       "qid1            0\n",
       "qid2            0\n",
       "question1       0\n",
       "question2       0\n",
       "is_duplicate    0\n",
       "dtype: int64"
      ]
     },
     "execution_count": 6,
     "metadata": {},
     "output_type": "execute_result"
    }
   ],
   "source": [
    "#missing values\n",
    "df.isnull().sum()"
   ]
  },
  {
   "cell_type": "code",
   "execution_count": 7,
   "id": "121bb2e5",
   "metadata": {
    "execution": {
     "iopub.execute_input": "2025-05-07T14:48:45.138676Z",
     "iopub.status.busy": "2025-05-07T14:48:45.138174Z",
     "iopub.status.idle": "2025-05-07T14:48:45.203721Z",
     "shell.execute_reply": "2025-05-07T14:48:45.202740Z"
    },
    "papermill": {
     "duration": 0.075667,
     "end_time": "2025-05-07T14:48:45.205684",
     "exception": false,
     "start_time": "2025-05-07T14:48:45.130017",
     "status": "completed"
    },
    "tags": []
   },
   "outputs": [
    {
     "data": {
      "text/plain": [
       "0"
      ]
     },
     "execution_count": 7,
     "metadata": {},
     "output_type": "execute_result"
    }
   ],
   "source": [
    "#check for duplicates\n",
    "df.duplicated().sum()"
   ]
  },
  {
   "cell_type": "code",
   "execution_count": 8,
   "id": "92c70ae5",
   "metadata": {
    "execution": {
     "iopub.execute_input": "2025-05-07T14:48:45.221349Z",
     "iopub.status.busy": "2025-05-07T14:48:45.220962Z",
     "iopub.status.idle": "2025-05-07T14:48:45.231560Z",
     "shell.execute_reply": "2025-05-07T14:48:45.230379Z"
    },
    "papermill": {
     "duration": 0.020221,
     "end_time": "2025-05-07T14:48:45.233313",
     "exception": false,
     "start_time": "2025-05-07T14:48:45.213092",
     "status": "completed"
    },
    "tags": []
   },
   "outputs": [
    {
     "data": {
      "text/plain": [
       "is_duplicate\n",
       "0    18866\n",
       "1    11134\n",
       "Name: count, dtype: int64"
      ]
     },
     "execution_count": 8,
     "metadata": {},
     "output_type": "execute_result"
    }
   ],
   "source": [
    "df['is_duplicate'].value_counts()"
   ]
  },
  {
   "cell_type": "code",
   "execution_count": 9,
   "id": "a1a78f0d",
   "metadata": {
    "execution": {
     "iopub.execute_input": "2025-05-07T14:48:45.251431Z",
     "iopub.status.busy": "2025-05-07T14:48:45.250353Z",
     "iopub.status.idle": "2025-05-07T14:48:45.257960Z",
     "shell.execute_reply": "2025-05-07T14:48:45.256794Z"
    },
    "papermill": {
     "duration": 0.018655,
     "end_time": "2025-05-07T14:48:45.260176",
     "exception": false,
     "start_time": "2025-05-07T14:48:45.241521",
     "status": "completed"
    },
    "tags": []
   },
   "outputs": [
    {
     "data": {
      "text/plain": [
       "30000"
      ]
     },
     "execution_count": 9,
     "metadata": {},
     "output_type": "execute_result"
    }
   ],
   "source": [
    "df['is_duplicate'].count()"
   ]
  },
  {
   "cell_type": "code",
   "execution_count": 10,
   "id": "dfa8042f",
   "metadata": {
    "execution": {
     "iopub.execute_input": "2025-05-07T14:48:45.277398Z",
     "iopub.status.busy": "2025-05-07T14:48:45.276974Z",
     "iopub.status.idle": "2025-05-07T14:48:45.608237Z",
     "shell.execute_reply": "2025-05-07T14:48:45.607194Z"
    },
    "papermill": {
     "duration": 0.341815,
     "end_time": "2025-05-07T14:48:45.610203",
     "exception": false,
     "start_time": "2025-05-07T14:48:45.268388",
     "status": "completed"
    },
    "tags": []
   },
   "outputs": [
    {
     "data": {
      "text/plain": [
       "Text(0, 0.5, 'Frequency')"
      ]
     },
     "execution_count": 10,
     "metadata": {},
     "output_type": "execute_result"
    },
    {
     "data": {
      "image/png": "[encoded data removed]",
      "text/plain": [
       "<Figure size 640x480 with 1 Axes>"
      ]
     },
     "metadata": {},
     "output_type": "display_data"
    }
   ],
   "source": [
    "import matplotlib.pyplot as plt\n",
    "df['is_duplicate'].value_counts().plot(kind='bar')\n",
    "plt.xlabel(\"Question ID\")\n",
    "plt.ylabel(\"Frequency\")"
   ]
  },
  {
   "cell_type": "code",
   "execution_count": 11,
   "id": "fe3e6002",
   "metadata": {
    "execution": {
     "iopub.execute_input": "2025-05-07T14:48:45.626867Z",
     "iopub.status.busy": "2025-05-07T14:48:45.626481Z",
     "iopub.status.idle": "2025-05-07T14:48:45.667612Z",
     "shell.execute_reply": "2025-05-07T14:48:45.666537Z"
    },
    "papermill": {
     "duration": 0.051567,
     "end_time": "2025-05-07T14:48:45.669546",
     "exception": false,
     "start_time": "2025-05-07T14:48:45.617979",
     "status": "completed"
    },
    "tags": []
   },
   "outputs": [
    {
     "name": "stdout",
     "output_type": "stream",
     "text": [
      "Number of unique questions 55412\n",
      "Number of questions repeated 3432\n"
     ]
    }
   ],
   "source": [
    "# Unique questions\n",
    "qid = pd.Series(df['qid1'].tolist() + df['qid2'].tolist())\n",
    "print(f'Number of unique questions {np.unique(qid).shape[0]}')\n",
    "\n",
    "# Repeted questions\n",
    "x = qid.value_counts()>1\n",
    "print(f'Number of questions repeated {x[x].shape[0]}')\n"
   ]
  },
  {
   "cell_type": "code",
   "execution_count": 12,
   "id": "89e84171",
   "metadata": {
    "execution": {
     "iopub.execute_input": "2025-05-07T14:48:45.685915Z",
     "iopub.status.busy": "2025-05-07T14:48:45.685523Z",
     "iopub.status.idle": "2025-05-07T14:48:45.702863Z",
     "shell.execute_reply": "2025-05-07T14:48:45.701631Z"
    },
    "papermill": {
     "duration": 0.027954,
     "end_time": "2025-05-07T14:48:45.705043",
     "exception": false,
     "start_time": "2025-05-07T14:48:45.677089",
     "status": "completed"
    },
    "tags": []
   },
   "outputs": [
    {
     "data": {
      "text/plain": [
       "array([14, 12,  8, ...,  1,  1,  1])"
      ]
     },
     "execution_count": 12,
     "metadata": {},
     "output_type": "execute_result"
    }
   ],
   "source": [
    "qid.value_counts().values"
   ]
  },
  {
   "cell_type": "code",
   "execution_count": 13,
   "id": "db0cacf8",
   "metadata": {
    "execution": {
     "iopub.execute_input": "2025-05-07T14:48:45.722980Z",
     "iopub.status.busy": "2025-05-07T14:48:45.721920Z",
     "iopub.status.idle": "2025-05-07T14:48:46.456393Z",
     "shell.execute_reply": "2025-05-07T14:48:46.455176Z"
    },
    "papermill": {
     "duration": 0.745236,
     "end_time": "2025-05-07T14:48:46.458157",
     "exception": false,
     "start_time": "2025-05-07T14:48:45.712921",
     "status": "completed"
    },
    "tags": []
   },
   "outputs": [
    {
     "data": {
      "image/png": "[encoded data removed]",
      "text/plain": [
       "<Figure size 640x480 with 1 Axes>"
      ]
     },
     "metadata": {},
     "output_type": "display_data"
    }
   ],
   "source": [
    "plt.hist(qid.value_counts().values, bins=160)\n",
    "plt.yscale('log')\n",
    "plt.show()"
   ]
  },
  {
   "cell_type": "markdown",
   "id": "d87e8f84",
   "metadata": {
    "papermill": {
     "duration": 0.00755,
     "end_time": "2025-05-07T14:48:46.473887",
     "exception": false,
     "start_time": "2025-05-07T14:48:46.466337",
     "status": "completed"
    },
    "tags": []
   },
   "source": [
    "qid1 , qid2, question1, question2, is_duplicate <br>\n",
    "              bow        bow        randomforest"
   ]
  },
  {
   "cell_type": "code",
   "execution_count": 14,
   "id": "c08939d5",
   "metadata": {
    "execution": {
     "iopub.execute_input": "2025-05-07T14:48:46.490821Z",
     "iopub.status.busy": "2025-05-07T14:48:46.490416Z",
     "iopub.status.idle": "2025-05-07T14:48:46.495014Z",
     "shell.execute_reply": "2025-05-07T14:48:46.494138Z"
    },
    "papermill": {
     "duration": 0.015272,
     "end_time": "2025-05-07T14:48:46.496783",
     "exception": false,
     "start_time": "2025-05-07T14:48:46.481511",
     "status": "completed"
    },
    "tags": []
   },
   "outputs": [],
   "source": [
    "# Feature engineering"
   ]
  },
  {
   "cell_type": "code",
   "execution_count": 15,
   "id": "5cdc8886",
   "metadata": {
    "execution": {
     "iopub.execute_input": "2025-05-07T14:48:46.514102Z",
     "iopub.status.busy": "2025-05-07T14:48:46.513732Z",
     "iopub.status.idle": "2025-05-07T14:48:46.539421Z",
     "shell.execute_reply": "2025-05-07T14:48:46.538351Z"
    },
    "papermill": {
     "duration": 0.036425,
     "end_time": "2025-05-07T14:48:46.541249",
     "exception": false,
     "start_time": "2025-05-07T14:48:46.504824",
     "status": "completed"
    },
    "tags": []
   },
   "outputs": [
    {
     "data": {
      "text/html": [
       "<div>\n",
       "<style scoped>\n",
       "    .dataframe tbody tr th:only-of-type {\n",
       "        vertical-align: middle;\n",
       "    }\n",
       "\n",
       "    .dataframe tbody tr th {\n",
       "        vertical-align: top;\n",
       "    }\n",
       "\n",
       "    .dataframe thead th {\n",
       "        text-align: right;\n",
       "    }\n",
       "</style>\n",
       "<table border=\"1\" class=\"dataframe\">\n",
       "  <thead>\n",
       "    <tr style=\"text-align: right;\">\n",
       "      <th></th>\n",
       "      <th>question1</th>\n",
       "      <th>question2</th>\n",
       "    </tr>\n",
       "  </thead>\n",
       "  <tbody>\n",
       "    <tr>\n",
       "      <th>30590</th>\n",
       "      <td>How do I get my English better?</td>\n",
       "      <td>How do I speak English fluently?</td>\n",
       "    </tr>\n",
       "    <tr>\n",
       "      <th>373874</th>\n",
       "      <td>What is the best stock market advice you have ...</td>\n",
       "      <td>What is the best stock advice you ever received?</td>\n",
       "    </tr>\n",
       "    <tr>\n",
       "      <th>143802</th>\n",
       "      <td>What is the reaction between AgCl and NH4OH?</td>\n",
       "      <td>What is the reaction between CuOH and Oxygen?</td>\n",
       "    </tr>\n",
       "    <tr>\n",
       "      <th>31848</th>\n",
       "      <td>What are better forms of an education system?</td>\n",
       "      <td>Are there better alternatives to the current e...</td>\n",
       "    </tr>\n",
       "    <tr>\n",
       "      <th>375107</th>\n",
       "      <td>What are the top mobile social games?</td>\n",
       "      <td>What is the best mobile social gaming network?</td>\n",
       "    </tr>\n",
       "  </tbody>\n",
       "</table>\n",
       "</div>"
      ],
      "text/plain": [
       "                                                question1  \\\n",
       "30590                     How do I get my English better?   \n",
       "373874  What is the best stock market advice you have ...   \n",
       "143802       What is the reaction between AgCl and NH4OH?   \n",
       "31848       What are better forms of an education system?   \n",
       "375107              What are the top mobile social games?   \n",
       "\n",
       "                                                question2  \n",
       "30590                    How do I speak English fluently?  \n",
       "373874   What is the best stock advice you ever received?  \n",
       "143802      What is the reaction between CuOH and Oxygen?  \n",
       "31848   Are there better alternatives to the current e...  \n",
       "375107     What is the best mobile social gaming network?  "
      ]
     },
     "execution_count": 15,
     "metadata": {},
     "output_type": "execute_result"
    }
   ],
   "source": [
    "ques_df = df[['question1','question2']]\n",
    "ques_df.head()\n"
   ]
  },
  {
   "cell_type": "code",
   "execution_count": 16,
   "id": "afeaa4a8",
   "metadata": {
    "execution": {
     "iopub.execute_input": "2025-05-07T14:48:46.558973Z",
     "iopub.status.busy": "2025-05-07T14:48:46.558553Z",
     "iopub.status.idle": "2025-05-07T14:48:50.331694Z",
     "shell.execute_reply": "2025-05-07T14:48:50.330621Z"
    },
    "papermill": {
     "duration": 3.784471,
     "end_time": "2025-05-07T14:48:50.333885",
     "exception": false,
     "start_time": "2025-05-07T14:48:46.549414",
     "status": "completed"
    },
    "tags": []
   },
   "outputs": [],
   "source": [
    "from sklearn.feature_extraction.text import CountVectorizer\n",
    "\n",
    "# Merge all questions into one list\n",
    "questions = list(ques_df['question1'].fillna(\"\")) + list(ques_df['question2'].fillna(\"\"))\n",
    "\n",
    "# Vectorize\n",
    "cv = CountVectorizer(max_features=3000)\n",
    "q_vectors = cv.fit_transform(questions).toarray()\n",
    "\n",
    "# Split back into q1 and q2 arrays\n",
    "half = len(q_vectors) // 2\n",
    "q1_arr, q2_arr = np.vsplit(q_vectors, [half])"
   ]
  },
  {
   "cell_type": "code",
   "execution_count": 17,
   "id": "3dd7702a",
   "metadata": {
    "execution": {
     "iopub.execute_input": "2025-05-07T14:48:50.352381Z",
     "iopub.status.busy": "2025-05-07T14:48:50.351395Z",
     "iopub.status.idle": "2025-05-07T14:48:54.066829Z",
     "shell.execute_reply": "2025-05-07T14:48:54.065931Z"
    },
    "papermill": {
     "duration": 3.726106,
     "end_time": "2025-05-07T14:48:54.068326",
     "exception": false,
     "start_time": "2025-05-07T14:48:50.342220",
     "status": "completed"
    },
    "tags": []
   },
   "outputs": [
    {
     "data": {
      "text/html": [
       "<div>\n",
       "<style scoped>\n",
       "    .dataframe tbody tr th:only-of-type {\n",
       "        vertical-align: middle;\n",
       "    }\n",
       "\n",
       "    .dataframe tbody tr th {\n",
       "        vertical-align: top;\n",
       "    }\n",
       "\n",
       "    .dataframe thead th {\n",
       "        text-align: right;\n",
       "    }\n",
       "</style>\n",
       "<table border=\"1\" class=\"dataframe\">\n",
       "  <thead>\n",
       "    <tr style=\"text-align: right;\">\n",
       "      <th></th>\n",
       "      <th>0</th>\n",
       "      <th>1</th>\n",
       "      <th>2</th>\n",
       "      <th>3</th>\n",
       "      <th>4</th>\n",
       "      <th>5</th>\n",
       "      <th>6</th>\n",
       "      <th>7</th>\n",
       "      <th>8</th>\n",
       "      <th>9</th>\n",
       "      <th>...</th>\n",
       "      <th>2990</th>\n",
       "      <th>2991</th>\n",
       "      <th>2992</th>\n",
       "      <th>2993</th>\n",
       "      <th>2994</th>\n",
       "      <th>2995</th>\n",
       "      <th>2996</th>\n",
       "      <th>2997</th>\n",
       "      <th>2998</th>\n",
       "      <th>2999</th>\n",
       "    </tr>\n",
       "  </thead>\n",
       "  <tbody>\n",
       "    <tr>\n",
       "      <th>30590</th>\n",
       "      <td>0</td>\n",
       "      <td>0</td>\n",
       "      <td>0</td>\n",
       "      <td>0</td>\n",
       "      <td>0</td>\n",
       "      <td>0</td>\n",
       "      <td>0</td>\n",
       "      <td>0</td>\n",
       "      <td>0</td>\n",
       "      <td>0</td>\n",
       "      <td>...</td>\n",
       "      <td>0</td>\n",
       "      <td>0</td>\n",
       "      <td>0</td>\n",
       "      <td>0</td>\n",
       "      <td>0</td>\n",
       "      <td>0</td>\n",
       "      <td>0</td>\n",
       "      <td>0</td>\n",
       "      <td>0</td>\n",
       "      <td>0</td>\n",
       "    </tr>\n",
       "    <tr>\n",
       "      <th>373874</th>\n",
       "      <td>0</td>\n",
       "      <td>0</td>\n",
       "      <td>0</td>\n",
       "      <td>0</td>\n",
       "      <td>0</td>\n",
       "      <td>0</td>\n",
       "      <td>0</td>\n",
       "      <td>0</td>\n",
       "      <td>0</td>\n",
       "      <td>0</td>\n",
       "      <td>...</td>\n",
       "      <td>0</td>\n",
       "      <td>1</td>\n",
       "      <td>0</td>\n",
       "      <td>0</td>\n",
       "      <td>0</td>\n",
       "      <td>0</td>\n",
       "      <td>0</td>\n",
       "      <td>0</td>\n",
       "      <td>0</td>\n",
       "      <td>0</td>\n",
       "    </tr>\n",
       "    <tr>\n",
       "      <th>143802</th>\n",
       "      <td>0</td>\n",
       "      <td>0</td>\n",
       "      <td>0</td>\n",
       "      <td>0</td>\n",
       "      <td>0</td>\n",
       "      <td>0</td>\n",
       "      <td>0</td>\n",
       "      <td>0</td>\n",
       "      <td>0</td>\n",
       "      <td>0</td>\n",
       "      <td>...</td>\n",
       "      <td>0</td>\n",
       "      <td>0</td>\n",
       "      <td>0</td>\n",
       "      <td>0</td>\n",
       "      <td>0</td>\n",
       "      <td>0</td>\n",
       "      <td>0</td>\n",
       "      <td>0</td>\n",
       "      <td>0</td>\n",
       "      <td>0</td>\n",
       "    </tr>\n",
       "    <tr>\n",
       "      <th>31848</th>\n",
       "      <td>0</td>\n",
       "      <td>0</td>\n",
       "      <td>0</td>\n",
       "      <td>0</td>\n",
       "      <td>0</td>\n",
       "      <td>0</td>\n",
       "      <td>0</td>\n",
       "      <td>0</td>\n",
       "      <td>0</td>\n",
       "      <td>0</td>\n",
       "      <td>...</td>\n",
       "      <td>0</td>\n",
       "      <td>0</td>\n",
       "      <td>0</td>\n",
       "      <td>0</td>\n",
       "      <td>0</td>\n",
       "      <td>0</td>\n",
       "      <td>0</td>\n",
       "      <td>0</td>\n",
       "      <td>0</td>\n",
       "      <td>0</td>\n",
       "    </tr>\n",
       "    <tr>\n",
       "      <th>375107</th>\n",
       "      <td>0</td>\n",
       "      <td>0</td>\n",
       "      <td>0</td>\n",
       "      <td>0</td>\n",
       "      <td>0</td>\n",
       "      <td>0</td>\n",
       "      <td>0</td>\n",
       "      <td>0</td>\n",
       "      <td>0</td>\n",
       "      <td>0</td>\n",
       "      <td>...</td>\n",
       "      <td>0</td>\n",
       "      <td>0</td>\n",
       "      <td>0</td>\n",
       "      <td>0</td>\n",
       "      <td>0</td>\n",
       "      <td>0</td>\n",
       "      <td>0</td>\n",
       "      <td>0</td>\n",
       "      <td>0</td>\n",
       "      <td>0</td>\n",
       "    </tr>\n",
       "    <tr>\n",
       "      <th>...</th>\n",
       "      <td>...</td>\n",
       "      <td>...</td>\n",
       "      <td>...</td>\n",
       "      <td>...</td>\n",
       "      <td>...</td>\n",
       "      <td>...</td>\n",
       "      <td>...</td>\n",
       "      <td>...</td>\n",
       "      <td>...</td>\n",
       "      <td>...</td>\n",
       "      <td>...</td>\n",
       "      <td>...</td>\n",
       "      <td>...</td>\n",
       "      <td>...</td>\n",
       "      <td>...</td>\n",
       "      <td>...</td>\n",
       "      <td>...</td>\n",
       "      <td>...</td>\n",
       "      <td>...</td>\n",
       "      <td>...</td>\n",
       "      <td>...</td>\n",
       "    </tr>\n",
       "    <tr>\n",
       "      <th>95666</th>\n",
       "      <td>0</td>\n",
       "      <td>0</td>\n",
       "      <td>0</td>\n",
       "      <td>0</td>\n",
       "      <td>0</td>\n",
       "      <td>0</td>\n",
       "      <td>0</td>\n",
       "      <td>0</td>\n",
       "      <td>0</td>\n",
       "      <td>0</td>\n",
       "      <td>...</td>\n",
       "      <td>0</td>\n",
       "      <td>0</td>\n",
       "      <td>0</td>\n",
       "      <td>0</td>\n",
       "      <td>0</td>\n",
       "      <td>0</td>\n",
       "      <td>0</td>\n",
       "      <td>0</td>\n",
       "      <td>0</td>\n",
       "      <td>0</td>\n",
       "    </tr>\n",
       "    <tr>\n",
       "      <th>146217</th>\n",
       "      <td>0</td>\n",
       "      <td>0</td>\n",
       "      <td>0</td>\n",
       "      <td>0</td>\n",
       "      <td>0</td>\n",
       "      <td>0</td>\n",
       "      <td>0</td>\n",
       "      <td>0</td>\n",
       "      <td>0</td>\n",
       "      <td>0</td>\n",
       "      <td>...</td>\n",
       "      <td>0</td>\n",
       "      <td>0</td>\n",
       "      <td>0</td>\n",
       "      <td>0</td>\n",
       "      <td>0</td>\n",
       "      <td>0</td>\n",
       "      <td>0</td>\n",
       "      <td>0</td>\n",
       "      <td>0</td>\n",
       "      <td>0</td>\n",
       "    </tr>\n",
       "    <tr>\n",
       "      <th>240593</th>\n",
       "      <td>0</td>\n",
       "      <td>0</td>\n",
       "      <td>0</td>\n",
       "      <td>0</td>\n",
       "      <td>0</td>\n",
       "      <td>0</td>\n",
       "      <td>0</td>\n",
       "      <td>0</td>\n",
       "      <td>0</td>\n",
       "      <td>0</td>\n",
       "      <td>...</td>\n",
       "      <td>0</td>\n",
       "      <td>0</td>\n",
       "      <td>0</td>\n",
       "      <td>0</td>\n",
       "      <td>0</td>\n",
       "      <td>0</td>\n",
       "      <td>0</td>\n",
       "      <td>0</td>\n",
       "      <td>0</td>\n",
       "      <td>0</td>\n",
       "    </tr>\n",
       "    <tr>\n",
       "      <th>350973</th>\n",
       "      <td>0</td>\n",
       "      <td>0</td>\n",
       "      <td>0</td>\n",
       "      <td>0</td>\n",
       "      <td>0</td>\n",
       "      <td>0</td>\n",
       "      <td>0</td>\n",
       "      <td>0</td>\n",
       "      <td>0</td>\n",
       "      <td>0</td>\n",
       "      <td>...</td>\n",
       "      <td>0</td>\n",
       "      <td>0</td>\n",
       "      <td>0</td>\n",
       "      <td>0</td>\n",
       "      <td>0</td>\n",
       "      <td>0</td>\n",
       "      <td>0</td>\n",
       "      <td>0</td>\n",
       "      <td>0</td>\n",
       "      <td>0</td>\n",
       "    </tr>\n",
       "    <tr>\n",
       "      <th>37394</th>\n",
       "      <td>0</td>\n",
       "      <td>0</td>\n",
       "      <td>0</td>\n",
       "      <td>0</td>\n",
       "      <td>0</td>\n",
       "      <td>0</td>\n",
       "      <td>0</td>\n",
       "      <td>0</td>\n",
       "      <td>0</td>\n",
       "      <td>0</td>\n",
       "      <td>...</td>\n",
       "      <td>0</td>\n",
       "      <td>0</td>\n",
       "      <td>0</td>\n",
       "      <td>0</td>\n",
       "      <td>0</td>\n",
       "      <td>0</td>\n",
       "      <td>0</td>\n",
       "      <td>0</td>\n",
       "      <td>0</td>\n",
       "      <td>0</td>\n",
       "    </tr>\n",
       "  </tbody>\n",
       "</table>\n",
       "<p>30000 rows × 6000 columns</p>\n",
       "</div>"
      ],
      "text/plain": [
       "        0     1     2     3     4     5     6     7     8     9     ...  2990  \\\n",
       "30590      0     0     0     0     0     0     0     0     0     0  ...     0   \n",
       "373874     0     0     0     0     0     0     0     0     0     0  ...     0   \n",
       "143802     0     0     0     0     0     0     0     0     0     0  ...     0   \n",
       "31848      0     0     0     0     0     0     0     0     0     0  ...     0   \n",
       "375107     0     0     0     0     0     0     0     0     0     0  ...     0   \n",
       "...      ...   ...   ...   ...   ...   ...   ...   ...   ...   ...  ...   ...   \n",
       "95666      0     0     0     0     0     0     0     0     0     0  ...     0   \n",
       "146217     0     0     0     0     0     0     0     0     0     0  ...     0   \n",
       "240593     0     0     0     0     0     0     0     0     0     0  ...     0   \n",
       "350973     0     0     0     0     0     0     0     0     0     0  ...     0   \n",
       "37394      0     0     0     0     0     0     0     0     0     0  ...     0   \n",
       "\n",
       "        2991  2992  2993  2994  2995  2996  2997  2998  2999  \n",
       "30590      0     0     0     0     0     0     0     0     0  \n",
       "373874     1     0     0     0     0     0     0     0     0  \n",
       "143802     0     0     0     0     0     0     0     0     0  \n",
       "31848      0     0     0     0     0     0     0     0     0  \n",
       "375107     0     0     0     0     0     0     0     0     0  \n",
       "...      ...   ...   ...   ...   ...   ...   ...   ...   ...  \n",
       "95666      0     0     0     0     0     0     0     0     0  \n",
       "146217     0     0     0     0     0     0     0     0     0  \n",
       "240593     0     0     0     0     0     0     0     0     0  \n",
       "350973     0     0     0     0     0     0     0     0     0  \n",
       "37394      0     0     0     0     0     0     0     0     0  \n",
       "\n",
       "[30000 rows x 6000 columns]"
      ]
     },
     "execution_count": 17,
     "metadata": {},
     "output_type": "execute_result"
    }
   ],
   "source": [
    "temp_df1 = pd.DataFrame(q1_arr, index = ques_df.index)\n",
    "temp_df2 = pd.DataFrame(q2_arr, index = ques_df.index)\n",
    "\n",
    "temp_df = pd.concat([temp_df1,temp_df2],axis=1)\n",
    "temp_df"
   ]
  },
  {
   "cell_type": "code",
   "execution_count": 18,
   "id": "389bffc1",
   "metadata": {
    "execution": {
     "iopub.execute_input": "2025-05-07T14:48:54.086120Z",
     "iopub.status.busy": "2025-05-07T14:48:54.085212Z",
     "iopub.status.idle": "2025-05-07T14:48:54.123297Z",
     "shell.execute_reply": "2025-05-07T14:48:54.122414Z"
    },
    "papermill": {
     "duration": 0.048178,
     "end_time": "2025-05-07T14:48:54.124828",
     "exception": false,
     "start_time": "2025-05-07T14:48:54.076650",
     "status": "completed"
    },
    "tags": []
   },
   "outputs": [
    {
     "data": {
      "text/html": [
       "<div>\n",
       "<style scoped>\n",
       "    .dataframe tbody tr th:only-of-type {\n",
       "        vertical-align: middle;\n",
       "    }\n",
       "\n",
       "    .dataframe tbody tr th {\n",
       "        vertical-align: top;\n",
       "    }\n",
       "\n",
       "    .dataframe thead th {\n",
       "        text-align: right;\n",
       "    }\n",
       "</style>\n",
       "<table border=\"1\" class=\"dataframe\">\n",
       "  <thead>\n",
       "    <tr style=\"text-align: right;\">\n",
       "      <th></th>\n",
       "      <th>0</th>\n",
       "      <th>1</th>\n",
       "      <th>2</th>\n",
       "      <th>3</th>\n",
       "      <th>4</th>\n",
       "      <th>5</th>\n",
       "      <th>6</th>\n",
       "      <th>7</th>\n",
       "      <th>8</th>\n",
       "      <th>9</th>\n",
       "      <th>...</th>\n",
       "      <th>2991</th>\n",
       "      <th>2992</th>\n",
       "      <th>2993</th>\n",
       "      <th>2994</th>\n",
       "      <th>2995</th>\n",
       "      <th>2996</th>\n",
       "      <th>2997</th>\n",
       "      <th>2998</th>\n",
       "      <th>2999</th>\n",
       "      <th>is_duplicate</th>\n",
       "    </tr>\n",
       "  </thead>\n",
       "  <tbody>\n",
       "    <tr>\n",
       "      <th>30590</th>\n",
       "      <td>0</td>\n",
       "      <td>0</td>\n",
       "      <td>0</td>\n",
       "      <td>0</td>\n",
       "      <td>0</td>\n",
       "      <td>0</td>\n",
       "      <td>0</td>\n",
       "      <td>0</td>\n",
       "      <td>0</td>\n",
       "      <td>0</td>\n",
       "      <td>...</td>\n",
       "      <td>0</td>\n",
       "      <td>0</td>\n",
       "      <td>0</td>\n",
       "      <td>0</td>\n",
       "      <td>0</td>\n",
       "      <td>0</td>\n",
       "      <td>0</td>\n",
       "      <td>0</td>\n",
       "      <td>0</td>\n",
       "      <td>1</td>\n",
       "    </tr>\n",
       "    <tr>\n",
       "      <th>373874</th>\n",
       "      <td>0</td>\n",
       "      <td>0</td>\n",
       "      <td>0</td>\n",
       "      <td>0</td>\n",
       "      <td>0</td>\n",
       "      <td>0</td>\n",
       "      <td>0</td>\n",
       "      <td>0</td>\n",
       "      <td>0</td>\n",
       "      <td>0</td>\n",
       "      <td>...</td>\n",
       "      <td>1</td>\n",
       "      <td>0</td>\n",
       "      <td>0</td>\n",
       "      <td>0</td>\n",
       "      <td>0</td>\n",
       "      <td>0</td>\n",
       "      <td>0</td>\n",
       "      <td>0</td>\n",
       "      <td>0</td>\n",
       "      <td>1</td>\n",
       "    </tr>\n",
       "    <tr>\n",
       "      <th>143802</th>\n",
       "      <td>0</td>\n",
       "      <td>0</td>\n",
       "      <td>0</td>\n",
       "      <td>0</td>\n",
       "      <td>0</td>\n",
       "      <td>0</td>\n",
       "      <td>0</td>\n",
       "      <td>0</td>\n",
       "      <td>0</td>\n",
       "      <td>0</td>\n",
       "      <td>...</td>\n",
       "      <td>0</td>\n",
       "      <td>0</td>\n",
       "      <td>0</td>\n",
       "      <td>0</td>\n",
       "      <td>0</td>\n",
       "      <td>0</td>\n",
       "      <td>0</td>\n",
       "      <td>0</td>\n",
       "      <td>0</td>\n",
       "      <td>0</td>\n",
       "    </tr>\n",
       "    <tr>\n",
       "      <th>31848</th>\n",
       "      <td>0</td>\n",
       "      <td>0</td>\n",
       "      <td>0</td>\n",
       "      <td>0</td>\n",
       "      <td>0</td>\n",
       "      <td>0</td>\n",
       "      <td>0</td>\n",
       "      <td>0</td>\n",
       "      <td>0</td>\n",
       "      <td>0</td>\n",
       "      <td>...</td>\n",
       "      <td>0</td>\n",
       "      <td>0</td>\n",
       "      <td>0</td>\n",
       "      <td>0</td>\n",
       "      <td>0</td>\n",
       "      <td>0</td>\n",
       "      <td>0</td>\n",
       "      <td>0</td>\n",
       "      <td>0</td>\n",
       "      <td>1</td>\n",
       "    </tr>\n",
       "    <tr>\n",
       "      <th>375107</th>\n",
       "      <td>0</td>\n",
       "      <td>0</td>\n",
       "      <td>0</td>\n",
       "      <td>0</td>\n",
       "      <td>0</td>\n",
       "      <td>0</td>\n",
       "      <td>0</td>\n",
       "      <td>0</td>\n",
       "      <td>0</td>\n",
       "      <td>0</td>\n",
       "      <td>...</td>\n",
       "      <td>0</td>\n",
       "      <td>0</td>\n",
       "      <td>0</td>\n",
       "      <td>0</td>\n",
       "      <td>0</td>\n",
       "      <td>0</td>\n",
       "      <td>0</td>\n",
       "      <td>0</td>\n",
       "      <td>0</td>\n",
       "      <td>0</td>\n",
       "    </tr>\n",
       "    <tr>\n",
       "      <th>...</th>\n",
       "      <td>...</td>\n",
       "      <td>...</td>\n",
       "      <td>...</td>\n",
       "      <td>...</td>\n",
       "      <td>...</td>\n",
       "      <td>...</td>\n",
       "      <td>...</td>\n",
       "      <td>...</td>\n",
       "      <td>...</td>\n",
       "      <td>...</td>\n",
       "      <td>...</td>\n",
       "      <td>...</td>\n",
       "      <td>...</td>\n",
       "      <td>...</td>\n",
       "      <td>...</td>\n",
       "      <td>...</td>\n",
       "      <td>...</td>\n",
       "      <td>...</td>\n",
       "      <td>...</td>\n",
       "      <td>...</td>\n",
       "      <td>...</td>\n",
       "    </tr>\n",
       "    <tr>\n",
       "      <th>95666</th>\n",
       "      <td>0</td>\n",
       "      <td>0</td>\n",
       "      <td>0</td>\n",
       "      <td>0</td>\n",
       "      <td>0</td>\n",
       "      <td>0</td>\n",
       "      <td>0</td>\n",
       "      <td>0</td>\n",
       "      <td>0</td>\n",
       "      <td>0</td>\n",
       "      <td>...</td>\n",
       "      <td>0</td>\n",
       "      <td>0</td>\n",
       "      <td>0</td>\n",
       "      <td>0</td>\n",
       "      <td>0</td>\n",
       "      <td>0</td>\n",
       "      <td>0</td>\n",
       "      <td>0</td>\n",
       "      <td>0</td>\n",
       "      <td>0</td>\n",
       "    </tr>\n",
       "    <tr>\n",
       "      <th>146217</th>\n",
       "      <td>0</td>\n",
       "      <td>0</td>\n",
       "      <td>0</td>\n",
       "      <td>0</td>\n",
       "      <td>0</td>\n",
       "      <td>0</td>\n",
       "      <td>0</td>\n",
       "      <td>0</td>\n",
       "      <td>0</td>\n",
       "      <td>0</td>\n",
       "      <td>...</td>\n",
       "      <td>0</td>\n",
       "      <td>0</td>\n",
       "      <td>0</td>\n",
       "      <td>0</td>\n",
       "      <td>0</td>\n",
       "      <td>0</td>\n",
       "      <td>0</td>\n",
       "      <td>0</td>\n",
       "      <td>0</td>\n",
       "      <td>0</td>\n",
       "    </tr>\n",
       "    <tr>\n",
       "      <th>240593</th>\n",
       "      <td>0</td>\n",
       "      <td>0</td>\n",
       "      <td>0</td>\n",
       "      <td>0</td>\n",
       "      <td>0</td>\n",
       "      <td>0</td>\n",
       "      <td>0</td>\n",
       "      <td>0</td>\n",
       "      <td>0</td>\n",
       "      <td>0</td>\n",
       "      <td>...</td>\n",
       "      <td>0</td>\n",
       "      <td>0</td>\n",
       "      <td>0</td>\n",
       "      <td>0</td>\n",
       "      <td>0</td>\n",
       "      <td>0</td>\n",
       "      <td>0</td>\n",
       "      <td>0</td>\n",
       "      <td>0</td>\n",
       "      <td>0</td>\n",
       "    </tr>\n",
       "    <tr>\n",
       "      <th>350973</th>\n",
       "      <td>0</td>\n",
       "      <td>0</td>\n",
       "      <td>0</td>\n",
       "      <td>0</td>\n",
       "      <td>0</td>\n",
       "      <td>0</td>\n",
       "      <td>0</td>\n",
       "      <td>0</td>\n",
       "      <td>0</td>\n",
       "      <td>0</td>\n",
       "      <td>...</td>\n",
       "      <td>0</td>\n",
       "      <td>0</td>\n",
       "      <td>0</td>\n",
       "      <td>0</td>\n",
       "      <td>0</td>\n",
       "      <td>0</td>\n",
       "      <td>0</td>\n",
       "      <td>0</td>\n",
       "      <td>0</td>\n",
       "      <td>0</td>\n",
       "    </tr>\n",
       "    <tr>\n",
       "      <th>37394</th>\n",
       "      <td>0</td>\n",
       "      <td>0</td>\n",
       "      <td>0</td>\n",
       "      <td>0</td>\n",
       "      <td>0</td>\n",
       "      <td>0</td>\n",
       "      <td>0</td>\n",
       "      <td>0</td>\n",
       "      <td>0</td>\n",
       "      <td>0</td>\n",
       "      <td>...</td>\n",
       "      <td>0</td>\n",
       "      <td>0</td>\n",
       "      <td>0</td>\n",
       "      <td>0</td>\n",
       "      <td>0</td>\n",
       "      <td>0</td>\n",
       "      <td>0</td>\n",
       "      <td>0</td>\n",
       "      <td>0</td>\n",
       "      <td>0</td>\n",
       "    </tr>\n",
       "  </tbody>\n",
       "</table>\n",
       "<p>30000 rows × 6001 columns</p>\n",
       "</div>"
      ],
      "text/plain": [
       "        0  1  2  3  4  5  6  7  8  9  ...  2991  2992  2993  2994  2995  2996  \\\n",
       "30590   0  0  0  0  0  0  0  0  0  0  ...     0     0     0     0     0     0   \n",
       "373874  0  0  0  0  0  0  0  0  0  0  ...     1     0     0     0     0     0   \n",
       "143802  0  0  0  0  0  0  0  0  0  0  ...     0     0     0     0     0     0   \n",
       "31848   0  0  0  0  0  0  0  0  0  0  ...     0     0     0     0     0     0   \n",
       "375107  0  0  0  0  0  0  0  0  0  0  ...     0     0     0     0     0     0   \n",
       "...    .. .. .. .. .. .. .. .. .. ..  ...   ...   ...   ...   ...   ...   ...   \n",
       "95666   0  0  0  0  0  0  0  0  0  0  ...     0     0     0     0     0     0   \n",
       "146217  0  0  0  0  0  0  0  0  0  0  ...     0     0     0     0     0     0   \n",
       "240593  0  0  0  0  0  0  0  0  0  0  ...     0     0     0     0     0     0   \n",
       "350973  0  0  0  0  0  0  0  0  0  0  ...     0     0     0     0     0     0   \n",
       "37394   0  0  0  0  0  0  0  0  0  0  ...     0     0     0     0     0     0   \n",
       "\n",
       "        2997  2998  2999  is_duplicate  \n",
       "30590      0     0     0             1  \n",
       "373874     0     0     0             1  \n",
       "143802     0     0     0             0  \n",
       "31848      0     0     0             1  \n",
       "375107     0     0     0             0  \n",
       "...      ...   ...   ...           ...  \n",
       "95666      0     0     0             0  \n",
       "146217     0     0     0             0  \n",
       "240593     0     0     0             0  \n",
       "350973     0     0     0             0  \n",
       "37394      0     0     0             0  \n",
       "\n",
       "[30000 rows x 6001 columns]"
      ]
     },
     "execution_count": 18,
     "metadata": {},
     "output_type": "execute_result"
    }
   ],
   "source": [
    "temp_df['is_duplicate'] = df['is_duplicate']\n",
    "temp_df"
   ]
  },
  {
   "cell_type": "code",
   "execution_count": 19,
   "id": "29f28aa6",
   "metadata": {
    "execution": {
     "iopub.execute_input": "2025-05-07T14:48:54.142432Z",
     "iopub.status.busy": "2025-05-07T14:48:54.142024Z",
     "iopub.status.idle": "2025-05-07T14:48:54.146073Z",
     "shell.execute_reply": "2025-05-07T14:48:54.145305Z"
    },
    "papermill": {
     "duration": 0.014454,
     "end_time": "2025-05-07T14:48:54.147626",
     "exception": false,
     "start_time": "2025-05-07T14:48:54.133172",
     "status": "completed"
    },
    "tags": []
   },
   "outputs": [],
   "source": [
    "# EDA\n"
   ]
  },
  {
   "cell_type": "markdown",
   "id": "35bd7f75",
   "metadata": {
    "papermill": {
     "duration": 0.007611,
     "end_time": "2025-05-07T14:48:54.163435",
     "exception": false,
     "start_time": "2025-05-07T14:48:54.155824",
     "status": "completed"
    },
    "tags": []
   },
   "source": [
    "### Data Preprocessing & Transformation\n"
   ]
  },
  {
   "cell_type": "code",
   "execution_count": 20,
   "id": "ce78000e",
   "metadata": {
    "execution": {
     "iopub.execute_input": "2025-05-07T14:48:54.181155Z",
     "iopub.status.busy": "2025-05-07T14:48:54.180307Z",
     "iopub.status.idle": "2025-05-07T14:48:55.735696Z",
     "shell.execute_reply": "2025-05-07T14:48:55.734465Z"
    },
    "papermill": {
     "duration": 1.56656,
     "end_time": "2025-05-07T14:48:55.737862",
     "exception": false,
     "start_time": "2025-05-07T14:48:54.171302",
     "status": "completed"
    },
    "tags": []
   },
   "outputs": [
    {
     "data": {
      "text/plain": [
       "array([[0, 0, 0, ..., 0, 0, 0],\n",
       "       [0, 0, 0, ..., 0, 0, 0],\n",
       "       [0, 0, 0, ..., 0, 0, 0],\n",
       "       ...,\n",
       "       [0, 0, 0, ..., 0, 0, 0],\n",
       "       [0, 0, 0, ..., 0, 0, 0],\n",
       "       [0, 0, 0, ..., 0, 0, 0]])"
      ]
     },
     "execution_count": 20,
     "metadata": {},
     "output_type": "execute_result"
    }
   ],
   "source": [
    "temp_df.iloc[:,0:-1].values"
   ]
  },
  {
   "cell_type": "code",
   "execution_count": 21,
   "id": "e39a3ad2",
   "metadata": {
    "execution": {
     "iopub.execute_input": "2025-05-07T14:48:55.758047Z",
     "iopub.status.busy": "2025-05-07T14:48:55.757020Z",
     "iopub.status.idle": "2025-05-07T14:49:01.363532Z",
     "shell.execute_reply": "2025-05-07T14:49:01.362460Z"
    },
    "papermill": {
     "duration": 5.618858,
     "end_time": "2025-05-07T14:49:01.365814",
     "exception": false,
     "start_time": "2025-05-07T14:48:55.746956",
     "status": "completed"
    },
    "tags": []
   },
   "outputs": [],
   "source": [
    "#importing and splitting data\n",
    "from sklearn.model_selection import train_test_split\n",
    "X_train, X_test, y_train, y_test = train_test_split(temp_df.iloc[:,0:-1].values,temp_df.iloc[:,-1].values,test_size=0.2, random_state=2)\n",
    "\n"
   ]
  },
  {
   "cell_type": "markdown",
   "id": "b18f02c6",
   "metadata": {
    "papermill": {
     "duration": 0.008816,
     "end_time": "2025-05-07T14:49:01.486127",
     "exception": false,
     "start_time": "2025-05-07T14:49:01.477311",
     "status": "completed"
    },
    "tags": []
   },
   "source": [
    "### Model Selection & Evaluation"
   ]
  },
  {
   "cell_type": "markdown",
   "id": "4975ccd0",
   "metadata": {
    "papermill": {
     "duration": 0.00821,
     "end_time": "2025-05-07T14:49:01.502972",
     "exception": false,
     "start_time": "2025-05-07T14:49:01.494762",
     "status": "completed"
    },
    "tags": []
   },
   "source": [
    "### Classification Models / Regression Models"
   ]
  },
  {
   "cell_type": "code",
   "execution_count": 22,
   "id": "a1b96f06",
   "metadata": {
    "execution": {
     "iopub.execute_input": "2025-05-07T14:49:01.522756Z",
     "iopub.status.busy": "2025-05-07T14:49:01.521835Z",
     "iopub.status.idle": "2025-05-07T14:51:29.965587Z",
     "shell.execute_reply": "2025-05-07T14:51:29.964376Z"
    },
    "papermill": {
     "duration": 148.465013,
     "end_time": "2025-05-07T14:51:29.976593",
     "exception": false,
     "start_time": "2025-05-07T14:49:01.511580",
     "status": "completed"
    },
    "tags": []
   },
   "outputs": [
    {
     "data": {
      "text/html": [
       "<style>#sk-container-id-1 {color: black;background-color: white;}#sk-container-id-1 pre{padding: 0;}#sk-container-id-1 div.sk-toggleable {background-color: white;}#sk-container-id-1 label.sk-toggleable__label {cursor: pointer;display: block;width: 100%;margin-bottom: 0;padding: 0.3em;box-sizing: border-box;text-align: center;}#sk-container-id-1 label.sk-toggleable__label-arrow:before {content: \"▸\";float: left;margin-right: 0.25em;color: #696969;}#sk-container-id-1 label.sk-toggleable__label-arrow:hover:before {color: black;}#sk-container-id-1 div.sk-estimator:hover label.sk-toggleable__label-arrow:before {color: black;}#sk-container-id-1 div.sk-toggleable__content {max-height: 0;max-width: 0;overflow: hidden;text-align: left;background-color: #f0f8ff;}#sk-container-id-1 div.sk-toggleable__content pre {margin: 0.2em;color: black;border-radius: 0.25em;background-color: #f0f8ff;}#sk-container-id-1 input.sk-toggleable__control:checked~div.sk-toggleable__content {max-height: 200px;max-width: 100%;overflow: auto;}#sk-container-id-1 input.sk-toggleable__control:checked~label.sk-toggleable__label-arrow:before {content: \"▾\";}#sk-container-id-1 div.sk-estimator input.sk-toggleable__control:checked~label.sk-toggleable__label {background-color: #d4ebff;}#sk-container-id-1 div.sk-label input.sk-toggleable__control:checked~label.sk-toggleable__label {background-color: #d4ebff;}#sk-container-id-1 input.sk-hidden--visually {border: 0;clip: rect(1px 1px 1px 1px);clip: rect(1px, 1px, 1px, 1px);height: 1px;margin: -1px;overflow: hidden;padding: 0;position: absolute;width: 1px;}#sk-container-id-1 div.sk-estimator {font-family: monospace;background-color: #f0f8ff;border: 1px dotted black;border-radius: 0.25em;box-sizing: border-box;margin-bottom: 0.5em;}#sk-container-id-1 div.sk-estimator:hover {background-color: #d4ebff;}#sk-container-id-1 div.sk-parallel-item::after {content: \"\";width: 100%;border-bottom: 1px solid gray;flex-grow: 1;}#sk-container-id-1 div.sk-label:hover label.sk-toggleable__label {background-color: #d4ebff;}#sk-container-id-1 div.sk-serial::before {content: \"\";position: absolute;border-left: 1px solid gray;box-sizing: border-box;top: 0;bottom: 0;left: 50%;z-index: 0;}#sk-container-id-1 div.sk-serial {display: flex;flex-direction: column;align-items: center;background-color: white;padding-right: 0.2em;padding-left: 0.2em;position: relative;}#sk-container-id-1 div.sk-item {position: relative;z-index: 1;}#sk-container-id-1 div.sk-parallel {display: flex;align-items: stretch;justify-content: center;background-color: white;position: relative;}#sk-container-id-1 div.sk-item::before, #sk-container-id-1 div.sk-parallel-item::before {content: \"\";position: absolute;border-left: 1px solid gray;box-sizing: border-box;top: 0;bottom: 0;left: 50%;z-index: -1;}#sk-container-id-1 div.sk-parallel-item {display: flex;flex-direction: column;z-index: 1;position: relative;background-color: white;}#sk-container-id-1 div.sk-parallel-item:first-child::after {align-self: flex-end;width: 50%;}#sk-container-id-1 div.sk-parallel-item:last-child::after {align-self: flex-start;width: 50%;}#sk-container-id-1 div.sk-parallel-item:only-child::after {width: 0;}#sk-container-id-1 div.sk-dashed-wrapped {border: 1px dashed gray;margin: 0 0.4em 0.5em 0.4em;box-sizing: border-box;padding-bottom: 0.4em;background-color: white;}#sk-container-id-1 div.sk-label label {font-family: monospace;font-weight: bold;display: inline-block;line-height: 1.2em;}#sk-container-id-1 div.sk-label-container {text-align: center;}#sk-container-id-1 div.sk-container {/* jupyter's `normalize.less` sets `[hidden] { display: none; }` but bootstrap.min.css set `[hidden] { display: none !important; }` so we also need the `!important` here to be able to override the default hidden behavior on the sphinx rendered scikit-learn.org. See: https://github.com/scikit-learn/scikit-learn/issues/21755 */display: inline-block !important;position: relative;}#sk-container-id-1 div.sk-text-repr-fallback {display: none;}</style><div id=\"sk-container-id-1\" class=\"sk-top-container\"><div class=\"sk-text-repr-fallback\"><pre>RandomForestClassifier()</pre><b>In a Jupyter environment, please rerun this cell to show the HTML representation or trust the notebook. <br />On GitHub, the HTML representation is unable to render, please try loading this page with nbviewer.org.</b></div><div class=\"sk-container\" hidden><div class=\"sk-item\"><div class=\"sk-estimator sk-toggleable\"><input class=\"sk-toggleable__control sk-hidden--visually\" id=\"sk-estimator-id-1\" type=\"checkbox\" checked><label for=\"sk-estimator-id-1\" class=\"sk-toggleable__label sk-toggleable__label-arrow\">RandomForestClassifier</label><div class=\"sk-toggleable__content\"><pre>RandomForestClassifier()</pre></div></div></div></div></div>"
      ],
      "text/plain": [
       "RandomForestClassifier()"
      ]
     },
     "execution_count": 22,
     "metadata": {},
     "output_type": "execute_result"
    }
   ],
   "source": [
    "#Random Forest Classifier\n",
    "from sklearn.ensemble import RandomForestClassifier\n",
    "from sklearn.metrics import accuracy_score\n",
    "model = RandomForestClassifier()\n",
    "model.fit(X_train,y_train)"
   ]
  },
  {
   "cell_type": "code",
   "execution_count": 23,
   "id": "b2cc9329",
   "metadata": {
    "execution": {
     "iopub.execute_input": "2025-05-07T14:51:29.997826Z",
     "iopub.status.busy": "2025-05-07T14:51:29.997387Z",
     "iopub.status.idle": "2025-05-07T14:51:31.380558Z",
     "shell.execute_reply": "2025-05-07T14:51:31.379319Z"
    },
    "papermill": {
     "duration": 1.396688,
     "end_time": "2025-05-07T14:51:31.382703",
     "exception": false,
     "start_time": "2025-05-07T14:51:29.986015",
     "status": "completed"
    },
    "tags": []
   },
   "outputs": [
    {
     "data": {
      "text/plain": [
       "0.7366666666666667"
      ]
     },
     "execution_count": 23,
     "metadata": {},
     "output_type": "execute_result"
    }
   ],
   "source": [
    "y_pred = model.predict(X_test)\n",
    "accuracy_score(y_test,y_pred)"
   ]
  },
  {
   "cell_type": "code",
   "execution_count": 24,
   "id": "b4f2436f",
   "metadata": {
    "execution": {
     "iopub.execute_input": "2025-05-07T14:51:31.403159Z",
     "iopub.status.busy": "2025-05-07T14:51:31.402790Z",
     "iopub.status.idle": "2025-05-07T14:51:45.039372Z",
     "shell.execute_reply": "2025-05-07T14:51:45.038313Z"
    },
    "papermill": {
     "duration": 13.648579,
     "end_time": "2025-05-07T14:51:45.040987",
     "exception": false,
     "start_time": "2025-05-07T14:51:31.392408",
     "status": "completed"
    },
    "tags": []
   },
   "outputs": [
    {
     "data": {
      "text/html": [
       "<style>#sk-container-id-2 {color: black;background-color: white;}#sk-container-id-2 pre{padding: 0;}#sk-container-id-2 div.sk-toggleable {background-color: white;}#sk-container-id-2 label.sk-toggleable__label {cursor: pointer;display: block;width: 100%;margin-bottom: 0;padding: 0.3em;box-sizing: border-box;text-align: center;}#sk-container-id-2 label.sk-toggleable__label-arrow:before {content: \"▸\";float: left;margin-right: 0.25em;color: #696969;}#sk-container-id-2 label.sk-toggleable__label-arrow:hover:before {color: black;}#sk-container-id-2 div.sk-estimator:hover label.sk-toggleable__label-arrow:before {color: black;}#sk-container-id-2 div.sk-toggleable__content {max-height: 0;max-width: 0;overflow: hidden;text-align: left;background-color: #f0f8ff;}#sk-container-id-2 div.sk-toggleable__content pre {margin: 0.2em;color: black;border-radius: 0.25em;background-color: #f0f8ff;}#sk-container-id-2 input.sk-toggleable__control:checked~div.sk-toggleable__content {max-height: 200px;max-width: 100%;overflow: auto;}#sk-container-id-2 input.sk-toggleable__control:checked~label.sk-toggleable__label-arrow:before {content: \"▾\";}#sk-container-id-2 div.sk-estimator input.sk-toggleable__control:checked~label.sk-toggleable__label {background-color: #d4ebff;}#sk-container-id-2 div.sk-label input.sk-toggleable__control:checked~label.sk-toggleable__label {background-color: #d4ebff;}#sk-container-id-2 input.sk-hidden--visually {border: 0;clip: rect(1px 1px 1px 1px);clip: rect(1px, 1px, 1px, 1px);height: 1px;margin: -1px;overflow: hidden;padding: 0;position: absolute;width: 1px;}#sk-container-id-2 div.sk-estimator {font-family: monospace;background-color: #f0f8ff;border: 1px dotted black;border-radius: 0.25em;box-sizing: border-box;margin-bottom: 0.5em;}#sk-container-id-2 div.sk-estimator:hover {background-color: #d4ebff;}#sk-container-id-2 div.sk-parallel-item::after {content: \"\";width: 100%;border-bottom: 1px solid gray;flex-grow: 1;}#sk-container-id-2 div.sk-label:hover label.sk-toggleable__label {background-color: #d4ebff;}#sk-container-id-2 div.sk-serial::before {content: \"\";position: absolute;border-left: 1px solid gray;box-sizing: border-box;top: 0;bottom: 0;left: 50%;z-index: 0;}#sk-container-id-2 div.sk-serial {display: flex;flex-direction: column;align-items: center;background-color: white;padding-right: 0.2em;padding-left: 0.2em;position: relative;}#sk-container-id-2 div.sk-item {position: relative;z-index: 1;}#sk-container-id-2 div.sk-parallel {display: flex;align-items: stretch;justify-content: center;background-color: white;position: relative;}#sk-container-id-2 div.sk-item::before, #sk-container-id-2 div.sk-parallel-item::before {content: \"\";position: absolute;border-left: 1px solid gray;box-sizing: border-box;top: 0;bottom: 0;left: 50%;z-index: -1;}#sk-container-id-2 div.sk-parallel-item {display: flex;flex-direction: column;z-index: 1;position: relative;background-color: white;}#sk-container-id-2 div.sk-parallel-item:first-child::after {align-self: flex-end;width: 50%;}#sk-container-id-2 div.sk-parallel-item:last-child::after {align-self: flex-start;width: 50%;}#sk-container-id-2 div.sk-parallel-item:only-child::after {width: 0;}#sk-container-id-2 div.sk-dashed-wrapped {border: 1px dashed gray;margin: 0 0.4em 0.5em 0.4em;box-sizing: border-box;padding-bottom: 0.4em;background-color: white;}#sk-container-id-2 div.sk-label label {font-family: monospace;font-weight: bold;display: inline-block;line-height: 1.2em;}#sk-container-id-2 div.sk-label-container {text-align: center;}#sk-container-id-2 div.sk-container {/* jupyter's `normalize.less` sets `[hidden] { display: none; }` but bootstrap.min.css set `[hidden] { display: none !important; }` so we also need the `!important` here to be able to override the default hidden behavior on the sphinx rendered scikit-learn.org. See: https://github.com/scikit-learn/scikit-learn/issues/21755 */display: inline-block !important;position: relative;}#sk-container-id-2 div.sk-text-repr-fallback {display: none;}</style><div id=\"sk-container-id-2\" class=\"sk-top-container\"><div class=\"sk-text-repr-fallback\"><pre>XGBClassifier(base_score=None, booster=None, callbacks=None,\n",
       "              colsample_bylevel=None, colsample_bynode=None,\n",
       "              colsample_bytree=None, device=None, early_stopping_rounds=None,\n",
       "              enable_categorical=False, eval_metric=None, feature_types=None,\n",
       "              gamma=None, grow_policy=None, importance_type=None,\n",
       "              interaction_constraints=None, learning_rate=None, max_bin=None,\n",
       "              max_cat_threshold=None, max_cat_to_onehot=None,\n",
       "              max_delta_step=None, max_depth=None, max_leaves=None,\n",
       "              min_child_weight=None, missing=nan, monotone_constraints=None,\n",
       "              multi_strategy=None, n_estimators=None, n_jobs=None,\n",
       "              num_parallel_tree=None, random_state=None, ...)</pre><b>In a Jupyter environment, please rerun this cell to show the HTML representation or trust the notebook. <br />On GitHub, the HTML representation is unable to render, please try loading this page with nbviewer.org.</b></div><div class=\"sk-container\" hidden><div class=\"sk-item\"><div class=\"sk-estimator sk-toggleable\"><input class=\"sk-toggleable__control sk-hidden--visually\" id=\"sk-estimator-id-2\" type=\"checkbox\" checked><label for=\"sk-estimator-id-2\" class=\"sk-toggleable__label sk-toggleable__label-arrow\">XGBClassifier</label><div class=\"sk-toggleable__content\"><pre>XGBClassifier(base_score=None, booster=None, callbacks=None,\n",
       "              colsample_bylevel=None, colsample_bynode=None,\n",
       "              colsample_bytree=None, device=None, early_stopping_rounds=None,\n",
       "              enable_categorical=False, eval_metric=None, feature_types=None,\n",
       "              gamma=None, grow_policy=None, importance_type=None,\n",
       "              interaction_constraints=None, learning_rate=None, max_bin=None,\n",
       "              max_cat_threshold=None, max_cat_to_onehot=None,\n",
       "              max_delta_step=None, max_depth=None, max_leaves=None,\n",
       "              min_child_weight=None, missing=nan, monotone_constraints=None,\n",
       "              multi_strategy=None, n_estimators=None, n_jobs=None,\n",
       "              num_parallel_tree=None, random_state=None, ...)</pre></div></div></div></div></div>"
      ],
      "text/plain": [
       "XGBClassifier(base_score=None, booster=None, callbacks=None,\n",
       "              colsample_bylevel=None, colsample_bynode=None,\n",
       "              colsample_bytree=None, device=None, early_stopping_rounds=None,\n",
       "              enable_categorical=False, eval_metric=None, feature_types=None,\n",
       "              gamma=None, grow_policy=None, importance_type=None,\n",
       "              interaction_constraints=None, learning_rate=None, max_bin=None,\n",
       "              max_cat_threshold=None, max_cat_to_onehot=None,\n",
       "              max_delta_step=None, max_depth=None, max_leaves=None,\n",
       "              min_child_weight=None, missing=nan, monotone_constraints=None,\n",
       "              multi_strategy=None, n_estimators=None, n_jobs=None,\n",
       "              num_parallel_tree=None, random_state=None, ...)"
      ]
     },
     "execution_count": 24,
     "metadata": {},
     "output_type": "execute_result"
    }
   ],
   "source": [
    "#Random Forest Classifier\n",
    "from xgboost import XGBClassifier\n",
    "\n",
    "xgb = XGBClassifier()\n",
    "xgb.fit(X_train,y_train)"
   ]
  },
  {
   "cell_type": "code",
   "execution_count": 25,
   "id": "c6416adf",
   "metadata": {
    "execution": {
     "iopub.execute_input": "2025-05-07T14:51:45.061121Z",
     "iopub.status.busy": "2025-05-07T14:51:45.060826Z",
     "iopub.status.idle": "2025-05-07T14:51:45.169261Z",
     "shell.execute_reply": "2025-05-07T14:51:45.167417Z"
    },
    "papermill": {
     "duration": 0.120182,
     "end_time": "2025-05-07T14:51:45.170818",
     "exception": false,
     "start_time": "2025-05-07T14:51:45.050636",
     "status": "completed"
    },
    "tags": []
   },
   "outputs": [
    {
     "data": {
      "text/plain": [
       "0.7196666666666667"
      ]
     },
     "execution_count": 25,
     "metadata": {},
     "output_type": "execute_result"
    }
   ],
   "source": [
    "y_pred = xgb.predict(X_test)\n",
    "accuracy_score(y_test,y_pred)"
   ]
  },
  {
   "cell_type": "code",
   "execution_count": 26,
   "id": "aabd8774",
   "metadata": {
    "execution": {
     "iopub.execute_input": "2025-05-07T14:51:45.192417Z",
     "iopub.status.busy": "2025-05-07T14:51:45.191666Z",
     "iopub.status.idle": "2025-05-07T14:52:03.766560Z",
     "shell.execute_reply": "2025-05-07T14:52:03.765225Z"
    },
    "papermill": {
     "duration": 18.586633,
     "end_time": "2025-05-07T14:52:03.768596",
     "exception": false,
     "start_time": "2025-05-07T14:51:45.181963",
     "status": "completed"
    },
    "tags": []
   },
   "outputs": [
    {
     "name": "stderr",
     "output_type": "stream",
     "text": [
      "/tmp/ipykernel_13/787706316.py:1: DtypeWarning: Columns (0) have mixed types. Specify dtype option on import or set low_memory=False.\n",
      "  test_df = pd.read_csv('/kaggle/input/quora-question-pairs/test.csv.zip')\n"
     ]
    },
    {
     "name": "stdout",
     "output_type": "stream",
     "text": [
      "(3563475, 3)\n",
      "(3563475, 3)\n"
     ]
    }
   ],
   "source": [
    "test_df = pd.read_csv('/kaggle/input/quora-question-pairs/test.csv.zip')\n",
    "print(test_df.shape)\n",
    "\n",
    "#test_df = test_df.sample(2345796)\n",
    "print(test_df.shape)"
   ]
  },
  {
   "cell_type": "code",
   "execution_count": 27,
   "id": "31557478",
   "metadata": {
    "execution": {
     "iopub.execute_input": "2025-05-07T14:52:03.790300Z",
     "iopub.status.busy": "2025-05-07T14:52:03.789336Z",
     "iopub.status.idle": "2025-05-07T14:52:12.523229Z",
     "shell.execute_reply": "2025-05-07T14:52:12.522140Z"
    },
    "papermill": {
     "duration": 8.746462,
     "end_time": "2025-05-07T14:52:12.524943",
     "exception": false,
     "start_time": "2025-05-07T14:52:03.778481",
     "status": "completed"
    },
    "tags": []
   },
   "outputs": [
    {
     "data": {
      "text/plain": [
       "955535"
      ]
     },
     "execution_count": 27,
     "metadata": {},
     "output_type": "execute_result"
    }
   ],
   "source": [
    "test_df.duplicated().sum()"
   ]
  },
  {
   "cell_type": "code",
   "execution_count": 28,
   "id": "312deb02",
   "metadata": {
    "execution": {
     "iopub.execute_input": "2025-05-07T14:52:12.545654Z",
     "iopub.status.busy": "2025-05-07T14:52:12.545298Z",
     "iopub.status.idle": "2025-05-07T14:52:21.522385Z",
     "shell.execute_reply": "2025-05-07T14:52:21.521570Z"
    },
    "papermill": {
     "duration": 8.990157,
     "end_time": "2025-05-07T14:52:21.524632",
     "exception": false,
     "start_time": "2025-05-07T14:52:12.534475",
     "status": "completed"
    },
    "tags": []
   },
   "outputs": [],
   "source": [
    "test_df = test_df.drop_duplicates()"
   ]
  },
  {
   "cell_type": "code",
   "execution_count": 29,
   "id": "12f6fdde",
   "metadata": {
    "execution": {
     "iopub.execute_input": "2025-05-07T14:52:21.544680Z",
     "iopub.status.busy": "2025-05-07T14:52:21.544321Z",
     "iopub.status.idle": "2025-05-07T14:52:21.550576Z",
     "shell.execute_reply": "2025-05-07T14:52:21.549380Z"
    },
    "papermill": {
     "duration": 0.018702,
     "end_time": "2025-05-07T14:52:21.552844",
     "exception": false,
     "start_time": "2025-05-07T14:52:21.534142",
     "status": "completed"
    },
    "tags": []
   },
   "outputs": [
    {
     "name": "stdout",
     "output_type": "stream",
     "text": [
      "(2607940, 3)\n"
     ]
    }
   ],
   "source": [
    "print(test_df.shape)"
   ]
  },
  {
   "cell_type": "code",
   "execution_count": 30,
   "id": "00eeae76",
   "metadata": {
    "execution": {
     "iopub.execute_input": "2025-05-07T14:52:21.578702Z",
     "iopub.status.busy": "2025-05-07T14:52:21.577799Z",
     "iopub.status.idle": "2025-05-07T14:53:19.974579Z",
     "shell.execute_reply": "2025-05-07T14:53:19.973584Z"
    },
    "papermill": {
     "duration": 58.409613,
     "end_time": "2025-05-07T14:53:19.977144",
     "exception": false,
     "start_time": "2025-05-07T14:52:21.567531",
     "status": "completed"
    },
    "tags": []
   },
   "outputs": [],
   "source": [
    "from scipy.sparse import hstack\n",
    "\n",
    "# Vectorize test questions (keep sparse!)\n",
    "test_questions = list(test_df['question1'].fillna('')) + list(test_df['question2'].fillna(''))\n",
    "test_vectors = cv.transform(test_questions)  # DO NOT call .toarray()\n",
    "\n",
    "# Split into two sparse matrices\n",
    "q1_test, q2_test = test_vectors[:len(test_df)], test_vectors[len(test_df):]\n",
    "\n",
    "# Horizontally stack the sparse matrices\n",
    "X_test = hstack([q1_test, q2_test])"
   ]
  },
  {
   "cell_type": "code",
   "execution_count": 31,
   "id": "643728d6",
   "metadata": {
    "execution": {
     "iopub.execute_input": "2025-05-07T14:53:20.000052Z",
     "iopub.status.busy": "2025-05-07T14:53:19.999142Z",
     "iopub.status.idle": "2025-05-07T14:55:48.432127Z",
     "shell.execute_reply": "2025-05-07T14:55:48.431028Z"
    },
    "papermill": {
     "duration": 148.455143,
     "end_time": "2025-05-07T14:55:48.443303",
     "exception": false,
     "start_time": "2025-05-07T14:53:19.988160",
     "status": "completed"
    },
    "tags": []
   },
   "outputs": [
    {
     "name": "stdout",
     "output_type": "stream",
     "text": [
      "Predictions shape: (2607940,)\n"
     ]
    }
   ],
   "source": [
    "# Predict on the Kaggle test set\n",
    "y_pred = model.predict(X_test)\n",
    "print(\"Predictions shape:\", y_pred.shape)\n"
   ]
  },
  {
   "cell_type": "code",
   "execution_count": 32,
   "id": "934bbc9f",
   "metadata": {
    "execution": {
     "iopub.execute_input": "2025-05-07T14:55:48.465498Z",
     "iopub.status.busy": "2025-05-07T14:55:48.465050Z",
     "iopub.status.idle": "2025-05-07T14:55:50.813925Z",
     "shell.execute_reply": "2025-05-07T14:55:50.812742Z"
    },
    "papermill": {
     "duration": 2.362486,
     "end_time": "2025-05-07T14:55:50.816083",
     "exception": false,
     "start_time": "2025-05-07T14:55:48.453597",
     "status": "completed"
    },
    "tags": []
   },
   "outputs": [],
   "source": [
    "submission = pd.DataFrame({\n",
    "    'test_id': test_df['test_id'],    \n",
    "    'is_duplicate': y_pred\n",
    "})\n",
    "\n",
    "submission.to_csv('submission.csv', index=False)"
   ]
  },
  {
   "cell_type": "markdown",
   "id": "00fdce44",
   "metadata": {
    "papermill": {
     "duration": 0.009287,
     "end_time": "2025-05-07T14:55:50.835489",
     "exception": false,
     "start_time": "2025-05-07T14:55:50.826202",
     "status": "completed"
    },
    "tags": []
   },
   "source": [
    "### Model Evaluation Metrics"
   ]
  },
  {
   "cell_type": "markdown",
   "id": "f29fe9ec",
   "metadata": {
    "papermill": {
     "duration": 0.009338,
     "end_time": "2025-05-07T14:55:50.854597",
     "exception": false,
     "start_time": "2025-05-07T14:55:50.845259",
     "status": "completed"
    },
    "tags": []
   },
   "source": [
    "### Pipelines"
   ]
  }
 ],
 "metadata": {
  "kaggle": {
   "accelerator": "none",
   "dataSources": [
    {
     "databundleVersionId": 323734,
     "isSourceIdPinned": false,
     "sourceId": 6277,
     "sourceType": "competition"
    }
   ],
   "dockerImageVersionId": 31012,
   "isGpuEnabled": false,
   "isInternetEnabled": true,
   "language": "python",
   "sourceType": "notebook"
  },
  "kernelspec": {
   "display_name": "Python 3",
   "language": "python",
   "name": "python3"
  },
  "language_info": {
   "codemirror_mode": {
    "name": "ipython",
    "version": 3
   },
   "file_extension": ".py",
   "mimetype": "text/x-python",
   "name": "python",
   "nbconvert_exporter": "python",
   "pygments_lexer": "ipython3",
   "version": "3.11.11"
  },
  "papermill": {
   "default_parameters": {},
   "duration": 438.133257,
   "end_time": "2025-05-07T14:55:52.794454",
   "environment_variables": {},
   "exception": null,
   "input_path": "__notebook__.ipynb",
   "output_path": "__notebook__.ipynb",
   "parameters": {},
   "start_time": "2025-05-07T14:48:34.661197",
   "version": "2.6.0"
  }
 },
 "nbformat": 4,
 "nbformat_minor": 5
}
