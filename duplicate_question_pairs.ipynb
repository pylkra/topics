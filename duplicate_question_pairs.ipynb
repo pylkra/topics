{
 "cells": [
  {
   "cell_type": "code",
   "execution_count": 1,
   "id": "9cb704ed",
   "metadata": {
    "_cell_guid": "b1076dfc-b9ad-4769-8c92-a6c4dae69d19",
    "_uuid": "8f2839f25d086af736a60e9eeb907d3b93b6e0e5",
    "execution": {
     "iopub.execute_input": "2025-05-07T12:44:23.724182Z",
     "iopub.status.busy": "2025-05-07T12:44:23.723396Z",
     "iopub.status.idle": "2025-05-07T12:44:25.584676Z",
     "shell.execute_reply": "2025-05-07T12:44:25.583708Z"
    },
    "papermill": {
     "duration": 1.870635,
     "end_time": "2025-05-07T12:44:25.586464",
     "exception": false,
     "start_time": "2025-05-07T12:44:23.715829",
     "status": "completed"
    },
    "tags": []
   },
   "outputs": [
    {
     "name": "stdout",
     "output_type": "stream",
     "text": [
      "/kaggle/input/quora-question-pairs/train.csv.zip\n",
      "/kaggle/input/quora-question-pairs/sample_submission.csv.zip\n",
      "/kaggle/input/quora-question-pairs/test.csv\n",
      "/kaggle/input/quora-question-pairs/test.csv.zip\n"
     ]
    }
   ],
   "source": [
    "# This Python 3 environment comes with many helpful analytics libraries installed\n",
    "# It is defined by the kaggle/python Docker image: https://github.com/kaggle/docker-python\n",
    "# For example, here's several helpful packages to load\n",
    "\n",
    "import numpy as np # linear algebra\n",
    "import pandas as pd # data processing, CSV file I/O (e.g. pd.read_csv)\n",
    "\n",
    "# Input data files are available in the read-only \"../input/\" directory\n",
    "# For example, running this (by clicking run or pressing Shift+Enter) will list all files under the input directory\n",
    "\n",
    "import os\n",
    "for dirname, _, filenames in os.walk('/kaggle/input'):\n",
    "    for filename in filenames:\n",
    "        print(os.path.join(dirname, filename))\n",
    "\n",
    "# You can write up to 20GB to the current directory (/kaggle/working/) that gets preserved as output when you create a version using \"Save & Run All\" \n",
    "# You can also write temporary files to /kaggle/temp/, but they won't be saved outside of the current session"
   ]
  },
  {
   "cell_type": "code",
   "execution_count": 2,
   "id": "e3df8422",
   "metadata": {
    "execution": {
     "iopub.execute_input": "2025-05-07T12:44:25.600024Z",
     "iopub.status.busy": "2025-05-07T12:44:25.599058Z",
     "iopub.status.idle": "2025-05-07T12:44:25.604491Z",
     "shell.execute_reply": "2025-05-07T12:44:25.603596Z"
    },
    "papermill": {
     "duration": 0.0132,
     "end_time": "2025-05-07T12:44:25.605801",
     "exception": false,
     "start_time": "2025-05-07T12:44:25.592601",
     "status": "completed"
    },
    "tags": []
   },
   "outputs": [
    {
     "name": "stdout",
     "output_type": "stream",
     "text": [
      "File not found.\n"
     ]
    }
   ],
   "source": [
    "if os.path.exists('/kaggle/working/submission.csv'):\n",
    "    os.remove('/kaggle/working/submission.csv')\n",
    "    print(\"File deleted.\")\n",
    "else:\n",
    "    print(\"File not found.\")"
   ]
  },
  {
   "cell_type": "markdown",
   "id": "90e6981a",
   "metadata": {
    "papermill": {
     "duration": 0.005202,
     "end_time": "2025-05-07T12:44:25.617946",
     "exception": false,
     "start_time": "2025-05-07T12:44:25.612744",
     "status": "completed"
    },
    "tags": []
   },
   "source": [
    "import zipfile\n",
    "\n",
    "zip_path = \"/kaggle/input/quora-question-pairs/train.csv.zip\"\n",
    "extract_path = \"/kaggle/working/\"\n",
    "\n",
    "with zipfile.ZipFile(zip_path, 'r') as zip_ref:\n",
    "    zip_ref.extractall(extract_path)"
   ]
  },
  {
   "cell_type": "code",
   "execution_count": 3,
   "id": "267f1c41",
   "metadata": {
    "execution": {
     "iopub.execute_input": "2025-05-07T12:44:25.630172Z",
     "iopub.status.busy": "2025-05-07T12:44:25.629851Z",
     "iopub.status.idle": "2025-05-07T12:44:27.844321Z",
     "shell.execute_reply": "2025-05-07T12:44:27.843484Z"
    },
    "papermill": {
     "duration": 2.22231,
     "end_time": "2025-05-07T12:44:27.845827",
     "exception": false,
     "start_time": "2025-05-07T12:44:25.623517",
     "status": "completed"
    },
    "tags": []
   },
   "outputs": [
    {
     "data": {
      "text/plain": [
       "(404290, 6)"
      ]
     },
     "execution_count": 3,
     "metadata": {},
     "output_type": "execute_result"
    }
   ],
   "source": [
    "df = pd.read_csv('/kaggle/input/quora-question-pairs/train.csv.zip')\n",
    "df.shape"
   ]
  },
  {
   "cell_type": "code",
   "execution_count": 4,
   "id": "28f991fc",
   "metadata": {
    "execution": {
     "iopub.execute_input": "2025-05-07T12:44:27.859178Z",
     "iopub.status.busy": "2025-05-07T12:44:27.858442Z",
     "iopub.status.idle": "2025-05-07T12:44:27.912504Z",
     "shell.execute_reply": "2025-05-07T12:44:27.911630Z"
    },
    "papermill": {
     "duration": 0.062277,
     "end_time": "2025-05-07T12:44:27.914082",
     "exception": false,
     "start_time": "2025-05-07T12:44:27.851805",
     "status": "completed"
    },
    "tags": []
   },
   "outputs": [],
   "source": [
    "df = df.sample(30000)"
   ]
  },
  {
   "cell_type": "code",
   "execution_count": 5,
   "id": "7f904f3d",
   "metadata": {
    "execution": {
     "iopub.execute_input": "2025-05-07T12:44:27.927851Z",
     "iopub.status.busy": "2025-05-07T12:44:27.926765Z",
     "iopub.status.idle": "2025-05-07T12:44:27.944756Z",
     "shell.execute_reply": "2025-05-07T12:44:27.943566Z"
    },
    "papermill": {
     "duration": 0.026462,
     "end_time": "2025-05-07T12:44:27.946459",
     "exception": false,
     "start_time": "2025-05-07T12:44:27.919997",
     "status": "completed"
    },
    "tags": []
   },
   "outputs": [
    {
     "data": {
      "text/plain": [
       "<bound method DataFrame.info of             id    qid1    qid2  \\\n",
       "105939  105939  174595  174596   \n",
       "172395  172395  266177  266178   \n",
       "111387  111387  182462  182463   \n",
       "201367  201367  196175   52820   \n",
       "130305  130305  209147  209148   \n",
       "...        ...     ...     ...   \n",
       "239538  239538  351140  351141   \n",
       "375842  375842  506914  506915   \n",
       "377805  377805  509141  509142   \n",
       "228520  228520   71210   17683   \n",
       "123287  123287  199366  199367   \n",
       "\n",
       "                                                question1  \\\n",
       "105939  What education is needed to become an ethical ...   \n",
       "172395                 How is Rahul Dravid off the field?   \n",
       "111387  Will it be a problem while applying for my pas...   \n",
       "201367  What are best websites to learn programming co...   \n",
       "130305  What is the world rank of Shri ram college of ...   \n",
       "...                                                   ...   \n",
       "239538  What would Steve Jobs say if he is alive today...   \n",
       "375842  What are the advantages and disadvantages of I...   \n",
       "377805  Does South Korea have something like wrestling...   \n",
       "228520           Did Americans actually land on the moon?   \n",
       "123287  Which startups have the strongest engineering ...   \n",
       "\n",
       "                                                question2  is_duplicate  \n",
       "105939  What are the major steps to learn about ethica...             0  \n",
       "172395  What are some of the great innings of Rahul Dr...             0  \n",
       "111387  Can my mom come abroad with me or it will crea...             0  \n",
       "201367  What's the best website to learn extensive pro...             1  \n",
       "130305  Does Shri Ram College of Commerce offer both 3...             0  \n",
       "...                                                   ...           ...  \n",
       "239538  If Steve Jobs were still alive today, how woul...             0  \n",
       "375842  What is IBM Bluemix? How does it help developers?             0  \n",
       "377805  Why despite of being the 7th most spoken langu...             0  \n",
       "228520  What are some of the best evidence that we rea...             1  \n",
       "123287  What is the best advice for a young, first-tim...             0  \n",
       "\n",
       "[30000 rows x 6 columns]>"
      ]
     },
     "execution_count": 5,
     "metadata": {},
     "output_type": "execute_result"
    }
   ],
   "source": [
    "df.info"
   ]
  },
  {
   "cell_type": "code",
   "execution_count": 6,
   "id": "2f7dbb54",
   "metadata": {
    "execution": {
     "iopub.execute_input": "2025-05-07T12:44:27.959741Z",
     "iopub.status.busy": "2025-05-07T12:44:27.959434Z",
     "iopub.status.idle": "2025-05-07T12:44:27.975193Z",
     "shell.execute_reply": "2025-05-07T12:44:27.974384Z"
    },
    "papermill": {
     "duration": 0.024167,
     "end_time": "2025-05-07T12:44:27.976724",
     "exception": false,
     "start_time": "2025-05-07T12:44:27.952557",
     "status": "completed"
    },
    "tags": []
   },
   "outputs": [
    {
     "data": {
      "text/plain": [
       "id              0\n",
       "qid1            0\n",
       "qid2            0\n",
       "question1       0\n",
       "question2       0\n",
       "is_duplicate    0\n",
       "dtype: int64"
      ]
     },
     "execution_count": 6,
     "metadata": {},
     "output_type": "execute_result"
    }
   ],
   "source": [
    "#missing values\n",
    "df.isnull().sum()"
   ]
  },
  {
   "cell_type": "code",
   "execution_count": 7,
   "id": "37582df1",
   "metadata": {
    "execution": {
     "iopub.execute_input": "2025-05-07T12:44:27.989828Z",
     "iopub.status.busy": "2025-05-07T12:44:27.989298Z",
     "iopub.status.idle": "2025-05-07T12:44:28.036540Z",
     "shell.execute_reply": "2025-05-07T12:44:28.035684Z"
    },
    "papermill": {
     "duration": 0.055291,
     "end_time": "2025-05-07T12:44:28.037983",
     "exception": false,
     "start_time": "2025-05-07T12:44:27.982692",
     "status": "completed"
    },
    "tags": []
   },
   "outputs": [
    {
     "data": {
      "text/plain": [
       "0"
      ]
     },
     "execution_count": 7,
     "metadata": {},
     "output_type": "execute_result"
    }
   ],
   "source": [
    "#check for duplicates\n",
    "df.duplicated().sum()"
   ]
  },
  {
   "cell_type": "code",
   "execution_count": 8,
   "id": "559d29dc",
   "metadata": {
    "execution": {
     "iopub.execute_input": "2025-05-07T12:44:28.051545Z",
     "iopub.status.busy": "2025-05-07T12:44:28.050805Z",
     "iopub.status.idle": "2025-05-07T12:44:28.058870Z",
     "shell.execute_reply": "2025-05-07T12:44:28.058119Z"
    },
    "papermill": {
     "duration": 0.016031,
     "end_time": "2025-05-07T12:44:28.060188",
     "exception": false,
     "start_time": "2025-05-07T12:44:28.044157",
     "status": "completed"
    },
    "tags": []
   },
   "outputs": [
    {
     "data": {
      "text/plain": [
       "is_duplicate\n",
       "0    19000\n",
       "1    11000\n",
       "Name: count, dtype: int64"
      ]
     },
     "execution_count": 8,
     "metadata": {},
     "output_type": "execute_result"
    }
   ],
   "source": [
    "df['is_duplicate'].value_counts()"
   ]
  },
  {
   "cell_type": "code",
   "execution_count": 9,
   "id": "adec7ab7",
   "metadata": {
    "execution": {
     "iopub.execute_input": "2025-05-07T12:44:28.073310Z",
     "iopub.status.busy": "2025-05-07T12:44:28.072979Z",
     "iopub.status.idle": "2025-05-07T12:44:28.078517Z",
     "shell.execute_reply": "2025-05-07T12:44:28.077876Z"
    },
    "papermill": {
     "duration": 0.013509,
     "end_time": "2025-05-07T12:44:28.079784",
     "exception": false,
     "start_time": "2025-05-07T12:44:28.066275",
     "status": "completed"
    },
    "tags": []
   },
   "outputs": [
    {
     "data": {
      "text/plain": [
       "30000"
      ]
     },
     "execution_count": 9,
     "metadata": {},
     "output_type": "execute_result"
    }
   ],
   "source": [
    "df['is_duplicate'].count()"
   ]
  },
  {
   "cell_type": "code",
   "execution_count": 10,
   "id": "b23ddb0d",
   "metadata": {
    "execution": {
     "iopub.execute_input": "2025-05-07T12:44:28.092945Z",
     "iopub.status.busy": "2025-05-07T12:44:28.092658Z",
     "iopub.status.idle": "2025-05-07T12:44:28.372227Z",
     "shell.execute_reply": "2025-05-07T12:44:28.371284Z"
    },
    "papermill": {
     "duration": 0.28782,
     "end_time": "2025-05-07T12:44:28.373688",
     "exception": false,
     "start_time": "2025-05-07T12:44:28.085868",
     "status": "completed"
    },
    "tags": []
   },
   "outputs": [
    {
     "data": {
      "text/plain": [
       "Text(0, 0.5, 'Frequency')"
      ]
     },
     "execution_count": 10,
     "metadata": {},
     "output_type": "execute_result"
    },
    {
     "data": {
      "image/png": "[encoded data removed]",
      "text/plain": [
       "<Figure size 640x480 with 1 Axes>"
      ]
     },
     "metadata": {},
     "output_type": "display_data"
    }
   ],
   "source": [
    "import matplotlib.pyplot as plt\n",
    "df['is_duplicate'].value_counts().plot(kind='bar')\n",
    "plt.xlabel(\"Question ID\")\n",
    "plt.ylabel(\"Frequency\")"
   ]
  },
  {
   "cell_type": "code",
   "execution_count": 11,
   "id": "b2ea9552",
   "metadata": {
    "execution": {
     "iopub.execute_input": "2025-05-07T12:44:28.388174Z",
     "iopub.status.busy": "2025-05-07T12:44:28.387874Z",
     "iopub.status.idle": "2025-05-07T12:44:28.424358Z",
     "shell.execute_reply": "2025-05-07T12:44:28.423288Z"
    },
    "papermill": {
     "duration": 0.045356,
     "end_time": "2025-05-07T12:44:28.425899",
     "exception": false,
     "start_time": "2025-05-07T12:44:28.380543",
     "status": "completed"
    },
    "tags": []
   },
   "outputs": [
    {
     "name": "stdout",
     "output_type": "stream",
     "text": [
      "Number of unique questions 55513\n",
      "Number of questions repeated 3363\n"
     ]
    }
   ],
   "source": [
    "# Unique questions\n",
    "qid = pd.Series(df['qid1'].tolist() + df['qid2'].tolist())\n",
    "print(f'Number of unique questions {np.unique(qid).shape[0]}')\n",
    "\n",
    "# Repeted questions\n",
    "x = qid.value_counts()>1\n",
    "print(f'Number of questions repeated {x[x].shape[0]}')\n"
   ]
  },
  {
   "cell_type": "code",
   "execution_count": 12,
   "id": "727b6c9b",
   "metadata": {
    "execution": {
     "iopub.execute_input": "2025-05-07T12:44:28.440711Z",
     "iopub.status.busy": "2025-05-07T12:44:28.440083Z",
     "iopub.status.idle": "2025-05-07T12:44:28.452420Z",
     "shell.execute_reply": "2025-05-07T12:44:28.451654Z"
    },
    "papermill": {
     "duration": 0.021126,
     "end_time": "2025-05-07T12:44:28.453835",
     "exception": false,
     "start_time": "2025-05-07T12:44:28.432709",
     "status": "completed"
    },
    "tags": []
   },
   "outputs": [
    {
     "data": {
      "text/plain": [
       "array([11,  8,  7, ...,  1,  1,  1])"
      ]
     },
     "execution_count": 12,
     "metadata": {},
     "output_type": "execute_result"
    }
   ],
   "source": [
    "qid.value_counts().values"
   ]
  },
  {
   "cell_type": "code",
   "execution_count": 13,
   "id": "e87e5924",
   "metadata": {
    "execution": {
     "iopub.execute_input": "2025-05-07T12:44:28.468325Z",
     "iopub.status.busy": "2025-05-07T12:44:28.467982Z",
     "iopub.status.idle": "2025-05-07T12:44:29.071651Z",
     "shell.execute_reply": "2025-05-07T12:44:29.070724Z"
    },
    "papermill": {
     "duration": 0.612508,
     "end_time": "2025-05-07T12:44:29.073116",
     "exception": false,
     "start_time": "2025-05-07T12:44:28.460608",
     "status": "completed"
    },
    "tags": []
   },
   "outputs": [
    {
     "data": {
      "image/png": "[encoded data removed]",
      "text/plain": [
       "<Figure size 640x480 with 1 Axes>"
      ]
     },
     "metadata": {},
     "output_type": "display_data"
    }
   ],
   "source": [
    "plt.hist(qid.value_counts().values, bins=160)\n",
    "plt.yscale('log')\n",
    "plt.show()"
   ]
  },
  {
   "cell_type": "markdown",
   "id": "6f44813b",
   "metadata": {
    "papermill": {
     "duration": 0.007029,
     "end_time": "2025-05-07T12:44:29.087147",
     "exception": false,
     "start_time": "2025-05-07T12:44:29.080118",
     "status": "completed"
    },
    "tags": []
   },
   "source": [
    "qid1 , qid2, question1, question2, is_duplicate <br>\n",
    "              bow        bow        randomforest"
   ]
  },
  {
   "cell_type": "code",
   "execution_count": 14,
   "id": "821c4e92",
   "metadata": {
    "execution": {
     "iopub.execute_input": "2025-05-07T12:44:29.102180Z",
     "iopub.status.busy": "2025-05-07T12:44:29.101877Z",
     "iopub.status.idle": "2025-05-07T12:44:29.105678Z",
     "shell.execute_reply": "2025-05-07T12:44:29.104996Z"
    },
    "papermill": {
     "duration": 0.012989,
     "end_time": "2025-05-07T12:44:29.107141",
     "exception": false,
     "start_time": "2025-05-07T12:44:29.094152",
     "status": "completed"
    },
    "tags": []
   },
   "outputs": [],
   "source": [
    "# Feature engineering"
   ]
  },
  {
   "cell_type": "code",
   "execution_count": 15,
   "id": "ff0c93b5",
   "metadata": {
    "execution": {
     "iopub.execute_input": "2025-05-07T12:44:29.122987Z",
     "iopub.status.busy": "2025-05-07T12:44:29.122091Z",
     "iopub.status.idle": "2025-05-07T12:44:29.142733Z",
     "shell.execute_reply": "2025-05-07T12:44:29.141940Z"
    },
    "papermill": {
     "duration": 0.029579,
     "end_time": "2025-05-07T12:44:29.144027",
     "exception": false,
     "start_time": "2025-05-07T12:44:29.114448",
     "status": "completed"
    },
    "tags": []
   },
   "outputs": [
    {
     "data": {
      "text/html": [
       "<div>\n",
       "<style scoped>\n",
       "    .dataframe tbody tr th:only-of-type {\n",
       "        vertical-align: middle;\n",
       "    }\n",
       "\n",
       "    .dataframe tbody tr th {\n",
       "        vertical-align: top;\n",
       "    }\n",
       "\n",
       "    .dataframe thead th {\n",
       "        text-align: right;\n",
       "    }\n",
       "</style>\n",
       "<table border=\"1\" class=\"dataframe\">\n",
       "  <thead>\n",
       "    <tr style=\"text-align: right;\">\n",
       "      <th></th>\n",
       "      <th>question1</th>\n",
       "      <th>question2</th>\n",
       "    </tr>\n",
       "  </thead>\n",
       "  <tbody>\n",
       "    <tr>\n",
       "      <th>105939</th>\n",
       "      <td>What education is needed to become an ethical ...</td>\n",
       "      <td>What are the major steps to learn about ethica...</td>\n",
       "    </tr>\n",
       "    <tr>\n",
       "      <th>172395</th>\n",
       "      <td>How is Rahul Dravid off the field?</td>\n",
       "      <td>What are some of the great innings of Rahul Dr...</td>\n",
       "    </tr>\n",
       "    <tr>\n",
       "      <th>111387</th>\n",
       "      <td>Will it be a problem while applying for my pas...</td>\n",
       "      <td>Can my mom come abroad with me or it will crea...</td>\n",
       "    </tr>\n",
       "    <tr>\n",
       "      <th>201367</th>\n",
       "      <td>What are best websites to learn programming co...</td>\n",
       "      <td>What's the best website to learn extensive pro...</td>\n",
       "    </tr>\n",
       "    <tr>\n",
       "      <th>130305</th>\n",
       "      <td>What is the world rank of Shri ram college of ...</td>\n",
       "      <td>Does Shri Ram College of Commerce offer both 3...</td>\n",
       "    </tr>\n",
       "  </tbody>\n",
       "</table>\n",
       "</div>"
      ],
      "text/plain": [
       "                                                question1  \\\n",
       "105939  What education is needed to become an ethical ...   \n",
       "172395                 How is Rahul Dravid off the field?   \n",
       "111387  Will it be a problem while applying for my pas...   \n",
       "201367  What are best websites to learn programming co...   \n",
       "130305  What is the world rank of Shri ram college of ...   \n",
       "\n",
       "                                                question2  \n",
       "105939  What are the major steps to learn about ethica...  \n",
       "172395  What are some of the great innings of Rahul Dr...  \n",
       "111387  Can my mom come abroad with me or it will crea...  \n",
       "201367  What's the best website to learn extensive pro...  \n",
       "130305  Does Shri Ram College of Commerce offer both 3...  "
      ]
     },
     "execution_count": 15,
     "metadata": {},
     "output_type": "execute_result"
    }
   ],
   "source": [
    "ques_df = df[['question1','question2']]\n",
    "ques_df.head()\n"
   ]
  },
  {
   "cell_type": "code",
   "execution_count": 16,
   "id": "a9c4b96c",
   "metadata": {
    "execution": {
     "iopub.execute_input": "2025-05-07T12:44:29.159231Z",
     "iopub.status.busy": "2025-05-07T12:44:29.158898Z",
     "iopub.status.idle": "2025-05-07T12:44:32.175054Z",
     "shell.execute_reply": "2025-05-07T12:44:32.173826Z"
    },
    "papermill": {
     "duration": 3.025901,
     "end_time": "2025-05-07T12:44:32.176999",
     "exception": false,
     "start_time": "2025-05-07T12:44:29.151098",
     "status": "completed"
    },
    "tags": []
   },
   "outputs": [],
   "source": [
    "from sklearn.feature_extraction.text import CountVectorizer\n",
    "\n",
    "# Merge all questions into one list\n",
    "questions = list(ques_df['question1'].fillna(\"\")) + list(ques_df['question2'].fillna(\"\"))\n",
    "\n",
    "# Vectorize\n",
    "cv = CountVectorizer(max_features=3000)\n",
    "q_vectors = cv.fit_transform(questions).toarray()\n",
    "\n",
    "# Split back into q1 and q2 arrays\n",
    "half = len(q_vectors) // 2\n",
    "q1_arr, q2_arr = np.vsplit(q_vectors, [half])"
   ]
  },
  {
   "cell_type": "code",
   "execution_count": 17,
   "id": "0258c2f3",
   "metadata": {
    "execution": {
     "iopub.execute_input": "2025-05-07T12:44:32.192657Z",
     "iopub.status.busy": "2025-05-07T12:44:32.192231Z",
     "iopub.status.idle": "2025-05-07T12:44:35.439313Z",
     "shell.execute_reply": "2025-05-07T12:44:35.438399Z"
    },
    "papermill": {
     "duration": 3.256364,
     "end_time": "2025-05-07T12:44:35.440678",
     "exception": false,
     "start_time": "2025-05-07T12:44:32.184314",
     "status": "completed"
    },
    "tags": []
   },
   "outputs": [
    {
     "data": {
      "text/html": [
       "<div>\n",
       "<style scoped>\n",
       "    .dataframe tbody tr th:only-of-type {\n",
       "        vertical-align: middle;\n",
       "    }\n",
       "\n",
       "    .dataframe tbody tr th {\n",
       "        vertical-align: top;\n",
       "    }\n",
       "\n",
       "    .dataframe thead th {\n",
       "        text-align: right;\n",
       "    }\n",
       "</style>\n",
       "<table border=\"1\" class=\"dataframe\">\n",
       "  <thead>\n",
       "    <tr style=\"text-align: right;\">\n",
       "      <th></th>\n",
       "      <th>0</th>\n",
       "      <th>1</th>\n",
       "      <th>2</th>\n",
       "      <th>3</th>\n",
       "      <th>4</th>\n",
       "      <th>5</th>\n",
       "      <th>6</th>\n",
       "      <th>7</th>\n",
       "      <th>8</th>\n",
       "      <th>9</th>\n",
       "      <th>...</th>\n",
       "      <th>2990</th>\n",
       "      <th>2991</th>\n",
       "      <th>2992</th>\n",
       "      <th>2993</th>\n",
       "      <th>2994</th>\n",
       "      <th>2995</th>\n",
       "      <th>2996</th>\n",
       "      <th>2997</th>\n",
       "      <th>2998</th>\n",
       "      <th>2999</th>\n",
       "    </tr>\n",
       "  </thead>\n",
       "  <tbody>\n",
       "    <tr>\n",
       "      <th>105939</th>\n",
       "      <td>0</td>\n",
       "      <td>0</td>\n",
       "      <td>0</td>\n",
       "      <td>0</td>\n",
       "      <td>0</td>\n",
       "      <td>0</td>\n",
       "      <td>0</td>\n",
       "      <td>0</td>\n",
       "      <td>0</td>\n",
       "      <td>0</td>\n",
       "      <td>...</td>\n",
       "      <td>0</td>\n",
       "      <td>0</td>\n",
       "      <td>0</td>\n",
       "      <td>0</td>\n",
       "      <td>0</td>\n",
       "      <td>0</td>\n",
       "      <td>0</td>\n",
       "      <td>0</td>\n",
       "      <td>0</td>\n",
       "      <td>0</td>\n",
       "    </tr>\n",
       "    <tr>\n",
       "      <th>172395</th>\n",
       "      <td>0</td>\n",
       "      <td>0</td>\n",
       "      <td>0</td>\n",
       "      <td>0</td>\n",
       "      <td>0</td>\n",
       "      <td>0</td>\n",
       "      <td>0</td>\n",
       "      <td>0</td>\n",
       "      <td>0</td>\n",
       "      <td>0</td>\n",
       "      <td>...</td>\n",
       "      <td>0</td>\n",
       "      <td>0</td>\n",
       "      <td>0</td>\n",
       "      <td>0</td>\n",
       "      <td>0</td>\n",
       "      <td>0</td>\n",
       "      <td>0</td>\n",
       "      <td>0</td>\n",
       "      <td>0</td>\n",
       "      <td>0</td>\n",
       "    </tr>\n",
       "    <tr>\n",
       "      <th>111387</th>\n",
       "      <td>0</td>\n",
       "      <td>0</td>\n",
       "      <td>0</td>\n",
       "      <td>0</td>\n",
       "      <td>0</td>\n",
       "      <td>0</td>\n",
       "      <td>0</td>\n",
       "      <td>0</td>\n",
       "      <td>0</td>\n",
       "      <td>0</td>\n",
       "      <td>...</td>\n",
       "      <td>0</td>\n",
       "      <td>0</td>\n",
       "      <td>0</td>\n",
       "      <td>0</td>\n",
       "      <td>0</td>\n",
       "      <td>0</td>\n",
       "      <td>0</td>\n",
       "      <td>0</td>\n",
       "      <td>0</td>\n",
       "      <td>0</td>\n",
       "    </tr>\n",
       "    <tr>\n",
       "      <th>201367</th>\n",
       "      <td>0</td>\n",
       "      <td>0</td>\n",
       "      <td>0</td>\n",
       "      <td>0</td>\n",
       "      <td>0</td>\n",
       "      <td>0</td>\n",
       "      <td>0</td>\n",
       "      <td>0</td>\n",
       "      <td>0</td>\n",
       "      <td>0</td>\n",
       "      <td>...</td>\n",
       "      <td>0</td>\n",
       "      <td>0</td>\n",
       "      <td>0</td>\n",
       "      <td>0</td>\n",
       "      <td>0</td>\n",
       "      <td>0</td>\n",
       "      <td>0</td>\n",
       "      <td>0</td>\n",
       "      <td>0</td>\n",
       "      <td>0</td>\n",
       "    </tr>\n",
       "    <tr>\n",
       "      <th>130305</th>\n",
       "      <td>0</td>\n",
       "      <td>0</td>\n",
       "      <td>0</td>\n",
       "      <td>0</td>\n",
       "      <td>0</td>\n",
       "      <td>0</td>\n",
       "      <td>0</td>\n",
       "      <td>0</td>\n",
       "      <td>0</td>\n",
       "      <td>0</td>\n",
       "      <td>...</td>\n",
       "      <td>0</td>\n",
       "      <td>0</td>\n",
       "      <td>0</td>\n",
       "      <td>0</td>\n",
       "      <td>0</td>\n",
       "      <td>0</td>\n",
       "      <td>0</td>\n",
       "      <td>0</td>\n",
       "      <td>0</td>\n",
       "      <td>0</td>\n",
       "    </tr>\n",
       "    <tr>\n",
       "      <th>...</th>\n",
       "      <td>...</td>\n",
       "      <td>...</td>\n",
       "      <td>...</td>\n",
       "      <td>...</td>\n",
       "      <td>...</td>\n",
       "      <td>...</td>\n",
       "      <td>...</td>\n",
       "      <td>...</td>\n",
       "      <td>...</td>\n",
       "      <td>...</td>\n",
       "      <td>...</td>\n",
       "      <td>...</td>\n",
       "      <td>...</td>\n",
       "      <td>...</td>\n",
       "      <td>...</td>\n",
       "      <td>...</td>\n",
       "      <td>...</td>\n",
       "      <td>...</td>\n",
       "      <td>...</td>\n",
       "      <td>...</td>\n",
       "      <td>...</td>\n",
       "    </tr>\n",
       "    <tr>\n",
       "      <th>239538</th>\n",
       "      <td>0</td>\n",
       "      <td>0</td>\n",
       "      <td>0</td>\n",
       "      <td>0</td>\n",
       "      <td>0</td>\n",
       "      <td>0</td>\n",
       "      <td>0</td>\n",
       "      <td>0</td>\n",
       "      <td>0</td>\n",
       "      <td>0</td>\n",
       "      <td>...</td>\n",
       "      <td>0</td>\n",
       "      <td>0</td>\n",
       "      <td>0</td>\n",
       "      <td>0</td>\n",
       "      <td>0</td>\n",
       "      <td>0</td>\n",
       "      <td>0</td>\n",
       "      <td>0</td>\n",
       "      <td>0</td>\n",
       "      <td>0</td>\n",
       "    </tr>\n",
       "    <tr>\n",
       "      <th>375842</th>\n",
       "      <td>0</td>\n",
       "      <td>0</td>\n",
       "      <td>0</td>\n",
       "      <td>0</td>\n",
       "      <td>0</td>\n",
       "      <td>0</td>\n",
       "      <td>0</td>\n",
       "      <td>0</td>\n",
       "      <td>0</td>\n",
       "      <td>0</td>\n",
       "      <td>...</td>\n",
       "      <td>0</td>\n",
       "      <td>0</td>\n",
       "      <td>0</td>\n",
       "      <td>0</td>\n",
       "      <td>0</td>\n",
       "      <td>0</td>\n",
       "      <td>0</td>\n",
       "      <td>0</td>\n",
       "      <td>0</td>\n",
       "      <td>0</td>\n",
       "    </tr>\n",
       "    <tr>\n",
       "      <th>377805</th>\n",
       "      <td>0</td>\n",
       "      <td>0</td>\n",
       "      <td>0</td>\n",
       "      <td>0</td>\n",
       "      <td>0</td>\n",
       "      <td>0</td>\n",
       "      <td>0</td>\n",
       "      <td>0</td>\n",
       "      <td>0</td>\n",
       "      <td>0</td>\n",
       "      <td>...</td>\n",
       "      <td>0</td>\n",
       "      <td>0</td>\n",
       "      <td>0</td>\n",
       "      <td>0</td>\n",
       "      <td>0</td>\n",
       "      <td>0</td>\n",
       "      <td>0</td>\n",
       "      <td>0</td>\n",
       "      <td>0</td>\n",
       "      <td>0</td>\n",
       "    </tr>\n",
       "    <tr>\n",
       "      <th>228520</th>\n",
       "      <td>0</td>\n",
       "      <td>0</td>\n",
       "      <td>0</td>\n",
       "      <td>0</td>\n",
       "      <td>0</td>\n",
       "      <td>0</td>\n",
       "      <td>0</td>\n",
       "      <td>0</td>\n",
       "      <td>0</td>\n",
       "      <td>0</td>\n",
       "      <td>...</td>\n",
       "      <td>0</td>\n",
       "      <td>0</td>\n",
       "      <td>0</td>\n",
       "      <td>0</td>\n",
       "      <td>0</td>\n",
       "      <td>0</td>\n",
       "      <td>0</td>\n",
       "      <td>0</td>\n",
       "      <td>0</td>\n",
       "      <td>0</td>\n",
       "    </tr>\n",
       "    <tr>\n",
       "      <th>123287</th>\n",
       "      <td>0</td>\n",
       "      <td>0</td>\n",
       "      <td>0</td>\n",
       "      <td>0</td>\n",
       "      <td>0</td>\n",
       "      <td>0</td>\n",
       "      <td>0</td>\n",
       "      <td>0</td>\n",
       "      <td>0</td>\n",
       "      <td>0</td>\n",
       "      <td>...</td>\n",
       "      <td>0</td>\n",
       "      <td>0</td>\n",
       "      <td>1</td>\n",
       "      <td>0</td>\n",
       "      <td>0</td>\n",
       "      <td>0</td>\n",
       "      <td>0</td>\n",
       "      <td>0</td>\n",
       "      <td>0</td>\n",
       "      <td>0</td>\n",
       "    </tr>\n",
       "  </tbody>\n",
       "</table>\n",
       "<p>30000 rows × 6000 columns</p>\n",
       "</div>"
      ],
      "text/plain": [
       "        0     1     2     3     4     5     6     7     8     9     ...  2990  \\\n",
       "105939     0     0     0     0     0     0     0     0     0     0  ...     0   \n",
       "172395     0     0     0     0     0     0     0     0     0     0  ...     0   \n",
       "111387     0     0     0     0     0     0     0     0     0     0  ...     0   \n",
       "201367     0     0     0     0     0     0     0     0     0     0  ...     0   \n",
       "130305     0     0     0     0     0     0     0     0     0     0  ...     0   \n",
       "...      ...   ...   ...   ...   ...   ...   ...   ...   ...   ...  ...   ...   \n",
       "239538     0     0     0     0     0     0     0     0     0     0  ...     0   \n",
       "375842     0     0     0     0     0     0     0     0     0     0  ...     0   \n",
       "377805     0     0     0     0     0     0     0     0     0     0  ...     0   \n",
       "228520     0     0     0     0     0     0     0     0     0     0  ...     0   \n",
       "123287     0     0     0     0     0     0     0     0     0     0  ...     0   \n",
       "\n",
       "        2991  2992  2993  2994  2995  2996  2997  2998  2999  \n",
       "105939     0     0     0     0     0     0     0     0     0  \n",
       "172395     0     0     0     0     0     0     0     0     0  \n",
       "111387     0     0     0     0     0     0     0     0     0  \n",
       "201367     0     0     0     0     0     0     0     0     0  \n",
       "130305     0     0     0     0     0     0     0     0     0  \n",
       "...      ...   ...   ...   ...   ...   ...   ...   ...   ...  \n",
       "239538     0     0     0     0     0     0     0     0     0  \n",
       "375842     0     0     0     0     0     0     0     0     0  \n",
       "377805     0     0     0     0     0     0     0     0     0  \n",
       "228520     0     0     0     0     0     0     0     0     0  \n",
       "123287     0     1     0     0     0     0     0     0     0  \n",
       "\n",
       "[30000 rows x 6000 columns]"
      ]
     },
     "execution_count": 17,
     "metadata": {},
     "output_type": "execute_result"
    }
   ],
   "source": [
    "temp_df1 = pd.DataFrame(q1_arr, index = ques_df.index)\n",
    "temp_df2 = pd.DataFrame(q2_arr, index = ques_df.index)\n",
    "\n",
    "temp_df = pd.concat([temp_df1,temp_df2],axis=1)\n",
    "temp_df"
   ]
  },
  {
   "cell_type": "code",
   "execution_count": 18,
   "id": "64fc346b",
   "metadata": {
    "execution": {
     "iopub.execute_input": "2025-05-07T12:44:35.456743Z",
     "iopub.status.busy": "2025-05-07T12:44:35.456439Z",
     "iopub.status.idle": "2025-05-07T12:44:35.491981Z",
     "shell.execute_reply": "2025-05-07T12:44:35.491076Z"
    },
    "papermill": {
     "duration": 0.045179,
     "end_time": "2025-05-07T12:44:35.493471",
     "exception": false,
     "start_time": "2025-05-07T12:44:35.448292",
     "status": "completed"
    },
    "tags": []
   },
   "outputs": [
    {
     "data": {
      "text/html": [
       "<div>\n",
       "<style scoped>\n",
       "    .dataframe tbody tr th:only-of-type {\n",
       "        vertical-align: middle;\n",
       "    }\n",
       "\n",
       "    .dataframe tbody tr th {\n",
       "        vertical-align: top;\n",
       "    }\n",
       "\n",
       "    .dataframe thead th {\n",
       "        text-align: right;\n",
       "    }\n",
       "</style>\n",
       "<table border=\"1\" class=\"dataframe\">\n",
       "  <thead>\n",
       "    <tr style=\"text-align: right;\">\n",
       "      <th></th>\n",
       "      <th>0</th>\n",
       "      <th>1</th>\n",
       "      <th>2</th>\n",
       "      <th>3</th>\n",
       "      <th>4</th>\n",
       "      <th>5</th>\n",
       "      <th>6</th>\n",
       "      <th>7</th>\n",
       "      <th>8</th>\n",
       "      <th>9</th>\n",
       "      <th>...</th>\n",
       "      <th>2991</th>\n",
       "      <th>2992</th>\n",
       "      <th>2993</th>\n",
       "      <th>2994</th>\n",
       "      <th>2995</th>\n",
       "      <th>2996</th>\n",
       "      <th>2997</th>\n",
       "      <th>2998</th>\n",
       "      <th>2999</th>\n",
       "      <th>is_duplicate</th>\n",
       "    </tr>\n",
       "  </thead>\n",
       "  <tbody>\n",
       "    <tr>\n",
       "      <th>105939</th>\n",
       "      <td>0</td>\n",
       "      <td>0</td>\n",
       "      <td>0</td>\n",
       "      <td>0</td>\n",
       "      <td>0</td>\n",
       "      <td>0</td>\n",
       "      <td>0</td>\n",
       "      <td>0</td>\n",
       "      <td>0</td>\n",
       "      <td>0</td>\n",
       "      <td>...</td>\n",
       "      <td>0</td>\n",
       "      <td>0</td>\n",
       "      <td>0</td>\n",
       "      <td>0</td>\n",
       "      <td>0</td>\n",
       "      <td>0</td>\n",
       "      <td>0</td>\n",
       "      <td>0</td>\n",
       "      <td>0</td>\n",
       "      <td>0</td>\n",
       "    </tr>\n",
       "    <tr>\n",
       "      <th>172395</th>\n",
       "      <td>0</td>\n",
       "      <td>0</td>\n",
       "      <td>0</td>\n",
       "      <td>0</td>\n",
       "      <td>0</td>\n",
       "      <td>0</td>\n",
       "      <td>0</td>\n",
       "      <td>0</td>\n",
       "      <td>0</td>\n",
       "      <td>0</td>\n",
       "      <td>...</td>\n",
       "      <td>0</td>\n",
       "      <td>0</td>\n",
       "      <td>0</td>\n",
       "      <td>0</td>\n",
       "      <td>0</td>\n",
       "      <td>0</td>\n",
       "      <td>0</td>\n",
       "      <td>0</td>\n",
       "      <td>0</td>\n",
       "      <td>0</td>\n",
       "    </tr>\n",
       "    <tr>\n",
       "      <th>111387</th>\n",
       "      <td>0</td>\n",
       "      <td>0</td>\n",
       "      <td>0</td>\n",
       "      <td>0</td>\n",
       "      <td>0</td>\n",
       "      <td>0</td>\n",
       "      <td>0</td>\n",
       "      <td>0</td>\n",
       "      <td>0</td>\n",
       "      <td>0</td>\n",
       "      <td>...</td>\n",
       "      <td>0</td>\n",
       "      <td>0</td>\n",
       "      <td>0</td>\n",
       "      <td>0</td>\n",
       "      <td>0</td>\n",
       "      <td>0</td>\n",
       "      <td>0</td>\n",
       "      <td>0</td>\n",
       "      <td>0</td>\n",
       "      <td>0</td>\n",
       "    </tr>\n",
       "    <tr>\n",
       "      <th>201367</th>\n",
       "      <td>0</td>\n",
       "      <td>0</td>\n",
       "      <td>0</td>\n",
       "      <td>0</td>\n",
       "      <td>0</td>\n",
       "      <td>0</td>\n",
       "      <td>0</td>\n",
       "      <td>0</td>\n",
       "      <td>0</td>\n",
       "      <td>0</td>\n",
       "      <td>...</td>\n",
       "      <td>0</td>\n",
       "      <td>0</td>\n",
       "      <td>0</td>\n",
       "      <td>0</td>\n",
       "      <td>0</td>\n",
       "      <td>0</td>\n",
       "      <td>0</td>\n",
       "      <td>0</td>\n",
       "      <td>0</td>\n",
       "      <td>1</td>\n",
       "    </tr>\n",
       "    <tr>\n",
       "      <th>130305</th>\n",
       "      <td>0</td>\n",
       "      <td>0</td>\n",
       "      <td>0</td>\n",
       "      <td>0</td>\n",
       "      <td>0</td>\n",
       "      <td>0</td>\n",
       "      <td>0</td>\n",
       "      <td>0</td>\n",
       "      <td>0</td>\n",
       "      <td>0</td>\n",
       "      <td>...</td>\n",
       "      <td>0</td>\n",
       "      <td>0</td>\n",
       "      <td>0</td>\n",
       "      <td>0</td>\n",
       "      <td>0</td>\n",
       "      <td>0</td>\n",
       "      <td>0</td>\n",
       "      <td>0</td>\n",
       "      <td>0</td>\n",
       "      <td>0</td>\n",
       "    </tr>\n",
       "    <tr>\n",
       "      <th>...</th>\n",
       "      <td>...</td>\n",
       "      <td>...</td>\n",
       "      <td>...</td>\n",
       "      <td>...</td>\n",
       "      <td>...</td>\n",
       "      <td>...</td>\n",
       "      <td>...</td>\n",
       "      <td>...</td>\n",
       "      <td>...</td>\n",
       "      <td>...</td>\n",
       "      <td>...</td>\n",
       "      <td>...</td>\n",
       "      <td>...</td>\n",
       "      <td>...</td>\n",
       "      <td>...</td>\n",
       "      <td>...</td>\n",
       "      <td>...</td>\n",
       "      <td>...</td>\n",
       "      <td>...</td>\n",
       "      <td>...</td>\n",
       "      <td>...</td>\n",
       "    </tr>\n",
       "    <tr>\n",
       "      <th>239538</th>\n",
       "      <td>0</td>\n",
       "      <td>0</td>\n",
       "      <td>0</td>\n",
       "      <td>0</td>\n",
       "      <td>0</td>\n",
       "      <td>0</td>\n",
       "      <td>0</td>\n",
       "      <td>0</td>\n",
       "      <td>0</td>\n",
       "      <td>0</td>\n",
       "      <td>...</td>\n",
       "      <td>0</td>\n",
       "      <td>0</td>\n",
       "      <td>0</td>\n",
       "      <td>0</td>\n",
       "      <td>0</td>\n",
       "      <td>0</td>\n",
       "      <td>0</td>\n",
       "      <td>0</td>\n",
       "      <td>0</td>\n",
       "      <td>0</td>\n",
       "    </tr>\n",
       "    <tr>\n",
       "      <th>375842</th>\n",
       "      <td>0</td>\n",
       "      <td>0</td>\n",
       "      <td>0</td>\n",
       "      <td>0</td>\n",
       "      <td>0</td>\n",
       "      <td>0</td>\n",
       "      <td>0</td>\n",
       "      <td>0</td>\n",
       "      <td>0</td>\n",
       "      <td>0</td>\n",
       "      <td>...</td>\n",
       "      <td>0</td>\n",
       "      <td>0</td>\n",
       "      <td>0</td>\n",
       "      <td>0</td>\n",
       "      <td>0</td>\n",
       "      <td>0</td>\n",
       "      <td>0</td>\n",
       "      <td>0</td>\n",
       "      <td>0</td>\n",
       "      <td>0</td>\n",
       "    </tr>\n",
       "    <tr>\n",
       "      <th>377805</th>\n",
       "      <td>0</td>\n",
       "      <td>0</td>\n",
       "      <td>0</td>\n",
       "      <td>0</td>\n",
       "      <td>0</td>\n",
       "      <td>0</td>\n",
       "      <td>0</td>\n",
       "      <td>0</td>\n",
       "      <td>0</td>\n",
       "      <td>0</td>\n",
       "      <td>...</td>\n",
       "      <td>0</td>\n",
       "      <td>0</td>\n",
       "      <td>0</td>\n",
       "      <td>0</td>\n",
       "      <td>0</td>\n",
       "      <td>0</td>\n",
       "      <td>0</td>\n",
       "      <td>0</td>\n",
       "      <td>0</td>\n",
       "      <td>0</td>\n",
       "    </tr>\n",
       "    <tr>\n",
       "      <th>228520</th>\n",
       "      <td>0</td>\n",
       "      <td>0</td>\n",
       "      <td>0</td>\n",
       "      <td>0</td>\n",
       "      <td>0</td>\n",
       "      <td>0</td>\n",
       "      <td>0</td>\n",
       "      <td>0</td>\n",
       "      <td>0</td>\n",
       "      <td>0</td>\n",
       "      <td>...</td>\n",
       "      <td>0</td>\n",
       "      <td>0</td>\n",
       "      <td>0</td>\n",
       "      <td>0</td>\n",
       "      <td>0</td>\n",
       "      <td>0</td>\n",
       "      <td>0</td>\n",
       "      <td>0</td>\n",
       "      <td>0</td>\n",
       "      <td>1</td>\n",
       "    </tr>\n",
       "    <tr>\n",
       "      <th>123287</th>\n",
       "      <td>0</td>\n",
       "      <td>0</td>\n",
       "      <td>0</td>\n",
       "      <td>0</td>\n",
       "      <td>0</td>\n",
       "      <td>0</td>\n",
       "      <td>0</td>\n",
       "      <td>0</td>\n",
       "      <td>0</td>\n",
       "      <td>0</td>\n",
       "      <td>...</td>\n",
       "      <td>0</td>\n",
       "      <td>1</td>\n",
       "      <td>0</td>\n",
       "      <td>0</td>\n",
       "      <td>0</td>\n",
       "      <td>0</td>\n",
       "      <td>0</td>\n",
       "      <td>0</td>\n",
       "      <td>0</td>\n",
       "      <td>0</td>\n",
       "    </tr>\n",
       "  </tbody>\n",
       "</table>\n",
       "<p>30000 rows × 6001 columns</p>\n",
       "</div>"
      ],
      "text/plain": [
       "        0  1  2  3  4  5  6  7  8  9  ...  2991  2992  2993  2994  2995  2996  \\\n",
       "105939  0  0  0  0  0  0  0  0  0  0  ...     0     0     0     0     0     0   \n",
       "172395  0  0  0  0  0  0  0  0  0  0  ...     0     0     0     0     0     0   \n",
       "111387  0  0  0  0  0  0  0  0  0  0  ...     0     0     0     0     0     0   \n",
       "201367  0  0  0  0  0  0  0  0  0  0  ...     0     0     0     0     0     0   \n",
       "130305  0  0  0  0  0  0  0  0  0  0  ...     0     0     0     0     0     0   \n",
       "...    .. .. .. .. .. .. .. .. .. ..  ...   ...   ...   ...   ...   ...   ...   \n",
       "239538  0  0  0  0  0  0  0  0  0  0  ...     0     0     0     0     0     0   \n",
       "375842  0  0  0  0  0  0  0  0  0  0  ...     0     0     0     0     0     0   \n",
       "377805  0  0  0  0  0  0  0  0  0  0  ...     0     0     0     0     0     0   \n",
       "228520  0  0  0  0  0  0  0  0  0  0  ...     0     0     0     0     0     0   \n",
       "123287  0  0  0  0  0  0  0  0  0  0  ...     0     1     0     0     0     0   \n",
       "\n",
       "        2997  2998  2999  is_duplicate  \n",
       "105939     0     0     0             0  \n",
       "172395     0     0     0             0  \n",
       "111387     0     0     0             0  \n",
       "201367     0     0     0             1  \n",
       "130305     0     0     0             0  \n",
       "...      ...   ...   ...           ...  \n",
       "239538     0     0     0             0  \n",
       "375842     0     0     0             0  \n",
       "377805     0     0     0             0  \n",
       "228520     0     0     0             1  \n",
       "123287     0     0     0             0  \n",
       "\n",
       "[30000 rows x 6001 columns]"
      ]
     },
     "execution_count": 18,
     "metadata": {},
     "output_type": "execute_result"
    }
   ],
   "source": [
    "temp_df['is_duplicate'] = df['is_duplicate']\n",
    "temp_df"
   ]
  },
  {
   "cell_type": "code",
   "execution_count": 19,
   "id": "d5886a93",
   "metadata": {
    "execution": {
     "iopub.execute_input": "2025-05-07T12:44:35.511881Z",
     "iopub.status.busy": "2025-05-07T12:44:35.511568Z",
     "iopub.status.idle": "2025-05-07T12:44:35.515383Z",
     "shell.execute_reply": "2025-05-07T12:44:35.514617Z"
    },
    "papermill": {
     "duration": 0.013911,
     "end_time": "2025-05-07T12:44:35.516754",
     "exception": false,
     "start_time": "2025-05-07T12:44:35.502843",
     "status": "completed"
    },
    "tags": []
   },
   "outputs": [],
   "source": [
    "# EDA\n"
   ]
  },
  {
   "cell_type": "markdown",
   "id": "ad84cec2",
   "metadata": {
    "papermill": {
     "duration": 0.007477,
     "end_time": "2025-05-07T12:44:35.532017",
     "exception": false,
     "start_time": "2025-05-07T12:44:35.524540",
     "status": "completed"
    },
    "tags": []
   },
   "source": [
    "### Data Preprocessing & Transformation\n"
   ]
  },
  {
   "cell_type": "code",
   "execution_count": 20,
   "id": "31cf2b03",
   "metadata": {
    "execution": {
     "iopub.execute_input": "2025-05-07T12:44:35.548799Z",
     "iopub.status.busy": "2025-05-07T12:44:35.548477Z",
     "iopub.status.idle": "2025-05-07T12:44:36.817911Z",
     "shell.execute_reply": "2025-05-07T12:44:36.816901Z"
    },
    "papermill": {
     "duration": 1.279748,
     "end_time": "2025-05-07T12:44:36.819560",
     "exception": false,
     "start_time": "2025-05-07T12:44:35.539812",
     "status": "completed"
    },
    "tags": []
   },
   "outputs": [
    {
     "data": {
      "text/plain": [
       "array([[0, 0, 0, ..., 0, 0, 0],\n",
       "       [0, 0, 0, ..., 0, 0, 0],\n",
       "       [0, 0, 0, ..., 0, 0, 0],\n",
       "       ...,\n",
       "       [0, 0, 0, ..., 0, 0, 0],\n",
       "       [0, 0, 0, ..., 0, 0, 0],\n",
       "       [0, 0, 0, ..., 0, 0, 0]])"
      ]
     },
     "execution_count": 20,
     "metadata": {},
     "output_type": "execute_result"
    }
   ],
   "source": [
    "temp_df.iloc[:,0:-1].values"
   ]
  },
  {
   "cell_type": "code",
   "execution_count": 21,
   "id": "cd25717f",
   "metadata": {
    "execution": {
     "iopub.execute_input": "2025-05-07T12:44:36.836441Z",
     "iopub.status.busy": "2025-05-07T12:44:36.836081Z",
     "iopub.status.idle": "2025-05-07T12:44:40.196549Z",
     "shell.execute_reply": "2025-05-07T12:44:40.195633Z"
    },
    "papermill": {
     "duration": 3.37075,
     "end_time": "2025-05-07T12:44:40.198272",
     "exception": false,
     "start_time": "2025-05-07T12:44:36.827522",
     "status": "completed"
    },
    "tags": []
   },
   "outputs": [],
   "source": [
    "#importing and splitting data\n",
    "from sklearn.model_selection import train_test_split\n",
    "X_train, X_test, y_train, y_test = train_test_split(temp_df.iloc[:,0:-1].values,temp_df.iloc[:,-1].values,test_size=0.2, random_state=2)\n",
    "\n"
   ]
  },
  {
   "cell_type": "markdown",
   "id": "e67ec0b4",
   "metadata": {
    "papermill": {
     "duration": 0.008086,
     "end_time": "2025-05-07T12:44:40.214376",
     "exception": false,
     "start_time": "2025-05-07T12:44:40.206290",
     "status": "completed"
    },
    "tags": []
   },
   "source": [
    "### Model Selection & Evaluation"
   ]
  },
  {
   "cell_type": "markdown",
   "id": "34147620",
   "metadata": {
    "papermill": {
     "duration": 0.007389,
     "end_time": "2025-05-07T12:44:40.230076",
     "exception": false,
     "start_time": "2025-05-07T12:44:40.222687",
     "status": "completed"
    },
    "tags": []
   },
   "source": [
    "### Classification Models / Regression Models"
   ]
  },
  {
   "cell_type": "code",
   "execution_count": 22,
   "id": "73ff7ea6",
   "metadata": {
    "execution": {
     "iopub.execute_input": "2025-05-07T12:44:40.246741Z",
     "iopub.status.busy": "2025-05-07T12:44:40.246412Z",
     "iopub.status.idle": "2025-05-07T12:46:23.889432Z",
     "shell.execute_reply": "2025-05-07T12:46:23.888558Z"
    },
    "papermill": {
     "duration": 103.661732,
     "end_time": "2025-05-07T12:46:23.899576",
     "exception": false,
     "start_time": "2025-05-07T12:44:40.237844",
     "status": "completed"
    },
    "tags": []
   },
   "outputs": [
    {
     "data": {
      "text/html": [
       "<style>#sk-container-id-1 {color: black;background-color: white;}#sk-container-id-1 pre{padding: 0;}#sk-container-id-1 div.sk-toggleable {background-color: white;}#sk-container-id-1 label.sk-toggleable__label {cursor: pointer;display: block;width: 100%;margin-bottom: 0;padding: 0.3em;box-sizing: border-box;text-align: center;}#sk-container-id-1 label.sk-toggleable__label-arrow:before {content: \"▸\";float: left;margin-right: 0.25em;color: #696969;}#sk-container-id-1 label.sk-toggleable__label-arrow:hover:before {color: black;}#sk-container-id-1 div.sk-estimator:hover label.sk-toggleable__label-arrow:before {color: black;}#sk-container-id-1 div.sk-toggleable__content {max-height: 0;max-width: 0;overflow: hidden;text-align: left;background-color: #f0f8ff;}#sk-container-id-1 div.sk-toggleable__content pre {margin: 0.2em;color: black;border-radius: 0.25em;background-color: #f0f8ff;}#sk-container-id-1 input.sk-toggleable__control:checked~div.sk-toggleable__content {max-height: 200px;max-width: 100%;overflow: auto;}#sk-container-id-1 input.sk-toggleable__control:checked~label.sk-toggleable__label-arrow:before {content: \"▾\";}#sk-container-id-1 div.sk-estimator input.sk-toggleable__control:checked~label.sk-toggleable__label {background-color: #d4ebff;}#sk-container-id-1 div.sk-label input.sk-toggleable__control:checked~label.sk-toggleable__label {background-color: #d4ebff;}#sk-container-id-1 input.sk-hidden--visually {border: 0;clip: rect(1px 1px 1px 1px);clip: rect(1px, 1px, 1px, 1px);height: 1px;margin: -1px;overflow: hidden;padding: 0;position: absolute;width: 1px;}#sk-container-id-1 div.sk-estimator {font-family: monospace;background-color: #f0f8ff;border: 1px dotted black;border-radius: 0.25em;box-sizing: border-box;margin-bottom: 0.5em;}#sk-container-id-1 div.sk-estimator:hover {background-color: #d4ebff;}#sk-container-id-1 div.sk-parallel-item::after {content: \"\";width: 100%;border-bottom: 1px solid gray;flex-grow: 1;}#sk-container-id-1 div.sk-label:hover label.sk-toggleable__label {background-color: #d4ebff;}#sk-container-id-1 div.sk-serial::before {content: \"\";position: absolute;border-left: 1px solid gray;box-sizing: border-box;top: 0;bottom: 0;left: 50%;z-index: 0;}#sk-container-id-1 div.sk-serial {display: flex;flex-direction: column;align-items: center;background-color: white;padding-right: 0.2em;padding-left: 0.2em;position: relative;}#sk-container-id-1 div.sk-item {position: relative;z-index: 1;}#sk-container-id-1 div.sk-parallel {display: flex;align-items: stretch;justify-content: center;background-color: white;position: relative;}#sk-container-id-1 div.sk-item::before, #sk-container-id-1 div.sk-parallel-item::before {content: \"\";position: absolute;border-left: 1px solid gray;box-sizing: border-box;top: 0;bottom: 0;left: 50%;z-index: -1;}#sk-container-id-1 div.sk-parallel-item {display: flex;flex-direction: column;z-index: 1;position: relative;background-color: white;}#sk-container-id-1 div.sk-parallel-item:first-child::after {align-self: flex-end;width: 50%;}#sk-container-id-1 div.sk-parallel-item:last-child::after {align-self: flex-start;width: 50%;}#sk-container-id-1 div.sk-parallel-item:only-child::after {width: 0;}#sk-container-id-1 div.sk-dashed-wrapped {border: 1px dashed gray;margin: 0 0.4em 0.5em 0.4em;box-sizing: border-box;padding-bottom: 0.4em;background-color: white;}#sk-container-id-1 div.sk-label label {font-family: monospace;font-weight: bold;display: inline-block;line-height: 1.2em;}#sk-container-id-1 div.sk-label-container {text-align: center;}#sk-container-id-1 div.sk-container {/* jupyter's `normalize.less` sets `[hidden] { display: none; }` but bootstrap.min.css set `[hidden] { display: none !important; }` so we also need the `!important` here to be able to override the default hidden behavior on the sphinx rendered scikit-learn.org. See: https://github.com/scikit-learn/scikit-learn/issues/21755 */display: inline-block !important;position: relative;}#sk-container-id-1 div.sk-text-repr-fallback {display: none;}</style><div id=\"sk-container-id-1\" class=\"sk-top-container\"><div class=\"sk-text-repr-fallback\"><pre>RandomForestClassifier()</pre><b>In a Jupyter environment, please rerun this cell to show the HTML representation or trust the notebook. <br />On GitHub, the HTML representation is unable to render, please try loading this page with nbviewer.org.</b></div><div class=\"sk-container\" hidden><div class=\"sk-item\"><div class=\"sk-estimator sk-toggleable\"><input class=\"sk-toggleable__control sk-hidden--visually\" id=\"sk-estimator-id-1\" type=\"checkbox\" checked><label for=\"sk-estimator-id-1\" class=\"sk-toggleable__label sk-toggleable__label-arrow\">RandomForestClassifier</label><div class=\"sk-toggleable__content\"><pre>RandomForestClassifier()</pre></div></div></div></div></div>"
      ],
      "text/plain": [
       "RandomForestClassifier()"
      ]
     },
     "execution_count": 22,
     "metadata": {},
     "output_type": "execute_result"
    }
   ],
   "source": [
    "#Random Forest Classifier\n",
    "from sklearn.ensemble import RandomForestClassifier\n",
    "from sklearn.metrics import accuracy_score\n",
    "model = RandomForestClassifier()\n",
    "model.fit(X_train,y_train)"
   ]
  },
  {
   "cell_type": "code",
   "execution_count": 23,
   "id": "a4c16488",
   "metadata": {
    "execution": {
     "iopub.execute_input": "2025-05-07T12:46:23.916985Z",
     "iopub.status.busy": "2025-05-07T12:46:23.916678Z",
     "iopub.status.idle": "2025-05-07T12:46:24.787974Z",
     "shell.execute_reply": "2025-05-07T12:46:24.787131Z"
    },
    "papermill": {
     "duration": 0.881835,
     "end_time": "2025-05-07T12:46:24.789403",
     "exception": false,
     "start_time": "2025-05-07T12:46:23.907568",
     "status": "completed"
    },
    "tags": []
   },
   "outputs": [
    {
     "data": {
      "text/plain": [
       "0.7456666666666667"
      ]
     },
     "execution_count": 23,
     "metadata": {},
     "output_type": "execute_result"
    }
   ],
   "source": [
    "y_pred = model.predict(X_test)\n",
    "accuracy_score(y_test,y_pred)"
   ]
  },
  {
   "cell_type": "code",
   "execution_count": 24,
   "id": "45e248fe",
   "metadata": {
    "execution": {
     "iopub.execute_input": "2025-05-07T12:46:24.807812Z",
     "iopub.status.busy": "2025-05-07T12:46:24.807519Z",
     "iopub.status.idle": "2025-05-07T12:46:38.170021Z",
     "shell.execute_reply": "2025-05-07T12:46:38.168989Z"
    },
    "papermill": {
     "duration": 13.373981,
     "end_time": "2025-05-07T12:46:38.171781",
     "exception": false,
     "start_time": "2025-05-07T12:46:24.797800",
     "status": "completed"
    },
    "tags": []
   },
   "outputs": [
    {
     "data": {
      "text/html": [
       "<style>#sk-container-id-2 {color: black;background-color: white;}#sk-container-id-2 pre{padding: 0;}#sk-container-id-2 div.sk-toggleable {background-color: white;}#sk-container-id-2 label.sk-toggleable__label {cursor: pointer;display: block;width: 100%;margin-bottom: 0;padding: 0.3em;box-sizing: border-box;text-align: center;}#sk-container-id-2 label.sk-toggleable__label-arrow:before {content: \"▸\";float: left;margin-right: 0.25em;color: #696969;}#sk-container-id-2 label.sk-toggleable__label-arrow:hover:before {color: black;}#sk-container-id-2 div.sk-estimator:hover label.sk-toggleable__label-arrow:before {color: black;}#sk-container-id-2 div.sk-toggleable__content {max-height: 0;max-width: 0;overflow: hidden;text-align: left;background-color: #f0f8ff;}#sk-container-id-2 div.sk-toggleable__content pre {margin: 0.2em;color: black;border-radius: 0.25em;background-color: #f0f8ff;}#sk-container-id-2 input.sk-toggleable__control:checked~div.sk-toggleable__content {max-height: 200px;max-width: 100%;overflow: auto;}#sk-container-id-2 input.sk-toggleable__control:checked~label.sk-toggleable__label-arrow:before {content: \"▾\";}#sk-container-id-2 div.sk-estimator input.sk-toggleable__control:checked~label.sk-toggleable__label {background-color: #d4ebff;}#sk-container-id-2 div.sk-label input.sk-toggleable__control:checked~label.sk-toggleable__label {background-color: #d4ebff;}#sk-container-id-2 input.sk-hidden--visually {border: 0;clip: rect(1px 1px 1px 1px);clip: rect(1px, 1px, 1px, 1px);height: 1px;margin: -1px;overflow: hidden;padding: 0;position: absolute;width: 1px;}#sk-container-id-2 div.sk-estimator {font-family: monospace;background-color: #f0f8ff;border: 1px dotted black;border-radius: 0.25em;box-sizing: border-box;margin-bottom: 0.5em;}#sk-container-id-2 div.sk-estimator:hover {background-color: #d4ebff;}#sk-container-id-2 div.sk-parallel-item::after {content: \"\";width: 100%;border-bottom: 1px solid gray;flex-grow: 1;}#sk-container-id-2 div.sk-label:hover label.sk-toggleable__label {background-color: #d4ebff;}#sk-container-id-2 div.sk-serial::before {content: \"\";position: absolute;border-left: 1px solid gray;box-sizing: border-box;top: 0;bottom: 0;left: 50%;z-index: 0;}#sk-container-id-2 div.sk-serial {display: flex;flex-direction: column;align-items: center;background-color: white;padding-right: 0.2em;padding-left: 0.2em;position: relative;}#sk-container-id-2 div.sk-item {position: relative;z-index: 1;}#sk-container-id-2 div.sk-parallel {display: flex;align-items: stretch;justify-content: center;background-color: white;position: relative;}#sk-container-id-2 div.sk-item::before, #sk-container-id-2 div.sk-parallel-item::before {content: \"\";position: absolute;border-left: 1px solid gray;box-sizing: border-box;top: 0;bottom: 0;left: 50%;z-index: -1;}#sk-container-id-2 div.sk-parallel-item {display: flex;flex-direction: column;z-index: 1;position: relative;background-color: white;}#sk-container-id-2 div.sk-parallel-item:first-child::after {align-self: flex-end;width: 50%;}#sk-container-id-2 div.sk-parallel-item:last-child::after {align-self: flex-start;width: 50%;}#sk-container-id-2 div.sk-parallel-item:only-child::after {width: 0;}#sk-container-id-2 div.sk-dashed-wrapped {border: 1px dashed gray;margin: 0 0.4em 0.5em 0.4em;box-sizing: border-box;padding-bottom: 0.4em;background-color: white;}#sk-container-id-2 div.sk-label label {font-family: monospace;font-weight: bold;display: inline-block;line-height: 1.2em;}#sk-container-id-2 div.sk-label-container {text-align: center;}#sk-container-id-2 div.sk-container {/* jupyter's `normalize.less` sets `[hidden] { display: none; }` but bootstrap.min.css set `[hidden] { display: none !important; }` so we also need the `!important` here to be able to override the default hidden behavior on the sphinx rendered scikit-learn.org. See: https://github.com/scikit-learn/scikit-learn/issues/21755 */display: inline-block !important;position: relative;}#sk-container-id-2 div.sk-text-repr-fallback {display: none;}</style><div id=\"sk-container-id-2\" class=\"sk-top-container\"><div class=\"sk-text-repr-fallback\"><pre>XGBClassifier(base_score=None, booster=None, callbacks=None,\n",
       "              colsample_bylevel=None, colsample_bynode=None,\n",
       "              colsample_bytree=None, device=None, early_stopping_rounds=None,\n",
       "              enable_categorical=False, eval_metric=None, feature_types=None,\n",
       "              gamma=None, grow_policy=None, importance_type=None,\n",
       "              interaction_constraints=None, learning_rate=None, max_bin=None,\n",
       "              max_cat_threshold=None, max_cat_to_onehot=None,\n",
       "              max_delta_step=None, max_depth=None, max_leaves=None,\n",
       "              min_child_weight=None, missing=nan, monotone_constraints=None,\n",
       "              multi_strategy=None, n_estimators=None, n_jobs=None,\n",
       "              num_parallel_tree=None, random_state=None, ...)</pre><b>In a Jupyter environment, please rerun this cell to show the HTML representation or trust the notebook. <br />On GitHub, the HTML representation is unable to render, please try loading this page with nbviewer.org.</b></div><div class=\"sk-container\" hidden><div class=\"sk-item\"><div class=\"sk-estimator sk-toggleable\"><input class=\"sk-toggleable__control sk-hidden--visually\" id=\"sk-estimator-id-2\" type=\"checkbox\" checked><label for=\"sk-estimator-id-2\" class=\"sk-toggleable__label sk-toggleable__label-arrow\">XGBClassifier</label><div class=\"sk-toggleable__content\"><pre>XGBClassifier(base_score=None, booster=None, callbacks=None,\n",
       "              colsample_bylevel=None, colsample_bynode=None,\n",
       "              colsample_bytree=None, device=None, early_stopping_rounds=None,\n",
       "              enable_categorical=False, eval_metric=None, feature_types=None,\n",
       "              gamma=None, grow_policy=None, importance_type=None,\n",
       "              interaction_constraints=None, learning_rate=None, max_bin=None,\n",
       "              max_cat_threshold=None, max_cat_to_onehot=None,\n",
       "              max_delta_step=None, max_depth=None, max_leaves=None,\n",
       "              min_child_weight=None, missing=nan, monotone_constraints=None,\n",
       "              multi_strategy=None, n_estimators=None, n_jobs=None,\n",
       "              num_parallel_tree=None, random_state=None, ...)</pre></div></div></div></div></div>"
      ],
      "text/plain": [
       "XGBClassifier(base_score=None, booster=None, callbacks=None,\n",
       "              colsample_bylevel=None, colsample_bynode=None,\n",
       "              colsample_bytree=None, device=None, early_stopping_rounds=None,\n",
       "              enable_categorical=False, eval_metric=None, feature_types=None,\n",
       "              gamma=None, grow_policy=None, importance_type=None,\n",
       "              interaction_constraints=None, learning_rate=None, max_bin=None,\n",
       "              max_cat_threshold=None, max_cat_to_onehot=None,\n",
       "              max_delta_step=None, max_depth=None, max_leaves=None,\n",
       "              min_child_weight=None, missing=nan, monotone_constraints=None,\n",
       "              multi_strategy=None, n_estimators=None, n_jobs=None,\n",
       "              num_parallel_tree=None, random_state=None, ...)"
      ]
     },
     "execution_count": 24,
     "metadata": {},
     "output_type": "execute_result"
    }
   ],
   "source": [
    "#Random Forest Classifier\n",
    "from xgboost import XGBClassifier\n",
    "\n",
    "xgb = XGBClassifier()\n",
    "xgb.fit(X_train,y_train)"
   ]
  },
  {
   "cell_type": "code",
   "execution_count": 25,
   "id": "1b915a22",
   "metadata": {
    "execution": {
     "iopub.execute_input": "2025-05-07T12:46:38.190547Z",
     "iopub.status.busy": "2025-05-07T12:46:38.189872Z",
     "iopub.status.idle": "2025-05-07T12:46:38.291912Z",
     "shell.execute_reply": "2025-05-07T12:46:38.290133Z"
    },
    "papermill": {
     "duration": 0.112889,
     "end_time": "2025-05-07T12:46:38.293280",
     "exception": false,
     "start_time": "2025-05-07T12:46:38.180391",
     "status": "completed"
    },
    "tags": []
   },
   "outputs": [
    {
     "data": {
      "text/plain": [
       "0.7383333333333333"
      ]
     },
     "execution_count": 25,
     "metadata": {},
     "output_type": "execute_result"
    }
   ],
   "source": [
    "y_pred = xgb.predict(X_test)\n",
    "accuracy_score(y_test,y_pred)"
   ]
  },
  {
   "cell_type": "code",
   "execution_count": 26,
   "id": "d46d2c0a",
   "metadata": {
    "execution": {
     "iopub.execute_input": "2025-05-07T12:46:38.311941Z",
     "iopub.status.busy": "2025-05-07T12:46:38.311157Z",
     "iopub.status.idle": "2025-05-07T12:46:55.455594Z",
     "shell.execute_reply": "2025-05-07T12:46:55.454667Z"
    },
    "papermill": {
     "duration": 17.155449,
     "end_time": "2025-05-07T12:46:55.457179",
     "exception": false,
     "start_time": "2025-05-07T12:46:38.301730",
     "status": "completed"
    },
    "tags": []
   },
   "outputs": [
    {
     "name": "stderr",
     "output_type": "stream",
     "text": [
      "/tmp/ipykernel_13/2024445107.py:1: DtypeWarning: Columns (0) have mixed types. Specify dtype option on import or set low_memory=False.\n",
      "  test_df = pd.read_csv('/kaggle/input/quora-question-pairs/test.csv.zip')\n"
     ]
    },
    {
     "name": "stdout",
     "output_type": "stream",
     "text": [
      "(3563475, 3)\n",
      "(2345796, 3)\n"
     ]
    }
   ],
   "source": [
    "test_df = pd.read_csv('/kaggle/input/quora-question-pairs/test.csv.zip')\n",
    "print(test_df.shape)\n",
    "\n",
    "test_df = test_df.sample(2345796)\n",
    "print(test_df.shape)"
   ]
  },
  {
   "cell_type": "code",
   "execution_count": 27,
   "id": "580f5cd0",
   "metadata": {
    "execution": {
     "iopub.execute_input": "2025-05-07T12:46:55.476554Z",
     "iopub.status.busy": "2025-05-07T12:46:55.475874Z",
     "iopub.status.idle": "2025-05-07T12:47:48.006294Z",
     "shell.execute_reply": "2025-05-07T12:47:48.005266Z"
    },
    "papermill": {
     "duration": 52.54164,
     "end_time": "2025-05-07T12:47:48.007936",
     "exception": false,
     "start_time": "2025-05-07T12:46:55.466296",
     "status": "completed"
    },
    "tags": []
   },
   "outputs": [],
   "source": [
    "from scipy.sparse import vstack, hstack\n",
    "\n",
    "# Vectorize test questions (keep sparse!)\n",
    "test_questions = list(test_df['question1'].fillna('')) + list(test_df['question2'].fillna(''))\n",
    "test_vectors = cv.transform(test_questions)  # DO NOT call .toarray()\n",
    "\n",
    "# Split into two sparse matrices\n",
    "q1_test, q2_test = test_vectors[:len(test_df)], test_vectors[len(test_df):]\n",
    "\n",
    "# Horizontally stack the sparse matrices\n",
    "X_test = hstack([q1_test, q2_test])"
   ]
  },
  {
   "cell_type": "code",
   "execution_count": 28,
   "id": "c7bbdcbc",
   "metadata": {
    "execution": {
     "iopub.execute_input": "2025-05-07T12:47:48.027240Z",
     "iopub.status.busy": "2025-05-07T12:47:48.026897Z",
     "iopub.status.idle": "2025-05-07T12:49:54.288298Z",
     "shell.execute_reply": "2025-05-07T12:49:54.287357Z"
    },
    "papermill": {
     "duration": 126.281828,
     "end_time": "2025-05-07T12:49:54.299051",
     "exception": false,
     "start_time": "2025-05-07T12:47:48.017223",
     "status": "completed"
    },
    "tags": []
   },
   "outputs": [
    {
     "name": "stdout",
     "output_type": "stream",
     "text": [
      "Predictions shape: (2345796,)\n"
     ]
    }
   ],
   "source": [
    "# Predict on the Kaggle test set\n",
    "y_pred = model.predict(X_test)\n",
    "print(\"Predictions shape:\", y_pred.shape)\n"
   ]
  },
  {
   "cell_type": "code",
   "execution_count": 29,
   "id": "db3a816c",
   "metadata": {
    "execution": {
     "iopub.execute_input": "2025-05-07T12:49:54.318559Z",
     "iopub.status.busy": "2025-05-07T12:49:54.318170Z",
     "iopub.status.idle": "2025-05-07T12:49:57.361707Z",
     "shell.execute_reply": "2025-05-07T12:49:57.360675Z"
    },
    "papermill": {
     "duration": 3.054929,
     "end_time": "2025-05-07T12:49:57.363232",
     "exception": false,
     "start_time": "2025-05-07T12:49:54.308303",
     "status": "completed"
    },
    "tags": []
   },
   "outputs": [],
   "source": [
    "submission = pd.DataFrame({\n",
    "    'test_id': test_df['test_id'],    \n",
    "    'is_duplicate': y_pred\n",
    "})\n",
    "\n",
    "submission.to_csv('submission.csv', index=False)"
   ]
  },
  {
   "cell_type": "markdown",
   "id": "610ad820",
   "metadata": {
    "papermill": {
     "duration": 0.008475,
     "end_time": "2025-05-07T12:49:57.380434",
     "exception": false,
     "start_time": "2025-05-07T12:49:57.371959",
     "status": "completed"
    },
    "tags": []
   },
   "source": [
    "### Model Evaluation Metrics"
   ]
  },
  {
   "cell_type": "markdown",
   "id": "2cce8087",
   "metadata": {
    "papermill": {
     "duration": 0.00967,
     "end_time": "2025-05-07T12:49:57.399105",
     "exception": false,
     "start_time": "2025-05-07T12:49:57.389435",
     "status": "completed"
    },
    "tags": []
   },
   "source": [
    "### Pipelines"
   ]
  }
 ],
 "metadata": {
  "kaggle": {
   "accelerator": "none",
   "dataSources": [
    {
     "databundleVersionId": 323734,
     "isSourceIdPinned": false,
     "sourceId": 6277,
     "sourceType": "competition"
    }
   ],
   "dockerImageVersionId": 31012,
   "isGpuEnabled": false,
   "isInternetEnabled": true,
   "language": "python",
   "sourceType": "notebook"
  },
  "kernelspec": {
   "display_name": "Python 3",
   "language": "python",
   "name": "python3"
  },
  "language_info": {
   "codemirror_mode": {
    "name": "ipython",
    "version": 3
   },
   "file_extension": ".py",
   "mimetype": "text/x-python",
   "name": "python",
   "nbconvert_exporter": "python",
   "pygments_lexer": "ipython3",
   "version": "3.11.11"
  },
  "papermill": {
   "default_parameters": {},
   "duration": 340.745199,
   "end_time": "2025-05-07T12:49:59.734627",
   "environment_variables": {},
   "exception": null,
   "input_path": "__notebook__.ipynb",
   "output_path": "__notebook__.ipynb",
   "parameters": {},
   "start_time": "2025-05-07T12:44:18.989428",
   "version": "2.6.0"
  }
 },
 "nbformat": 4,
 "nbformat_minor": 5
}
