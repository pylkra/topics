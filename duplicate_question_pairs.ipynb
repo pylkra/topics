{
 "cells": [
  {
   "cell_type": "code",
   "execution_count": 1,
   "id": "b4653d73",
   "metadata": {
    "_cell_guid": "b1076dfc-b9ad-4769-8c92-a6c4dae69d19",
    "_uuid": "8f2839f25d086af736a60e9eeb907d3b93b6e0e5",
    "execution": {
     "iopub.execute_input": "2025-05-07T12:05:58.621988Z",
     "iopub.status.busy": "2025-05-07T12:05:58.621556Z",
     "iopub.status.idle": "2025-05-07T12:06:00.487585Z",
     "shell.execute_reply": "2025-05-07T12:06:00.486620Z"
    },
    "papermill": {
     "duration": 1.876124,
     "end_time": "2025-05-07T12:06:00.489249",
     "exception": false,
     "start_time": "2025-05-07T12:05:58.613125",
     "status": "completed"
    },
    "tags": []
   },
   "outputs": [
    {
     "name": "stdout",
     "output_type": "stream",
     "text": [
      "/kaggle/input/quora-question-pairs/train.csv.zip\n",
      "/kaggle/input/quora-question-pairs/sample_submission.csv.zip\n",
      "/kaggle/input/quora-question-pairs/test.csv\n",
      "/kaggle/input/quora-question-pairs/test.csv.zip\n"
     ]
    }
   ],
   "source": [
    "# This Python 3 environment comes with many helpful analytics libraries installed\n",
    "# It is defined by the kaggle/python Docker image: https://github.com/kaggle/docker-python\n",
    "# For example, here's several helpful packages to load\n",
    "\n",
    "import numpy as np # linear algebra\n",
    "import pandas as pd # data processing, CSV file I/O (e.g. pd.read_csv)\n",
    "\n",
    "# Input data files are available in the read-only \"../input/\" directory\n",
    "# For example, running this (by clicking run or pressing Shift+Enter) will list all files under the input directory\n",
    "\n",
    "import os\n",
    "for dirname, _, filenames in os.walk('/kaggle/input'):\n",
    "    for filename in filenames:\n",
    "        print(os.path.join(dirname, filename))\n",
    "\n",
    "# You can write up to 20GB to the current directory (/kaggle/working/) that gets preserved as output when you create a version using \"Save & Run All\" \n",
    "# You can also write temporary files to /kaggle/temp/, but they won't be saved outside of the current session"
   ]
  },
  {
   "cell_type": "markdown",
   "id": "55d85c59",
   "metadata": {
    "papermill": {
     "duration": 0.005272,
     "end_time": "2025-05-07T12:06:00.501910",
     "exception": false,
     "start_time": "2025-05-07T12:06:00.496638",
     "status": "completed"
    },
    "tags": []
   },
   "source": [
    "import zipfile\n",
    "\n",
    "zip_path = \"/kaggle/input/quora-question-pairs/train.csv.zip\"\n",
    "extract_path = \"/kaggle/working/\"\n",
    "\n",
    "with zipfile.ZipFile(zip_path, 'r') as zip_ref:\n",
    "    zip_ref.extractall(extract_path)"
   ]
  },
  {
   "cell_type": "code",
   "execution_count": 2,
   "id": "c1e80018",
   "metadata": {
    "execution": {
     "iopub.execute_input": "2025-05-07T12:06:00.515527Z",
     "iopub.status.busy": "2025-05-07T12:06:00.515061Z",
     "iopub.status.idle": "2025-05-07T12:06:02.800070Z",
     "shell.execute_reply": "2025-05-07T12:06:02.799156Z"
    },
    "papermill": {
     "duration": 2.292893,
     "end_time": "2025-05-07T12:06:02.801644",
     "exception": false,
     "start_time": "2025-05-07T12:06:00.508751",
     "status": "completed"
    },
    "tags": []
   },
   "outputs": [
    {
     "data": {
      "text/plain": [
       "(404290, 6)"
      ]
     },
     "execution_count": 2,
     "metadata": {},
     "output_type": "execute_result"
    }
   ],
   "source": [
    "df = pd.read_csv('/kaggle/input/quora-question-pairs/train.csv.zip')\n",
    "df.shape"
   ]
  },
  {
   "cell_type": "code",
   "execution_count": 3,
   "id": "ffb97628",
   "metadata": {
    "execution": {
     "iopub.execute_input": "2025-05-07T12:06:02.814696Z",
     "iopub.status.busy": "2025-05-07T12:06:02.813888Z",
     "iopub.status.idle": "2025-05-07T12:06:02.868068Z",
     "shell.execute_reply": "2025-05-07T12:06:02.867338Z"
    },
    "papermill": {
     "duration": 0.062303,
     "end_time": "2025-05-07T12:06:02.869751",
     "exception": false,
     "start_time": "2025-05-07T12:06:02.807448",
     "status": "completed"
    },
    "tags": []
   },
   "outputs": [],
   "source": [
    "df = df.sample(30000)"
   ]
  },
  {
   "cell_type": "code",
   "execution_count": 4,
   "id": "f169225e",
   "metadata": {
    "execution": {
     "iopub.execute_input": "2025-05-07T12:06:02.882145Z",
     "iopub.status.busy": "2025-05-07T12:06:02.881842Z",
     "iopub.status.idle": "2025-05-07T12:06:02.898266Z",
     "shell.execute_reply": "2025-05-07T12:06:02.897323Z"
    },
    "papermill": {
     "duration": 0.024425,
     "end_time": "2025-05-07T12:06:02.899925",
     "exception": false,
     "start_time": "2025-05-07T12:06:02.875500",
     "status": "completed"
    },
    "tags": []
   },
   "outputs": [
    {
     "data": {
      "text/plain": [
       "<bound method DataFrame.info of             id    qid1    qid2  \\\n",
       "198070  198070   92043   73272   \n",
       "235568  235568  346310  346311   \n",
       "84397    84397  142704  142705   \n",
       "81720    81720  138696  138697   \n",
       "43220    43220   77769   10997   \n",
       "...        ...     ...     ...   \n",
       "285179  285179  405553  405554   \n",
       "366264  366264    9350   86555   \n",
       "371046  371046  501653  501654   \n",
       "100027  100027  165978  165979   \n",
       "230565  230565  340128   18032   \n",
       "\n",
       "                                                question1  \\\n",
       "198070  Who is a better Person for office Hillary of D...   \n",
       "235568  Psychological Tricks: What are some psychologi...   \n",
       "84397   What would a modern-day evil genius have to do...   \n",
       "81720                                  Is evolution true?   \n",
       "43220              What is the best feeling in the world?   \n",
       "...                                                   ...   \n",
       "285179            Why do soccer players get paid so much?   \n",
       "366264  How do I improve my English with creative writ...   \n",
       "371046  How much to charge for glowsticks at a party 5...   \n",
       "100027         How can I improve my novel writing skills?   \n",
       "230565  What is the most difficult experience you've e...   \n",
       "\n",
       "                                                question2  is_duplicate  \n",
       "198070     Who is better Donald Trump or Hillary Clinton?             1  \n",
       "235568  What are some underrated life hacks to make my...             1  \n",
       "84397        How will the antichrist take over the world?             0  \n",
       "81720   What are some scientific proofs that evolution...             1  \n",
       "43220         What are some of the best feelings in life?             0  \n",
       "...                                                   ...           ...  \n",
       "285179  Should basketball or football players get paid...             0  \n",
       "366264        How do I improve my English writing skills?             1  \n",
       "371046  Why does the narrator vow revenge on Fortunato...             0  \n",
       "100027               How can I improve my writing skills?             0  \n",
       "230565  Who is the most interesting person you've ever...             0  \n",
       "\n",
       "[30000 rows x 6 columns]>"
      ]
     },
     "execution_count": 4,
     "metadata": {},
     "output_type": "execute_result"
    }
   ],
   "source": [
    "df.info"
   ]
  },
  {
   "cell_type": "code",
   "execution_count": 5,
   "id": "8c9e989b",
   "metadata": {
    "execution": {
     "iopub.execute_input": "2025-05-07T12:06:02.913249Z",
     "iopub.status.busy": "2025-05-07T12:06:02.912361Z",
     "iopub.status.idle": "2025-05-07T12:06:02.929602Z",
     "shell.execute_reply": "2025-05-07T12:06:02.928468Z"
    },
    "papermill": {
     "duration": 0.025393,
     "end_time": "2025-05-07T12:06:02.931123",
     "exception": false,
     "start_time": "2025-05-07T12:06:02.905730",
     "status": "completed"
    },
    "tags": []
   },
   "outputs": [
    {
     "data": {
      "text/plain": [
       "id              0\n",
       "qid1            0\n",
       "qid2            0\n",
       "question1       0\n",
       "question2       0\n",
       "is_duplicate    0\n",
       "dtype: int64"
      ]
     },
     "execution_count": 5,
     "metadata": {},
     "output_type": "execute_result"
    }
   ],
   "source": [
    "#missing values\n",
    "df.isnull().sum()"
   ]
  },
  {
   "cell_type": "code",
   "execution_count": 6,
   "id": "d878ee30",
   "metadata": {
    "execution": {
     "iopub.execute_input": "2025-05-07T12:06:02.944762Z",
     "iopub.status.busy": "2025-05-07T12:06:02.943900Z",
     "iopub.status.idle": "2025-05-07T12:06:02.993389Z",
     "shell.execute_reply": "2025-05-07T12:06:02.992365Z"
    },
    "papermill": {
     "duration": 0.057743,
     "end_time": "2025-05-07T12:06:02.994996",
     "exception": false,
     "start_time": "2025-05-07T12:06:02.937253",
     "status": "completed"
    },
    "tags": []
   },
   "outputs": [
    {
     "data": {
      "text/plain": [
       "0"
      ]
     },
     "execution_count": 6,
     "metadata": {},
     "output_type": "execute_result"
    }
   ],
   "source": [
    "#check for duplicates\n",
    "df.duplicated().sum()"
   ]
  },
  {
   "cell_type": "code",
   "execution_count": 7,
   "id": "97ce18cd",
   "metadata": {
    "execution": {
     "iopub.execute_input": "2025-05-07T12:06:03.008505Z",
     "iopub.status.busy": "2025-05-07T12:06:03.007507Z",
     "iopub.status.idle": "2025-05-07T12:06:03.015842Z",
     "shell.execute_reply": "2025-05-07T12:06:03.015055Z"
    },
    "papermill": {
     "duration": 0.016291,
     "end_time": "2025-05-07T12:06:03.017254",
     "exception": false,
     "start_time": "2025-05-07T12:06:03.000963",
     "status": "completed"
    },
    "tags": []
   },
   "outputs": [
    {
     "data": {
      "text/plain": [
       "is_duplicate\n",
       "0    18805\n",
       "1    11195\n",
       "Name: count, dtype: int64"
      ]
     },
     "execution_count": 7,
     "metadata": {},
     "output_type": "execute_result"
    }
   ],
   "source": [
    "df['is_duplicate'].value_counts()"
   ]
  },
  {
   "cell_type": "code",
   "execution_count": 8,
   "id": "8660cc2f",
   "metadata": {
    "execution": {
     "iopub.execute_input": "2025-05-07T12:06:03.030705Z",
     "iopub.status.busy": "2025-05-07T12:06:03.030388Z",
     "iopub.status.idle": "2025-05-07T12:06:03.036527Z",
     "shell.execute_reply": "2025-05-07T12:06:03.035647Z"
    },
    "papermill": {
     "duration": 0.014541,
     "end_time": "2025-05-07T12:06:03.037984",
     "exception": false,
     "start_time": "2025-05-07T12:06:03.023443",
     "status": "completed"
    },
    "tags": []
   },
   "outputs": [
    {
     "data": {
      "text/plain": [
       "30000"
      ]
     },
     "execution_count": 8,
     "metadata": {},
     "output_type": "execute_result"
    }
   ],
   "source": [
    "df['is_duplicate'].count()"
   ]
  },
  {
   "cell_type": "code",
   "execution_count": 9,
   "id": "c3e35df8",
   "metadata": {
    "execution": {
     "iopub.execute_input": "2025-05-07T12:06:03.051581Z",
     "iopub.status.busy": "2025-05-07T12:06:03.050802Z",
     "iopub.status.idle": "2025-05-07T12:06:03.403646Z",
     "shell.execute_reply": "2025-05-07T12:06:03.402689Z"
    },
    "papermill": {
     "duration": 0.361269,
     "end_time": "2025-05-07T12:06:03.405307",
     "exception": false,
     "start_time": "2025-05-07T12:06:03.044038",
     "status": "completed"
    },
    "tags": []
   },
   "outputs": [
    {
     "data": {
      "text/plain": [
       "Text(0, 0.5, 'Frequency')"
      ]
     },
     "execution_count": 9,
     "metadata": {},
     "output_type": "execute_result"
    },
    {
     "data": {
      "image/png": "[encoded data removed]",
      "text/plain": [
       "<Figure size 640x480 with 1 Axes>"
      ]
     },
     "metadata": {},
     "output_type": "display_data"
    }
   ],
   "source": [
    "import matplotlib.pyplot as plt\n",
    "df['is_duplicate'].value_counts().plot(kind='bar')\n",
    "plt.xlabel(\"Question ID\")\n",
    "plt.ylabel(\"Frequency\")"
   ]
  },
  {
   "cell_type": "code",
   "execution_count": 10,
   "id": "54855ab8",
   "metadata": {
    "execution": {
     "iopub.execute_input": "2025-05-07T12:06:03.419583Z",
     "iopub.status.busy": "2025-05-07T12:06:03.419216Z",
     "iopub.status.idle": "2025-05-07T12:06:03.457935Z",
     "shell.execute_reply": "2025-05-07T12:06:03.456843Z"
    },
    "papermill": {
     "duration": 0.047484,
     "end_time": "2025-05-07T12:06:03.459417",
     "exception": false,
     "start_time": "2025-05-07T12:06:03.411933",
     "status": "completed"
    },
    "tags": []
   },
   "outputs": [
    {
     "name": "stdout",
     "output_type": "stream",
     "text": [
      "Number of unique questions 55431\n",
      "Number of questions repeated 3397\n"
     ]
    }
   ],
   "source": [
    "# Unique questions\n",
    "qid = pd.Series(df['qid1'].tolist() + df['qid2'].tolist())\n",
    "print(f'Number of unique questions {np.unique(qid).shape[0]}')\n",
    "\n",
    "# Repeted questions\n",
    "x = qid.value_counts()>1\n",
    "print(f'Number of questions repeated {x[x].shape[0]}')\n"
   ]
  },
  {
   "cell_type": "code",
   "execution_count": 11,
   "id": "33a9e284",
   "metadata": {
    "execution": {
     "iopub.execute_input": "2025-05-07T12:06:03.473673Z",
     "iopub.status.busy": "2025-05-07T12:06:03.473377Z",
     "iopub.status.idle": "2025-05-07T12:06:03.488473Z",
     "shell.execute_reply": "2025-05-07T12:06:03.487513Z"
    },
    "papermill": {
     "duration": 0.024133,
     "end_time": "2025-05-07T12:06:03.489964",
     "exception": false,
     "start_time": "2025-05-07T12:06:03.465831",
     "status": "completed"
    },
    "tags": []
   },
   "outputs": [
    {
     "data": {
      "text/plain": [
       "array([15,  9,  8, ...,  1,  1,  1])"
      ]
     },
     "execution_count": 11,
     "metadata": {},
     "output_type": "execute_result"
    }
   ],
   "source": [
    "qid.value_counts().values"
   ]
  },
  {
   "cell_type": "code",
   "execution_count": 12,
   "id": "1d290eaa",
   "metadata": {
    "execution": {
     "iopub.execute_input": "2025-05-07T12:06:03.505206Z",
     "iopub.status.busy": "2025-05-07T12:06:03.504825Z",
     "iopub.status.idle": "2025-05-07T12:06:04.082162Z",
     "shell.execute_reply": "2025-05-07T12:06:04.081179Z"
    },
    "papermill": {
     "duration": 0.586382,
     "end_time": "2025-05-07T12:06:04.083610",
     "exception": false,
     "start_time": "2025-05-07T12:06:03.497228",
     "status": "completed"
    },
    "tags": []
   },
   "outputs": [
    {
     "data": {
      "image/png": "[encoded data removed]",
      "text/plain": [
       "<Figure size 640x480 with 1 Axes>"
      ]
     },
     "metadata": {},
     "output_type": "display_data"
    }
   ],
   "source": [
    "plt.hist(qid.value_counts().values, bins=160)\n",
    "plt.yscale('log')\n",
    "plt.show()"
   ]
  },
  {
   "cell_type": "markdown",
   "id": "5241cb06",
   "metadata": {
    "papermill": {
     "duration": 0.006557,
     "end_time": "2025-05-07T12:06:04.097212",
     "exception": false,
     "start_time": "2025-05-07T12:06:04.090655",
     "status": "completed"
    },
    "tags": []
   },
   "source": [
    "qid1 , qid2, question1, question2, is_duplicate <br>\n",
    "              bow        bow        randomforest"
   ]
  },
  {
   "cell_type": "code",
   "execution_count": 13,
   "id": "324a0d3c",
   "metadata": {
    "execution": {
     "iopub.execute_input": "2025-05-07T12:06:04.111811Z",
     "iopub.status.busy": "2025-05-07T12:06:04.111516Z",
     "iopub.status.idle": "2025-05-07T12:06:04.115680Z",
     "shell.execute_reply": "2025-05-07T12:06:04.114798Z"
    },
    "papermill": {
     "duration": 0.013299,
     "end_time": "2025-05-07T12:06:04.117199",
     "exception": false,
     "start_time": "2025-05-07T12:06:04.103900",
     "status": "completed"
    },
    "tags": []
   },
   "outputs": [],
   "source": [
    "# Feature engineering"
   ]
  },
  {
   "cell_type": "code",
   "execution_count": 14,
   "id": "7ec34b02",
   "metadata": {
    "execution": {
     "iopub.execute_input": "2025-05-07T12:06:04.132581Z",
     "iopub.status.busy": "2025-05-07T12:06:04.131708Z",
     "iopub.status.idle": "2025-05-07T12:06:04.155112Z",
     "shell.execute_reply": "2025-05-07T12:06:04.154275Z"
    },
    "papermill": {
     "duration": 0.03266,
     "end_time": "2025-05-07T12:06:04.156714",
     "exception": false,
     "start_time": "2025-05-07T12:06:04.124054",
     "status": "completed"
    },
    "tags": []
   },
   "outputs": [
    {
     "data": {
      "text/html": [
       "<div>\n",
       "<style scoped>\n",
       "    .dataframe tbody tr th:only-of-type {\n",
       "        vertical-align: middle;\n",
       "    }\n",
       "\n",
       "    .dataframe tbody tr th {\n",
       "        vertical-align: top;\n",
       "    }\n",
       "\n",
       "    .dataframe thead th {\n",
       "        text-align: right;\n",
       "    }\n",
       "</style>\n",
       "<table border=\"1\" class=\"dataframe\">\n",
       "  <thead>\n",
       "    <tr style=\"text-align: right;\">\n",
       "      <th></th>\n",
       "      <th>question1</th>\n",
       "      <th>question2</th>\n",
       "    </tr>\n",
       "  </thead>\n",
       "  <tbody>\n",
       "    <tr>\n",
       "      <th>198070</th>\n",
       "      <td>Who is a better Person for office Hillary of D...</td>\n",
       "      <td>Who is better Donald Trump or Hillary Clinton?</td>\n",
       "    </tr>\n",
       "    <tr>\n",
       "      <th>235568</th>\n",
       "      <td>Psychological Tricks: What are some psychologi...</td>\n",
       "      <td>What are some underrated life hacks to make my...</td>\n",
       "    </tr>\n",
       "    <tr>\n",
       "      <th>84397</th>\n",
       "      <td>What would a modern-day evil genius have to do...</td>\n",
       "      <td>How will the antichrist take over the world?</td>\n",
       "    </tr>\n",
       "    <tr>\n",
       "      <th>81720</th>\n",
       "      <td>Is evolution true?</td>\n",
       "      <td>What are some scientific proofs that evolution...</td>\n",
       "    </tr>\n",
       "    <tr>\n",
       "      <th>43220</th>\n",
       "      <td>What is the best feeling in the world?</td>\n",
       "      <td>What are some of the best feelings in life?</td>\n",
       "    </tr>\n",
       "  </tbody>\n",
       "</table>\n",
       "</div>"
      ],
      "text/plain": [
       "                                                question1  \\\n",
       "198070  Who is a better Person for office Hillary of D...   \n",
       "235568  Psychological Tricks: What are some psychologi...   \n",
       "84397   What would a modern-day evil genius have to do...   \n",
       "81720                                  Is evolution true?   \n",
       "43220              What is the best feeling in the world?   \n",
       "\n",
       "                                                question2  \n",
       "198070     Who is better Donald Trump or Hillary Clinton?  \n",
       "235568  What are some underrated life hacks to make my...  \n",
       "84397        How will the antichrist take over the world?  \n",
       "81720   What are some scientific proofs that evolution...  \n",
       "43220         What are some of the best feelings in life?  "
      ]
     },
     "execution_count": 14,
     "metadata": {},
     "output_type": "execute_result"
    }
   ],
   "source": [
    "ques_df = df[['question1','question2']]\n",
    "ques_df.head()\n"
   ]
  },
  {
   "cell_type": "code",
   "execution_count": 15,
   "id": "d30f126f",
   "metadata": {
    "execution": {
     "iopub.execute_input": "2025-05-07T12:06:04.171931Z",
     "iopub.status.busy": "2025-05-07T12:06:04.171631Z",
     "iopub.status.idle": "2025-05-07T12:06:07.312562Z",
     "shell.execute_reply": "2025-05-07T12:06:07.311544Z"
    },
    "papermill": {
     "duration": 3.150486,
     "end_time": "2025-05-07T12:06:07.314311",
     "exception": false,
     "start_time": "2025-05-07T12:06:04.163825",
     "status": "completed"
    },
    "tags": []
   },
   "outputs": [],
   "source": [
    "from sklearn.feature_extraction.text import CountVectorizer\n",
    "\n",
    "# Merge all questions into one list\n",
    "questions = list(ques_df['question1'].fillna(\"\")) + list(ques_df['question2'].fillna(\"\"))\n",
    "\n",
    "# Vectorize\n",
    "cv = CountVectorizer(max_features=3000)\n",
    "q_vectors = cv.fit_transform(questions).toarray()\n",
    "\n",
    "# Split back into q1 and q2 arrays\n",
    "half = len(q_vectors) // 2\n",
    "q1_arr, q2_arr = np.vsplit(q_vectors, [half])"
   ]
  },
  {
   "cell_type": "code",
   "execution_count": 16,
   "id": "7617485a",
   "metadata": {
    "execution": {
     "iopub.execute_input": "2025-05-07T12:06:07.329613Z",
     "iopub.status.busy": "2025-05-07T12:06:07.329087Z",
     "iopub.status.idle": "2025-05-07T12:06:10.775447Z",
     "shell.execute_reply": "2025-05-07T12:06:10.774529Z"
    },
    "papermill": {
     "duration": 3.455898,
     "end_time": "2025-05-07T12:06:10.777231",
     "exception": false,
     "start_time": "2025-05-07T12:06:07.321333",
     "status": "completed"
    },
    "tags": []
   },
   "outputs": [
    {
     "data": {
      "text/html": [
       "<div>\n",
       "<style scoped>\n",
       "    .dataframe tbody tr th:only-of-type {\n",
       "        vertical-align: middle;\n",
       "    }\n",
       "\n",
       "    .dataframe tbody tr th {\n",
       "        vertical-align: top;\n",
       "    }\n",
       "\n",
       "    .dataframe thead th {\n",
       "        text-align: right;\n",
       "    }\n",
       "</style>\n",
       "<table border=\"1\" class=\"dataframe\">\n",
       "  <thead>\n",
       "    <tr style=\"text-align: right;\">\n",
       "      <th></th>\n",
       "      <th>0</th>\n",
       "      <th>1</th>\n",
       "      <th>2</th>\n",
       "      <th>3</th>\n",
       "      <th>4</th>\n",
       "      <th>5</th>\n",
       "      <th>6</th>\n",
       "      <th>7</th>\n",
       "      <th>8</th>\n",
       "      <th>9</th>\n",
       "      <th>...</th>\n",
       "      <th>2990</th>\n",
       "      <th>2991</th>\n",
       "      <th>2992</th>\n",
       "      <th>2993</th>\n",
       "      <th>2994</th>\n",
       "      <th>2995</th>\n",
       "      <th>2996</th>\n",
       "      <th>2997</th>\n",
       "      <th>2998</th>\n",
       "      <th>2999</th>\n",
       "    </tr>\n",
       "  </thead>\n",
       "  <tbody>\n",
       "    <tr>\n",
       "      <th>198070</th>\n",
       "      <td>0</td>\n",
       "      <td>0</td>\n",
       "      <td>0</td>\n",
       "      <td>0</td>\n",
       "      <td>0</td>\n",
       "      <td>0</td>\n",
       "      <td>0</td>\n",
       "      <td>0</td>\n",
       "      <td>0</td>\n",
       "      <td>0</td>\n",
       "      <td>...</td>\n",
       "      <td>0</td>\n",
       "      <td>0</td>\n",
       "      <td>0</td>\n",
       "      <td>0</td>\n",
       "      <td>0</td>\n",
       "      <td>0</td>\n",
       "      <td>0</td>\n",
       "      <td>0</td>\n",
       "      <td>0</td>\n",
       "      <td>0</td>\n",
       "    </tr>\n",
       "    <tr>\n",
       "      <th>235568</th>\n",
       "      <td>0</td>\n",
       "      <td>0</td>\n",
       "      <td>0</td>\n",
       "      <td>0</td>\n",
       "      <td>0</td>\n",
       "      <td>0</td>\n",
       "      <td>0</td>\n",
       "      <td>0</td>\n",
       "      <td>0</td>\n",
       "      <td>0</td>\n",
       "      <td>...</td>\n",
       "      <td>0</td>\n",
       "      <td>0</td>\n",
       "      <td>0</td>\n",
       "      <td>0</td>\n",
       "      <td>0</td>\n",
       "      <td>0</td>\n",
       "      <td>0</td>\n",
       "      <td>0</td>\n",
       "      <td>0</td>\n",
       "      <td>0</td>\n",
       "    </tr>\n",
       "    <tr>\n",
       "      <th>84397</th>\n",
       "      <td>0</td>\n",
       "      <td>0</td>\n",
       "      <td>0</td>\n",
       "      <td>0</td>\n",
       "      <td>0</td>\n",
       "      <td>0</td>\n",
       "      <td>0</td>\n",
       "      <td>0</td>\n",
       "      <td>0</td>\n",
       "      <td>0</td>\n",
       "      <td>...</td>\n",
       "      <td>0</td>\n",
       "      <td>0</td>\n",
       "      <td>0</td>\n",
       "      <td>0</td>\n",
       "      <td>0</td>\n",
       "      <td>0</td>\n",
       "      <td>0</td>\n",
       "      <td>0</td>\n",
       "      <td>0</td>\n",
       "      <td>0</td>\n",
       "    </tr>\n",
       "    <tr>\n",
       "      <th>81720</th>\n",
       "      <td>0</td>\n",
       "      <td>0</td>\n",
       "      <td>0</td>\n",
       "      <td>0</td>\n",
       "      <td>0</td>\n",
       "      <td>0</td>\n",
       "      <td>0</td>\n",
       "      <td>0</td>\n",
       "      <td>0</td>\n",
       "      <td>0</td>\n",
       "      <td>...</td>\n",
       "      <td>0</td>\n",
       "      <td>0</td>\n",
       "      <td>0</td>\n",
       "      <td>0</td>\n",
       "      <td>0</td>\n",
       "      <td>0</td>\n",
       "      <td>0</td>\n",
       "      <td>0</td>\n",
       "      <td>0</td>\n",
       "      <td>0</td>\n",
       "    </tr>\n",
       "    <tr>\n",
       "      <th>43220</th>\n",
       "      <td>0</td>\n",
       "      <td>0</td>\n",
       "      <td>0</td>\n",
       "      <td>0</td>\n",
       "      <td>0</td>\n",
       "      <td>0</td>\n",
       "      <td>0</td>\n",
       "      <td>0</td>\n",
       "      <td>0</td>\n",
       "      <td>0</td>\n",
       "      <td>...</td>\n",
       "      <td>0</td>\n",
       "      <td>0</td>\n",
       "      <td>0</td>\n",
       "      <td>0</td>\n",
       "      <td>0</td>\n",
       "      <td>0</td>\n",
       "      <td>0</td>\n",
       "      <td>0</td>\n",
       "      <td>0</td>\n",
       "      <td>0</td>\n",
       "    </tr>\n",
       "    <tr>\n",
       "      <th>...</th>\n",
       "      <td>...</td>\n",
       "      <td>...</td>\n",
       "      <td>...</td>\n",
       "      <td>...</td>\n",
       "      <td>...</td>\n",
       "      <td>...</td>\n",
       "      <td>...</td>\n",
       "      <td>...</td>\n",
       "      <td>...</td>\n",
       "      <td>...</td>\n",
       "      <td>...</td>\n",
       "      <td>...</td>\n",
       "      <td>...</td>\n",
       "      <td>...</td>\n",
       "      <td>...</td>\n",
       "      <td>...</td>\n",
       "      <td>...</td>\n",
       "      <td>...</td>\n",
       "      <td>...</td>\n",
       "      <td>...</td>\n",
       "      <td>...</td>\n",
       "    </tr>\n",
       "    <tr>\n",
       "      <th>285179</th>\n",
       "      <td>0</td>\n",
       "      <td>0</td>\n",
       "      <td>0</td>\n",
       "      <td>0</td>\n",
       "      <td>0</td>\n",
       "      <td>0</td>\n",
       "      <td>0</td>\n",
       "      <td>0</td>\n",
       "      <td>0</td>\n",
       "      <td>0</td>\n",
       "      <td>...</td>\n",
       "      <td>0</td>\n",
       "      <td>0</td>\n",
       "      <td>0</td>\n",
       "      <td>0</td>\n",
       "      <td>0</td>\n",
       "      <td>0</td>\n",
       "      <td>0</td>\n",
       "      <td>0</td>\n",
       "      <td>0</td>\n",
       "      <td>0</td>\n",
       "    </tr>\n",
       "    <tr>\n",
       "      <th>366264</th>\n",
       "      <td>0</td>\n",
       "      <td>0</td>\n",
       "      <td>0</td>\n",
       "      <td>0</td>\n",
       "      <td>0</td>\n",
       "      <td>0</td>\n",
       "      <td>0</td>\n",
       "      <td>0</td>\n",
       "      <td>0</td>\n",
       "      <td>0</td>\n",
       "      <td>...</td>\n",
       "      <td>0</td>\n",
       "      <td>0</td>\n",
       "      <td>0</td>\n",
       "      <td>0</td>\n",
       "      <td>0</td>\n",
       "      <td>0</td>\n",
       "      <td>0</td>\n",
       "      <td>0</td>\n",
       "      <td>0</td>\n",
       "      <td>0</td>\n",
       "    </tr>\n",
       "    <tr>\n",
       "      <th>371046</th>\n",
       "      <td>0</td>\n",
       "      <td>0</td>\n",
       "      <td>0</td>\n",
       "      <td>0</td>\n",
       "      <td>0</td>\n",
       "      <td>0</td>\n",
       "      <td>0</td>\n",
       "      <td>0</td>\n",
       "      <td>0</td>\n",
       "      <td>0</td>\n",
       "      <td>...</td>\n",
       "      <td>0</td>\n",
       "      <td>0</td>\n",
       "      <td>0</td>\n",
       "      <td>0</td>\n",
       "      <td>0</td>\n",
       "      <td>0</td>\n",
       "      <td>0</td>\n",
       "      <td>0</td>\n",
       "      <td>0</td>\n",
       "      <td>0</td>\n",
       "    </tr>\n",
       "    <tr>\n",
       "      <th>100027</th>\n",
       "      <td>0</td>\n",
       "      <td>0</td>\n",
       "      <td>0</td>\n",
       "      <td>0</td>\n",
       "      <td>0</td>\n",
       "      <td>0</td>\n",
       "      <td>0</td>\n",
       "      <td>0</td>\n",
       "      <td>0</td>\n",
       "      <td>0</td>\n",
       "      <td>...</td>\n",
       "      <td>0</td>\n",
       "      <td>0</td>\n",
       "      <td>0</td>\n",
       "      <td>0</td>\n",
       "      <td>0</td>\n",
       "      <td>0</td>\n",
       "      <td>0</td>\n",
       "      <td>0</td>\n",
       "      <td>0</td>\n",
       "      <td>0</td>\n",
       "    </tr>\n",
       "    <tr>\n",
       "      <th>230565</th>\n",
       "      <td>0</td>\n",
       "      <td>0</td>\n",
       "      <td>0</td>\n",
       "      <td>0</td>\n",
       "      <td>0</td>\n",
       "      <td>0</td>\n",
       "      <td>0</td>\n",
       "      <td>0</td>\n",
       "      <td>0</td>\n",
       "      <td>0</td>\n",
       "      <td>...</td>\n",
       "      <td>0</td>\n",
       "      <td>0</td>\n",
       "      <td>1</td>\n",
       "      <td>0</td>\n",
       "      <td>0</td>\n",
       "      <td>0</td>\n",
       "      <td>0</td>\n",
       "      <td>0</td>\n",
       "      <td>0</td>\n",
       "      <td>0</td>\n",
       "    </tr>\n",
       "  </tbody>\n",
       "</table>\n",
       "<p>30000 rows × 6000 columns</p>\n",
       "</div>"
      ],
      "text/plain": [
       "        0     1     2     3     4     5     6     7     8     9     ...  2990  \\\n",
       "198070     0     0     0     0     0     0     0     0     0     0  ...     0   \n",
       "235568     0     0     0     0     0     0     0     0     0     0  ...     0   \n",
       "84397      0     0     0     0     0     0     0     0     0     0  ...     0   \n",
       "81720      0     0     0     0     0     0     0     0     0     0  ...     0   \n",
       "43220      0     0     0     0     0     0     0     0     0     0  ...     0   \n",
       "...      ...   ...   ...   ...   ...   ...   ...   ...   ...   ...  ...   ...   \n",
       "285179     0     0     0     0     0     0     0     0     0     0  ...     0   \n",
       "366264     0     0     0     0     0     0     0     0     0     0  ...     0   \n",
       "371046     0     0     0     0     0     0     0     0     0     0  ...     0   \n",
       "100027     0     0     0     0     0     0     0     0     0     0  ...     0   \n",
       "230565     0     0     0     0     0     0     0     0     0     0  ...     0   \n",
       "\n",
       "        2991  2992  2993  2994  2995  2996  2997  2998  2999  \n",
       "198070     0     0     0     0     0     0     0     0     0  \n",
       "235568     0     0     0     0     0     0     0     0     0  \n",
       "84397      0     0     0     0     0     0     0     0     0  \n",
       "81720      0     0     0     0     0     0     0     0     0  \n",
       "43220      0     0     0     0     0     0     0     0     0  \n",
       "...      ...   ...   ...   ...   ...   ...   ...   ...   ...  \n",
       "285179     0     0     0     0     0     0     0     0     0  \n",
       "366264     0     0     0     0     0     0     0     0     0  \n",
       "371046     0     0     0     0     0     0     0     0     0  \n",
       "100027     0     0     0     0     0     0     0     0     0  \n",
       "230565     0     1     0     0     0     0     0     0     0  \n",
       "\n",
       "[30000 rows x 6000 columns]"
      ]
     },
     "execution_count": 16,
     "metadata": {},
     "output_type": "execute_result"
    }
   ],
   "source": [
    "temp_df1 = pd.DataFrame(q1_arr, index = ques_df.index)\n",
    "temp_df2 = pd.DataFrame(q2_arr, index = ques_df.index)\n",
    "\n",
    "temp_df = pd.concat([temp_df1,temp_df2],axis=1)\n",
    "temp_df"
   ]
  },
  {
   "cell_type": "code",
   "execution_count": 17,
   "id": "649edd7b",
   "metadata": {
    "execution": {
     "iopub.execute_input": "2025-05-07T12:06:10.793533Z",
     "iopub.status.busy": "2025-05-07T12:06:10.793220Z",
     "iopub.status.idle": "2025-05-07T12:06:10.833022Z",
     "shell.execute_reply": "2025-05-07T12:06:10.832033Z"
    },
    "papermill": {
     "duration": 0.049891,
     "end_time": "2025-05-07T12:06:10.834714",
     "exception": false,
     "start_time": "2025-05-07T12:06:10.784823",
     "status": "completed"
    },
    "tags": []
   },
   "outputs": [
    {
     "data": {
      "text/html": [
       "<div>\n",
       "<style scoped>\n",
       "    .dataframe tbody tr th:only-of-type {\n",
       "        vertical-align: middle;\n",
       "    }\n",
       "\n",
       "    .dataframe tbody tr th {\n",
       "        vertical-align: top;\n",
       "    }\n",
       "\n",
       "    .dataframe thead th {\n",
       "        text-align: right;\n",
       "    }\n",
       "</style>\n",
       "<table border=\"1\" class=\"dataframe\">\n",
       "  <thead>\n",
       "    <tr style=\"text-align: right;\">\n",
       "      <th></th>\n",
       "      <th>0</th>\n",
       "      <th>1</th>\n",
       "      <th>2</th>\n",
       "      <th>3</th>\n",
       "      <th>4</th>\n",
       "      <th>5</th>\n",
       "      <th>6</th>\n",
       "      <th>7</th>\n",
       "      <th>8</th>\n",
       "      <th>9</th>\n",
       "      <th>...</th>\n",
       "      <th>2991</th>\n",
       "      <th>2992</th>\n",
       "      <th>2993</th>\n",
       "      <th>2994</th>\n",
       "      <th>2995</th>\n",
       "      <th>2996</th>\n",
       "      <th>2997</th>\n",
       "      <th>2998</th>\n",
       "      <th>2999</th>\n",
       "      <th>is_duplicate</th>\n",
       "    </tr>\n",
       "  </thead>\n",
       "  <tbody>\n",
       "    <tr>\n",
       "      <th>198070</th>\n",
       "      <td>0</td>\n",
       "      <td>0</td>\n",
       "      <td>0</td>\n",
       "      <td>0</td>\n",
       "      <td>0</td>\n",
       "      <td>0</td>\n",
       "      <td>0</td>\n",
       "      <td>0</td>\n",
       "      <td>0</td>\n",
       "      <td>0</td>\n",
       "      <td>...</td>\n",
       "      <td>0</td>\n",
       "      <td>0</td>\n",
       "      <td>0</td>\n",
       "      <td>0</td>\n",
       "      <td>0</td>\n",
       "      <td>0</td>\n",
       "      <td>0</td>\n",
       "      <td>0</td>\n",
       "      <td>0</td>\n",
       "      <td>1</td>\n",
       "    </tr>\n",
       "    <tr>\n",
       "      <th>235568</th>\n",
       "      <td>0</td>\n",
       "      <td>0</td>\n",
       "      <td>0</td>\n",
       "      <td>0</td>\n",
       "      <td>0</td>\n",
       "      <td>0</td>\n",
       "      <td>0</td>\n",
       "      <td>0</td>\n",
       "      <td>0</td>\n",
       "      <td>0</td>\n",
       "      <td>...</td>\n",
       "      <td>0</td>\n",
       "      <td>0</td>\n",
       "      <td>0</td>\n",
       "      <td>0</td>\n",
       "      <td>0</td>\n",
       "      <td>0</td>\n",
       "      <td>0</td>\n",
       "      <td>0</td>\n",
       "      <td>0</td>\n",
       "      <td>1</td>\n",
       "    </tr>\n",
       "    <tr>\n",
       "      <th>84397</th>\n",
       "      <td>0</td>\n",
       "      <td>0</td>\n",
       "      <td>0</td>\n",
       "      <td>0</td>\n",
       "      <td>0</td>\n",
       "      <td>0</td>\n",
       "      <td>0</td>\n",
       "      <td>0</td>\n",
       "      <td>0</td>\n",
       "      <td>0</td>\n",
       "      <td>...</td>\n",
       "      <td>0</td>\n",
       "      <td>0</td>\n",
       "      <td>0</td>\n",
       "      <td>0</td>\n",
       "      <td>0</td>\n",
       "      <td>0</td>\n",
       "      <td>0</td>\n",
       "      <td>0</td>\n",
       "      <td>0</td>\n",
       "      <td>0</td>\n",
       "    </tr>\n",
       "    <tr>\n",
       "      <th>81720</th>\n",
       "      <td>0</td>\n",
       "      <td>0</td>\n",
       "      <td>0</td>\n",
       "      <td>0</td>\n",
       "      <td>0</td>\n",
       "      <td>0</td>\n",
       "      <td>0</td>\n",
       "      <td>0</td>\n",
       "      <td>0</td>\n",
       "      <td>0</td>\n",
       "      <td>...</td>\n",
       "      <td>0</td>\n",
       "      <td>0</td>\n",
       "      <td>0</td>\n",
       "      <td>0</td>\n",
       "      <td>0</td>\n",
       "      <td>0</td>\n",
       "      <td>0</td>\n",
       "      <td>0</td>\n",
       "      <td>0</td>\n",
       "      <td>1</td>\n",
       "    </tr>\n",
       "    <tr>\n",
       "      <th>43220</th>\n",
       "      <td>0</td>\n",
       "      <td>0</td>\n",
       "      <td>0</td>\n",
       "      <td>0</td>\n",
       "      <td>0</td>\n",
       "      <td>0</td>\n",
       "      <td>0</td>\n",
       "      <td>0</td>\n",
       "      <td>0</td>\n",
       "      <td>0</td>\n",
       "      <td>...</td>\n",
       "      <td>0</td>\n",
       "      <td>0</td>\n",
       "      <td>0</td>\n",
       "      <td>0</td>\n",
       "      <td>0</td>\n",
       "      <td>0</td>\n",
       "      <td>0</td>\n",
       "      <td>0</td>\n",
       "      <td>0</td>\n",
       "      <td>0</td>\n",
       "    </tr>\n",
       "    <tr>\n",
       "      <th>...</th>\n",
       "      <td>...</td>\n",
       "      <td>...</td>\n",
       "      <td>...</td>\n",
       "      <td>...</td>\n",
       "      <td>...</td>\n",
       "      <td>...</td>\n",
       "      <td>...</td>\n",
       "      <td>...</td>\n",
       "      <td>...</td>\n",
       "      <td>...</td>\n",
       "      <td>...</td>\n",
       "      <td>...</td>\n",
       "      <td>...</td>\n",
       "      <td>...</td>\n",
       "      <td>...</td>\n",
       "      <td>...</td>\n",
       "      <td>...</td>\n",
       "      <td>...</td>\n",
       "      <td>...</td>\n",
       "      <td>...</td>\n",
       "      <td>...</td>\n",
       "    </tr>\n",
       "    <tr>\n",
       "      <th>285179</th>\n",
       "      <td>0</td>\n",
       "      <td>0</td>\n",
       "      <td>0</td>\n",
       "      <td>0</td>\n",
       "      <td>0</td>\n",
       "      <td>0</td>\n",
       "      <td>0</td>\n",
       "      <td>0</td>\n",
       "      <td>0</td>\n",
       "      <td>0</td>\n",
       "      <td>...</td>\n",
       "      <td>0</td>\n",
       "      <td>0</td>\n",
       "      <td>0</td>\n",
       "      <td>0</td>\n",
       "      <td>0</td>\n",
       "      <td>0</td>\n",
       "      <td>0</td>\n",
       "      <td>0</td>\n",
       "      <td>0</td>\n",
       "      <td>0</td>\n",
       "    </tr>\n",
       "    <tr>\n",
       "      <th>366264</th>\n",
       "      <td>0</td>\n",
       "      <td>0</td>\n",
       "      <td>0</td>\n",
       "      <td>0</td>\n",
       "      <td>0</td>\n",
       "      <td>0</td>\n",
       "      <td>0</td>\n",
       "      <td>0</td>\n",
       "      <td>0</td>\n",
       "      <td>0</td>\n",
       "      <td>...</td>\n",
       "      <td>0</td>\n",
       "      <td>0</td>\n",
       "      <td>0</td>\n",
       "      <td>0</td>\n",
       "      <td>0</td>\n",
       "      <td>0</td>\n",
       "      <td>0</td>\n",
       "      <td>0</td>\n",
       "      <td>0</td>\n",
       "      <td>1</td>\n",
       "    </tr>\n",
       "    <tr>\n",
       "      <th>371046</th>\n",
       "      <td>0</td>\n",
       "      <td>0</td>\n",
       "      <td>0</td>\n",
       "      <td>0</td>\n",
       "      <td>0</td>\n",
       "      <td>0</td>\n",
       "      <td>0</td>\n",
       "      <td>0</td>\n",
       "      <td>0</td>\n",
       "      <td>0</td>\n",
       "      <td>...</td>\n",
       "      <td>0</td>\n",
       "      <td>0</td>\n",
       "      <td>0</td>\n",
       "      <td>0</td>\n",
       "      <td>0</td>\n",
       "      <td>0</td>\n",
       "      <td>0</td>\n",
       "      <td>0</td>\n",
       "      <td>0</td>\n",
       "      <td>0</td>\n",
       "    </tr>\n",
       "    <tr>\n",
       "      <th>100027</th>\n",
       "      <td>0</td>\n",
       "      <td>0</td>\n",
       "      <td>0</td>\n",
       "      <td>0</td>\n",
       "      <td>0</td>\n",
       "      <td>0</td>\n",
       "      <td>0</td>\n",
       "      <td>0</td>\n",
       "      <td>0</td>\n",
       "      <td>0</td>\n",
       "      <td>...</td>\n",
       "      <td>0</td>\n",
       "      <td>0</td>\n",
       "      <td>0</td>\n",
       "      <td>0</td>\n",
       "      <td>0</td>\n",
       "      <td>0</td>\n",
       "      <td>0</td>\n",
       "      <td>0</td>\n",
       "      <td>0</td>\n",
       "      <td>0</td>\n",
       "    </tr>\n",
       "    <tr>\n",
       "      <th>230565</th>\n",
       "      <td>0</td>\n",
       "      <td>0</td>\n",
       "      <td>0</td>\n",
       "      <td>0</td>\n",
       "      <td>0</td>\n",
       "      <td>0</td>\n",
       "      <td>0</td>\n",
       "      <td>0</td>\n",
       "      <td>0</td>\n",
       "      <td>0</td>\n",
       "      <td>...</td>\n",
       "      <td>0</td>\n",
       "      <td>1</td>\n",
       "      <td>0</td>\n",
       "      <td>0</td>\n",
       "      <td>0</td>\n",
       "      <td>0</td>\n",
       "      <td>0</td>\n",
       "      <td>0</td>\n",
       "      <td>0</td>\n",
       "      <td>0</td>\n",
       "    </tr>\n",
       "  </tbody>\n",
       "</table>\n",
       "<p>30000 rows × 6001 columns</p>\n",
       "</div>"
      ],
      "text/plain": [
       "        0  1  2  3  4  5  6  7  8  9  ...  2991  2992  2993  2994  2995  2996  \\\n",
       "198070  0  0  0  0  0  0  0  0  0  0  ...     0     0     0     0     0     0   \n",
       "235568  0  0  0  0  0  0  0  0  0  0  ...     0     0     0     0     0     0   \n",
       "84397   0  0  0  0  0  0  0  0  0  0  ...     0     0     0     0     0     0   \n",
       "81720   0  0  0  0  0  0  0  0  0  0  ...     0     0     0     0     0     0   \n",
       "43220   0  0  0  0  0  0  0  0  0  0  ...     0     0     0     0     0     0   \n",
       "...    .. .. .. .. .. .. .. .. .. ..  ...   ...   ...   ...   ...   ...   ...   \n",
       "285179  0  0  0  0  0  0  0  0  0  0  ...     0     0     0     0     0     0   \n",
       "366264  0  0  0  0  0  0  0  0  0  0  ...     0     0     0     0     0     0   \n",
       "371046  0  0  0  0  0  0  0  0  0  0  ...     0     0     0     0     0     0   \n",
       "100027  0  0  0  0  0  0  0  0  0  0  ...     0     0     0     0     0     0   \n",
       "230565  0  0  0  0  0  0  0  0  0  0  ...     0     1     0     0     0     0   \n",
       "\n",
       "        2997  2998  2999  is_duplicate  \n",
       "198070     0     0     0             1  \n",
       "235568     0     0     0             1  \n",
       "84397      0     0     0             0  \n",
       "81720      0     0     0             1  \n",
       "43220      0     0     0             0  \n",
       "...      ...   ...   ...           ...  \n",
       "285179     0     0     0             0  \n",
       "366264     0     0     0             1  \n",
       "371046     0     0     0             0  \n",
       "100027     0     0     0             0  \n",
       "230565     0     0     0             0  \n",
       "\n",
       "[30000 rows x 6001 columns]"
      ]
     },
     "execution_count": 17,
     "metadata": {},
     "output_type": "execute_result"
    }
   ],
   "source": [
    "temp_df['is_duplicate'] = df['is_duplicate']\n",
    "temp_df"
   ]
  },
  {
   "cell_type": "code",
   "execution_count": 18,
   "id": "5dcee557",
   "metadata": {
    "execution": {
     "iopub.execute_input": "2025-05-07T12:06:10.852230Z",
     "iopub.status.busy": "2025-05-07T12:06:10.851833Z",
     "iopub.status.idle": "2025-05-07T12:06:10.856254Z",
     "shell.execute_reply": "2025-05-07T12:06:10.855190Z"
    },
    "papermill": {
     "duration": 0.015558,
     "end_time": "2025-05-07T12:06:10.858386",
     "exception": false,
     "start_time": "2025-05-07T12:06:10.842828",
     "status": "completed"
    },
    "tags": []
   },
   "outputs": [],
   "source": [
    "# EDA\n"
   ]
  },
  {
   "cell_type": "markdown",
   "id": "37fb2a6b",
   "metadata": {
    "papermill": {
     "duration": 0.007673,
     "end_time": "2025-05-07T12:06:10.874146",
     "exception": false,
     "start_time": "2025-05-07T12:06:10.866473",
     "status": "completed"
    },
    "tags": []
   },
   "source": [
    "### Data Preprocessing & Transformation\n"
   ]
  },
  {
   "cell_type": "code",
   "execution_count": 19,
   "id": "b5ed58c5",
   "metadata": {
    "execution": {
     "iopub.execute_input": "2025-05-07T12:06:10.891747Z",
     "iopub.status.busy": "2025-05-07T12:06:10.890790Z",
     "iopub.status.idle": "2025-05-07T12:06:12.226224Z",
     "shell.execute_reply": "2025-05-07T12:06:12.225380Z"
    },
    "papermill": {
     "duration": 1.345603,
     "end_time": "2025-05-07T12:06:12.227742",
     "exception": false,
     "start_time": "2025-05-07T12:06:10.882139",
     "status": "completed"
    },
    "tags": []
   },
   "outputs": [
    {
     "data": {
      "text/plain": [
       "array([[0, 0, 0, ..., 0, 0, 0],\n",
       "       [0, 0, 0, ..., 0, 0, 0],\n",
       "       [0, 0, 0, ..., 0, 0, 0],\n",
       "       ...,\n",
       "       [0, 0, 0, ..., 0, 0, 0],\n",
       "       [0, 0, 0, ..., 0, 0, 0],\n",
       "       [0, 0, 0, ..., 0, 0, 0]])"
      ]
     },
     "execution_count": 19,
     "metadata": {},
     "output_type": "execute_result"
    }
   ],
   "source": [
    "temp_df.iloc[:,0:-1].values"
   ]
  },
  {
   "cell_type": "code",
   "execution_count": 20,
   "id": "d3bdc343",
   "metadata": {
    "execution": {
     "iopub.execute_input": "2025-05-07T12:06:12.244576Z",
     "iopub.status.busy": "2025-05-07T12:06:12.244225Z",
     "iopub.status.idle": "2025-05-07T12:06:15.661945Z",
     "shell.execute_reply": "2025-05-07T12:06:15.660900Z"
    },
    "papermill": {
     "duration": 3.428015,
     "end_time": "2025-05-07T12:06:15.663718",
     "exception": false,
     "start_time": "2025-05-07T12:06:12.235703",
     "status": "completed"
    },
    "tags": []
   },
   "outputs": [],
   "source": [
    "#importing and splitting data\n",
    "from sklearn.model_selection import train_test_split\n",
    "X_train, X_test, y_train, y_test = train_test_split(temp_df.iloc[:,0:-1].values,temp_df.iloc[:,-1].values,test_size=0.2, random_state=2)\n",
    "\n"
   ]
  },
  {
   "cell_type": "markdown",
   "id": "29cf8e1f",
   "metadata": {
    "papermill": {
     "duration": 0.007166,
     "end_time": "2025-05-07T12:06:15.678716",
     "exception": false,
     "start_time": "2025-05-07T12:06:15.671550",
     "status": "completed"
    },
    "tags": []
   },
   "source": [
    "### Model Selection & Evaluation"
   ]
  },
  {
   "cell_type": "markdown",
   "id": "bff63071",
   "metadata": {
    "papermill": {
     "duration": 0.007563,
     "end_time": "2025-05-07T12:06:15.693987",
     "exception": false,
     "start_time": "2025-05-07T12:06:15.686424",
     "status": "completed"
    },
    "tags": []
   },
   "source": [
    "### Classification Models / Regression Models"
   ]
  },
  {
   "cell_type": "code",
   "execution_count": 21,
   "id": "941597b5",
   "metadata": {
    "execution": {
     "iopub.execute_input": "2025-05-07T12:06:15.710939Z",
     "iopub.status.busy": "2025-05-07T12:06:15.710013Z",
     "iopub.status.idle": "2025-05-07T12:08:07.665517Z",
     "shell.execute_reply": "2025-05-07T12:08:07.664550Z"
    },
    "papermill": {
     "duration": 112.043657,
     "end_time": "2025-05-07T12:08:07.745286",
     "exception": false,
     "start_time": "2025-05-07T12:06:15.701629",
     "status": "completed"
    },
    "tags": []
   },
   "outputs": [
    {
     "data": {
      "text/html": [
       "<style>#sk-container-id-1 {color: black;background-color: white;}#sk-container-id-1 pre{padding: 0;}#sk-container-id-1 div.sk-toggleable {background-color: white;}#sk-container-id-1 label.sk-toggleable__label {cursor: pointer;display: block;width: 100%;margin-bottom: 0;padding: 0.3em;box-sizing: border-box;text-align: center;}#sk-container-id-1 label.sk-toggleable__label-arrow:before {content: \"▸\";float: left;margin-right: 0.25em;color: #696969;}#sk-container-id-1 label.sk-toggleable__label-arrow:hover:before {color: black;}#sk-container-id-1 div.sk-estimator:hover label.sk-toggleable__label-arrow:before {color: black;}#sk-container-id-1 div.sk-toggleable__content {max-height: 0;max-width: 0;overflow: hidden;text-align: left;background-color: #f0f8ff;}#sk-container-id-1 div.sk-toggleable__content pre {margin: 0.2em;color: black;border-radius: 0.25em;background-color: #f0f8ff;}#sk-container-id-1 input.sk-toggleable__control:checked~div.sk-toggleable__content {max-height: 200px;max-width: 100%;overflow: auto;}#sk-container-id-1 input.sk-toggleable__control:checked~label.sk-toggleable__label-arrow:before {content: \"▾\";}#sk-container-id-1 div.sk-estimator input.sk-toggleable__control:checked~label.sk-toggleable__label {background-color: #d4ebff;}#sk-container-id-1 div.sk-label input.sk-toggleable__control:checked~label.sk-toggleable__label {background-color: #d4ebff;}#sk-container-id-1 input.sk-hidden--visually {border: 0;clip: rect(1px 1px 1px 1px);clip: rect(1px, 1px, 1px, 1px);height: 1px;margin: -1px;overflow: hidden;padding: 0;position: absolute;width: 1px;}#sk-container-id-1 div.sk-estimator {font-family: monospace;background-color: #f0f8ff;border: 1px dotted black;border-radius: 0.25em;box-sizing: border-box;margin-bottom: 0.5em;}#sk-container-id-1 div.sk-estimator:hover {background-color: #d4ebff;}#sk-container-id-1 div.sk-parallel-item::after {content: \"\";width: 100%;border-bottom: 1px solid gray;flex-grow: 1;}#sk-container-id-1 div.sk-label:hover label.sk-toggleable__label {background-color: #d4ebff;}#sk-container-id-1 div.sk-serial::before {content: \"\";position: absolute;border-left: 1px solid gray;box-sizing: border-box;top: 0;bottom: 0;left: 50%;z-index: 0;}#sk-container-id-1 div.sk-serial {display: flex;flex-direction: column;align-items: center;background-color: white;padding-right: 0.2em;padding-left: 0.2em;position: relative;}#sk-container-id-1 div.sk-item {position: relative;z-index: 1;}#sk-container-id-1 div.sk-parallel {display: flex;align-items: stretch;justify-content: center;background-color: white;position: relative;}#sk-container-id-1 div.sk-item::before, #sk-container-id-1 div.sk-parallel-item::before {content: \"\";position: absolute;border-left: 1px solid gray;box-sizing: border-box;top: 0;bottom: 0;left: 50%;z-index: -1;}#sk-container-id-1 div.sk-parallel-item {display: flex;flex-direction: column;z-index: 1;position: relative;background-color: white;}#sk-container-id-1 div.sk-parallel-item:first-child::after {align-self: flex-end;width: 50%;}#sk-container-id-1 div.sk-parallel-item:last-child::after {align-self: flex-start;width: 50%;}#sk-container-id-1 div.sk-parallel-item:only-child::after {width: 0;}#sk-container-id-1 div.sk-dashed-wrapped {border: 1px dashed gray;margin: 0 0.4em 0.5em 0.4em;box-sizing: border-box;padding-bottom: 0.4em;background-color: white;}#sk-container-id-1 div.sk-label label {font-family: monospace;font-weight: bold;display: inline-block;line-height: 1.2em;}#sk-container-id-1 div.sk-label-container {text-align: center;}#sk-container-id-1 div.sk-container {/* jupyter's `normalize.less` sets `[hidden] { display: none; }` but bootstrap.min.css set `[hidden] { display: none !important; }` so we also need the `!important` here to be able to override the default hidden behavior on the sphinx rendered scikit-learn.org. See: https://github.com/scikit-learn/scikit-learn/issues/21755 */display: inline-block !important;position: relative;}#sk-container-id-1 div.sk-text-repr-fallback {display: none;}</style><div id=\"sk-container-id-1\" class=\"sk-top-container\"><div class=\"sk-text-repr-fallback\"><pre>RandomForestClassifier()</pre><b>In a Jupyter environment, please rerun this cell to show the HTML representation or trust the notebook. <br />On GitHub, the HTML representation is unable to render, please try loading this page with nbviewer.org.</b></div><div class=\"sk-container\" hidden><div class=\"sk-item\"><div class=\"sk-estimator sk-toggleable\"><input class=\"sk-toggleable__control sk-hidden--visually\" id=\"sk-estimator-id-1\" type=\"checkbox\" checked><label for=\"sk-estimator-id-1\" class=\"sk-toggleable__label sk-toggleable__label-arrow\">RandomForestClassifier</label><div class=\"sk-toggleable__content\"><pre>RandomForestClassifier()</pre></div></div></div></div></div>"
      ],
      "text/plain": [
       "RandomForestClassifier()"
      ]
     },
     "execution_count": 21,
     "metadata": {},
     "output_type": "execute_result"
    }
   ],
   "source": [
    "#Random Forest Classifier\n",
    "from sklearn.ensemble import RandomForestClassifier\n",
    "from sklearn.metrics import accuracy_score\n",
    "model = RandomForestClassifier()\n",
    "model.fit(X_train,y_train)"
   ]
  },
  {
   "cell_type": "code",
   "execution_count": 22,
   "id": "01c2ce21",
   "metadata": {
    "execution": {
     "iopub.execute_input": "2025-05-07T12:08:07.762592Z",
     "iopub.status.busy": "2025-05-07T12:08:07.762267Z",
     "iopub.status.idle": "2025-05-07T12:08:08.654833Z",
     "shell.execute_reply": "2025-05-07T12:08:08.653977Z"
    },
    "papermill": {
     "duration": 0.903395,
     "end_time": "2025-05-07T12:08:08.656665",
     "exception": false,
     "start_time": "2025-05-07T12:08:07.753270",
     "status": "completed"
    },
    "tags": []
   },
   "outputs": [
    {
     "data": {
      "text/plain": [
       "0.74"
      ]
     },
     "execution_count": 22,
     "metadata": {},
     "output_type": "execute_result"
    }
   ],
   "source": [
    "y_pred = model.predict(X_test)\n",
    "accuracy_score(y_test,y_pred)"
   ]
  },
  {
   "cell_type": "code",
   "execution_count": 23,
   "id": "2e47430d",
   "metadata": {
    "execution": {
     "iopub.execute_input": "2025-05-07T12:08:08.674157Z",
     "iopub.status.busy": "2025-05-07T12:08:08.673807Z",
     "iopub.status.idle": "2025-05-07T12:08:22.177347Z",
     "shell.execute_reply": "2025-05-07T12:08:22.176328Z"
    },
    "papermill": {
     "duration": 13.513994,
     "end_time": "2025-05-07T12:08:22.178838",
     "exception": false,
     "start_time": "2025-05-07T12:08:08.664844",
     "status": "completed"
    },
    "tags": []
   },
   "outputs": [
    {
     "data": {
      "text/html": [
       "<style>#sk-container-id-2 {color: black;background-color: white;}#sk-container-id-2 pre{padding: 0;}#sk-container-id-2 div.sk-toggleable {background-color: white;}#sk-container-id-2 label.sk-toggleable__label {cursor: pointer;display: block;width: 100%;margin-bottom: 0;padding: 0.3em;box-sizing: border-box;text-align: center;}#sk-container-id-2 label.sk-toggleable__label-arrow:before {content: \"▸\";float: left;margin-right: 0.25em;color: #696969;}#sk-container-id-2 label.sk-toggleable__label-arrow:hover:before {color: black;}#sk-container-id-2 div.sk-estimator:hover label.sk-toggleable__label-arrow:before {color: black;}#sk-container-id-2 div.sk-toggleable__content {max-height: 0;max-width: 0;overflow: hidden;text-align: left;background-color: #f0f8ff;}#sk-container-id-2 div.sk-toggleable__content pre {margin: 0.2em;color: black;border-radius: 0.25em;background-color: #f0f8ff;}#sk-container-id-2 input.sk-toggleable__control:checked~div.sk-toggleable__content {max-height: 200px;max-width: 100%;overflow: auto;}#sk-container-id-2 input.sk-toggleable__control:checked~label.sk-toggleable__label-arrow:before {content: \"▾\";}#sk-container-id-2 div.sk-estimator input.sk-toggleable__control:checked~label.sk-toggleable__label {background-color: #d4ebff;}#sk-container-id-2 div.sk-label input.sk-toggleable__control:checked~label.sk-toggleable__label {background-color: #d4ebff;}#sk-container-id-2 input.sk-hidden--visually {border: 0;clip: rect(1px 1px 1px 1px);clip: rect(1px, 1px, 1px, 1px);height: 1px;margin: -1px;overflow: hidden;padding: 0;position: absolute;width: 1px;}#sk-container-id-2 div.sk-estimator {font-family: monospace;background-color: #f0f8ff;border: 1px dotted black;border-radius: 0.25em;box-sizing: border-box;margin-bottom: 0.5em;}#sk-container-id-2 div.sk-estimator:hover {background-color: #d4ebff;}#sk-container-id-2 div.sk-parallel-item::after {content: \"\";width: 100%;border-bottom: 1px solid gray;flex-grow: 1;}#sk-container-id-2 div.sk-label:hover label.sk-toggleable__label {background-color: #d4ebff;}#sk-container-id-2 div.sk-serial::before {content: \"\";position: absolute;border-left: 1px solid gray;box-sizing: border-box;top: 0;bottom: 0;left: 50%;z-index: 0;}#sk-container-id-2 div.sk-serial {display: flex;flex-direction: column;align-items: center;background-color: white;padding-right: 0.2em;padding-left: 0.2em;position: relative;}#sk-container-id-2 div.sk-item {position: relative;z-index: 1;}#sk-container-id-2 div.sk-parallel {display: flex;align-items: stretch;justify-content: center;background-color: white;position: relative;}#sk-container-id-2 div.sk-item::before, #sk-container-id-2 div.sk-parallel-item::before {content: \"\";position: absolute;border-left: 1px solid gray;box-sizing: border-box;top: 0;bottom: 0;left: 50%;z-index: -1;}#sk-container-id-2 div.sk-parallel-item {display: flex;flex-direction: column;z-index: 1;position: relative;background-color: white;}#sk-container-id-2 div.sk-parallel-item:first-child::after {align-self: flex-end;width: 50%;}#sk-container-id-2 div.sk-parallel-item:last-child::after {align-self: flex-start;width: 50%;}#sk-container-id-2 div.sk-parallel-item:only-child::after {width: 0;}#sk-container-id-2 div.sk-dashed-wrapped {border: 1px dashed gray;margin: 0 0.4em 0.5em 0.4em;box-sizing: border-box;padding-bottom: 0.4em;background-color: white;}#sk-container-id-2 div.sk-label label {font-family: monospace;font-weight: bold;display: inline-block;line-height: 1.2em;}#sk-container-id-2 div.sk-label-container {text-align: center;}#sk-container-id-2 div.sk-container {/* jupyter's `normalize.less` sets `[hidden] { display: none; }` but bootstrap.min.css set `[hidden] { display: none !important; }` so we also need the `!important` here to be able to override the default hidden behavior on the sphinx rendered scikit-learn.org. See: https://github.com/scikit-learn/scikit-learn/issues/21755 */display: inline-block !important;position: relative;}#sk-container-id-2 div.sk-text-repr-fallback {display: none;}</style><div id=\"sk-container-id-2\" class=\"sk-top-container\"><div class=\"sk-text-repr-fallback\"><pre>XGBClassifier(base_score=None, booster=None, callbacks=None,\n",
       "              colsample_bylevel=None, colsample_bynode=None,\n",
       "              colsample_bytree=None, device=None, early_stopping_rounds=None,\n",
       "              enable_categorical=False, eval_metric=None, feature_types=None,\n",
       "              gamma=None, grow_policy=None, importance_type=None,\n",
       "              interaction_constraints=None, learning_rate=None, max_bin=None,\n",
       "              max_cat_threshold=None, max_cat_to_onehot=None,\n",
       "              max_delta_step=None, max_depth=None, max_leaves=None,\n",
       "              min_child_weight=None, missing=nan, monotone_constraints=None,\n",
       "              multi_strategy=None, n_estimators=None, n_jobs=None,\n",
       "              num_parallel_tree=None, random_state=None, ...)</pre><b>In a Jupyter environment, please rerun this cell to show the HTML representation or trust the notebook. <br />On GitHub, the HTML representation is unable to render, please try loading this page with nbviewer.org.</b></div><div class=\"sk-container\" hidden><div class=\"sk-item\"><div class=\"sk-estimator sk-toggleable\"><input class=\"sk-toggleable__control sk-hidden--visually\" id=\"sk-estimator-id-2\" type=\"checkbox\" checked><label for=\"sk-estimator-id-2\" class=\"sk-toggleable__label sk-toggleable__label-arrow\">XGBClassifier</label><div class=\"sk-toggleable__content\"><pre>XGBClassifier(base_score=None, booster=None, callbacks=None,\n",
       "              colsample_bylevel=None, colsample_bynode=None,\n",
       "              colsample_bytree=None, device=None, early_stopping_rounds=None,\n",
       "              enable_categorical=False, eval_metric=None, feature_types=None,\n",
       "              gamma=None, grow_policy=None, importance_type=None,\n",
       "              interaction_constraints=None, learning_rate=None, max_bin=None,\n",
       "              max_cat_threshold=None, max_cat_to_onehot=None,\n",
       "              max_delta_step=None, max_depth=None, max_leaves=None,\n",
       "              min_child_weight=None, missing=nan, monotone_constraints=None,\n",
       "              multi_strategy=None, n_estimators=None, n_jobs=None,\n",
       "              num_parallel_tree=None, random_state=None, ...)</pre></div></div></div></div></div>"
      ],
      "text/plain": [
       "XGBClassifier(base_score=None, booster=None, callbacks=None,\n",
       "              colsample_bylevel=None, colsample_bynode=None,\n",
       "              colsample_bytree=None, device=None, early_stopping_rounds=None,\n",
       "              enable_categorical=False, eval_metric=None, feature_types=None,\n",
       "              gamma=None, grow_policy=None, importance_type=None,\n",
       "              interaction_constraints=None, learning_rate=None, max_bin=None,\n",
       "              max_cat_threshold=None, max_cat_to_onehot=None,\n",
       "              max_delta_step=None, max_depth=None, max_leaves=None,\n",
       "              min_child_weight=None, missing=nan, monotone_constraints=None,\n",
       "              multi_strategy=None, n_estimators=None, n_jobs=None,\n",
       "              num_parallel_tree=None, random_state=None, ...)"
      ]
     },
     "execution_count": 23,
     "metadata": {},
     "output_type": "execute_result"
    }
   ],
   "source": [
    "#Random Forest Classifier\n",
    "from xgboost import XGBClassifier\n",
    "\n",
    "xgb = XGBClassifier()\n",
    "xgb.fit(X_train,y_train)"
   ]
  },
  {
   "cell_type": "code",
   "execution_count": 24,
   "id": "610eb9f6",
   "metadata": {
    "execution": {
     "iopub.execute_input": "2025-05-07T12:08:22.197247Z",
     "iopub.status.busy": "2025-05-07T12:08:22.196896Z",
     "iopub.status.idle": "2025-05-07T12:08:22.309895Z",
     "shell.execute_reply": "2025-05-07T12:08:22.308938Z"
    },
    "papermill": {
     "duration": 0.124068,
     "end_time": "2025-05-07T12:08:22.311683",
     "exception": false,
     "start_time": "2025-05-07T12:08:22.187615",
     "status": "completed"
    },
    "tags": []
   },
   "outputs": [
    {
     "data": {
      "text/plain": [
       "0.7263333333333334"
      ]
     },
     "execution_count": 24,
     "metadata": {},
     "output_type": "execute_result"
    }
   ],
   "source": [
    "y_pred = xgb.predict(X_test)\n",
    "accuracy_score(y_test,y_pred)"
   ]
  },
  {
   "cell_type": "code",
   "execution_count": 25,
   "id": "393827d8",
   "metadata": {
    "execution": {
     "iopub.execute_input": "2025-05-07T12:08:22.332004Z",
     "iopub.status.busy": "2025-05-07T12:08:22.330888Z",
     "iopub.status.idle": "2025-05-07T12:08:41.213350Z",
     "shell.execute_reply": "2025-05-07T12:08:41.212430Z"
    },
    "papermill": {
     "duration": 18.893944,
     "end_time": "2025-05-07T12:08:41.214934",
     "exception": false,
     "start_time": "2025-05-07T12:08:22.320990",
     "status": "completed"
    },
    "tags": []
   },
   "outputs": [
    {
     "name": "stderr",
     "output_type": "stream",
     "text": [
      "/tmp/ipykernel_13/2024445107.py:1: DtypeWarning: Columns (0) have mixed types. Specify dtype option on import or set low_memory=False.\n",
      "  test_df = pd.read_csv('/kaggle/input/quora-question-pairs/test.csv.zip')\n"
     ]
    },
    {
     "name": "stdout",
     "output_type": "stream",
     "text": [
      "(3563475, 3)\n",
      "(2345796, 3)\n"
     ]
    }
   ],
   "source": [
    "test_df = pd.read_csv('/kaggle/input/quora-question-pairs/test.csv.zip')\n",
    "print(test_df.shape)\n",
    "\n",
    "test_df = test_df.sample(2345796)\n",
    "print(test_df.shape)"
   ]
  },
  {
   "cell_type": "code",
   "execution_count": 26,
   "id": "eec70366",
   "metadata": {
    "execution": {
     "iopub.execute_input": "2025-05-07T12:08:41.233777Z",
     "iopub.status.busy": "2025-05-07T12:08:41.233491Z",
     "iopub.status.idle": "2025-05-07T12:09:35.719482Z",
     "shell.execute_reply": "2025-05-07T12:09:35.718469Z"
    },
    "papermill": {
     "duration": 54.4974,
     "end_time": "2025-05-07T12:09:35.721421",
     "exception": false,
     "start_time": "2025-05-07T12:08:41.224021",
     "status": "completed"
    },
    "tags": []
   },
   "outputs": [],
   "source": [
    "from scipy.sparse import vstack, hstack\n",
    "\n",
    "# Vectorize test questions (keep sparse!)\n",
    "test_questions = list(test_df['question1'].fillna('')) + list(test_df['question2'].fillna(''))\n",
    "test_vectors = cv.transform(test_questions)  # DO NOT call .toarray()\n",
    "\n",
    "# Split into two sparse matrices\n",
    "q1_test, q2_test = test_vectors[:len(test_df)], test_vectors[len(test_df):]\n",
    "\n",
    "# Horizontally stack the sparse matrices\n",
    "X_test = hstack([q1_test, q2_test])"
   ]
  },
  {
   "cell_type": "code",
   "execution_count": 27,
   "id": "c40f33f2",
   "metadata": {
    "execution": {
     "iopub.execute_input": "2025-05-07T12:09:35.740898Z",
     "iopub.status.busy": "2025-05-07T12:09:35.740606Z",
     "iopub.status.idle": "2025-05-07T12:11:45.076231Z",
     "shell.execute_reply": "2025-05-07T12:11:45.075231Z"
    },
    "papermill": {
     "duration": 129.355307,
     "end_time": "2025-05-07T12:11:45.086277",
     "exception": false,
     "start_time": "2025-05-07T12:09:35.730970",
     "status": "completed"
    },
    "tags": []
   },
   "outputs": [
    {
     "name": "stdout",
     "output_type": "stream",
     "text": [
      "Predictions shape: (2345796,)\n"
     ]
    }
   ],
   "source": [
    "# Predict on the Kaggle test set\n",
    "y_pred = model.predict(X_test)\n",
    "print(\"Predictions shape:\", y_pred.shape)\n"
   ]
  },
  {
   "cell_type": "code",
   "execution_count": 28,
   "id": "e54e18bc",
   "metadata": {
    "execution": {
     "iopub.execute_input": "2025-05-07T12:11:45.105434Z",
     "iopub.status.busy": "2025-05-07T12:11:45.105120Z",
     "iopub.status.idle": "2025-05-07T12:11:48.303767Z",
     "shell.execute_reply": "2025-05-07T12:11:48.302852Z"
    },
    "papermill": {
     "duration": 3.209808,
     "end_time": "2025-05-07T12:11:48.305346",
     "exception": false,
     "start_time": "2025-05-07T12:11:45.095538",
     "status": "completed"
    },
    "tags": []
   },
   "outputs": [],
   "source": [
    "submission = pd.DataFrame({\n",
    "    'test_id': test_df['test_id'],    \n",
    "    'is_duplicate': y_pred\n",
    "})\n",
    "\n",
    "submission.to_csv('submission.csv', index=False)"
   ]
  },
  {
   "cell_type": "markdown",
   "id": "47fdec4e",
   "metadata": {
    "papermill": {
     "duration": 0.008405,
     "end_time": "2025-05-07T12:11:48.322640",
     "exception": false,
     "start_time": "2025-05-07T12:11:48.314235",
     "status": "completed"
    },
    "tags": []
   },
   "source": [
    "### Model Evaluation Metrics"
   ]
  },
  {
   "cell_type": "markdown",
   "id": "7c26a220",
   "metadata": {
    "papermill": {
     "duration": 0.008717,
     "end_time": "2025-05-07T12:11:48.341320",
     "exception": false,
     "start_time": "2025-05-07T12:11:48.332603",
     "status": "completed"
    },
    "tags": []
   },
   "source": [
    "### Pipelines"
   ]
  }
 ],
 "metadata": {
  "kaggle": {
   "accelerator": "none",
   "dataSources": [
    {
     "databundleVersionId": 323734,
     "isSourceIdPinned": false,
     "sourceId": 6277,
     "sourceType": "competition"
    }
   ],
   "dockerImageVersionId": 31012,
   "isGpuEnabled": false,
   "isInternetEnabled": true,
   "language": "python",
   "sourceType": "notebook"
  },
  "kernelspec": {
   "display_name": "Python 3",
   "language": "python",
   "name": "python3"
  },
  "language_info": {
   "codemirror_mode": {
    "name": "ipython",
    "version": 3
   },
   "file_extension": ".py",
   "mimetype": "text/x-python",
   "name": "python",
   "nbconvert_exporter": "python",
   "pygments_lexer": "ipython3",
   "version": "3.11.11"
  },
  "papermill": {
   "default_parameters": {},
   "duration": 356.435312,
   "end_time": "2025-05-07T12:11:50.177359",
   "environment_variables": {},
   "exception": null,
   "input_path": "__notebook__.ipynb",
   "output_path": "__notebook__.ipynb",
   "parameters": {},
   "start_time": "2025-05-07T12:05:53.742047",
   "version": "2.6.0"
  }
 },
 "nbformat": 4,
 "nbformat_minor": 5
}
