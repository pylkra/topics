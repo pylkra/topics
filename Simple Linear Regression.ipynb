{
 "cells": [
  {
   "cell_type": "code",
   "execution_count": 1,
   "id": "e7c003dd",
   "metadata": {
    "_cell_guid": "b1076dfc-b9ad-4769-8c92-a6c4dae69d19",
    "_uuid": "8f2839f25d086af736a60e9eeb907d3b93b6e0e5",
    "execution": {
     "iopub.execute_input": "2025-04-21T12:08:40.603131Z",
     "iopub.status.busy": "2025-04-21T12:08:40.602718Z",
     "iopub.status.idle": "2025-04-21T12:08:42.776463Z",
     "shell.execute_reply": "2025-04-21T12:08:42.774578Z"
    },
    "papermill": {
     "duration": 2.182548,
     "end_time": "2025-04-21T12:08:42.779116",
     "exception": false,
     "start_time": "2025-04-21T12:08:40.596568",
     "status": "completed"
    },
    "tags": []
   },
   "outputs": [
    {
     "name": "stdout",
     "output_type": "stream",
     "text": [
      "/kaggle/input/package/placement (3).csv\n"
     ]
    }
   ],
   "source": [
    "# This Python 3 environment comes with many helpful analytics libraries installed\n",
    "# It is defined by the kaggle/python Docker image: https://github.com/kaggle/docker-python\n",
    "# For example, here's several helpful packages to load\n",
    "\n",
    "import numpy as np # linear algebra\n",
    "import pandas as pd # data processing, CSV file I/O (e.g. pd.read_csv)\n",
    "\n",
    "# Input data files are available in the read-only \"../input/\" directory\n",
    "# For example, running this (by clicking run or pressing Shift+Enter) will list all files under the input directory\n",
    "\n",
    "import os\n",
    "for dirname, _, filenames in os.walk('/kaggle/input'):\n",
    "    for filename in filenames:\n",
    "        print(os.path.join(dirname, filename))\n",
    "\n",
    "# You can write up to 20GB to the current directory (/kaggle/working/) that gets preserved as output when you create a version using \"Save & Run All\" \n",
    "# You can also write temporary files to /kaggle/temp/, but they won't be saved outside of the current session"
   ]
  },
  {
   "cell_type": "code",
   "execution_count": 2,
   "id": "2e2135b1",
   "metadata": {
    "execution": {
     "iopub.execute_input": "2025-04-21T12:08:42.789174Z",
     "iopub.status.busy": "2025-04-21T12:08:42.787801Z",
     "iopub.status.idle": "2025-04-21T12:08:42.812626Z",
     "shell.execute_reply": "2025-04-21T12:08:42.811199Z"
    },
    "papermill": {
     "duration": 0.032063,
     "end_time": "2025-04-21T12:08:42.815185",
     "exception": false,
     "start_time": "2025-04-21T12:08:42.783122",
     "status": "completed"
    },
    "tags": []
   },
   "outputs": [],
   "source": [
    "#load the dataset\n",
    "df = pd.read_csv('/kaggle/input/package/placement (3).csv')"
   ]
  },
  {
   "cell_type": "code",
   "execution_count": 3,
   "id": "0322ea78",
   "metadata": {
    "execution": {
     "iopub.execute_input": "2025-04-21T12:08:42.824969Z",
     "iopub.status.busy": "2025-04-21T12:08:42.824579Z",
     "iopub.status.idle": "2025-04-21T12:08:42.856562Z",
     "shell.execute_reply": "2025-04-21T12:08:42.855229Z"
    },
    "papermill": {
     "duration": 0.039045,
     "end_time": "2025-04-21T12:08:42.858214",
     "exception": false,
     "start_time": "2025-04-21T12:08:42.819169",
     "status": "completed"
    },
    "tags": []
   },
   "outputs": [
    {
     "data": {
      "text/html": [
       "<div>\n",
       "<style scoped>\n",
       "    .dataframe tbody tr th:only-of-type {\n",
       "        vertical-align: middle;\n",
       "    }\n",
       "\n",
       "    .dataframe tbody tr th {\n",
       "        vertical-align: top;\n",
       "    }\n",
       "\n",
       "    .dataframe thead th {\n",
       "        text-align: right;\n",
       "    }\n",
       "</style>\n",
       "<table border=\"1\" class=\"dataframe\">\n",
       "  <thead>\n",
       "    <tr style=\"text-align: right;\">\n",
       "      <th></th>\n",
       "      <th>cgpa</th>\n",
       "      <th>package</th>\n",
       "    </tr>\n",
       "  </thead>\n",
       "  <tbody>\n",
       "    <tr>\n",
       "      <th>0</th>\n",
       "      <td>6.89</td>\n",
       "      <td>3.26</td>\n",
       "    </tr>\n",
       "    <tr>\n",
       "      <th>1</th>\n",
       "      <td>5.12</td>\n",
       "      <td>1.98</td>\n",
       "    </tr>\n",
       "    <tr>\n",
       "      <th>2</th>\n",
       "      <td>7.82</td>\n",
       "      <td>3.25</td>\n",
       "    </tr>\n",
       "    <tr>\n",
       "      <th>3</th>\n",
       "      <td>7.42</td>\n",
       "      <td>3.67</td>\n",
       "    </tr>\n",
       "    <tr>\n",
       "      <th>4</th>\n",
       "      <td>6.94</td>\n",
       "      <td>3.57</td>\n",
       "    </tr>\n",
       "  </tbody>\n",
       "</table>\n",
       "</div>"
      ],
      "text/plain": [
       "   cgpa  package\n",
       "0  6.89     3.26\n",
       "1  5.12     1.98\n",
       "2  7.82     3.25\n",
       "3  7.42     3.67\n",
       "4  6.94     3.57"
      ]
     },
     "execution_count": 3,
     "metadata": {},
     "output_type": "execute_result"
    }
   ],
   "source": [
    "#view the first 5 records of the dataset\n",
    "df.head()"
   ]
  },
  {
   "cell_type": "code",
   "execution_count": 4,
   "id": "a3d9ea40",
   "metadata": {
    "execution": {
     "iopub.execute_input": "2025-04-21T12:08:42.866641Z",
     "iopub.status.busy": "2025-04-21T12:08:42.866278Z",
     "iopub.status.idle": "2025-04-21T12:08:43.110742Z",
     "shell.execute_reply": "2025-04-21T12:08:43.109412Z"
    },
    "papermill": {
     "duration": 0.250688,
     "end_time": "2025-04-21T12:08:43.112439",
     "exception": false,
     "start_time": "2025-04-21T12:08:42.861751",
     "status": "completed"
    },
    "tags": []
   },
   "outputs": [
    {
     "data": {
      "image/png": "[encoded data removed]",
      "text/plain": [
       "<Figure size 640x480 with 1 Axes>"
      ]
     },
     "metadata": {},
     "output_type": "display_data"
    }
   ],
   "source": [
    "#scatter plot to see the distribution of data\n",
    "import matplotlib.pyplot as plt\n",
    "\n",
    "plt.scatter(x=df['cgpa'],y=df['package'])\n",
    "plt.xlabel('CGPA')\n",
    "plt.ylabel('Package')\n",
    "plt.show()"
   ]
  },
  {
   "cell_type": "code",
   "execution_count": 5,
   "id": "6307f687",
   "metadata": {
    "execution": {
     "iopub.execute_input": "2025-04-21T12:08:43.122328Z",
     "iopub.status.busy": "2025-04-21T12:08:43.121955Z",
     "iopub.status.idle": "2025-04-21T12:08:43.131148Z",
     "shell.execute_reply": "2025-04-21T12:08:43.129873Z"
    },
    "papermill": {
     "duration": 0.016133,
     "end_time": "2025-04-21T12:08:43.133168",
     "exception": false,
     "start_time": "2025-04-21T12:08:43.117035",
     "status": "completed"
    },
    "tags": []
   },
   "outputs": [
    {
     "data": {
      "text/plain": [
       "0      3.26\n",
       "1      1.98\n",
       "2      3.25\n",
       "3      3.67\n",
       "4      3.57\n",
       "       ... \n",
       "195    2.46\n",
       "196    2.57\n",
       "197    3.24\n",
       "198    3.96\n",
       "199    2.33\n",
       "Name: package, Length: 200, dtype: float64"
      ]
     },
     "execution_count": 5,
     "metadata": {},
     "output_type": "execute_result"
    }
   ],
   "source": [
    "X = df.iloc[:,0:1]\n",
    "y = df.iloc[:,-1]\n",
    "y"
   ]
  },
  {
   "cell_type": "code",
   "execution_count": 6,
   "id": "a0098b2c",
   "metadata": {
    "execution": {
     "iopub.execute_input": "2025-04-21T12:08:43.142656Z",
     "iopub.status.busy": "2025-04-21T12:08:43.142314Z",
     "iopub.status.idle": "2025-04-21T12:08:44.944032Z",
     "shell.execute_reply": "2025-04-21T12:08:44.942625Z"
    },
    "papermill": {
     "duration": 1.808892,
     "end_time": "2025-04-21T12:08:44.946331",
     "exception": false,
     "start_time": "2025-04-21T12:08:43.137439",
     "status": "completed"
    },
    "tags": []
   },
   "outputs": [],
   "source": [
    "from sklearn.model_selection import train_test_split\n",
    "\n",
    "X_train, X_test, y_train, y_test = train_test_split(X,y,test_size=0.2, random_state=2)"
   ]
  },
  {
   "cell_type": "code",
   "execution_count": 7,
   "id": "22fec0a3",
   "metadata": {
    "execution": {
     "iopub.execute_input": "2025-04-21T12:08:44.959720Z",
     "iopub.status.busy": "2025-04-21T12:08:44.957642Z",
     "iopub.status.idle": "2025-04-21T12:08:45.118790Z",
     "shell.execute_reply": "2025-04-21T12:08:45.117608Z"
    },
    "papermill": {
     "duration": 0.168893,
     "end_time": "2025-04-21T12:08:45.120702",
     "exception": false,
     "start_time": "2025-04-21T12:08:44.951809",
     "status": "completed"
    },
    "tags": []
   },
   "outputs": [
    {
     "data": {
      "text/html": [
       "<style>#sk-container-id-1 {color: black;background-color: white;}#sk-container-id-1 pre{padding: 0;}#sk-container-id-1 div.sk-toggleable {background-color: white;}#sk-container-id-1 label.sk-toggleable__label {cursor: pointer;display: block;width: 100%;margin-bottom: 0;padding: 0.3em;box-sizing: border-box;text-align: center;}#sk-container-id-1 label.sk-toggleable__label-arrow:before {content: \"▸\";float: left;margin-right: 0.25em;color: #696969;}#sk-container-id-1 label.sk-toggleable__label-arrow:hover:before {color: black;}#sk-container-id-1 div.sk-estimator:hover label.sk-toggleable__label-arrow:before {color: black;}#sk-container-id-1 div.sk-toggleable__content {max-height: 0;max-width: 0;overflow: hidden;text-align: left;background-color: #f0f8ff;}#sk-container-id-1 div.sk-toggleable__content pre {margin: 0.2em;color: black;border-radius: 0.25em;background-color: #f0f8ff;}#sk-container-id-1 input.sk-toggleable__control:checked~div.sk-toggleable__content {max-height: 200px;max-width: 100%;overflow: auto;}#sk-container-id-1 input.sk-toggleable__control:checked~label.sk-toggleable__label-arrow:before {content: \"▾\";}#sk-container-id-1 div.sk-estimator input.sk-toggleable__control:checked~label.sk-toggleable__label {background-color: #d4ebff;}#sk-container-id-1 div.sk-label input.sk-toggleable__control:checked~label.sk-toggleable__label {background-color: #d4ebff;}#sk-container-id-1 input.sk-hidden--visually {border: 0;clip: rect(1px 1px 1px 1px);clip: rect(1px, 1px, 1px, 1px);height: 1px;margin: -1px;overflow: hidden;padding: 0;position: absolute;width: 1px;}#sk-container-id-1 div.sk-estimator {font-family: monospace;background-color: #f0f8ff;border: 1px dotted black;border-radius: 0.25em;box-sizing: border-box;margin-bottom: 0.5em;}#sk-container-id-1 div.sk-estimator:hover {background-color: #d4ebff;}#sk-container-id-1 div.sk-parallel-item::after {content: \"\";width: 100%;border-bottom: 1px solid gray;flex-grow: 1;}#sk-container-id-1 div.sk-label:hover label.sk-toggleable__label {background-color: #d4ebff;}#sk-container-id-1 div.sk-serial::before {content: \"\";position: absolute;border-left: 1px solid gray;box-sizing: border-box;top: 0;bottom: 0;left: 50%;z-index: 0;}#sk-container-id-1 div.sk-serial {display: flex;flex-direction: column;align-items: center;background-color: white;padding-right: 0.2em;padding-left: 0.2em;position: relative;}#sk-container-id-1 div.sk-item {position: relative;z-index: 1;}#sk-container-id-1 div.sk-parallel {display: flex;align-items: stretch;justify-content: center;background-color: white;position: relative;}#sk-container-id-1 div.sk-item::before, #sk-container-id-1 div.sk-parallel-item::before {content: \"\";position: absolute;border-left: 1px solid gray;box-sizing: border-box;top: 0;bottom: 0;left: 50%;z-index: -1;}#sk-container-id-1 div.sk-parallel-item {display: flex;flex-direction: column;z-index: 1;position: relative;background-color: white;}#sk-container-id-1 div.sk-parallel-item:first-child::after {align-self: flex-end;width: 50%;}#sk-container-id-1 div.sk-parallel-item:last-child::after {align-self: flex-start;width: 50%;}#sk-container-id-1 div.sk-parallel-item:only-child::after {width: 0;}#sk-container-id-1 div.sk-dashed-wrapped {border: 1px dashed gray;margin: 0 0.4em 0.5em 0.4em;box-sizing: border-box;padding-bottom: 0.4em;background-color: white;}#sk-container-id-1 div.sk-label label {font-family: monospace;font-weight: bold;display: inline-block;line-height: 1.2em;}#sk-container-id-1 div.sk-label-container {text-align: center;}#sk-container-id-1 div.sk-container {/* jupyter's `normalize.less` sets `[hidden] { display: none; }` but bootstrap.min.css set `[hidden] { display: none !important; }` so we also need the `!important` here to be able to override the default hidden behavior on the sphinx rendered scikit-learn.org. See: https://github.com/scikit-learn/scikit-learn/issues/21755 */display: inline-block !important;position: relative;}#sk-container-id-1 div.sk-text-repr-fallback {display: none;}</style><div id=\"sk-container-id-1\" class=\"sk-top-container\"><div class=\"sk-text-repr-fallback\"><pre>LinearRegression()</pre><b>In a Jupyter environment, please rerun this cell to show the HTML representation or trust the notebook. <br />On GitHub, the HTML representation is unable to render, please try loading this page with nbviewer.org.</b></div><div class=\"sk-container\" hidden><div class=\"sk-item\"><div class=\"sk-estimator sk-toggleable\"><input class=\"sk-toggleable__control sk-hidden--visually\" id=\"sk-estimator-id-1\" type=\"checkbox\" checked><label for=\"sk-estimator-id-1\" class=\"sk-toggleable__label sk-toggleable__label-arrow\">LinearRegression</label><div class=\"sk-toggleable__content\"><pre>LinearRegression()</pre></div></div></div></div></div>"
      ],
      "text/plain": [
       "LinearRegression()"
      ]
     },
     "execution_count": 7,
     "metadata": {},
     "output_type": "execute_result"
    }
   ],
   "source": [
    "from sklearn.linear_model import LinearRegression\n",
    "\n",
    "lr = LinearRegression()\n",
    "\n",
    "lr.fit(X_train,y_train)"
   ]
  },
  {
   "cell_type": "code",
   "execution_count": 8,
   "id": "9eca5de4",
   "metadata": {
    "execution": {
     "iopub.execute_input": "2025-04-21T12:08:45.130107Z",
     "iopub.status.busy": "2025-04-21T12:08:45.129554Z",
     "iopub.status.idle": "2025-04-21T12:08:45.141078Z",
     "shell.execute_reply": "2025-04-21T12:08:45.139851Z"
    },
    "papermill": {
     "duration": 0.01772,
     "end_time": "2025-04-21T12:08:45.142535",
     "exception": false,
     "start_time": "2025-04-21T12:08:45.124815",
     "status": "completed"
    },
    "tags": []
   },
   "outputs": [
    {
     "name": "stderr",
     "output_type": "stream",
     "text": [
      "/usr/local/lib/python3.11/dist-packages/sklearn/base.py:439: UserWarning: X does not have valid feature names, but LinearRegression was fitted with feature names\n",
      "  warnings.warn(\n"
     ]
    },
    {
     "data": {
      "text/plain": [
       "array([3.89111601])"
      ]
     },
     "execution_count": 8,
     "metadata": {},
     "output_type": "execute_result"
    }
   ],
   "source": [
    "lr.predict(X_test.iloc[0].values.reshape(1,1))"
   ]
  },
  {
   "cell_type": "code",
   "execution_count": 9,
   "id": "d6deb4b7",
   "metadata": {
    "execution": {
     "iopub.execute_input": "2025-04-21T12:08:45.153585Z",
     "iopub.status.busy": "2025-04-21T12:08:45.153198Z",
     "iopub.status.idle": "2025-04-21T12:08:45.160242Z",
     "shell.execute_reply": "2025-04-21T12:08:45.159431Z"
    },
    "papermill": {
     "duration": 0.013665,
     "end_time": "2025-04-21T12:08:45.161460",
     "exception": false,
     "start_time": "2025-04-21T12:08:45.147795",
     "status": "completed"
    },
    "tags": []
   },
   "outputs": [
    {
     "data": {
      "text/plain": [
       "array([0.55795197])"
      ]
     },
     "execution_count": 9,
     "metadata": {},
     "output_type": "execute_result"
    }
   ],
   "source": [
    "m = lr.coef_\n",
    "m"
   ]
  },
  {
   "cell_type": "code",
   "execution_count": 10,
   "id": "da82f913",
   "metadata": {
    "execution": {
     "iopub.execute_input": "2025-04-21T12:08:45.171378Z",
     "iopub.status.busy": "2025-04-21T12:08:45.171008Z",
     "iopub.status.idle": "2025-04-21T12:08:45.179410Z",
     "shell.execute_reply": "2025-04-21T12:08:45.177417Z"
    },
    "papermill": {
     "duration": 0.015829,
     "end_time": "2025-04-21T12:08:45.181720",
     "exception": false,
     "start_time": "2025-04-21T12:08:45.165891",
     "status": "completed"
    },
    "tags": []
   },
   "outputs": [
    {
     "data": {
      "text/plain": [
       "-0.8961119222429144"
      ]
     },
     "execution_count": 10,
     "metadata": {},
     "output_type": "execute_result"
    }
   ],
   "source": [
    "b = lr.intercept_\n",
    "b"
   ]
  },
  {
   "cell_type": "code",
   "execution_count": 11,
   "id": "83788630",
   "metadata": {
    "execution": {
     "iopub.execute_input": "2025-04-21T12:08:45.192178Z",
     "iopub.status.busy": "2025-04-21T12:08:45.191791Z",
     "iopub.status.idle": "2025-04-21T12:08:45.199674Z",
     "shell.execute_reply": "2025-04-21T12:08:45.198551Z"
    },
    "papermill": {
     "duration": 0.014906,
     "end_time": "2025-04-21T12:08:45.201252",
     "exception": false,
     "start_time": "2025-04-21T12:08:45.186346",
     "status": "completed"
    },
    "tags": []
   },
   "outputs": [
    {
     "data": {
      "text/plain": [
       "array([2.94817717])"
      ]
     },
     "execution_count": 11,
     "metadata": {},
     "output_type": "execute_result"
    }
   ],
   "source": [
    "# y = mx + b\n",
    "m * 6.89 + b"
   ]
  },
  {
   "cell_type": "markdown",
   "id": "665724ff",
   "metadata": {
    "papermill": {
     "duration": 0.003819,
     "end_time": "2025-04-21T12:08:45.209532",
     "exception": false,
     "start_time": "2025-04-21T12:08:45.205713",
     "status": "completed"
    },
    "tags": []
   },
   "source": [
    "## Linear Regression Coding from Scratch"
   ]
  },
  {
   "cell_type": "markdown",
   "id": "0a897150",
   "metadata": {
    "papermill": {
     "duration": 0.003549,
     "end_time": "2025-04-21T12:08:45.216842",
     "exception": false,
     "start_time": "2025-04-21T12:08:45.213293",
     "status": "completed"
    },
    "tags": []
   },
   "source": [
    "## Y = mX + b  \n",
    "## m = Σ [ (xi – x)(yi – y) ] / Σ [(xi – x)2]\n",
    "\n",
    "- xi = X_train\n",
    "- X = X_train.mean()\n",
    "- yi = y_train\n",
    "- y = y_train.mean()"
   ]
  },
  {
   "cell_type": "code",
   "execution_count": 12,
   "id": "7cb9234b",
   "metadata": {
    "execution": {
     "iopub.execute_input": "2025-04-21T12:08:45.227699Z",
     "iopub.status.busy": "2025-04-21T12:08:45.227041Z",
     "iopub.status.idle": "2025-04-21T12:08:45.234162Z",
     "shell.execute_reply": "2025-04-21T12:08:45.232824Z"
    },
    "papermill": {
     "duration": 0.016026,
     "end_time": "2025-04-21T12:08:45.236608",
     "exception": false,
     "start_time": "2025-04-21T12:08:45.220582",
     "status": "completed"
    },
    "tags": []
   },
   "outputs": [],
   "source": [
    "class LR:\n",
    "    def __init__(self):\n",
    "        self.m = None\n",
    "        self.b = None\n",
    "\n",
    "    def fit(self, X_train, y_train):\n",
    "        num = 0\n",
    "        den = 0\n",
    "\n",
    "        for i in range(X_train.shape[0]):\n",
    "            num = num + ((X_train[i] - X_train.mean()) * ((y_train[i] - y_train.mean())))\n",
    "\n",
    "            den = den +((X_train[i] - X_train.mean())*(X_train[i] - X_train.mean()))\n",
    "        \n",
    "        self.m = num/den\n",
    "        self.b = y_train.mean() - (self.m * X_train.mean())\n",
    "        print(self.m)\n",
    "        print(self.b)\n",
    "\n",
    "    def predict(self, X_test):\n",
    "        # y = mx+b\n",
    "        return self.m * X_test + self.b\n"
   ]
  },
  {
   "cell_type": "code",
   "execution_count": 13,
   "id": "97942ed6",
   "metadata": {
    "execution": {
     "iopub.execute_input": "2025-04-21T12:08:45.246927Z",
     "iopub.status.busy": "2025-04-21T12:08:45.246549Z",
     "iopub.status.idle": "2025-04-21T12:08:45.252458Z",
     "shell.execute_reply": "2025-04-21T12:08:45.250656Z"
    },
    "papermill": {
     "duration": 0.013086,
     "end_time": "2025-04-21T12:08:45.254504",
     "exception": false,
     "start_time": "2025-04-21T12:08:45.241418",
     "status": "completed"
    },
    "tags": []
   },
   "outputs": [],
   "source": [
    "from sklearn.model_selection import train_test_split\n",
    "from sklearn.linear_model import LinearRegression\n",
    "\n",
    "lr1 = LR()"
   ]
  },
  {
   "cell_type": "code",
   "execution_count": 14,
   "id": "341c894d",
   "metadata": {
    "execution": {
     "iopub.execute_input": "2025-04-21T12:08:45.265279Z",
     "iopub.status.busy": "2025-04-21T12:08:45.264914Z",
     "iopub.status.idle": "2025-04-21T12:08:45.270483Z",
     "shell.execute_reply": "2025-04-21T12:08:45.269150Z"
    },
    "papermill": {
     "duration": 0.012664,
     "end_time": "2025-04-21T12:08:45.272069",
     "exception": false,
     "start_time": "2025-04-21T12:08:45.259405",
     "status": "completed"
    },
    "tags": []
   },
   "outputs": [],
   "source": [
    "X = df.iloc[:,0:1].values\n",
    "y = df.iloc[:,-1].values"
   ]
  },
  {
   "cell_type": "code",
   "execution_count": 15,
   "id": "5a23e230",
   "metadata": {
    "execution": {
     "iopub.execute_input": "2025-04-21T12:08:45.282664Z",
     "iopub.status.busy": "2025-04-21T12:08:45.282266Z",
     "iopub.status.idle": "2025-04-21T12:08:45.290017Z",
     "shell.execute_reply": "2025-04-21T12:08:45.287977Z"
    },
    "papermill": {
     "duration": 0.015516,
     "end_time": "2025-04-21T12:08:45.291923",
     "exception": false,
     "start_time": "2025-04-21T12:08:45.276407",
     "status": "completed"
    },
    "tags": []
   },
   "outputs": [],
   "source": [
    "X_train, X_test, y_train, y_test = train_test_split(X, y, test_size = 0.2, random_state = 0)"
   ]
  },
  {
   "cell_type": "code",
   "execution_count": 16,
   "id": "2e0497fe",
   "metadata": {
    "execution": {
     "iopub.execute_input": "2025-04-21T12:08:45.302275Z",
     "iopub.status.busy": "2025-04-21T12:08:45.301868Z",
     "iopub.status.idle": "2025-04-21T12:08:45.308648Z",
     "shell.execute_reply": "2025-04-21T12:08:45.307848Z"
    },
    "papermill": {
     "duration": 0.013567,
     "end_time": "2025-04-21T12:08:45.310176",
     "exception": false,
     "start_time": "2025-04-21T12:08:45.296609",
     "status": "completed"
    },
    "tags": []
   },
   "outputs": [
    {
     "data": {
      "text/plain": [
       "7.04725"
      ]
     },
     "execution_count": 16,
     "metadata": {},
     "output_type": "execute_result"
    }
   ],
   "source": [
    "X_train.mean()"
   ]
  },
  {
   "cell_type": "code",
   "execution_count": 17,
   "id": "bc47127d",
   "metadata": {
    "execution": {
     "iopub.execute_input": "2025-04-21T12:08:45.320649Z",
     "iopub.status.busy": "2025-04-21T12:08:45.320255Z",
     "iopub.status.idle": "2025-04-21T12:08:45.331823Z",
     "shell.execute_reply": "2025-04-21T12:08:45.330095Z"
    },
    "papermill": {
     "duration": 0.018992,
     "end_time": "2025-04-21T12:08:45.333665",
     "exception": false,
     "start_time": "2025-04-21T12:08:45.314673",
     "status": "completed"
    },
    "tags": []
   },
   "outputs": [
    {
     "name": "stdout",
     "output_type": "stream",
     "text": [
      "[0.57633042]\n",
      "[-1.02960704]\n"
     ]
    }
   ],
   "source": [
    "lr1.fit(X_train,y_train)"
   ]
  },
  {
   "cell_type": "code",
   "execution_count": 18,
   "id": "bf2320b0",
   "metadata": {
    "execution": {
     "iopub.execute_input": "2025-04-21T12:08:45.345693Z",
     "iopub.status.busy": "2025-04-21T12:08:45.344027Z",
     "iopub.status.idle": "2025-04-21T12:08:45.352977Z",
     "shell.execute_reply": "2025-04-21T12:08:45.351390Z"
    },
    "papermill": {
     "duration": 0.016694,
     "end_time": "2025-04-21T12:08:45.355238",
     "exception": false,
     "start_time": "2025-04-21T12:08:45.338544",
     "status": "completed"
    },
    "tags": []
   },
   "outputs": [
    {
     "data": {
      "text/plain": [
       "array([2.97012606])"
      ]
     },
     "execution_count": 18,
     "metadata": {},
     "output_type": "execute_result"
    }
   ],
   "source": [
    "lr1.predict(X_test[0])"
   ]
  }
 ],
 "metadata": {
  "kaggle": {
   "accelerator": "none",
   "dataSources": [
    {
     "datasetId": 7209813,
     "sourceId": 11500356,
     "sourceType": "datasetVersion"
    }
   ],
   "dockerImageVersionId": 31012,
   "isGpuEnabled": false,
   "isInternetEnabled": true,
   "language": "python",
   "sourceType": "notebook"
  },
  "kernelspec": {
   "display_name": "Python 3",
   "language": "python",
   "name": "python3"
  },
  "language_info": {
   "codemirror_mode": {
    "name": "ipython",
    "version": 3
   },
   "file_extension": ".py",
   "mimetype": "text/x-python",
   "name": "python",
   "nbconvert_exporter": "python",
   "pygments_lexer": "ipython3",
   "version": "3.11.11"
  },
  "papermill": {
   "default_parameters": {},
   "duration": 10.54052,
   "end_time": "2025-04-21T12:08:46.384831",
   "environment_variables": {},
   "exception": null,
   "input_path": "__notebook__.ipynb",
   "output_path": "__notebook__.ipynb",
   "parameters": {},
   "start_time": "2025-04-21T12:08:35.844311",
   "version": "2.6.0"
  }
 },
 "nbformat": 4,
 "nbformat_minor": 5
}
